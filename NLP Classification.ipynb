{
 "cells": [
  {
   "cell_type": "markdown",
   "metadata": {},
   "source": [
    "### NLP Classification Project\n",
    "\n",
    "##### Building a spam filter with the kernel framework. \n",
    "\n",
    "Emails are either classed as undersired \"spam\" or \"ham\". This classification task is applies and uses variants of edit distance within a kernel framework. LibSVM algorithm is then applied to clasify the data as either \"ham\" or \"spam\". The <a href = \"https://archive.ics.uci.edu/ml/datasets/SMS+Spam+Collection\">SMS Spam Collection Data Set</a> from UCI machine learning repository \n",
    "\n",
    "* Clean the data\n",
    "* Carry out data exploration\n",
    "* split, tokenize, remove punctuation\n",
    "* Extract features\n",
    "* Construct kernels\n",
    "* Run classification \n",
    "* Compare and analyse"
   ]
  },
  {
   "cell_type": "code",
   "execution_count": 84,
   "metadata": {},
   "outputs": [],
   "source": [
    "#Import required files\n",
    "import nltk\n",
    "import numpy as np\n",
    "import pandas as pd\n",
    "import matplotlib.pyplot as plt\n",
    "from pathlib import Path\n",
    "import re\n",
    "import string\n",
    "from libsvm.svmutil import *\n",
    "from util_ker import *\n",
    "from util_ker import EvaluateTest\n",
    "from util_Text import *\n",
    "import seaborn as sns\n",
    "\n",
    "%matplotlib inline\n",
    "pd.set_option('display.max_colwidth', 100)"
   ]
  },
  {
   "cell_type": "markdown",
   "metadata": {},
   "source": [
    "## Explore the Data"
   ]
  },
  {
   "cell_type": "code",
   "execution_count": 3,
   "metadata": {},
   "outputs": [],
   "source": [
    "#Load Data\n",
    "data = pd.read_csv(\"/Users/osita/Documents/GitHub/NLP-classification/data/SMSSpamCollection\", sep='\\t', header=None,\n",
    "                   names=['label','Text'])"
   ]
  },
  {
   "cell_type": "code",
   "execution_count": 9,
   "metadata": {},
   "outputs": [
    {
     "data": {
      "text/html": [
       "<div>\n",
       "<style scoped>\n",
       "    .dataframe tbody tr th:only-of-type {\n",
       "        vertical-align: middle;\n",
       "    }\n",
       "\n",
       "    .dataframe tbody tr th {\n",
       "        vertical-align: top;\n",
       "    }\n",
       "\n",
       "    .dataframe thead th {\n",
       "        text-align: right;\n",
       "    }\n",
       "</style>\n",
       "<table border=\"1\" class=\"dataframe\">\n",
       "  <thead>\n",
       "    <tr style=\"text-align: right;\">\n",
       "      <th></th>\n",
       "      <th>label</th>\n",
       "      <th>Text</th>\n",
       "    </tr>\n",
       "  </thead>\n",
       "  <tbody>\n",
       "    <tr>\n",
       "      <th>0</th>\n",
       "      <td>ham</td>\n",
       "      <td>Go until jurong point, crazy.. Available only in bugis n great world la e buffet... Cine there g...</td>\n",
       "    </tr>\n",
       "    <tr>\n",
       "      <th>1</th>\n",
       "      <td>ham</td>\n",
       "      <td>Ok lar... Joking wif u oni...</td>\n",
       "    </tr>\n",
       "    <tr>\n",
       "      <th>2</th>\n",
       "      <td>spam</td>\n",
       "      <td>Free entry in 2 a wkly comp to win FA Cup final tkts 21st May 2005. Text FA to 87121 to receive ...</td>\n",
       "    </tr>\n",
       "    <tr>\n",
       "      <th>3</th>\n",
       "      <td>ham</td>\n",
       "      <td>U dun say so early hor... U c already then say...</td>\n",
       "    </tr>\n",
       "    <tr>\n",
       "      <th>4</th>\n",
       "      <td>ham</td>\n",
       "      <td>Nah I don't think he goes to usf, he lives around here though</td>\n",
       "    </tr>\n",
       "  </tbody>\n",
       "</table>\n",
       "</div>"
      ],
      "text/plain": [
       "  label  \\\n",
       "0   ham   \n",
       "1   ham   \n",
       "2  spam   \n",
       "3   ham   \n",
       "4   ham   \n",
       "\n",
       "                                                                                                  Text  \n",
       "0  Go until jurong point, crazy.. Available only in bugis n great world la e buffet... Cine there g...  \n",
       "1                                                                        Ok lar... Joking wif u oni...  \n",
       "2  Free entry in 2 a wkly comp to win FA Cup final tkts 21st May 2005. Text FA to 87121 to receive ...  \n",
       "3                                                    U dun say so early hor... U c already then say...  \n",
       "4                                        Nah I don't think he goes to usf, he lives around here though  "
      ]
     },
     "execution_count": 9,
     "metadata": {},
     "output_type": "execute_result"
    }
   ],
   "source": [
    "data.head()"
   ]
  },
  {
   "cell_type": "code",
   "execution_count": 11,
   "metadata": {},
   "outputs": [
    {
     "name": "stdout",
     "output_type": "stream",
     "text": [
      "The data is made up of 5572 examples \n"
     ]
    }
   ],
   "source": [
    "print('The data is made up of {} examples '.format(data2.shape[0]))"
   ]
  },
  {
   "cell_type": "code",
   "execution_count": 21,
   "metadata": {},
   "outputs": [
    {
     "data": {
      "text/plain": [
       "label    0\n",
       "Text     0\n",
       "dtype: int64"
      ]
     },
     "execution_count": 21,
     "metadata": {},
     "output_type": "execute_result"
    }
   ],
   "source": [
    "#Check for null values\n",
    "data.isnull().sum()"
   ]
  },
  {
   "cell_type": "code",
   "execution_count": 36,
   "metadata": {},
   "outputs": [
    {
     "name": "stdout",
     "output_type": "stream",
     "text": [
      "4825 examples classed as ham and 747 examples classed as spam\n"
     ]
    }
   ],
   "source": [
    "len_ham  = data2[data2['label']=='ham'].count()[0]\n",
    "len_spam = data2[data2['label']=='spam'].count()[0]\n",
    "\n",
    "print('{} examples classed as ham with {} examples classed as spam'.format(len_ham, len_spam))"
   ]
  },
  {
   "cell_type": "code",
   "execution_count": 35,
   "metadata": {},
   "outputs": [
    {
     "data": {
      "image/png": "[encoded data removed]",
      "text/plain": [
       "<Figure size 1080x432 with 2 Axes>"
      ]
     },
     "metadata": {
      "needs_background": "light"
     },
     "output_type": "display_data"
    }
   ],
   "source": [
    "plt.figure(figsize=(15,6))\n",
    "plt.subplot(1,2,1);data.label.value_counts().plot(kind='bar',color=['C3','C5']); plt.title('Class Labels (Ham/Spam)')\n",
    "plt.subplot(1,2,2);data.label.value_counts().plot(kind='pie');plt.legend(['Ham','Spam'])\n",
    "plt.show()"
   ]
  },
  {
   "cell_type": "code",
   "execution_count": 53,
   "metadata": {},
   "outputs": [
    {
     "data": {
      "text/plain": [
       "array(['Go until jurong point, crazy.. Available only in bugis n great world la e buffet... Cine there got amore wat...',\n",
       "       'Ok lar... Joking wif u oni...',\n",
       "       \"Free entry in 2 a wkly comp to win FA Cup final tkts 21st May 2005. Text FA to 87121 to receive entry question(std txt rate)T&C's apply 08452810075over18's\",\n",
       "       'U dun say so early hor... U c already then say...',\n",
       "       \"Nah I don't think he goes to usf, he lives around here though\"],\n",
       "      dtype=object)"
      ]
     },
     "execution_count": 53,
     "metadata": {},
     "output_type": "execute_result"
    }
   ],
   "source": [
    "# View a few examples of the text\n",
    "data['Text'].values[0:5]"
   ]
  },
  {
   "cell_type": "markdown",
   "metadata": {},
   "source": [
    "### Clean Data\n",
    "\n",
    " - Remove punctuation\n",
    " - Tokenize the strings\n",
    " - Remove stop words"
   ]
  },
  {
   "cell_type": "code",
   "execution_count": 57,
   "metadata": {},
   "outputs": [
    {
     "data": {
      "text/html": [
       "<div>\n",
       "<style scoped>\n",
       "    .dataframe tbody tr th:only-of-type {\n",
       "        vertical-align: middle;\n",
       "    }\n",
       "\n",
       "    .dataframe tbody tr th {\n",
       "        vertical-align: top;\n",
       "    }\n",
       "\n",
       "    .dataframe thead th {\n",
       "        text-align: right;\n",
       "    }\n",
       "</style>\n",
       "<table border=\"1\" class=\"dataframe\">\n",
       "  <thead>\n",
       "    <tr style=\"text-align: right;\">\n",
       "      <th></th>\n",
       "      <th>label</th>\n",
       "      <th>Text</th>\n",
       "      <th>Text_cleaned</th>\n",
       "    </tr>\n",
       "  </thead>\n",
       "  <tbody>\n",
       "    <tr>\n",
       "      <th>0</th>\n",
       "      <td>ham</td>\n",
       "      <td>Go until jurong point, crazy.. Available only in bugis n great world la e buffet... Cine there g...</td>\n",
       "      <td>[Go, jurong, point, crazy, Available, bugis, n, great, world, la, e, buffet, Cine, got, amore, wat]</td>\n",
       "    </tr>\n",
       "    <tr>\n",
       "      <th>1</th>\n",
       "      <td>ham</td>\n",
       "      <td>Ok lar... Joking wif u oni...</td>\n",
       "      <td>[Ok, lar, Joking, wif, u, oni]</td>\n",
       "    </tr>\n",
       "    <tr>\n",
       "      <th>2</th>\n",
       "      <td>spam</td>\n",
       "      <td>Free entry in 2 a wkly comp to win FA Cup final tkts 21st May 2005. Text FA to 87121 to receive ...</td>\n",
       "      <td>[Free, entry, 2, wkly, comp, win, FA, Cup, final, tkts, 21st, May, 2005, Text, FA, 87121, receiv...</td>\n",
       "    </tr>\n",
       "    <tr>\n",
       "      <th>3</th>\n",
       "      <td>ham</td>\n",
       "      <td>U dun say so early hor... U c already then say...</td>\n",
       "      <td>[U, dun, say, early, hor, U, c, already, say]</td>\n",
       "    </tr>\n",
       "    <tr>\n",
       "      <th>4</th>\n",
       "      <td>ham</td>\n",
       "      <td>Nah I don't think he goes to usf, he lives around here though</td>\n",
       "      <td>[Nah, I, dont, think, goes, usf, lives, around, though]</td>\n",
       "    </tr>\n",
       "    <tr>\n",
       "      <th>5</th>\n",
       "      <td>spam</td>\n",
       "      <td>FreeMsg Hey there darling it's been 3 week's now and no word back! I'd like some fun you up for ...</td>\n",
       "      <td>[FreeMsg, Hey, darling, 3, weeks, word, back, Id, like, fun, still, Tb, ok, XxX, std, chgs, send...</td>\n",
       "    </tr>\n",
       "    <tr>\n",
       "      <th>6</th>\n",
       "      <td>ham</td>\n",
       "      <td>Even my brother is not like to speak with me. They treat me like aids patent.</td>\n",
       "      <td>[Even, brother, like, speak, They, treat, like, aids, patent]</td>\n",
       "    </tr>\n",
       "    <tr>\n",
       "      <th>7</th>\n",
       "      <td>ham</td>\n",
       "      <td>As per your request 'Melle Melle (Oru Minnaminunginte Nurungu Vettam)' has been set as your call...</td>\n",
       "      <td>[As, per, request, Melle, Melle, Oru, Minnaminunginte, Nurungu, Vettam, set, callertune, Callers...</td>\n",
       "    </tr>\n",
       "    <tr>\n",
       "      <th>8</th>\n",
       "      <td>spam</td>\n",
       "      <td>WINNER!! As a valued network customer you have been selected to receivea £900 prize reward! To c...</td>\n",
       "      <td>[WINNER, As, valued, network, customer, selected, receivea, 900, prize, reward, To, claim, call,...</td>\n",
       "    </tr>\n",
       "    <tr>\n",
       "      <th>9</th>\n",
       "      <td>spam</td>\n",
       "      <td>Had your mobile 11 months or more? U R entitled to Update to the latest colour mobiles with came...</td>\n",
       "      <td>[Had, mobile, 11, months, U, R, entitled, Update, latest, colour, mobiles, camera, Free, Call, T...</td>\n",
       "    </tr>\n",
       "  </tbody>\n",
       "</table>\n",
       "</div>"
      ],
      "text/plain": [
       "  label  \\\n",
       "0   ham   \n",
       "1   ham   \n",
       "2  spam   \n",
       "3   ham   \n",
       "4   ham   \n",
       "5  spam   \n",
       "6   ham   \n",
       "7   ham   \n",
       "8  spam   \n",
       "9  spam   \n",
       "\n",
       "                                                                                                  Text  \\\n",
       "0  Go until jurong point, crazy.. Available only in bugis n great world la e buffet... Cine there g...   \n",
       "1                                                                        Ok lar... Joking wif u oni...   \n",
       "2  Free entry in 2 a wkly comp to win FA Cup final tkts 21st May 2005. Text FA to 87121 to receive ...   \n",
       "3                                                    U dun say so early hor... U c already then say...   \n",
       "4                                        Nah I don't think he goes to usf, he lives around here though   \n",
       "5  FreeMsg Hey there darling it's been 3 week's now and no word back! I'd like some fun you up for ...   \n",
       "6                        Even my brother is not like to speak with me. They treat me like aids patent.   \n",
       "7  As per your request 'Melle Melle (Oru Minnaminunginte Nurungu Vettam)' has been set as your call...   \n",
       "8  WINNER!! As a valued network customer you have been selected to receivea £900 prize reward! To c...   \n",
       "9  Had your mobile 11 months or more? U R entitled to Update to the latest colour mobiles with came...   \n",
       "\n",
       "                                                                                          Text_cleaned  \n",
       "0  [Go, jurong, point, crazy, Available, bugis, n, great, world, la, e, buffet, Cine, got, amore, wat]  \n",
       "1                                                                       [Ok, lar, Joking, wif, u, oni]  \n",
       "2  [Free, entry, 2, wkly, comp, win, FA, Cup, final, tkts, 21st, May, 2005, Text, FA, 87121, receiv...  \n",
       "3                                                        [U, dun, say, early, hor, U, c, already, say]  \n",
       "4                                              [Nah, I, dont, think, goes, usf, lives, around, though]  \n",
       "5  [FreeMsg, Hey, darling, 3, weeks, word, back, Id, like, fun, still, Tb, ok, XxX, std, chgs, send...  \n",
       "6                                        [Even, brother, like, speak, They, treat, like, aids, patent]  \n",
       "7  [As, per, request, Melle, Melle, Oru, Minnaminunginte, Nurungu, Vettam, set, callertune, Callers...  \n",
       "8  [WINNER, As, valued, network, customer, selected, receivea, 900, prize, reward, To, claim, call,...  \n",
       "9  [Had, mobile, 11, months, U, R, entitled, Update, latest, colour, mobiles, camera, Free, Call, T...  "
      ]
     },
     "execution_count": 57,
     "metadata": {},
     "output_type": "execute_result"
    }
   ],
   "source": [
    "data['Text_cleaned'] = data['Text'].apply(lambda x: clean_text(x)) #Applies the function to each row\n",
    "data.head(10)"
   ]
  },
  {
   "cell_type": "markdown",
   "metadata": {},
   "source": [
    "### Apply Stemming"
   ]
  },
  {
   "cell_type": "code",
   "execution_count": 59,
   "metadata": {},
   "outputs": [],
   "source": [
    "# ['Porter','Lancaster']\n",
    "Stemmer = 'Porter'"
   ]
  },
  {
   "cell_type": "code",
   "execution_count": 60,
   "metadata": {},
   "outputs": [
    {
     "data": {
      "text/html": [
       "<div>\n",
       "<style scoped>\n",
       "    .dataframe tbody tr th:only-of-type {\n",
       "        vertical-align: middle;\n",
       "    }\n",
       "\n",
       "    .dataframe tbody tr th {\n",
       "        vertical-align: top;\n",
       "    }\n",
       "\n",
       "    .dataframe thead th {\n",
       "        text-align: right;\n",
       "    }\n",
       "</style>\n",
       "<table border=\"1\" class=\"dataframe\">\n",
       "  <thead>\n",
       "    <tr style=\"text-align: right;\">\n",
       "      <th></th>\n",
       "      <th>label</th>\n",
       "      <th>Text</th>\n",
       "      <th>Text_cleaned</th>\n",
       "      <th>Text_stemmed</th>\n",
       "    </tr>\n",
       "  </thead>\n",
       "  <tbody>\n",
       "    <tr>\n",
       "      <th>0</th>\n",
       "      <td>ham</td>\n",
       "      <td>Go until jurong point, crazy.. Available only in bugis n great world la e buffet... Cine there g...</td>\n",
       "      <td>[Go, jurong, point, crazy, Available, bugis, n, great, world, la, e, buffet, Cine, got, amore, wat]</td>\n",
       "      <td>[Go, jurong, point, crazi, avail, bugi, n, great, world, la, e, buffet, cine, got, amor, wat]</td>\n",
       "    </tr>\n",
       "    <tr>\n",
       "      <th>1</th>\n",
       "      <td>ham</td>\n",
       "      <td>Ok lar... Joking wif u oni...</td>\n",
       "      <td>[Ok, lar, Joking, wif, u, oni]</td>\n",
       "      <td>[Ok, lar, joke, wif, u, oni]</td>\n",
       "    </tr>\n",
       "    <tr>\n",
       "      <th>2</th>\n",
       "      <td>spam</td>\n",
       "      <td>Free entry in 2 a wkly comp to win FA Cup final tkts 21st May 2005. Text FA to 87121 to receive ...</td>\n",
       "      <td>[Free, entry, 2, wkly, comp, win, FA, Cup, final, tkts, 21st, May, 2005, Text, FA, 87121, receiv...</td>\n",
       "      <td>[free, entri, 2, wkli, comp, win, FA, cup, final, tkt, 21st, may, 2005, text, FA, 87121, receiv,...</td>\n",
       "    </tr>\n",
       "    <tr>\n",
       "      <th>3</th>\n",
       "      <td>ham</td>\n",
       "      <td>U dun say so early hor... U c already then say...</td>\n",
       "      <td>[U, dun, say, early, hor, U, c, already, say]</td>\n",
       "      <td>[U, dun, say, earli, hor, U, c, alreadi, say]</td>\n",
       "    </tr>\n",
       "    <tr>\n",
       "      <th>4</th>\n",
       "      <td>ham</td>\n",
       "      <td>Nah I don't think he goes to usf, he lives around here though</td>\n",
       "      <td>[Nah, I, dont, think, goes, usf, lives, around, though]</td>\n",
       "      <td>[nah, I, dont, think, goe, usf, live, around, though]</td>\n",
       "    </tr>\n",
       "  </tbody>\n",
       "</table>\n",
       "</div>"
      ],
      "text/plain": [
       "  label  \\\n",
       "0   ham   \n",
       "1   ham   \n",
       "2  spam   \n",
       "3   ham   \n",
       "4   ham   \n",
       "\n",
       "                                                                                                  Text  \\\n",
       "0  Go until jurong point, crazy.. Available only in bugis n great world la e buffet... Cine there g...   \n",
       "1                                                                        Ok lar... Joking wif u oni...   \n",
       "2  Free entry in 2 a wkly comp to win FA Cup final tkts 21st May 2005. Text FA to 87121 to receive ...   \n",
       "3                                                    U dun say so early hor... U c already then say...   \n",
       "4                                        Nah I don't think he goes to usf, he lives around here though   \n",
       "\n",
       "                                                                                          Text_cleaned  \\\n",
       "0  [Go, jurong, point, crazy, Available, bugis, n, great, world, la, e, buffet, Cine, got, amore, wat]   \n",
       "1                                                                       [Ok, lar, Joking, wif, u, oni]   \n",
       "2  [Free, entry, 2, wkly, comp, win, FA, Cup, final, tkts, 21st, May, 2005, Text, FA, 87121, receiv...   \n",
       "3                                                        [U, dun, say, early, hor, U, c, already, say]   \n",
       "4                                              [Nah, I, dont, think, goes, usf, lives, around, though]   \n",
       "\n",
       "                                                                                          Text_stemmed  \n",
       "0        [Go, jurong, point, crazi, avail, bugi, n, great, world, la, e, buffet, cine, got, amor, wat]  \n",
       "1                                                                         [Ok, lar, joke, wif, u, oni]  \n",
       "2  [free, entri, 2, wkli, comp, win, FA, cup, final, tkt, 21st, may, 2005, text, FA, 87121, receiv,...  \n",
       "3                                                        [U, dun, say, earli, hor, U, c, alreadi, say]  \n",
       "4                                                [nah, I, dont, think, goe, usf, live, around, though]  "
      ]
     },
     "execution_count": 60,
     "metadata": {},
     "output_type": "execute_result"
    }
   ],
   "source": [
    "data['Text_stemmed'] = data['Text_cleaned'].apply(lambda x: stemming(x,Stemmer))\n",
    "\n",
    "data.head()"
   ]
  },
  {
   "cell_type": "markdown",
   "metadata": {},
   "source": [
    "### Lemmatize the data"
   ]
  },
  {
   "cell_type": "code",
   "execution_count": 61,
   "metadata": {},
   "outputs": [
    {
     "data": {
      "text/html": [
       "<div>\n",
       "<style scoped>\n",
       "    .dataframe tbody tr th:only-of-type {\n",
       "        vertical-align: middle;\n",
       "    }\n",
       "\n",
       "    .dataframe tbody tr th {\n",
       "        vertical-align: top;\n",
       "    }\n",
       "\n",
       "    .dataframe thead th {\n",
       "        text-align: right;\n",
       "    }\n",
       "</style>\n",
       "<table border=\"1\" class=\"dataframe\">\n",
       "  <thead>\n",
       "    <tr style=\"text-align: right;\">\n",
       "      <th></th>\n",
       "      <th>label</th>\n",
       "      <th>Text</th>\n",
       "      <th>Text_cleaned</th>\n",
       "      <th>Text_stemmed</th>\n",
       "      <th>Text_lemmatized</th>\n",
       "    </tr>\n",
       "  </thead>\n",
       "  <tbody>\n",
       "    <tr>\n",
       "      <th>0</th>\n",
       "      <td>ham</td>\n",
       "      <td>Go until jurong point, crazy.. Available only in bugis n great world la e buffet... Cine there g...</td>\n",
       "      <td>[Go, jurong, point, crazy, Available, bugis, n, great, world, la, e, buffet, Cine, got, amore, wat]</td>\n",
       "      <td>[Go, jurong, point, crazi, avail, bugi, n, great, world, la, e, buffet, cine, got, amor, wat]</td>\n",
       "      <td>[Go, jurong, point, crazi, avail, bugi, n, great, world, la, e, buffet, cine, got, amor, wat]</td>\n",
       "    </tr>\n",
       "    <tr>\n",
       "      <th>1</th>\n",
       "      <td>ham</td>\n",
       "      <td>Ok lar... Joking wif u oni...</td>\n",
       "      <td>[Ok, lar, Joking, wif, u, oni]</td>\n",
       "      <td>[Ok, lar, joke, wif, u, oni]</td>\n",
       "      <td>[Ok, lar, joke, wif, u, oni]</td>\n",
       "    </tr>\n",
       "    <tr>\n",
       "      <th>2</th>\n",
       "      <td>spam</td>\n",
       "      <td>Free entry in 2 a wkly comp to win FA Cup final tkts 21st May 2005. Text FA to 87121 to receive ...</td>\n",
       "      <td>[Free, entry, 2, wkly, comp, win, FA, Cup, final, tkts, 21st, May, 2005, Text, FA, 87121, receiv...</td>\n",
       "      <td>[free, entri, 2, wkli, comp, win, FA, cup, final, tkt, 21st, may, 2005, text, FA, 87121, receiv,...</td>\n",
       "      <td>[free, entri, 2, wkli, comp, win, FA, cup, final, tkt, 21st, may, 2005, text, FA, 87121, receiv,...</td>\n",
       "    </tr>\n",
       "    <tr>\n",
       "      <th>3</th>\n",
       "      <td>ham</td>\n",
       "      <td>U dun say so early hor... U c already then say...</td>\n",
       "      <td>[U, dun, say, early, hor, U, c, already, say]</td>\n",
       "      <td>[U, dun, say, earli, hor, U, c, alreadi, say]</td>\n",
       "      <td>[U, dun, say, earli, hor, U, c, alreadi, say]</td>\n",
       "    </tr>\n",
       "    <tr>\n",
       "      <th>4</th>\n",
       "      <td>ham</td>\n",
       "      <td>Nah I don't think he goes to usf, he lives around here though</td>\n",
       "      <td>[Nah, I, dont, think, goes, usf, lives, around, though]</td>\n",
       "      <td>[nah, I, dont, think, goe, usf, live, around, though]</td>\n",
       "      <td>[nah, I, dont, think, goe, usf, live, around, though]</td>\n",
       "    </tr>\n",
       "  </tbody>\n",
       "</table>\n",
       "</div>"
      ],
      "text/plain": [
       "  label  \\\n",
       "0   ham   \n",
       "1   ham   \n",
       "2  spam   \n",
       "3   ham   \n",
       "4   ham   \n",
       "\n",
       "                                                                                                  Text  \\\n",
       "0  Go until jurong point, crazy.. Available only in bugis n great world la e buffet... Cine there g...   \n",
       "1                                                                        Ok lar... Joking wif u oni...   \n",
       "2  Free entry in 2 a wkly comp to win FA Cup final tkts 21st May 2005. Text FA to 87121 to receive ...   \n",
       "3                                                    U dun say so early hor... U c already then say...   \n",
       "4                                        Nah I don't think he goes to usf, he lives around here though   \n",
       "\n",
       "                                                                                          Text_cleaned  \\\n",
       "0  [Go, jurong, point, crazy, Available, bugis, n, great, world, la, e, buffet, Cine, got, amore, wat]   \n",
       "1                                                                       [Ok, lar, Joking, wif, u, oni]   \n",
       "2  [Free, entry, 2, wkly, comp, win, FA, Cup, final, tkts, 21st, May, 2005, Text, FA, 87121, receiv...   \n",
       "3                                                        [U, dun, say, early, hor, U, c, already, say]   \n",
       "4                                              [Nah, I, dont, think, goes, usf, lives, around, though]   \n",
       "\n",
       "                                                                                          Text_stemmed  \\\n",
       "0        [Go, jurong, point, crazi, avail, bugi, n, great, world, la, e, buffet, cine, got, amor, wat]   \n",
       "1                                                                         [Ok, lar, joke, wif, u, oni]   \n",
       "2  [free, entri, 2, wkli, comp, win, FA, cup, final, tkt, 21st, may, 2005, text, FA, 87121, receiv,...   \n",
       "3                                                        [U, dun, say, earli, hor, U, c, alreadi, say]   \n",
       "4                                                [nah, I, dont, think, goe, usf, live, around, though]   \n",
       "\n",
       "                                                                                       Text_lemmatized  \n",
       "0        [Go, jurong, point, crazi, avail, bugi, n, great, world, la, e, buffet, cine, got, amor, wat]  \n",
       "1                                                                         [Ok, lar, joke, wif, u, oni]  \n",
       "2  [free, entri, 2, wkli, comp, win, FA, cup, final, tkt, 21st, may, 2005, text, FA, 87121, receiv,...  \n",
       "3                                                        [U, dun, say, earli, hor, U, c, alreadi, say]  \n",
       "4                                                [nah, I, dont, think, goe, usf, live, around, though]  "
      ]
     },
     "execution_count": 61,
     "metadata": {},
     "output_type": "execute_result"
    }
   ],
   "source": [
    "data['Text_lemmatized'] = data['Text_stemmed'].apply(lambda x: lemmatizing(x))\n",
    "\n",
    "data.head()"
   ]
  },
  {
   "cell_type": "markdown",
   "metadata": {},
   "source": [
    "### Change labels from ham to -1 and spam to 1"
   ]
  },
  {
   "cell_type": "code",
   "execution_count": 62,
   "metadata": {},
   "outputs": [],
   "source": [
    "data.replace({'label': {'ham': -1, 'spam': 1}}, inplace=True)"
   ]
  },
  {
   "cell_type": "code",
   "execution_count": 63,
   "metadata": {},
   "outputs": [
    {
     "data": {
      "text/plain": [
       "-1    4825\n",
       " 1     747\n",
       "Name: label, dtype: int64"
      ]
     },
     "execution_count": 63,
     "metadata": {},
     "output_type": "execute_result"
    }
   ],
   "source": [
    "#Checks label counts are still the same\n",
    "data['label'].value_counts()"
   ]
  },
  {
   "cell_type": "code",
   "execution_count": 65,
   "metadata": {},
   "outputs": [
    {
     "data": {
      "text/plain": [
       "0   -1\n",
       "1   -1\n",
       "2    1\n",
       "3   -1\n",
       "4   -1\n",
       "Name: label, dtype: int64"
      ]
     },
     "execution_count": 65,
     "metadata": {},
     "output_type": "execute_result"
    }
   ],
   "source": [
    "data.label.head()"
   ]
  },
  {
   "cell_type": "markdown",
   "metadata": {},
   "source": [
    "### Extract predictor variables and target label\n"
   ]
  },
  {
   "cell_type": "code",
   "execution_count": 81,
   "metadata": {},
   "outputs": [],
   "source": [
    "Y = data.label.values\n",
    "X = data.Text_lemmatized.values  #data.iloc[:,4].values.shape"
   ]
  },
  {
   "cell_type": "code",
   "execution_count": 87,
   "metadata": {},
   "outputs": [
    {
     "name": "stdout",
     "output_type": "stream",
     "text": [
      "2229 training examples\n",
      "1672 validation examples\n",
      "1671 testing examples\n"
     ]
    }
   ],
   "source": [
    "# Split data into Training, Test and Validation data sets\n",
    "xtr, xva, xte, ytr, yva, yte = splitdata(X, Y, 25, 0.4)"
   ]
  },
  {
   "cell_type": "code",
   "execution_count": null,
   "metadata": {},
   "outputs": [],
   "source": [
    "splitdata(X, Y, rand_seed, tnx)"
   ]
  },
  {
   "cell_type": "code",
   "execution_count": 86,
   "metadata": {},
   "outputs": [],
   "source": [
    "def splitdata(X, Y, rand_seed, tnx):\n",
    "    '''\n",
    "    Function used to split data into training, test and validation datastes\n",
    "    This takes the predictor variables X and response variables Y, and \n",
    "    \n",
    "    '''\n",
    "    import numpy as np\n",
    "    m = X.shape[0]\n",
    "    #n = X.shape[1] \n",
    "    np.random.seed(rand_seed)\n",
    "    ind1 = np.random.permutation(m)\n",
    "    if (tnx > 1) or (tnx < 0) :\n",
    "        print(\"This should be greater than 0 and less than 1\")\n",
    "\n",
    "    len1= int(np.round(len(ind1)* tnx, 0))\n",
    "    len2= int(np.round(len(ind1)* (1-tnx)/2, 0))\n",
    "\n",
    "    #print(len1)\n",
    "    #print(len2)\n",
    "\n",
    "    xtr  = X[ind1[0:len1]]\n",
    "    xva  = X[ind1[len1:(len1+len2)]]\n",
    "    xte  = X[ind1[(len1+len2):]]\n",
    "    \n",
    "    ytr  = Y[ind1[0:len1]]\n",
    "    yva  = Y[ind1[len1:(len1+len2)]]\n",
    "    yte  = Y[ind1[(len1+len2):]]\n",
    "    \n",
    "    print('{} training examples'.format(xtr.shape[0]))\n",
    "    print('{} validation examples'.format(xva.shape[0]))\n",
    "    print('{} testing examples'.format(xte.shape[0]))\n",
    "    \n",
    "    return xtr, xva, xte, ytr.reshape(len(ytr),1), yva.reshape(len(yva),1), yte.reshape(len(yte),1)"
   ]
  },
  {
   "cell_type": "code",
   "execution_count": 376,
   "metadata": {},
   "outputs": [],
   "source": [
    "def EvaluateTest(ylabel, Pred):\n",
    "       \n",
    "    FN=0\n",
    "    FP=0\n",
    "    TP=0\n",
    "    TN=0\n",
    "   \n",
    "    for i in range(0,ylabel.shape[0]):\n",
    "        if (ylabel[i]==Pred[i]).any():\n",
    "            if (Pred[i]==1).any():\n",
    "                TP+=1\n",
    "            elif Pred[i]!=1:\n",
    "                TN+=1\n",
    "        if (ylabel[i]!=Pred[i]).any():\n",
    "            if (Pred[i]==1).any():\n",
    "                FP+=1\n",
    "            elif Pred[i]!=1:\n",
    "                FN+=1\n",
    "        #print(ylabel[i], Pred[i])\n",
    "    TOTAL = TP + TN + FP + FN\n",
    "    TPN  = TP+ TN\n",
    "    \n",
    "    print(\"--> The total of {0} predicted with only {1} accurate predictions\".format(TOTAL,TPN))\n",
    "    print('')\n",
    "    print('='*25)\n",
    "    print('Ground Truth comparison')\n",
    "    print('='*25)\n",
    "    print(\"Actual label is True while we predicted True - True Positive\",format(TP))\n",
    "    print(\"Actual label is False while we predicted True - False Positive\",format(FP))\n",
    "    print(\"Actual label is True while we predicted False - False Negative\",format(FN))\n",
    "    print(\"Actual label is False while we predicted False - True Negatve\",format(TN))  \n",
    "    print('') \n",
    "    #try:\n",
    "    Pos        = TP+FP                                   # sum of TP and FP\n",
    "    Neg        = TN+FN\n",
    "    accu       = np.round(((TP+TN)/(TP+FN+FP+TN)*100),2)\n",
    "    #sen        = TP/(TP+FN)  \n",
    "    if (TP+FN) == 0:\n",
    "        sen    = 0\n",
    "        miss   = 0\n",
    "        recall = 0\n",
    "        print(\"No True positives or False negatives predicted\")\n",
    "        print(\"Sensitivity set to zero 0\")\n",
    "        print(\"Miss (false negative rate) set to 0\")\n",
    "        print(\"Recall value set to 0\")\n",
    "        print('='*45)\n",
    "    else:\n",
    "        sen    = np.round(TP/(TP+FN),2)      # true positive rate,sensitivity,recall\n",
    "        miss   = np.round(FN/(TP+FN),2)      # false negative rate, miss\n",
    "        recall = np.round(TP/(TP+FN),2)      # Recall describes the completeness of the classification\n",
    "   \n",
    "    if (TN + FP) == 0:\n",
    "        spec = 0\n",
    "        fall = 0\n",
    "        print(\"No True positives or False negatves predicted\")\n",
    "        print(\"Specificity set to 0\")\n",
    "        print(\"Fallout (false positive rate) set to 0\")\n",
    "        print('='*45)\n",
    "    else:\n",
    "        spec   = np.round(TN/(TN+FP),2)     # true negative rate, specificity7\n",
    "        fall   = np.round(FP/(TN+FP),2)     # false positive rate, fallout\n",
    "    \n",
    "    if (TN+FN) == 0:\n",
    "        NPV = 0\n",
    "        print(\"No Negative outcomes predicted\")\n",
    "        print(\"Negative predicted value set to 0\")\n",
    "        print('='*45)\n",
    "    else:\n",
    "        NPV        = np.round(TN/(TN+FN),2)                  # negative predictive value\n",
    "     \n",
    "    if (TP+FP) == 0:\n",
    "        precision = 0\n",
    "        print(\"No True positives or False positives predicted\")\n",
    "        print('='*45)\n",
    "    else:\n",
    "        precision  = np.round(TP/(TP+FP),2)                  # precision measures the actual accuracy of the classification\n",
    "        \n",
    "    RPP        = np.round((TP+FP)/(TP+FN+FP+TN),2)           # rate of positive predictions\n",
    "    RNP        = np.round((TN+FN)/(TP+FN+FP+TN),2)           # rate of negative predictions\n",
    "    \n",
    "    if (precision + recall) == 0:\n",
    "        Fscore = 0\n",
    "        print(\"Fscore cannot be calculated as denominator is 0\")\n",
    "        print('='*45)\n",
    "    else:\n",
    "        Fscore = np.round(2 * ((precision * recall) / (precision + recall)),2)\n",
    "    \n",
    "    \n",
    "    print(\"--> {} positive outcomes prediticted\".format(Pos))\n",
    "    print(\"--> {} negative outcomes prediticted\".format(Neg))\n",
    "    print(\"--> An accuracy of {} % was achieved\".format(accu))\n",
    "    print(\"--> Sensitity of {} was achieved\".format(sen))\n",
    "    print(\"--> Specificity of {} was achieved \".format(spec))\n",
    "    print(\"--> {} rate of positive prediction\".format(RPP))\n",
    "    print(\"--> {} rate of negative prediction\".format(RNP))\n",
    "    print(\"--> {} false negative rate was achieved\".format(miss))\n",
    "    print(\"--> {} false positve rate (fallout) was achieved\".format(fall))\n",
    "    print(\"--> Negative predictive value of {}\".format(NPV))\n",
    "    print(\"--> Recall value 0f {} achieved\".format(recall))\n",
    "    print(\"--> The precision vaue of {} achieved\".format(precision))\n",
    "    print(\"--> An Fscore of {} achieved\".format(Fscore))\n",
    "    \n",
    "    \n",
    "    confusion_mat = np.array([[TN, FP], [FN, TP]])\n",
    "    \n",
    "    \n",
    "    plt.figure(figsize=(8,4))\n",
    "\n",
    "    #plt.suptitle(\"Confusion Matrixes\",fontsize=24)\n",
    "    plt.title(\"Confusion Matrix\")\n",
    "    plt.subplots_adjust(wspace = 0.1, hspace= 0.01)\n",
    "    sns.heatmap(confusion_mat,annot=True,cmap=\"Reds\",fmt='.2g',cbar=True, annot_kws={\"size\":15})\n",
    "    plt.show()\n",
    "    \n",
    "    Evaluation = {\"Pos\": Pos, \"Neg\": Neg, \"accu\": accu,\"sen\": sen,\n",
    "                  \"spec\": spec, \"RPP\": RPP, \"RNP\": RNP, \"miss\": miss,\n",
    "                  \"fall\":fall, \"NPV\": NPV,\"recall\":recall, \"precision\":precision,\n",
    "                  \"Fscore\":Fscore}\n",
    "    \n",
    "    return Evaluation"
   ]
  },
  {
   "cell_type": "code",
   "execution_count": 377,
   "metadata": {},
   "outputs": [
    {
     "name": "stdout",
     "output_type": "stream",
     "text": [
      "1114 training examples\n",
      "2229 validation examples\n",
      "2229 testing examples\n"
     ]
    }
   ],
   "source": [
    "xtr, xva, xte, ytr, yva, yte = splitdata(X, Y, 25, 0.2)"
   ]
  },
  {
   "cell_type": "code",
   "execution_count": 88,
   "metadata": {},
   "outputs": [],
   "source": [
    "m  = xtr.shape[0]\n",
    "n  = xte.shape[0]\n",
    "H  = np.zeros((m,m))\n",
    "Hx = np.zeros((m,m+1))\n",
    "H1 = np.zeros((n,m))\n",
    "Ht = np.zeros((n,m+1)) \n"
   ]
  },
  {
   "cell_type": "code",
   "execution_count": 89,
   "metadata": {},
   "outputs": [],
   "source": [
    "def kernelfun(X,Y):\n",
    "    m = X.shape[0]\n",
    "    n = Y.shape[0]\n",
    "    Kernel = np.zeros((n,m))\n",
    "    for i in range(0,n):\n",
    "        u = Y[i]\n",
    "        for j in range(0,m):\n",
    "            v = X[j]\n",
    "            Kernel[i,j] = editdistance(u,v)\n",
    "    return Kernel"
   ]
  },
  {
   "cell_type": "code",
   "execution_count": null,
   "metadata": {},
   "outputs": [],
   "source": [
    "H3 = kernelfun(xtr,xtr)\n",
    "H4 = np.matmul(ytr,ytr.T)\n",
    "H  = np.multiply(H4,H3)"
   ]
  },
  {
   "cell_type": "code",
   "execution_count": 381,
   "metadata": {},
   "outputs": [],
   "source": [
    "#Analyse / Normalise kernel\n",
    "\n",
    "Hx[:,1:]=H\n",
    "Hx[:,:1]=np.arange(m)[:,np.newaxis]+1\n"
   ]
  },
  {
   "cell_type": "code",
   "execution_count": 382,
   "metadata": {},
   "outputs": [],
   "source": [
    "H1 = kernelfun(xtr,xte)\n",
    "\n",
    "\n",
    "Ht[:,1:]=H1\n",
    "Ht[:,:1]=np.arange(n)[:,np.newaxis]+1\n"
   ]
  },
  {
   "cell_type": "code",
   "execution_count": 37,
   "metadata": {},
   "outputs": [
    {
     "ename": "NameError",
     "evalue": "name 'ytr' is not defined",
     "output_type": "error",
     "traceback": [
      "\u001b[0;31m---------------------------------------------------------------------------\u001b[0m",
      "\u001b[0;31mNameError\u001b[0m                                 Traceback (most recent call last)",
      "\u001b[0;32m<ipython-input-37-e4263912099f>\u001b[0m in \u001b[0;36m<module>\u001b[0;34m\u001b[0m\n\u001b[1;32m      1\u001b[0m \u001b[0;34m\u001b[0m\u001b[0m\n\u001b[1;32m      2\u001b[0m \u001b[0;34m\u001b[0m\u001b[0m\n\u001b[0;32m----> 3\u001b[0;31m \u001b[0mmodel\u001b[0m \u001b[0;34m=\u001b[0m \u001b[0msvm_train\u001b[0m\u001b[0;34m(\u001b[0m\u001b[0mlist\u001b[0m\u001b[0;34m(\u001b[0m\u001b[0mytr\u001b[0m\u001b[0;34m)\u001b[0m\u001b[0;34m,\u001b[0m \u001b[0;34m[\u001b[0m\u001b[0mlist\u001b[0m\u001b[0;34m(\u001b[0m\u001b[0mr\u001b[0m\u001b[0;34m)\u001b[0m \u001b[0;32mfor\u001b[0m \u001b[0mr\u001b[0m \u001b[0;32min\u001b[0m \u001b[0mHx\u001b[0m\u001b[0;34m]\u001b[0m\u001b[0;34m,\u001b[0m \u001b[0;34m(\u001b[0m\u001b[0;34m'-b 1 -c 4 -t 4'\u001b[0m\u001b[0;34m)\u001b[0m\u001b[0;34m)\u001b[0m\u001b[0;34m\u001b[0m\u001b[0;34m\u001b[0m\u001b[0m\n\u001b[0m\u001b[1;32m      4\u001b[0m \u001b[0;34m\u001b[0m\u001b[0m\n\u001b[1;32m      5\u001b[0m \u001b[0mp_label\u001b[0m\u001b[0;34m,\u001b[0m \u001b[0mp_acc\u001b[0m\u001b[0;34m,\u001b[0m \u001b[0mp_val\u001b[0m \u001b[0;34m=\u001b[0m \u001b[0msvm_predict\u001b[0m\u001b[0;34m(\u001b[0m\u001b[0mlist\u001b[0m\u001b[0;34m(\u001b[0m\u001b[0myte\u001b[0m\u001b[0;34m)\u001b[0m\u001b[0;34m,\u001b[0m\u001b[0;34m[\u001b[0m\u001b[0mlist\u001b[0m\u001b[0;34m(\u001b[0m\u001b[0mrow\u001b[0m\u001b[0;34m)\u001b[0m \u001b[0;32mfor\u001b[0m \u001b[0mrow\u001b[0m \u001b[0;32min\u001b[0m \u001b[0mHt\u001b[0m\u001b[0;34m]\u001b[0m\u001b[0;34m,\u001b[0m \u001b[0mmodel\u001b[0m\u001b[0;34m,\u001b[0m \u001b[0;34m(\u001b[0m\u001b[0;34m'-b 1'\u001b[0m\u001b[0;34m)\u001b[0m\u001b[0;34m)\u001b[0m\u001b[0;34m\u001b[0m\u001b[0;34m\u001b[0m\u001b[0m\n",
      "\u001b[0;31mNameError\u001b[0m: name 'ytr' is not defined"
     ]
    }
   ],
   "source": [
    "\n",
    "\n",
    "model = svm_train(list(ytr), [list(r) for r in Hx], ('-b 1 -c 4 -t 4'))\n",
    "\n",
    "p_label, p_acc, p_val = svm_predict(list(yte),[list(row) for row in Ht], model, ('-b 1'))\n"
   ]
  },
  {
   "cell_type": "code",
   "execution_count": 384,
   "metadata": {},
   "outputs": [
    {
     "name": "stdout",
     "output_type": "stream",
     "text": [
      "--> The total of 2229 predicted with only 802 accurate predictions\n",
      "\n",
      "=========================\n",
      "Ground Truth comparison\n",
      "=========================\n",
      "Actual label is True while we predicted True - True Positive 12\n",
      "Actual label is False while we predicted True - False Positive 1136\n",
      "Actual label is True while we predicted False - False Negative 291\n",
      "Actual label is False while we predicted False - True Negatve 790\n",
      "\n",
      "--> 1148 positive outcomes prediticted\n",
      "--> 1081 negative outcomes prediticted\n",
      "--> An accuracy of 35.98 % was achieved\n",
      "--> Sensitity of 0.04 was achieved\n",
      "--> Specificity of 0.41 was achieved \n",
      "--> 0.52 rate of positive prediction\n",
      "--> 0.48 rate of negative prediction\n",
      "--> 0.96 false negative rate was achieved\n",
      "--> 0.59 false positve rate (fallout) was achieved\n",
      "--> Negative predictive value of 0.73\n",
      "--> Recall value 0f 0.04 achieved\n",
      "--> The precision vaue of 0.01 achieved\n",
      "--> An Fscore of 0.02 achieved\n"
     ]
    },
    {
     "data": {
      "image/png": "[encoded data removed]",
      "text/plain": [
       "<Figure size 576x288 with 2 Axes>"
      ]
     },
     "metadata": {
      "needs_background": "light"
     },
     "output_type": "display_data"
    },
    {
     "name": "stdout",
     "output_type": "stream",
     "text": [
      "--> 0.02 F1 Score achieved\n"
     ]
    }
   ],
   "source": [
    "#Evaluation = EvaluateTest(np.asarray(p_label),yte)\n",
    "Evaluation = EvaluateTest(np.asarray(yte/1.),np.asarray(p_label))\n",
    "print(\"--> {} F1 Score achieved\".format(Evaluation[\"Fscore\"]))"
   ]
  },
  {
   "cell_type": "code",
   "execution_count": 385,
   "metadata": {},
   "outputs": [
    {
     "name": "stdout",
     "output_type": "stream",
     "text": [
      "--> An AUC value of 0.08 achieved\n"
     ]
    },
    {
     "data": {
      "image/png": "[encoded data removed]",
      "text/plain": [
       "<Figure size 432x288 with 1 Axes>"
      ]
     },
     "metadata": {
      "needs_background": "light"
     },
     "output_type": "display_data"
    }
   ],
   "source": [
    "Auc = computeRoc(yte, p_val)"
   ]
  },
  {
   "cell_type": "code",
   "execution_count": 407,
   "metadata": {},
   "outputs": [
    {
     "name": "stdout",
     "output_type": "stream",
     "text": [
      "A\t Auc\t B\t C_SVC\t EPSILON_SVR\t EvaluateTest\t Evaluation\t H\t H1\t \n",
      "H3\t H4\t Ht\t Hx\t Ker\t LINEAR\t NU_SVC\t NU_SVR\t ONE_CLASS\t \n",
      "POLY\t PRECOMPUTED\t PRINT_STRING_FUN\t Path\t RBF\t SIGMOID\t X\t Xtr\t Y\t \n",
      "a\t b\t c\t c_double\t clean_text\t computeRoc\t corpus\t csr_find_scale_param\t csr_scale\t \n",
      "d\t data\t data2\t editdistance\t evaluations\t gen_svm_nodearray\t i\t k\t kernelfun\t \n",
      "lemmatizing\t len_ham\t len_spam\t libsvm\t m\t model\t n\t nltk\t np\t \n",
      "p_acc\t p_label\t p_val\t pd\t plt\t print_null\t ps\t re\t remove_punct\t \n",
      "remove_punction\t remove_stopwords\t s\t sns\t splitdata\t stemming\t stopword\t string\t svm_load_model\t \n",
      "svm_model\t svm_node\t svm_parameter\t svm_predict\t svm_problem\t svm_read_problem\t svm_save_model\t svm_train\t t\t \n",
      "toPyModel\t tokenize\t util\t v\t wn\t xte\t xtr\t xva\t yte\t \n",
      "ytr\t yva\t \n"
     ]
    }
   ],
   "source": [
    "who"
   ]
  },
  {
   "cell_type": "code",
   "execution_count": 418,
   "metadata": {},
   "outputs": [
    {
     "data": {
      "text/plain": [
       "array([[-25.,  11.,   5., ...,   9.,   6.,  12.],\n",
       "       [-25.,  11.,   3., ...,   9.,   6.,  12.],\n",
       "       [-25.,  11.,   7., ...,   9.,   7.,  12.],\n",
       "       [-25.,  22.,  22., ...,  22.,  21.,  21.],\n",
       "       [-25.,  11.,   8., ...,   9.,   8.,  12.]])"
      ]
     },
     "execution_count": 418,
     "metadata": {},
     "output_type": "execute_result"
    }
   ],
   "source": [
    "H[620:625]"
   ]
  },
  {
   "cell_type": "code",
   "execution_count": 411,
   "metadata": {},
   "outputs": [
    {
     "data": {
      "text/plain": [
       "<matplotlib.image.AxesImage at 0x141b500f0>"
      ]
     },
     "execution_count": 411,
     "metadata": {},
     "output_type": "execute_result"
    },
    {
     "data": {
      "image/png": "[encoded data removed]",
      "text/plain": [
       "<Figure size 288x288 with 1 Axes>"
      ]
     },
     "metadata": {
      "needs_background": "light"
     },
     "output_type": "display_data"
    }
   ],
   "source": [
    "import matplotlib.pyplot as plt\n",
    "plt.matshow(H)"
   ]
  },
  {
   "cell_type": "code",
   "execution_count": 413,
   "metadata": {},
   "outputs": [
    {
     "data": {
      "text/plain": [
       "<matplotlib.image.AxesImage at 0x14843ff60>"
      ]
     },
     "execution_count": 413,
     "metadata": {},
     "output_type": "execute_result"
    },
    {
     "data": {
      "image/png": "[encoded data removed]",
      "text/plain": [
       "<Figure size 288x288 with 1 Axes>"
      ]
     },
     "metadata": {
      "needs_background": "light"
     },
     "output_type": "display_data"
    }
   ],
   "source": [
    "plt.matshow(H3)"
   ]
  },
  {
   "cell_type": "code",
   "execution_count": 414,
   "metadata": {},
   "outputs": [
    {
     "data": {
      "text/plain": [
       "<matplotlib.image.AxesImage at 0x149fe2278>"
      ]
     },
     "execution_count": 414,
     "metadata": {},
     "output_type": "execute_result"
    },
    {
     "data": {
      "image/png": "[encoded data removed]",
      "text/plain": [
       "<Figure size 288x288 with 1 Axes>"
      ]
     },
     "metadata": {
      "needs_background": "light"
     },
     "output_type": "display_data"
    }
   ],
   "source": [
    "plt.matshow(H4)"
   ]
  },
  {
   "cell_type": "code",
   "execution_count": null,
   "metadata": {},
   "outputs": [],
   "source": [
    "model."
   ]
  }
 ],
 "metadata": {
  "kernelspec": {
   "display_name": "Python 3",
   "language": "python",
   "name": "python3"
  },
  "language_info": {
   "codemirror_mode": {
    "name": "ipython",
    "version": 3
   },
   "file_extension": ".py",
   "mimetype": "text/x-python",
   "name": "python",
   "nbconvert_exporter": "python",
   "pygments_lexer": "ipython3",
   "version": "3.7.3"
  }
 },
 "nbformat": 4,
 "nbformat_minor": 2
}
