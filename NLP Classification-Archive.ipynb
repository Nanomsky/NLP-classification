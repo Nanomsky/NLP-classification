{
 "cells": [
  {
   "cell_type": "markdown",
   "metadata": {},
   "source": [
    "### NLP Classification Project\n",
    "\n",
    "##### Building a spam filter with the kernel framework. \n",
    "\n",
    "Emails are either classed as undersired \"spam\" or \"ham\". This classification task is applies and uses variants of edit distance within a kernel framework. LibSVM algorithm is then applied to clasify the data as either \"ham\" or \"spam\". The <a href = \"https://archive.ics.uci.edu/ml/datasets/SMS+Spam+Collection\">SMS Spam Collection Data Set</a> from UCI machine learning repository \n",
    "\n",
    "* Clean the data\n",
    "* Carry out data exploration\n",
    "* split, tokenize, remove punctuation\n",
    "* Extract features\n",
    "* Construct kernels\n",
    "* Run classification \n",
    "* Compare and analyse"
   ]
  },
  {
   "cell_type": "code",
   "execution_count": 1,
   "metadata": {},
   "outputs": [],
   "source": [
    "#Import required files\n",
    "import nltk\n",
    "import numpy as np\n",
    "import pandas as pd\n",
    "import matplotlib.pyplot as plt\n",
    "from pathlib import Path\n",
    "import re\n",
    "import string\n",
    "from zipfile import ZipFile \n",
    "import requests\n",
    "from libsvm.svmutil import *\n",
    "from util_ker import *\n",
    "from util_ker import EvaluateTest\n",
    "from util_Text import *\n",
    "from util_prob import *\n",
    "from LogUtil import *\n",
    "import seaborn as sns\n",
    "import time\n",
    "\n",
    "%matplotlib inline\n",
    "pd.set_option('display.max_colwidth', 100)"
   ]
  },
  {
   "cell_type": "markdown",
   "metadata": {},
   "source": [
    "### Download Data"
   ]
  },
  {
   "cell_type": "code",
   "execution_count": 2,
   "metadata": {},
   "outputs": [],
   "source": [
    "#download 'smsspamcollection.zip' files from UCI website (file is a zipped file )\n",
    "url = \"https://archive.ics.uci.edu/ml/machine-learning-databases/00228/smsspamcollection.zip\"\n",
    "r = requests.get(url, allow_redirects=True)\n",
    "open('smsspamcollection.zip', 'wb').write(r.content)\n",
    "fname = 'smsspamcollection.zip'"
   ]
  },
  {
   "cell_type": "code",
   "execution_count": 3,
   "metadata": {},
   "outputs": [
    {
     "name": "stdout",
     "output_type": "stream",
     "text": [
      "File Name                                             Modified             Size\n",
      "SMSSpamCollection                              2011-03-15 22:36:02       477907\n",
      "readme                                         2011-04-18 14:53:56         5868\n",
      "Extraction Complete!\n"
     ]
    }
   ],
   "source": [
    "#Extract the zipped file\n",
    "with ZipFile(fname, 'r') as nip: \n",
    "    nip.printdir() \n",
    "     \n",
    "    nip.extractall() \n",
    "    print('Extraction Complete!') "
   ]
  },
  {
   "cell_type": "code",
   "execution_count": 4,
   "metadata": {},
   "outputs": [],
   "source": [
    "#Load Data\n",
    "data = pd.read_csv(\"./SMSSpamCollection\", sep='\\t', header=None, names=['label','Text'])"
   ]
  },
  {
   "cell_type": "code",
   "execution_count": 5,
   "metadata": {},
   "outputs": [
    {
     "data": {
      "text/html": [
       "<div>\n",
       "<style scoped>\n",
       "    .dataframe tbody tr th:only-of-type {\n",
       "        vertical-align: middle;\n",
       "    }\n",
       "\n",
       "    .dataframe tbody tr th {\n",
       "        vertical-align: top;\n",
       "    }\n",
       "\n",
       "    .dataframe thead th {\n",
       "        text-align: right;\n",
       "    }\n",
       "</style>\n",
       "<table border=\"1\" class=\"dataframe\">\n",
       "  <thead>\n",
       "    <tr style=\"text-align: right;\">\n",
       "      <th></th>\n",
       "      <th>label</th>\n",
       "      <th>Text</th>\n",
       "    </tr>\n",
       "  </thead>\n",
       "  <tbody>\n",
       "    <tr>\n",
       "      <th>0</th>\n",
       "      <td>ham</td>\n",
       "      <td>Go until jurong point, crazy.. Available only in bugis n great world la e buffet... Cine there g...</td>\n",
       "    </tr>\n",
       "    <tr>\n",
       "      <th>1</th>\n",
       "      <td>ham</td>\n",
       "      <td>Ok lar... Joking wif u oni...</td>\n",
       "    </tr>\n",
       "    <tr>\n",
       "      <th>2</th>\n",
       "      <td>spam</td>\n",
       "      <td>Free entry in 2 a wkly comp to win FA Cup final tkts 21st May 2005. Text FA to 87121 to receive ...</td>\n",
       "    </tr>\n",
       "    <tr>\n",
       "      <th>3</th>\n",
       "      <td>ham</td>\n",
       "      <td>U dun say so early hor... U c already then say...</td>\n",
       "    </tr>\n",
       "    <tr>\n",
       "      <th>4</th>\n",
       "      <td>ham</td>\n",
       "      <td>Nah I don't think he goes to usf, he lives around here though</td>\n",
       "    </tr>\n",
       "  </tbody>\n",
       "</table>\n",
       "</div>"
      ],
      "text/plain": [
       "  label  \\\n",
       "0   ham   \n",
       "1   ham   \n",
       "2  spam   \n",
       "3   ham   \n",
       "4   ham   \n",
       "\n",
       "                                                                                                  Text  \n",
       "0  Go until jurong point, crazy.. Available only in bugis n great world la e buffet... Cine there g...  \n",
       "1                                                                        Ok lar... Joking wif u oni...  \n",
       "2  Free entry in 2 a wkly comp to win FA Cup final tkts 21st May 2005. Text FA to 87121 to receive ...  \n",
       "3                                                    U dun say so early hor... U c already then say...  \n",
       "4                                        Nah I don't think he goes to usf, he lives around here though  "
      ]
     },
     "execution_count": 5,
     "metadata": {},
     "output_type": "execute_result"
    }
   ],
   "source": [
    "data.head()"
   ]
  },
  {
   "cell_type": "code",
   "execution_count": 6,
   "metadata": {},
   "outputs": [
    {
     "name": "stdout",
     "output_type": "stream",
     "text": [
      "The data is made up of 5572 examples \n"
     ]
    }
   ],
   "source": [
    "print(f'The data is made up of {data.shape[0]} examples ')"
   ]
  },
  {
   "cell_type": "code",
   "execution_count": 7,
   "metadata": {},
   "outputs": [
    {
     "data": {
      "image/png": "[encoded data removed]",
      "text/plain": [
       "<Figure size 432x288 with 1 Axes>"
      ]
     },
     "metadata": {
      "needs_background": "light"
     },
     "output_type": "display_data"
    }
   ],
   "source": [
    "sns.countplot(data.label)\n",
    "plt.show()"
   ]
  },
  {
   "cell_type": "code",
   "execution_count": 8,
   "metadata": {},
   "outputs": [
    {
     "name": "stdout",
     "output_type": "stream",
     "text": [
      "4825 examples classed as ham. 747 examples classed as spam\n"
     ]
    }
   ],
   "source": [
    "len_ham  = data[data['label']=='ham'].count()[0]\n",
    "len_spam = data[data['label']=='spam'].count()[0]\n",
    "print(f'{len_ham} examples classed as ham. {len_spam} examples classed as spam')"
   ]
  },
  {
   "cell_type": "markdown",
   "metadata": {},
   "source": [
    "# Uneven Length Sequences"
   ]
  },
  {
   "cell_type": "code",
   "execution_count": 9,
   "metadata": {},
   "outputs": [],
   "source": [
    "#Extract the length of each example\n",
    "lenData = np.zeros((len(data),1))\n",
    "for i in range(len(data)):\n",
    "    lenData[i] = len(data.Text[i])"
   ]
  },
  {
   "cell_type": "code",
   "execution_count": 10,
   "metadata": {},
   "outputs": [
    {
     "data": {
      "image/png": "[encoded data removed]",
      "text/plain": [
       "<Figure size 432x288 with 1 Axes>"
      ]
     },
     "metadata": {
      "needs_background": "light"
     },
     "output_type": "display_data"
    }
   ],
   "source": [
    "#Plot a histogram showing the distribution of the variable length\n",
    "plt.hist(lenData);\n",
    "plt.title('Distribution of variable length examples');"
   ]
  },
  {
   "cell_type": "markdown",
   "metadata": {},
   "source": [
    "### Clean Data\n",
    "\n",
    " - Remove punctuation\n",
    " - Tokenize the strings\n",
    " - Remove stop words"
   ]
  },
  {
   "cell_type": "code",
   "execution_count": 11,
   "metadata": {},
   "outputs": [
    {
     "data": {
      "text/html": [
       "<div>\n",
       "<style scoped>\n",
       "    .dataframe tbody tr th:only-of-type {\n",
       "        vertical-align: middle;\n",
       "    }\n",
       "\n",
       "    .dataframe tbody tr th {\n",
       "        vertical-align: top;\n",
       "    }\n",
       "\n",
       "    .dataframe thead th {\n",
       "        text-align: right;\n",
       "    }\n",
       "</style>\n",
       "<table border=\"1\" class=\"dataframe\">\n",
       "  <thead>\n",
       "    <tr style=\"text-align: right;\">\n",
       "      <th></th>\n",
       "      <th>label</th>\n",
       "      <th>Text</th>\n",
       "      <th>Text_cleaned</th>\n",
       "    </tr>\n",
       "  </thead>\n",
       "  <tbody>\n",
       "    <tr>\n",
       "      <th>0</th>\n",
       "      <td>ham</td>\n",
       "      <td>Go until jurong point, crazy.. Available only in bugis n great world la e buffet... Cine there g...</td>\n",
       "      <td>[Go, jurong, point, crazy, Available, bugis, n, great, world, la, e, buffet, Cine, got, amore, wat]</td>\n",
       "    </tr>\n",
       "    <tr>\n",
       "      <th>1</th>\n",
       "      <td>ham</td>\n",
       "      <td>Ok lar... Joking wif u oni...</td>\n",
       "      <td>[Ok, lar, Joking, wif, u, oni]</td>\n",
       "    </tr>\n",
       "    <tr>\n",
       "      <th>2</th>\n",
       "      <td>spam</td>\n",
       "      <td>Free entry in 2 a wkly comp to win FA Cup final tkts 21st May 2005. Text FA to 87121 to receive ...</td>\n",
       "      <td>[Free, entry, 2, wkly, comp, win, FA, Cup, final, tkts, 21st, May, 2005, Text, FA, 87121, receiv...</td>\n",
       "    </tr>\n",
       "    <tr>\n",
       "      <th>3</th>\n",
       "      <td>ham</td>\n",
       "      <td>U dun say so early hor... U c already then say...</td>\n",
       "      <td>[U, dun, say, early, hor, U, c, already, say]</td>\n",
       "    </tr>\n",
       "    <tr>\n",
       "      <th>4</th>\n",
       "      <td>ham</td>\n",
       "      <td>Nah I don't think he goes to usf, he lives around here though</td>\n",
       "      <td>[Nah, I, dont, think, goes, usf, lives, around, though]</td>\n",
       "    </tr>\n",
       "    <tr>\n",
       "      <th>5</th>\n",
       "      <td>spam</td>\n",
       "      <td>FreeMsg Hey there darling it's been 3 week's now and no word back! I'd like some fun you up for ...</td>\n",
       "      <td>[FreeMsg, Hey, darling, 3, weeks, word, back, Id, like, fun, still, Tb, ok, XxX, std, chgs, send...</td>\n",
       "    </tr>\n",
       "    <tr>\n",
       "      <th>6</th>\n",
       "      <td>ham</td>\n",
       "      <td>Even my brother is not like to speak with me. They treat me like aids patent.</td>\n",
       "      <td>[Even, brother, like, speak, They, treat, like, aids, patent]</td>\n",
       "    </tr>\n",
       "    <tr>\n",
       "      <th>7</th>\n",
       "      <td>ham</td>\n",
       "      <td>As per your request 'Melle Melle (Oru Minnaminunginte Nurungu Vettam)' has been set as your call...</td>\n",
       "      <td>[As, per, request, Melle, Melle, Oru, Minnaminunginte, Nurungu, Vettam, set, callertune, Callers...</td>\n",
       "    </tr>\n",
       "    <tr>\n",
       "      <th>8</th>\n",
       "      <td>spam</td>\n",
       "      <td>WINNER!! As a valued network customer you have been selected to receivea £900 prize reward! To c...</td>\n",
       "      <td>[WINNER, As, valued, network, customer, selected, receivea, 900, prize, reward, To, claim, call,...</td>\n",
       "    </tr>\n",
       "    <tr>\n",
       "      <th>9</th>\n",
       "      <td>spam</td>\n",
       "      <td>Had your mobile 11 months or more? U R entitled to Update to the latest colour mobiles with came...</td>\n",
       "      <td>[Had, mobile, 11, months, U, R, entitled, Update, latest, colour, mobiles, camera, Free, Call, T...</td>\n",
       "    </tr>\n",
       "  </tbody>\n",
       "</table>\n",
       "</div>"
      ],
      "text/plain": [
       "  label  \\\n",
       "0   ham   \n",
       "1   ham   \n",
       "2  spam   \n",
       "3   ham   \n",
       "4   ham   \n",
       "5  spam   \n",
       "6   ham   \n",
       "7   ham   \n",
       "8  spam   \n",
       "9  spam   \n",
       "\n",
       "                                                                                                  Text  \\\n",
       "0  Go until jurong point, crazy.. Available only in bugis n great world la e buffet... Cine there g...   \n",
       "1                                                                        Ok lar... Joking wif u oni...   \n",
       "2  Free entry in 2 a wkly comp to win FA Cup final tkts 21st May 2005. Text FA to 87121 to receive ...   \n",
       "3                                                    U dun say so early hor... U c already then say...   \n",
       "4                                        Nah I don't think he goes to usf, he lives around here though   \n",
       "5  FreeMsg Hey there darling it's been 3 week's now and no word back! I'd like some fun you up for ...   \n",
       "6                        Even my brother is not like to speak with me. They treat me like aids patent.   \n",
       "7  As per your request 'Melle Melle (Oru Minnaminunginte Nurungu Vettam)' has been set as your call...   \n",
       "8  WINNER!! As a valued network customer you have been selected to receivea £900 prize reward! To c...   \n",
       "9  Had your mobile 11 months or more? U R entitled to Update to the latest colour mobiles with came...   \n",
       "\n",
       "                                                                                          Text_cleaned  \n",
       "0  [Go, jurong, point, crazy, Available, bugis, n, great, world, la, e, buffet, Cine, got, amore, wat]  \n",
       "1                                                                       [Ok, lar, Joking, wif, u, oni]  \n",
       "2  [Free, entry, 2, wkly, comp, win, FA, Cup, final, tkts, 21st, May, 2005, Text, FA, 87121, receiv...  \n",
       "3                                                        [U, dun, say, early, hor, U, c, already, say]  \n",
       "4                                              [Nah, I, dont, think, goes, usf, lives, around, though]  \n",
       "5  [FreeMsg, Hey, darling, 3, weeks, word, back, Id, like, fun, still, Tb, ok, XxX, std, chgs, send...  \n",
       "6                                        [Even, brother, like, speak, They, treat, like, aids, patent]  \n",
       "7  [As, per, request, Melle, Melle, Oru, Minnaminunginte, Nurungu, Vettam, set, callertune, Callers...  \n",
       "8  [WINNER, As, valued, network, customer, selected, receivea, 900, prize, reward, To, claim, call,...  \n",
       "9  [Had, mobile, 11, months, U, R, entitled, Update, latest, colour, mobiles, camera, Free, Call, T...  "
      ]
     },
     "execution_count": 11,
     "metadata": {},
     "output_type": "execute_result"
    }
   ],
   "source": [
    "data['Text_cleaned'] = data['Text'].apply(lambda x: clean_text(x)) #Applies the function to each row\n",
    "data.head(10)"
   ]
  },
  {
   "cell_type": "markdown",
   "metadata": {},
   "source": [
    "### Apply Stemming"
   ]
  },
  {
   "cell_type": "code",
   "execution_count": 12,
   "metadata": {},
   "outputs": [],
   "source": [
    "# ['Porter','Lancaster']\n",
    "Stemmer = 'Porter'"
   ]
  },
  {
   "cell_type": "code",
   "execution_count": 13,
   "metadata": {},
   "outputs": [
    {
     "data": {
      "text/html": [
       "<div>\n",
       "<style scoped>\n",
       "    .dataframe tbody tr th:only-of-type {\n",
       "        vertical-align: middle;\n",
       "    }\n",
       "\n",
       "    .dataframe tbody tr th {\n",
       "        vertical-align: top;\n",
       "    }\n",
       "\n",
       "    .dataframe thead th {\n",
       "        text-align: right;\n",
       "    }\n",
       "</style>\n",
       "<table border=\"1\" class=\"dataframe\">\n",
       "  <thead>\n",
       "    <tr style=\"text-align: right;\">\n",
       "      <th></th>\n",
       "      <th>label</th>\n",
       "      <th>Text</th>\n",
       "      <th>Text_cleaned</th>\n",
       "      <th>Text_stemmed</th>\n",
       "    </tr>\n",
       "  </thead>\n",
       "  <tbody>\n",
       "    <tr>\n",
       "      <th>0</th>\n",
       "      <td>ham</td>\n",
       "      <td>Go until jurong point, crazy.. Available only in bugis n great world la e buffet... Cine there g...</td>\n",
       "      <td>[Go, jurong, point, crazy, Available, bugis, n, great, world, la, e, buffet, Cine, got, amore, wat]</td>\n",
       "      <td>[Go, jurong, point, crazi, avail, bugi, n, great, world, la, e, buffet, cine, got, amor, wat]</td>\n",
       "    </tr>\n",
       "    <tr>\n",
       "      <th>1</th>\n",
       "      <td>ham</td>\n",
       "      <td>Ok lar... Joking wif u oni...</td>\n",
       "      <td>[Ok, lar, Joking, wif, u, oni]</td>\n",
       "      <td>[Ok, lar, joke, wif, u, oni]</td>\n",
       "    </tr>\n",
       "    <tr>\n",
       "      <th>2</th>\n",
       "      <td>spam</td>\n",
       "      <td>Free entry in 2 a wkly comp to win FA Cup final tkts 21st May 2005. Text FA to 87121 to receive ...</td>\n",
       "      <td>[Free, entry, 2, wkly, comp, win, FA, Cup, final, tkts, 21st, May, 2005, Text, FA, 87121, receiv...</td>\n",
       "      <td>[free, entri, 2, wkli, comp, win, FA, cup, final, tkt, 21st, may, 2005, text, FA, 87121, receiv,...</td>\n",
       "    </tr>\n",
       "    <tr>\n",
       "      <th>3</th>\n",
       "      <td>ham</td>\n",
       "      <td>U dun say so early hor... U c already then say...</td>\n",
       "      <td>[U, dun, say, early, hor, U, c, already, say]</td>\n",
       "      <td>[U, dun, say, earli, hor, U, c, alreadi, say]</td>\n",
       "    </tr>\n",
       "    <tr>\n",
       "      <th>4</th>\n",
       "      <td>ham</td>\n",
       "      <td>Nah I don't think he goes to usf, he lives around here though</td>\n",
       "      <td>[Nah, I, dont, think, goes, usf, lives, around, though]</td>\n",
       "      <td>[nah, I, dont, think, goe, usf, live, around, though]</td>\n",
       "    </tr>\n",
       "  </tbody>\n",
       "</table>\n",
       "</div>"
      ],
      "text/plain": [
       "  label  \\\n",
       "0   ham   \n",
       "1   ham   \n",
       "2  spam   \n",
       "3   ham   \n",
       "4   ham   \n",
       "\n",
       "                                                                                                  Text  \\\n",
       "0  Go until jurong point, crazy.. Available only in bugis n great world la e buffet... Cine there g...   \n",
       "1                                                                        Ok lar... Joking wif u oni...   \n",
       "2  Free entry in 2 a wkly comp to win FA Cup final tkts 21st May 2005. Text FA to 87121 to receive ...   \n",
       "3                                                    U dun say so early hor... U c already then say...   \n",
       "4                                        Nah I don't think he goes to usf, he lives around here though   \n",
       "\n",
       "                                                                                          Text_cleaned  \\\n",
       "0  [Go, jurong, point, crazy, Available, bugis, n, great, world, la, e, buffet, Cine, got, amore, wat]   \n",
       "1                                                                       [Ok, lar, Joking, wif, u, oni]   \n",
       "2  [Free, entry, 2, wkly, comp, win, FA, Cup, final, tkts, 21st, May, 2005, Text, FA, 87121, receiv...   \n",
       "3                                                        [U, dun, say, early, hor, U, c, already, say]   \n",
       "4                                              [Nah, I, dont, think, goes, usf, lives, around, though]   \n",
       "\n",
       "                                                                                          Text_stemmed  \n",
       "0        [Go, jurong, point, crazi, avail, bugi, n, great, world, la, e, buffet, cine, got, amor, wat]  \n",
       "1                                                                         [Ok, lar, joke, wif, u, oni]  \n",
       "2  [free, entri, 2, wkli, comp, win, FA, cup, final, tkt, 21st, may, 2005, text, FA, 87121, receiv,...  \n",
       "3                                                        [U, dun, say, earli, hor, U, c, alreadi, say]  \n",
       "4                                                [nah, I, dont, think, goe, usf, live, around, though]  "
      ]
     },
     "execution_count": 13,
     "metadata": {},
     "output_type": "execute_result"
    }
   ],
   "source": [
    "data['Text_stemmed'] = data['Text_cleaned'].apply(lambda x: stemming(x,Stemmer))\n",
    "data.head()"
   ]
  },
  {
   "cell_type": "markdown",
   "metadata": {},
   "source": [
    "### Lemmatize the data"
   ]
  },
  {
   "cell_type": "code",
   "execution_count": 14,
   "metadata": {},
   "outputs": [
    {
     "data": {
      "text/html": [
       "<div>\n",
       "<style scoped>\n",
       "    .dataframe tbody tr th:only-of-type {\n",
       "        vertical-align: middle;\n",
       "    }\n",
       "\n",
       "    .dataframe tbody tr th {\n",
       "        vertical-align: top;\n",
       "    }\n",
       "\n",
       "    .dataframe thead th {\n",
       "        text-align: right;\n",
       "    }\n",
       "</style>\n",
       "<table border=\"1\" class=\"dataframe\">\n",
       "  <thead>\n",
       "    <tr style=\"text-align: right;\">\n",
       "      <th></th>\n",
       "      <th>label</th>\n",
       "      <th>Text</th>\n",
       "      <th>Text_cleaned</th>\n",
       "      <th>Text_stemmed</th>\n",
       "      <th>Text_lemmatized</th>\n",
       "    </tr>\n",
       "  </thead>\n",
       "  <tbody>\n",
       "    <tr>\n",
       "      <th>0</th>\n",
       "      <td>ham</td>\n",
       "      <td>Go until jurong point, crazy.. Available only in bugis n great world la e buffet... Cine there g...</td>\n",
       "      <td>[Go, jurong, point, crazy, Available, bugis, n, great, world, la, e, buffet, Cine, got, amore, wat]</td>\n",
       "      <td>[Go, jurong, point, crazi, avail, bugi, n, great, world, la, e, buffet, cine, got, amor, wat]</td>\n",
       "      <td>[Go, jurong, point, crazi, avail, bugi, n, great, world, la, e, buffet, cine, got, amor, wat]</td>\n",
       "    </tr>\n",
       "    <tr>\n",
       "      <th>1</th>\n",
       "      <td>ham</td>\n",
       "      <td>Ok lar... Joking wif u oni...</td>\n",
       "      <td>[Ok, lar, Joking, wif, u, oni]</td>\n",
       "      <td>[Ok, lar, joke, wif, u, oni]</td>\n",
       "      <td>[Ok, lar, joke, wif, u, oni]</td>\n",
       "    </tr>\n",
       "    <tr>\n",
       "      <th>2</th>\n",
       "      <td>spam</td>\n",
       "      <td>Free entry in 2 a wkly comp to win FA Cup final tkts 21st May 2005. Text FA to 87121 to receive ...</td>\n",
       "      <td>[Free, entry, 2, wkly, comp, win, FA, Cup, final, tkts, 21st, May, 2005, Text, FA, 87121, receiv...</td>\n",
       "      <td>[free, entri, 2, wkli, comp, win, FA, cup, final, tkt, 21st, may, 2005, text, FA, 87121, receiv,...</td>\n",
       "      <td>[free, entri, 2, wkli, comp, win, FA, cup, final, tkt, 21st, may, 2005, text, FA, 87121, receiv,...</td>\n",
       "    </tr>\n",
       "    <tr>\n",
       "      <th>3</th>\n",
       "      <td>ham</td>\n",
       "      <td>U dun say so early hor... U c already then say...</td>\n",
       "      <td>[U, dun, say, early, hor, U, c, already, say]</td>\n",
       "      <td>[U, dun, say, earli, hor, U, c, alreadi, say]</td>\n",
       "      <td>[U, dun, say, earli, hor, U, c, alreadi, say]</td>\n",
       "    </tr>\n",
       "    <tr>\n",
       "      <th>4</th>\n",
       "      <td>ham</td>\n",
       "      <td>Nah I don't think he goes to usf, he lives around here though</td>\n",
       "      <td>[Nah, I, dont, think, goes, usf, lives, around, though]</td>\n",
       "      <td>[nah, I, dont, think, goe, usf, live, around, though]</td>\n",
       "      <td>[nah, I, dont, think, goe, usf, live, around, though]</td>\n",
       "    </tr>\n",
       "  </tbody>\n",
       "</table>\n",
       "</div>"
      ],
      "text/plain": [
       "  label  \\\n",
       "0   ham   \n",
       "1   ham   \n",
       "2  spam   \n",
       "3   ham   \n",
       "4   ham   \n",
       "\n",
       "                                                                                                  Text  \\\n",
       "0  Go until jurong point, crazy.. Available only in bugis n great world la e buffet... Cine there g...   \n",
       "1                                                                        Ok lar... Joking wif u oni...   \n",
       "2  Free entry in 2 a wkly comp to win FA Cup final tkts 21st May 2005. Text FA to 87121 to receive ...   \n",
       "3                                                    U dun say so early hor... U c already then say...   \n",
       "4                                        Nah I don't think he goes to usf, he lives around here though   \n",
       "\n",
       "                                                                                          Text_cleaned  \\\n",
       "0  [Go, jurong, point, crazy, Available, bugis, n, great, world, la, e, buffet, Cine, got, amore, wat]   \n",
       "1                                                                       [Ok, lar, Joking, wif, u, oni]   \n",
       "2  [Free, entry, 2, wkly, comp, win, FA, Cup, final, tkts, 21st, May, 2005, Text, FA, 87121, receiv...   \n",
       "3                                                        [U, dun, say, early, hor, U, c, already, say]   \n",
       "4                                              [Nah, I, dont, think, goes, usf, lives, around, though]   \n",
       "\n",
       "                                                                                          Text_stemmed  \\\n",
       "0        [Go, jurong, point, crazi, avail, bugi, n, great, world, la, e, buffet, cine, got, amor, wat]   \n",
       "1                                                                         [Ok, lar, joke, wif, u, oni]   \n",
       "2  [free, entri, 2, wkli, comp, win, FA, cup, final, tkt, 21st, may, 2005, text, FA, 87121, receiv,...   \n",
       "3                                                        [U, dun, say, earli, hor, U, c, alreadi, say]   \n",
       "4                                                [nah, I, dont, think, goe, usf, live, around, though]   \n",
       "\n",
       "                                                                                       Text_lemmatized  \n",
       "0        [Go, jurong, point, crazi, avail, bugi, n, great, world, la, e, buffet, cine, got, amor, wat]  \n",
       "1                                                                         [Ok, lar, joke, wif, u, oni]  \n",
       "2  [free, entri, 2, wkli, comp, win, FA, cup, final, tkt, 21st, may, 2005, text, FA, 87121, receiv,...  \n",
       "3                                                        [U, dun, say, earli, hor, U, c, alreadi, say]  \n",
       "4                                                [nah, I, dont, think, goe, usf, live, around, though]  "
      ]
     },
     "execution_count": 14,
     "metadata": {},
     "output_type": "execute_result"
    }
   ],
   "source": [
    "data['Text_lemmatized'] = data['Text_stemmed'].apply(lambda x: lemmatizing(x))\n",
    "\n",
    "data.head()"
   ]
  },
  {
   "cell_type": "markdown",
   "metadata": {},
   "source": [
    "### Change labels from ham to -1 and spam to 1"
   ]
  },
  {
   "cell_type": "code",
   "execution_count": 15,
   "metadata": {},
   "outputs": [],
   "source": [
    "data.replace({'label': {'ham': 0, 'spam': 1}}, inplace=True)"
   ]
  },
  {
   "cell_type": "code",
   "execution_count": 16,
   "metadata": {},
   "outputs": [
    {
     "data": {
      "text/html": [
       "<div>\n",
       "<style scoped>\n",
       "    .dataframe tbody tr th:only-of-type {\n",
       "        vertical-align: middle;\n",
       "    }\n",
       "\n",
       "    .dataframe tbody tr th {\n",
       "        vertical-align: top;\n",
       "    }\n",
       "\n",
       "    .dataframe thead th {\n",
       "        text-align: right;\n",
       "    }\n",
       "</style>\n",
       "<table border=\"1\" class=\"dataframe\">\n",
       "  <thead>\n",
       "    <tr style=\"text-align: right;\">\n",
       "      <th></th>\n",
       "      <th>label</th>\n",
       "      <th>Text</th>\n",
       "      <th>Text_cleaned</th>\n",
       "      <th>Text_stemmed</th>\n",
       "      <th>Text_lemmatized</th>\n",
       "    </tr>\n",
       "  </thead>\n",
       "  <tbody>\n",
       "    <tr>\n",
       "      <th>5567</th>\n",
       "      <td>1</td>\n",
       "      <td>This is the 2nd time we have tried 2 contact u. U have won the £750 Pound prize. 2 claim is easy...</td>\n",
       "      <td>[This, 2nd, time, tried, 2, contact, u, U, 750, Pound, prize, 2, claim, easy, call, 087187272008...</td>\n",
       "      <td>[thi, 2nd, time, tri, 2, contact, u, U, 750, pound, prize, 2, claim, easi, call, 087187272008, n...</td>\n",
       "      <td>[thi, 2nd, time, tri, 2, contact, u, U, 750, pound, prize, 2, claim, easi, call, 087187272008, n...</td>\n",
       "    </tr>\n",
       "    <tr>\n",
       "      <th>5568</th>\n",
       "      <td>0</td>\n",
       "      <td>Will ü b going to esplanade fr home?</td>\n",
       "      <td>[Will, ü, b, going, esplanade, fr, home]</td>\n",
       "      <td>[will, ü, b, go, esplanad, fr, home]</td>\n",
       "      <td>[will, ü, b, go, esplanad, fr, home]</td>\n",
       "    </tr>\n",
       "    <tr>\n",
       "      <th>5569</th>\n",
       "      <td>0</td>\n",
       "      <td>Pity, * was in mood for that. So...any other suggestions?</td>\n",
       "      <td>[Pity, mood, Soany, suggestions]</td>\n",
       "      <td>[piti, mood, soani, suggest]</td>\n",
       "      <td>[piti, mood, soani, suggest]</td>\n",
       "    </tr>\n",
       "    <tr>\n",
       "      <th>5570</th>\n",
       "      <td>0</td>\n",
       "      <td>The guy did some bitching but I acted like i'd be interested in buying something else next week ...</td>\n",
       "      <td>[The, guy, bitching, I, acted, like, id, interested, buying, something, else, next, week, gave, ...</td>\n",
       "      <td>[the, guy, bitch, I, act, like, id, interest, buy, someth, els, next, week, gave, us, free]</td>\n",
       "      <td>[the, guy, bitch, I, act, like, id, interest, buy, someth, el, next, week, gave, u, free]</td>\n",
       "    </tr>\n",
       "    <tr>\n",
       "      <th>5571</th>\n",
       "      <td>0</td>\n",
       "      <td>Rofl. Its true to its name</td>\n",
       "      <td>[Rofl, Its, true, name]</td>\n",
       "      <td>[rofl, it, true, name]</td>\n",
       "      <td>[rofl, it, true, name]</td>\n",
       "    </tr>\n",
       "  </tbody>\n",
       "</table>\n",
       "</div>"
      ],
      "text/plain": [
       "      label  \\\n",
       "5567      1   \n",
       "5568      0   \n",
       "5569      0   \n",
       "5570      0   \n",
       "5571      0   \n",
       "\n",
       "                                                                                                     Text  \\\n",
       "5567  This is the 2nd time we have tried 2 contact u. U have won the £750 Pound prize. 2 claim is easy...   \n",
       "5568                                                                 Will ü b going to esplanade fr home?   \n",
       "5569                                            Pity, * was in mood for that. So...any other suggestions?   \n",
       "5570  The guy did some bitching but I acted like i'd be interested in buying something else next week ...   \n",
       "5571                                                                           Rofl. Its true to its name   \n",
       "\n",
       "                                                                                             Text_cleaned  \\\n",
       "5567  [This, 2nd, time, tried, 2, contact, u, U, 750, Pound, prize, 2, claim, easy, call, 087187272008...   \n",
       "5568                                                             [Will, ü, b, going, esplanade, fr, home]   \n",
       "5569                                                                     [Pity, mood, Soany, suggestions]   \n",
       "5570  [The, guy, bitching, I, acted, like, id, interested, buying, something, else, next, week, gave, ...   \n",
       "5571                                                                              [Rofl, Its, true, name]   \n",
       "\n",
       "                                                                                             Text_stemmed  \\\n",
       "5567  [thi, 2nd, time, tri, 2, contact, u, U, 750, pound, prize, 2, claim, easi, call, 087187272008, n...   \n",
       "5568                                                                 [will, ü, b, go, esplanad, fr, home]   \n",
       "5569                                                                         [piti, mood, soani, suggest]   \n",
       "5570          [the, guy, bitch, I, act, like, id, interest, buy, someth, els, next, week, gave, us, free]   \n",
       "5571                                                                               [rofl, it, true, name]   \n",
       "\n",
       "                                                                                          Text_lemmatized  \n",
       "5567  [thi, 2nd, time, tri, 2, contact, u, U, 750, pound, prize, 2, claim, easi, call, 087187272008, n...  \n",
       "5568                                                                 [will, ü, b, go, esplanad, fr, home]  \n",
       "5569                                                                         [piti, mood, soani, suggest]  \n",
       "5570            [the, guy, bitch, I, act, like, id, interest, buy, someth, el, next, week, gave, u, free]  \n",
       "5571                                                                               [rofl, it, true, name]  "
      ]
     },
     "execution_count": 16,
     "metadata": {},
     "output_type": "execute_result"
    }
   ],
   "source": [
    "data.tail()"
   ]
  },
  {
   "cell_type": "code",
   "execution_count": 17,
   "metadata": {},
   "outputs": [
    {
     "name": "stdout",
     "output_type": "stream",
     "text": [
      "\u001b[92m\n",
      "Does not operate after  &lt;#&gt;  or what\n",
      "\u001b[90mRaw_Text\n",
      "\u001b[94m\n",
      "['Does', 'operate', 'ltgt']\n",
      "\u001b[90mCleaned to tokenize, remove punctuation and stopwords\n",
      "\u001b[96m\n",
      "['doe', 'oper', 'ltgt']\n",
      "\u001b[90mStemmed with Porter stemmer\n",
      "\u001b[91m\n",
      "['doe', 'oper', 'ltgt']\n",
      "\u001b[90mLemmatized with WordNetLemmatizer\n"
     ]
    }
   ],
   "source": [
    "sample=78 #Change to view sample data\n",
    "\n",
    "print('\\033[92m')\n",
    "print(data.Text[sample])\n",
    "print('\\033[90m'+ 'Raw_Text')\n",
    "\n",
    "print('\\033[94m')\n",
    "print(data.Text_cleaned[sample])\n",
    "print('\\033[90m'+ 'Cleaned to tokenize, remove punctuation and stopwords')\n",
    "\n",
    "print('\\033[96m')\n",
    "print(data.Text_stemmed[sample])\n",
    "print('\\033[90m'+ 'Stemmed with Porter stemmer')\n",
    "\n",
    "print('\\033[91m')\n",
    "print(data.Text_lemmatized[sample])\n",
    "print('\\033[90m'+ 'Lemmatized with WordNetLemmatizer')"
   ]
  },
  {
   "cell_type": "markdown",
   "metadata": {},
   "source": [
    "### Extract predictor variables and target label"
   ]
  },
  {
   "cell_type": "code",
   "execution_count": 18,
   "metadata": {},
   "outputs": [],
   "source": [
    "Y = data.label.values.reshape(len(data),1)\n",
    "X = data.Text_stemmed.values.reshape(len(Y),1)  #data.iloc[:,4].values.shape"
   ]
  },
  {
   "cell_type": "code",
   "execution_count": 19,
   "metadata": {},
   "outputs": [
    {
     "name": "stdout",
     "output_type": "stream",
     "text": [
      "3343 training examples and 1 features\n",
      "1114 validation examples and 1 features\n",
      "1115 testing examples and 1 features\n"
     ]
    }
   ],
   "source": [
    "# Split data into Training, Test and Validation data sets\n",
    "xtr, xva, xte, ytr, yva, yte = splitdata(X, Y, 18, 0.60)"
   ]
  },
  {
   "cell_type": "code",
   "execution_count": 20,
   "metadata": {},
   "outputs": [
    {
     "name": "stdout",
     "output_type": "stream",
     "text": [
      "Training set has 431 positive and 2912 negative labels\n",
      "Validation set has 168 positive and 946 negative labels\n",
      "Test set has 148 positive and 967 negative labels\n",
      "\n",
      "\n"
     ]
    },
    {
     "data": {
      "image/png": "[encoded data removed]",
      "text/plain": [
       "<Figure size 1296x432 with 3 Axes>"
      ]
     },
     "metadata": {},
     "output_type": "display_data"
    },
    {
     "name": "stdout",
     "output_type": "stream",
     "text": [
      "\n",
      "\n",
      "\n",
      "\n"
     ]
    },
    {
     "data": {
      "image/png": "[encoded data removed]",
      "text/plain": [
       "<Figure size 720x360 with 1 Axes>"
      ]
     },
     "metadata": {
      "needs_background": "light"
     },
     "output_type": "display_data"
    }
   ],
   "source": [
    "plot_dataset_distrib(xtr, xva, xte, ytr, yva, yte)"
   ]
  },
  {
   "cell_type": "code",
   "execution_count": 21,
   "metadata": {},
   "outputs": [],
   "source": [
    "xtr2=xtr\n",
    "xva2=xva"
   ]
  },
  {
   "cell_type": "markdown",
   "metadata": {},
   "source": [
    "## Build Probabilistic Model\n",
    "We test generating a data frequency dictionary with samples from the training set. We assume this will be the only data available to us. Then possibly we update the dictionay and retest to see if this has any effects. "
   ]
  },
  {
   "cell_type": "code",
   "execution_count": 22,
   "metadata": {},
   "outputs": [],
   "source": [
    "data_freq = build_freq(xtr, ytr)"
   ]
  },
  {
   "cell_type": "code",
   "execution_count": 23,
   "metadata": {},
   "outputs": [
    {
     "data": {
      "text/plain": [
       "7041"
      ]
     },
     "execution_count": 23,
     "metadata": {},
     "output_type": "execute_result"
    }
   ],
   "source": [
    "len(data_freq)"
   ]
  },
  {
   "cell_type": "code",
   "execution_count": 24,
   "metadata": {},
   "outputs": [
    {
     "name": "stdout",
     "output_type": "stream",
     "text": [
      "{('Im', 0): 177, ('viveki', 0): 1, ('got', 0): 156, ('call', 0): 179, ('number', 0): 38, ('from', 0): 7, ('someon', 0): 30, ('smoke', 0): 14, ('everi', 0): 27, ('time', 0): 135, ('ive', 0): 52, ('last', 0): 33, ('two', 0): 19, ('week', 0): 41, ('text', 0): 54, ('want', 0): 134, ('ultim', 0): 1, ('tor', 0): 1, ('motiv', 0): 2, ('tui', 0): 1, ('achiev', 0): 1, ('korli', 0): 1, ('you', 0): 134, ('shitload', 0): 2, ('diamond', 0): 2, ('though', 0): 16, ('it', 0): 77, ('cool', 0): 22, ('littl', 0): 13, ('get', 0): 219, ('soon', 0): 40, ('what', 0): 81, ('u', 0): 462, ('wear', 0): 5, ('haha', 0): 29, ('where', 0): 27, ('fast', 0): 9, ('lose', 0): 19, ('weight', 0): 5, ('thk', 0): 24, ('muz', 0): 9, ('go', 0): 239, ('4', 0): 104, ('month', 0): 24, ('den', 0): 20, ('effect', 0): 3, ('geelat', 0): 1, ('aust', 0): 1, ('put', 0): 19, ('bk', 0): 1, ('e', 0): 45, ('unfortun', 0): 2, ('found', 0): 12, ('pick', 0): 48, ('sister', 0): 13, ('airport', 0): 3, ('even', 0): 50, ('dont', 0): 181, ('think', 0): 94, ('ill', 0): 152, ('We', 0): 45, ('tri', 0): 46, ('one', 0): 105, ('th', 0): 10, ('holi', 0): 2, ('live', 0): 16, ('christ', 0): 1, ('take', 0): 86, ('long', 0): 26, ('were', 0): 6, ('gonna', 0): 37, ('taco', 0): 2, ('how', 0): 105, ('mani', 0): 37, ('told', 0): 33, ('stage', 0): 1, ('use', 0): 34, ('laugh', 0): 12, ('listen', 0): 10, ('aha', 0): 3, ('simpl', 0): 8, ('love', 0): 149, ('also', 0): 44, ('win', 0): 14, ('tooo', 0): 1, ('but', 0): 88, ('be', 0): 1, ('difficult', 0): 7, ('', 0): 229, ('text', 1): 89, ('pass', 1): 4, ('69669', 1): 1, ('collect', 1): 29, ('polyphon', 1): 3, ('rington', 1): 23, ('normal', 1): 1, ('gpr', 1): 1, ('charg', 1): 19, ('appli', 1): 13, ('enjoy', 1): 9, ('tone', 1): 45, ('aight', 0): 18, ('grab', 0): 1, ('someth', 0): 44, ('eat', 0): 27, ('your', 0): 58, ('back', 0): 81, ('mu', 0): 12, ('let', 0): 62, ('snow', 0): 7, ('thi', 0): 33, ('kind', 0): 12, ('weather', 0): 6, ('bring', 0): 26, ('ppl', 0): 4, ('togeth', 0): 11, ('friendship', 0): 14, ('grow', 0): 1, ('just', 0): 62, ('forc', 0): 3, ('slice', 0): 3, ('realli', 0): 60, ('hungri', 0): 6, ('tho', 0): 8, ('suck', 0): 6, ('mark', 0): 3, ('worri', 0): 28, ('He', 0): 37, ('know', 0): 163, ('sick', 0): 3, ('I', 0): 889, ('turn', 0): 9, ('pizza', 0): 6, ('lol', 0): 39, ('wat', 0): 66, ('uniform', 0): 1, ('In', 0): 16, ('chk', 0): 1, ('ur', 0): 115, ('belovd', 0): 3, ('ms', 0): 1, ('dict', 0): 1, ('R', 0): 22, ('U', 0): 155, ('sam', 0): 2, ('P', 0): 4, ('IN', 0): 10, ('eachoth', 0): 1, ('IF', 0): 6, ('WE', 0): 4, ('meet', 0): 67, ('can', 0): 54, ('GO', 0): 5, ('2', 0): 182, ('MY', 0): 16, ('hous', 0): 23, ('dear', 0): 61, ('friend', 0): 51, ('sorri', 0): 94, ('late', 0): 35, ('inform', 0): 8, ('today', 0): 89, ('birthday', 0): 25, ('arpraveesh', 0): 1, ('detail', 0): 11, ('log', 0): 7, ('face', 0): 18, ('book', 0): 25, ('see', 0): 100, ('ltgt', 0): 163, ('miss', 0): 76, ('delici', 0): 1, ('treat', 0): 14, ('who', 0): 15, ('say', 0): 95, ('hi', 0): 29, ('drugdeal', 0): 1, ('K', 0): 30, ('make', 0): 84, ('sens', 0): 4, ('btw', 0): 3, ('carlo', 0): 8, ('guy', 0): 31, ('second', 0): 13, ('batch', 0): 1, ('ga', 0): 10, ('dude', 0): 16, ('sux', 0): 2, ('snake', 0): 1, ('old', 0): 13, ('raiden', 0): 1, ('buff', 0): 3, ('freez', 0): 3, ('crave', 0): 7, ('ice', 0): 5, ('fml', 0): 1, ('tmorrowpl', 0): 1, ('accomod', 0): 1, ('later', 0): 73, ('Go', 0): 7, ('fool', 0): 5, ('cheat', 0): 4, ('other', 0): 8, ('ok', 0): 73, ('you', 1): 55, ('stop', 1): 68, ('club', 1): 11, ('repli', 1): 61, ('mix', 1): 2, ('see', 1): 14, ('mytonecomenjoy', 1): 1, ('html', 1): 1, ('term', 1): 6, ('cost', 1): 22, ('gbp450week', 1): 1, ('mfl', 1): 1, ('PO', 1): 21, ('box', 1): 23, ('1146', 1): 1, ('mk45', 1): 2, ('2wt', 1): 2, ('23', 1): 1, ('lemm', 0): 6, ('swing', 0): 8, ('free', 0): 36, ('basic', 0): 6, ('1', 0): 28, ('semest', 0): 7, ('hitechn', 0): 1, ('supportprovid', 0): 1, ('assist', 0): 1, ('us', 0): 34, ('custom', 0): 6, ('email', 0): 13, ('piti', 0): 1, ('mood', 0): 5, ('soani', 0): 1, ('suggest', 0): 4, ('wine', 0): 6, ('dine', 0): 1, ('ladi', 0): 6, ('would', 0): 45, ('appreci', 0): 8, ('need', 0): 117, ('talk', 0): 37, ('Or', 0): 18, ('better', 0): 27, ('still', 0): 83, ('catch', 0): 5, ('ask', 0): 74, ('sell', 0): 12, ('will', 0): 26, ('part', 0): 10, ('tomorrow', 0): 52, ('could', 0): 26, ('starv', 0): 2, ('pound', 0): 4, ('end', 0): 29, ('day', 0): 128, ('urgent', 1): 37, ('your', 1): 46, ('mobil', 1): 78, ('number', 1): 21, ('award', 1): 30, ('2000', 1): 18, ('prize', 1): 56, ('guarante', 1): 29, ('call', 1): 213, ('09061790121', 1): 2, ('land', 1): 10, ('line', 1): 19, ('claim', 1): 60, ('3030', 1): 4, ('valid', 1): 10, ('12hr', 1): 8, ('150ppm', 1): 21, ('Nt', 0): 2, ('yet', 0): 23, ('chikkusimpl', 0): 1, ('habbahw', 0): 1, ('abt', 0): 20, ('Ok', 0): 90, ('lor', 0): 101, ('Am', 0): 15, ('okay', 0): 15, ('all', 0): 31, ('best', 0): 25, ('hello', 0): 25, ('st', 0): 6, ('andrewsboy', 0): 1, ('way', 0): 65, ('cold', 0): 4, ('keep', 0): 51, ('post', 0): 15, ('have', 0): 55, ('great', 0): 50, ('trip', 0): 14, ('india', 0): 7, ('and', 0): 66, ('light', 0): 11, ('everyon', 0): 13, ('project', 0): 8, ('lucki', 0): 6, ('smile', 0): 50, ('bye', 0): 2, ('abiola', 0): 4, ('about', 0): 4, ('It', 0): 39, ('that', 0): 94, ('good', 0): 124, ('ni8', 0): 7, ('town', 0): 12, ('lei', 0): 13, ('515pm', 0): 1, ('taunton', 0): 2, ('come', 0): 178, ('sent', 0): 40, ('mesag', 0): 2, ('hurt', 0): 21, ('fine', 0): 28, ('hope', 0): 73, ('Do', 0): 67, ('care', 0): 48, ('hmm', 0): 8, ('shall', 0): 13, ('bottl', 0): 3, ('amus', 0): 2, ('joke', 0): 13, ('red', 0): 2, ('white', 0): 4, ('kaiez', 0): 2, ('enjoy', 0): 22, ('tuition', 0): 3, ('gee', 0): 4, ('option', 0): 3, ('sound', 0): 15, ('beta', 0): 1, ('yan', 0): 3, ('jiu', 0): 3, ('msg', 0): 35, ('Me', 0): 11, ('wake', 0): 18, ('afternoon', 0): 16, ('sup', 0): 3, ('Is', 0): 34, ('avatar', 0): 2, ('suppos', 0): 6, ('subtoitl', 0): 1, ('lotta', 0): 1, ('corvett', 0): 1, ('Hi', 0): 48, ('juan', 0): 2, ('home', 0): 95, ('fri', 0): 8, ('hey', 0): 57, ('Of', 0): 5, ('cours', 0): 6, ('expect', 0): 7, ('welcom', 0): 6, ('parti', 0): 6, ('lot', 0): 27, ('present', 0): 3, ('phone', 0): 51, ('load', 0): 8, ('nicki', 0): 1, ('x', 0): 27, ('are', 0): 53, ('work', 0): 77, ('right', 0): 58, ('kdo', 0): 1, ('daurgent', 0): 1, ('howz', 0): 5, ('painit', 0): 1, ('todaydo', 0): 1, ('said', 0): 57, ('ystrdayic', 0): 1, ('medicin', 0): 2, ('danc', 0): 1, ('river', 0): 1, ('yeah', 0): 60, ('imma', 0): 5, ('caus', 0): 14, ('jay', 0): 8, ('drug', 0): 7, ('tell', 0): 68, ('rob', 0): 2, ('mack', 0): 1, ('gf', 0): 2, ('theater', 0): 1, ('thought', 0): 32, ('prap', 0): 1, ('meant', 0): 9, ('anoth', 0): 25, ('goodo', 0): 2, ('look', 0): 33, ('dare', 0): 3, ('ani', 0): 13, ('luck', 0): 5, ('sort', 0): 8, ('car', 0): 28, ('cash', 0): 7, ('nitro', 0): 2, ('hurri', 0): 5, ('crash', 0): 2, ('posibl', 0): 1, ('dnt', 0): 7, ('centuri', 0): 1, ('cm', 0): 1, ('frwd', 0): 1, ('n', 0): 87, ('thnk', 0): 4, ('differ', 0): 8, ('No', 0): 88, ('movi', 0): 18, ('laptop', 0): 9, ('solv', 0): 4, ('case', 0): 6, ('A', 0): 47, ('man', 0): 25, ('wa', 0): 20, ('murder', 0): 14, ('On', 0): 9, ('ltdecimalgt', 0): 13, ('1hi', 0): 2, ('wife', 0): 14, ('polic', 0): 4, ('2polic', 0): 2, ('question', 0): 15, ('3wife', 0): 2, ('siri', 0): 2, ('sleep', 0): 51, ('took', 0): 11, ('place', 0): 35, ('4cook', 0): 2, ('cook', 0): 4, ('5garden', 0): 2, ('veget', 0): 2, ('6housemaid', 0): 2, ('went', 0): 32, ('offic', 0): 15, ('7children', 0): 2, ('play', 0): 15, ('8neighbour', 0): 2, ('marriag', 0): 3, ('arrest', 0): 3, ('immedi', 0): 4, ('repli', 0): 28, ('with', 0): 11, ('reason', 0): 13, ('If', 0): 73, ('r', 0): 62, ('brilliant', 0): 3, ('So', 0): 76, ('anthoni', 0): 1, ('dad', 0): 19, ('bf', 0): 3, ('probabl', 0): 21, ('around', 0): 37, ('Ü', 0): 29, ('dun', 0): 38, ('hair', 0): 14, ('youll', 0): 8, ('read', 0): 22, ('v', 0): 15, ('somewhat', 0): 1, ('event', 0): 2, ('laden', 0): 1, ('fill', 0): 7, ('head', 0): 13, ('throat', 0): 3, ('wreck', 0): 1, ('six', 0): 1, ('shit', 0): 17, ('wasnt', 0): 7, ('surpris', 0): 8, ('spent', 0): 4, ('french', 0): 1, ('met', 0): 5, ('bit', 0): 24, ('didnt', 0): 51, ('fuck', 0): 29, ('nooooooo', 0): 1, ('bore', 0): 16, ('death', 0): 3, ('cabl', 0): 1, ('internet', 0): 3, ('outag', 0): 2, ('HI', 0): 10, ('darlin', 0): 11, ('kate', 0): 8, ('UP', 0): 10, ('for', 0): 13, ('doin', 0): 7, ('somethin', 0): 3, ('tonight', 0): 36, ('IM', 0): 18, ('TO', 0): 6, ('pub', 0): 11, ('the', 0): 51, ('swan', 0): 1, ('OR', 0): 2, ('parent', 0): 13, ('drink', 0): 15, ('SO', 0): 9, ('ME', 0): 24, ('Dr', 0): 1, ('appt', 0): 3, ('next', 0): 26, ('she', 0): 46, ('die', 0): 12, ('check', 0): 33, ('noth', 0): 24, ('how', 1): 4, ('come', 1): 3, ('take', 1): 14, ('littl', 1): 2, ('time', 1): 10, ('child', 1): 1, ('afraid', 1): 1, ('dark', 1): 1, ('becom', 1): 1, ('teenag', 1): 1, ('want', 1): 17, ('stay', 1): 2, ('night', 1): 4, ('Ki', 0): 2, ('send', 0): 84, ('min', 0): 24, ('pleas', 1): 35, ('09061743811', 1): 1, ('landlin', 1): 20, ('abta', 1): 2, ('complimentari', 1): 9, ('4', 1): 74, ('tenerif', 1): 3, ('holiday', 1): 18, ('5000', 1): 12, ('cash', 1): 43, ('await', 1): 14, ('sae', 1): 11, ('tc', 1): 14, ('326', 1): 1, ('cw25wx', 1): 1, ('gooddhanush', 0): 1, ('rock', 0): 10, ('congratul', 1): 7, ('ur', 1): 58, ('500', 1): 20, ('CD', 1): 2, ('voucher', 1): 18, ('125gift', 1): 1, ('free', 1): 124, ('entri', 1): 11, ('2', 1): 85, ('100', 1): 23, ('wkli', 1): 9, ('draw', 1): 20, ('txt', 1): 88, ('music', 1): 8, ('87066', 1): 6, ('scratch', 0): 2, ('k', 0): 12, ('easi', 0): 14, ('money', 0): 37, ('hello', 1): 2, ('orang', 1): 19, ('for', 1): 16, ('1', 1): 19, ('month', 1): 3, ('access', 1): 3, ('game', 1): 21, ('news', 1): 3, ('sport', 1): 2, ('plu', 1): 5, ('10', 1): 9, ('20', 1): 3, ('photo', 1): 1, ('messag', 1): 28, ('ye', 1): 9, ('wwworangecoukow', 1): 1, ('7', 0): 15, ('studi', 0): 9, ('lightli', 0): 1, ('draw', 0): 3, ('checkbox', 0): 1, ('hardcor', 0): 1, ('win', 1): 39, ('year', 1): 10, ('suppli', 1): 3, ('cd', 1): 5, ('store', 1): 5, ('choic', 1): 2, ('worth', 1): 9, ('enter', 1): 9, ('weekli', 1): 13, ('tsc', 1): 10, ('wwwldewcomsubs161win150ppmx3', 1): 2, ('nope', 0): 10, ('sinc', 0): 12, ('ayo', 0): 1, ('travel', 0): 4, ('forgotten', 0): 2, ('lectur', 0): 2, ('diet', 0): 3, ('ate', 0): 4, ('yesterday', 0): 13, ('ugh', 0): 8, ('alway', 0): 42, ('ye', 0): 39, ('nigh', 0): 1, ('cant', 0): 75, ('07801543489', 1): 1, ('latest', 1): 18, ('nokia', 1): 47, ('phone', 1): 35, ('40gb', 1): 4, ('ipod', 1): 5, ('mp3', 1): 2, ('player', 1): 6, ('wordcollect', 1): 1, ('no83355', 1): 1, ('tcllc', 1): 1, ('nyusa', 1): 1, ('150pmt', 1): 1, ('msgrcvd18', 1): 1, ('saw', 0): 15, ('messageit', 0): 5, ('da', 0): 77, ('content', 0): 4, ('page', 0): 8, ('sad', 0): 11, ('stori', 0): 13, ('bday', 0): 10, ('My', 0): 61, ('wish', 0): 43, ('forgot', 0): 21, ('kid', 0): 10, ('colleagu', 0): 7, ('thankyou', 0): 1, ('much', 0): 67, ('bath', 0): 15, ('im', 0): 77, ('done', 0): 32, ('gotta', 0): 6, ('hit', 0): 6, ('peopl', 0): 26, ('first', 0): 29, ('X2', 0): 1, ('ohi', 0): 1, ('fun', 0): 15, ('hahatak', 0): 1, ('ü', 0): 64, ('privat', 1): 11, ('2003', 1): 8, ('account', 1): 10, ('statement', 1): 9, ('show', 1): 17, ('800', 1): 13, ('unredeem', 1): 8, ('S', 1): 5, ('I', 1): 23, ('M', 1): 6, ('point', 1): 8, ('08715203652', 1): 1, ('identifi', 1): 8, ('code', 1): 15, ('42810', 1): 1, ('expir', 1): 10, ('29100', 1): 1, ('mmm', 0): 3, ('roast', 0): 3, ('b', 0): 28, ('indian', 0): 8, ('understand', 0): 9, ('import', 0): 10, ('poorli', 0): 1, ('punish', 0): 1, ('worst', 0): 2, ('thing', 0): 72, ('ever', 0): 25, ('happen', 0): 31, ('brb', 0): 1, ('kill', 0): 5, ('valentin', 0): 12, ('game', 0): 9, ('di', 0): 18, ('5', 0): 23, ('answer', 0): 14, ('que', 0): 2, ('colour', 0): 4, ('suit', 0): 2, ('height', 0): 4, ('Oh', 0): 43, ('situat', 0): 9, ('throw', 0): 2, ('luv', 0): 20, ('letter', 0): 4, ('gal', 0): 10, ('fall', 0): 9, ('brother', 0): 14, ('gayd', 0): 1, ('urgnt', 0): 5, ('problem', 0): 28, ('least', 0): 8, ('wate', 0): 2, ('haf', 0): 15, ('eaten', 0): 3, ('wan', 0): 36, ('like', 0): 156, ('oh', 0): 26, ('give', 0): 60, ('hypertens', 0): 1, ('sunshin', 1): 4, ('quiz', 1): 9, ('Q', 1): 3, ('top', 1): 10, ('soni', 1): 5, ('dvd', 1): 4, ('u', 1): 44, ('know', 1): 19, ('countri', 1): 3, ('algarv', 1): 2, ('ansr', 1): 3, ('82277', 1): 3, ('150', 1): 27, ('sptyron', 1): 3, ('miser', 0): 1, ('kinda', 0): 6, ('twelv', 0): 1, ('aah', 0): 3, ('speak', 0): 19, ('tomo', 0): 12, ('imagin', 0): 3, ('gentl', 0): 3, ('unlik', 0): 1, ('doc', 0): 4, ('patient', 0): 1, ('turkey', 0): 1, ('sunshin', 0): 1, ('dawn', 0): 1, ('refresh', 0): 1, ('happi', 0): 74, ('aliv', 0): 1, ('breath', 0): 2, ('air', 0): 2, ('As', 0): 16, ('pop', 0): 7, ('ibuprofen', 0): 1, ('help', 0): 24, ('hex', 0): 2, ('explain', 0): 4, ('08718738002', 1): 1, ('48922', 1): 1, ('211104', 1): 1, ('gent', 1): 1, ('We', 1): 22, ('tri', 1): 21, ('contact', 1): 29, ('last', 1): 5, ('weekend', 1): 6, ('1000', 1): 29, ('09064012160', 1): 1, ('k52', 1): 1, ('', 1): 19, ('hear', 0): 18, ('anyth', 0): 48, ('new', 0): 45, ('year', 0): 34, ('decid', 0): 16, ('huh', 0): 13, ('rajipl', 0): 3, ('favour', 0): 4, ('pl', 0): 68, ('convey', 0): 6, ('nimya', 0): 3, ('stay', 0): 22, ('night', 0): 65, ('xavier', 0): 1, ('bag', 0): 7, ('tire', 0): 9, ('kick', 0): 6, ('hii', 0): 1, ('decemb', 1): 3, ('had', 1): 8, ('11mth', 1): 5, ('entitl', 1): 3, ('updat', 1): 9, ('colour', 1): 13, ('camera', 1): 18, ('the', 1): 16, ('vco', 1): 1, ('08002986906', 1): 3, ('mean', 0): 29, ('confirm', 0): 10, ('tot', 0): 13, ('juz', 0): 19, ('oni', 0): 4, ('ten', 0): 9, ('shower', 0): 6, ('plan', 0): 40, ('yesmum', 0): 1, ('lookin', 0): 3, ('strong', 0): 2, ('thank', 0): 45, ('IT', 0): 7, ('out', 0): 4, ('feel', 0): 51, ('otherwis', 0): 5, ('tomarrow', 0): 3, ('court', 0): 1, ('At', 0): 13, ('bu', 0): 12, ('stand', 0): 8, ('9', 0): 15, ('these', 0): 2, ('wont', 0): 42, ('move', 0): 10, ('morphin', 0): 2, ('well', 0): 74, ('find', 0): 33, ('07732584351', 1): 1, ('rodger', 1): 1, ('burn', 1): 1, ('msg', 1): 20, ('sm', 1): 18, ('camcord', 1): 9, ('08000930705', 1): 9, ('deliveri', 1): 12, ('tomorrow', 1): 5, ('actual', 0): 20, ('might', 0): 19, ('gr8', 0): 11, ('si', 0): 15, ('wen', 0): 17, ('sir', 0): 19, ('wait', 0): 61, ('life', 0): 43, ('St', 0): 2, ('andr', 0): 2, ('virgil', 0): 1, ('cream', 0): 4, ('messag', 0): 37, ('wonder', 0): 30, ('english', 0): 4, ('grin', 0): 11, ('muhommad', 0): 1, ('penni', 0): 1, ('across', 0): 6, ('sea', 0): 9, ('vega', 0): 2, ('solihul', 0): 1, ('nah', 0): 7, ('wednesday', 0): 4, ('when', 0): 31, ('mini', 0): 2, ('cheeto', 0): 1, ('antibiot', 0): 1, ('chest', 0): 1, ('abdomen', 0): 1, ('gyna', 0): 1, ('infect', 0): 2, ('bone', 0): 1, ('oop', 0): 7, ('roommat', 0): 5, ('what', 1): 4, ('U', 1): 44, ('xma', 1): 9, ('new', 1): 43, ('video', 1): 20, ('half', 1): 5, ('price', 1): 8, ('rental', 1): 5, ('0800', 1): 8, ('0721072', 1): 1, ('find', 1): 13, ('interest', 0): 7, ('then', 0): 34, ('buy', 0): 47, ('7250i', 1): 3, ('thi', 1): 25, ('get', 1): 52, ('auction', 1): 11, ('To', 1): 39, ('part', 1): 7, ('send', 1): 40, ('86021', 1): 4, ('hgsuite3422land', 1): 4, ('roww1jhl', 1): 3, ('16', 1): 34, ('spoil', 0): 3, ('bed', 0): 22, ('glad', 0): 7, ('reach', 0): 29, ('morn', 0): 46, ('handl', 0): 2, ('victoria', 0): 1, ('island', 0): 3, ('traffic', 0): 2, ('plu', 0): 13, ('album', 0): 2, ('due', 0): 3, ('world', 0): 18, ('run', 0): 22, ('stillmayb', 0): 1, ('sameso', 0): 1, ('itor', 0): 1, ('admiti', 0): 1, ('madthen', 0): 1, ('correctionor', 0): 1, ('lifeand', 0): 1, ('worldmay', 0): 1, ('runninglet', 0): 1, ('loan', 1): 4, ('purpos', 1): 3, ('75000', 1): 2, ('homeown', 1): 2, ('tenant', 1): 3, ('welcom', 1): 7, ('have', 1): 3, ('previous', 1): 2, ('refus', 1): 3, ('still', 1): 4, ('help', 1): 14, ('1956669', 1): 2, ('back', 1): 14, ('costa', 1): 3, ('del', 1): 4, ('sol', 1): 3, ('09050090044', 1): 2, ('now', 1): 36, ('toclaim', 1): 2, ('TC', 1): 11, ('pobox334', 1): 2, ('stockport', 1): 2, ('sk38xh', 1): 2, ('150pm', 1): 6, ('max10min', 1): 2, ('rememb', 0): 26, ('compani', 0): 11, ('babe', 0): 44, ('search', 0): 12, ('bcoz', 0): 9, ('smeon', 0): 2, ('hold', 0): 16, ('bslvyl', 0): 10, ('id', 0): 8, ('stuff', 0): 27, ('aiyah', 0): 3, ('improv', 0): 2, ('alreadi', 0): 58, ('babi', 0): 16, ('stretch', 0): 1, ('open', 0): 16, ('pussi', 0): 5, ('aiyar', 0): 4, ('technic', 0): 2, ('support', 0): 7, ('voic', 0): 5, ('process', 0): 3, ('addi', 0): 2, ('goe', 0): 14, ('monday', 0): 8, ('wit', 0): 12, ('alon', 0): 9, ('affidavit', 0): 1, ('E', 0): 5, ('twigg', 0): 1, ('divis', 0): 1, ('g', 0): 7, ('courtroom', 0): 1, ('lttimegt', 0): 3, ('AM', 0): 3, ('doubl', 0): 2, ('calicut', 0): 2, ('gettin', 0): 3, ('arti', 0): 1, ('collag', 0): 1, ('mo', 0): 4, ('tryin', 0): 1, ('ne', 0): 1, ('spatula', 0): 1, ('hand', 0): 18, ('nordstrom', 0): 1, ('itll', 0): 1, ('tough', 0): 4, ('stayin', 0): 1, ('extra', 0): 4, ('wed', 0): 6, ('rugbi', 0): 1, ('weekend', 0): 21, ('c', 0): 28, ('winner', 1): 11, ('caller', 1): 7, ('final', 1): 9, ('attempt', 1): 13, ('09071517866', 1): 1, ('150ppmpobox10183bhamb64x', 1): 1, ('1st', 1): 23, ('week', 1): 42, ('no1', 1): 7, ('everi', 1): 21, ('8077', 1): 2, ('txting', 1): 8, ('tell', 1): 12, ('mate', 1): 9, ('wwwgetzedcouk', 1): 6, ('pobox', 1): 11, ('36504', 1): 6, ('w45wq', 1): 5, ('norm150pton', 1): 5, ('3', 1): 10, ('receiv', 1): 22, ('content', 1): 10, ('AT', 0): 12, ('ami', 0): 1, ('ure', 0): 7, ('beauti', 0): 19, ('intellig', 0): 3, ('woman', 0): 2, ('don', 0): 10, ('T', 0): 4, ('even', 1): 4, ('bad', 1): 1, ('credit', 1): 12, ('noworriesloanscom', 1): 1, ('08717111821', 1): 1, ('xy', 0): 5, ('Ya', 0): 12, ('nice', 0): 35, ('readi', 0): 19, ('thursday', 0): 2, ('wana', 0): 6, ('wnt', 0): 4, ('bmw', 0): 2, ('urgentlyit', 0): 2, ('vri', 0): 4, ('urgentbut', 0): 2, ('hv', 0): 3, ('shortag', 0): 2, ('lacsther', 0): 2, ('sourc', 0): 3, ('arng', 0): 2, ('amt', 0): 4, ('lacsthat', 0): 2, ('prob', 0): 11, ('arriv', 0): 2, ('coupl', 0): 6, ('lt3', 0): 3, ('slowli', 0): 8, ('godi', 0): 3, ('amp', 0): 54, ('youclean', 0): 3, ('heart', 0): 26, ('bloodsend', 0): 3, ('special', 0): 18, ('miracl', 0): 4, ('itplspl', 0): 3, ('sch', 0): 16, ('finish', 0): 48, ('ard', 0): 15, ('curiou', 0): 2, ('cuz', 0): 2, ('ac', 1): 3, ('sun0819', 1): 1, ('post', 1): 3, ('helloy', 1): 1, ('seem', 1): 1, ('cool', 1): 1, ('say', 1): 1, ('hi', 1): 1, ('HI', 1): 1, ('62468', 1): 5, ('most', 0): 3, ('BE', 0): 1, ('wanna', 0): 19, ('xxx', 0): 14, ('bore', 1): 3, ('speed', 1): 1, ('date', 1): 10, ('speedchat', 1): 2, ('80155', 1): 1, ('dont', 1): 16, ('like', 1): 8, ('em', 1): 1, ('swap', 1): 1, ('chatter', 1): 1, ('chat80155', 1): 1, ('pobox36504w45wq', 1): 2, ('150pmsg', 1): 10, ('rcd', 1): 1, ('thatd', 0): 1, ('pretti', 0): 9, ('scenario', 0): 1, ('bout', 0): 12, ('earli', 0): 26, ('almost', 0): 9, ('noon', 0): 7, ('perform', 0): 3, ('write', 0): 6, ('paper', 0): 7, ('midnight', 0): 5, ('heard', 0): 5, ('Al', 0): 2, ('salam', 0): 1, ('wahleykkumshar', 0): 1, ('newsbi', 0): 1, ('grace', 0): 1, ('god', 0): 21, ('offer', 0): 6, ('tayseertissco', 0): 1, ('joinedhop', 0): 1, ('fineinshah', 0): 1, ('allahmeet', 0): 1, ('sometimerakheshvisitor', 0): 1, ('offer', 1): 21, ('handset', 1): 2, ('750', 1): 9, ('anytim', 1): 7, ('network', 1): 15, ('min', 1): 29, ('unlimit', 1): 6, ('inch', 0): 3, ('deep', 0): 8, ('insid', 0): 7, ('tight', 0): 2, ('model', 0): 4, ('num', 0): 4, ('epi', 0): 1, ('pleasur', 0): 6, ('pain', 0): 17, ('troubl', 0): 5, ('pour', 0): 2, ('rain', 0): 6, ('sum1', 0): 2, ('becoz', 0): 2, ('loan', 0): 5, ('pay', 0): 24, ('fight', 0): 8, ('either', 0): 8, ('bt', 0): 7, ('fightng', 0): 2, ('some1', 0): 4, ('close', 0): 13, ('dificult', 0): 2, ('chang', 0): 20, ('sentenc', 0): 2, ('becaus', 0): 3, ('concentr', 0): 2, ('educ', 0): 1, ('career', 0): 1, ('leav', 0): 51, ('havent', 0): 22, ('eh', 0): 4, ('gentleman', 0): 2, ('digniti', 0): 2, ('respect', 0): 3, ('enuff', 0): 2, ('space', 0): 3, ('mb', 0): 2, ('area', 0): 4, ('restaur', 0): 1, ('knw', 0): 10, ('5p', 1): 1, ('alfi', 1): 1, ('moon', 1): 1, ('children', 1): 1, ('need', 1): 3, ('song', 1): 1, ('mob', 1): 15, ('m8', 1): 2, ('chariti', 1): 3, ('8007', 1): 10, ('poli', 1): 14, ('zed', 1): 3, ('08701417012', 1): 1, ('profit', 1): 1, ('saturday', 0): 8, ('youd', 0): 5, ('not', 0): 35, ('invit', 0): 9, ('chanc', 1): 17, ('discount', 1): 5, ('today', 1): 18, ('85023', 1): 4, ('savamob', 1): 6, ('member', 1): 4, ('T', 1): 8, ('Cs', 1): 8, ('pobox84', 1): 3, ('m263uz', 1): 2, ('300', 1): 8, ('sub', 1): 7, ('goin', 0): 14, ('workout', 0): 1, ('fat', 0): 3, ('walk', 0): 20, ('hour', 0): 24, ('show', 0): 19, ('believ', 0): 10, ('seriou', 0): 4, ('nuerologist', 0): 1, ('drive', 0): 23, ('class', 0): 23, ('keng', 0): 1, ('ash', 0): 1, ('there', 0): 24, ('quit', 0): 24, ('left', 0): 17, ('na', 0): 4, ('sri', 0): 1, ('simpli', 0): 2, ('sit', 0): 9, ('kalli', 0): 4, ('bat', 0): 2, ('2nd', 0): 6, ('inning', 0): 3, ('boy', 0): 17, ('propsd', 0): 1, ('mind', 0): 26, ('gv', 0): 1, ('lv', 0): 1, ('lttr', 0): 1, ('Bt', 0): 5, ('frnd', 0): 14, ('threw', 0): 1, ('thm', 0): 2, ('again', 0): 3, ('aproach', 0): 1, ('dt', 0): 1, ('truck', 0): 1, ('speed', 0): 2, ('toward', 0): 5, ('Wn', 0): 2, ('girld', 0): 1, ('ran', 0): 1, ('hell', 0): 9, ('save', 0): 8, ('hw', 0): 5, ('cn', 0): 2, ('D', 0): 5, ('boost', 0): 2, ('secret', 0): 3, ('energi', 0): 4, ('instantli', 0): 1, ('girl', 0): 25, ('shout', 0): 3, ('happili', 0): 1, ('2gthr', 0): 1, ('evrydi', 0): 1, ('moral', 0): 3, ('msgsd', 0): 1, ('gud', 0): 39, ('jade', 0): 1, ('paul', 0): 1, ('Y', 0): 10, ('didn', 0): 1, ('txt', 0): 8, ('DO', 0): 5, ('barm', 0): 1, ('serious', 0): 5, ('spell', 0): 2, ('name', 0): 20, ('word', 0): 20, ('doesnt', 0): 17, ('start', 0): 35, ('march', 0): 6, ('may', 0): 25, ('mum', 0): 14, ('ar', 0): 4, ('yupz', 0): 1, ('oredi', 0): 8, ('slot', 0): 2, ('liao', 0): 22, ('never', 0): 28, ('hunt', 0): 2, ('wast', 0): 6, ('goodmorn', 0): 10, ('network', 0): 5, ('job', 0): 25, ('fb', 0): 5, ('jaykwon', 0): 1, ('thuglyf', 0): 1, ('falconerf', 0): 1, ('yup', 0): 20, ('wun', 0): 4, ('neva', 0): 9, ('shuhui', 0): 5, ('doubl', 1): 11, ('12', 1): 6, ('linerent', 1): 2, ('bluetooth', 1): 6, ('mobileupd8', 1): 10, ('08000839402', 1): 10, ('call2optoutlf56', 1): 1, ('mayb', 0): 27, ('ju', 0): 20, ('tightli', 0): 1, ('tyler', 0): 5, ('As', 1): 8, ('valu', 1): 7, ('custom', 1): 35, ('advis', 1): 3, ('follow', 1): 11, ('recent', 1): 4, ('review', 1): 4, ('No', 1): 25, ('1500', 1): 3, ('bonu', 1): 12, ('09066368470', 1): 1, ('lost', 0): 6, ('4ui', 0): 1, ('intend', 0): 1, ('knew', 0): 9, ('felt', 0): 8, ('iwasmarinethat', 0): 1, ('itried2tel', 0): 1, ('urmomi', 0): 1, ('careabout', 0): 1, ('half', 0): 16, ('mom', 0): 14, ('b4', 0): 4, ('hav', 0): 17, ('ashwini', 0): 1, ('colleg', 0): 9, ('Yo', 0): 14, ('walmart', 0): 2, ('somebodi', 0): 8, ('andro', 0): 1, ('steal', 0): 2, ('disturb', 0): 7, ('whole', 0): 8, ('map', 0): 2, ('semi', 0): 1, ('argument', 0): 6, ('apart', 0): 5, ('certainli', 0): 3, ('perspect', 0): 1, ('gr8prize', 1): 1, ('comp', 1): 6, ('8800', 1): 1, ('psp', 1): 1, ('250', 1): 15, ('wktxt', 1): 1, ('great', 1): 6, ('80878', 1): 2, ('httpwwwgr8prizescom', 1): 1, ('08715705022', 1): 3, ('settl', 0): 5, ('happenin', 0): 1, ('ola', 0): 1, ('teacher', 0): 1, ('longer', 0): 5, ('darren', 0): 4, ('cut', 0): 6, ('short', 0): 8, ('came', 0): 13, ('onlin', 0): 14, ('disappear', 0): 1, ('plz', 0): 17, ('note', 0): 4, ('anyon', 0): 12, ('mobil', 0): 7, ('Co', 0): 1, ('type', 0): 9, ('disconnect', 0): 2, ('callcoz', 0): 1, ('iz', 0): 1, ('attempt', 0): 1, ('terrorist', 0): 1, ('sim', 0): 2, ('card', 0): 8, ('itz', 0): 1, ('confirmd', 0): 1, ('nokia', 0): 2, ('motorola', 0): 1, ('verifi', 0): 2, ('cnn', 0): 1, ('ibn', 0): 1, ('sec', 0): 5, ('chocol', 0): 2, ('weed', 0): 6, ('alcohol', 0): 2, ('should', 0): 8, ('diff', 0): 2, ('guess', 0): 17, ('rite', 0): 9, ('ah', 0): 18, ('spoke', 0): 3, ('maneesha', 0): 2, ('V', 0): 10, ('satisfi', 0): 2, ('experi', 0): 4, ('toll', 0): 2, ('symptom', 0): 1, ('1U', 0): 1, ('song', 0): 10, ('2U', 0): 1, ('stop', 0): 30, ('belov', 0): 2, ('3U', 0): 1, ('angri', 0): 11, ('past', 0): 5, ('JD', 0): 1, ('servic', 0): 3, ('cum', 0): 7, ('account', 0): 13, ('execut', 0): 2, ('mail', 0): 16, ('contact', 0): 8, ('radio', 0): 2, ('pleas', 0): 45, ('mistak', 0): 8, ('side', 0): 4, ('goto', 0): 2, ('doctor', 0): 5, ('ad', 0): 6, ('crap', 0): 1, ('nite', 0): 16, ('borin', 0): 1, ('without', 0): 11, ('ya', 0): 25, ('boggi', 0): 1, ('biatch', 0): 1, ('thanx', 0): 20, ('til', 0): 17, ('nxt', 0): 3, ('il', 0): 4, ('ave', 0): 2, ('lar', 0): 20, ('mmmmm', 0): 1, ('busi', 0): 14, ('select', 1): 20, ('british', 1): 1, ('hotel', 1): 3, ('noth', 1): 2, ('350', 1): 7, ('london', 1): 4, ('02072069400', 1): 1, ('Bx', 1): 1, ('526', 1): 1, ('sw73ss', 1): 1, ('1010', 0): 1, ('sure', 0): 46, ('dat', 0): 31, ('woken', 0): 2, ('round', 0): 4, ('ish', 0): 4, ('practic', 0): 4, ('lesson', 0): 15, ('june', 0): 2, ('master', 0): 3, ('housemaid', 0): 3, ('coz', 0): 13, ('januari', 0): 4, ('public', 0): 3, ('holiday', 0): 6, ('govtinstituit', 0): 3, ('closedinclud', 0): 3, ('art', 0): 3, ('alex', 0): 6, ('did', 0): 29, ('tampa', 0): 6, ('stupid', 0): 9, ('tonght', 0): 1, ('nowaday', 0): 1, ('notixiqu', 0): 1, ('laxinorf', 0): 1, ('opportun', 0): 2, ('bambl', 0): 1, ('entrop', 0): 1, ('oblising', 0): 1, ('opt', 0): 1, ('masteriast', 0): 1, ('amplikat', 0): 1, ('fidalf', 0): 1, ('champlaxig', 0): 1, ('atroci', 0): 1, ('wotz', 0): 1, ('Ur', 0): 22, ('opinion', 0): 5, ('junna', 0): 1, ('germani', 1): 2, ('penc', 1): 2, ('per', 1): 31, ('minut', 1): 8, ('fix', 1): 1, ('via', 1): 1, ('0844', 1): 1, ('861', 1): 1, ('85', 1): 2, ('prepay', 1): 1, ('direct', 1): 4, ('wwwtelediscountcouk', 1): 1, ('ffffffffff', 0): 1, ('alright', 0): 15, ('sooner', 0): 2, ('deduct', 0): 1, ('tmr', 0): 14, ('callingforgot', 0): 1, ('onam', 0): 1, ('sirjii', 0): 1, ('insur', 0): 1, ('personmeet', 0): 1, ('qatar', 0): 2, ('insha', 0): 1, ('allahrakhesh', 0): 1, ('ex', 0): 8, ('tata', 0): 1, ('aig', 0): 1, ('join', 0): 8, ('tisscotays', 0): 1, ('stock', 0): 4, ('comin', 0): 6, ('away', 0): 13, ('frm', 0): 6, ('enough', 0): 18, ('eve', 1): 3, ('ticket', 1): 1, ('sale', 1): 3, ('day', 1): 14, ('10am', 1): 1, ('till', 1): 3, ('8pm', 1): 1, ('thur', 1): 2, ('fri', 1): 2, ('sat', 1): 1, ('theyr', 1): 1, ('sell', 1): 1, ('fast', 1): 1, ('pump', 0): 1, ('petrol', 0): 2, ('watch', 0): 48, ('tv', 0): 15, ('bigger', 0): 3, ('sometim', 0): 6, ('slow', 0): 4, ('sonetim', 0): 1, ('rough', 0): 1, ('hard', 0): 8, ('Oh', 1): 1, ('god', 1): 1, ('ive', 1): 1, ('found', 1): 1, ('Im', 1): 7, ('glad', 1): 1, ('xafter', 1): 1, ('cst', 1): 1, ('std', 1): 4, ('ntwk', 1): 3, ('chg', 1): 1, ('Ha', 0): 7, ('honey', 0): 4, ('sweet', 0): 22, ('lunch', 0): 28, ('bad', 0): 12, ('rs', 0): 4, ('shelf', 0): 2, ('egg', 0): 3, ('nydc', 0): 2, ('wheellock', 0): 1, ('normal', 0): 6, ('pilat', 0): 5, ('intro', 0): 4, ('kidz', 0): 3, ('scream', 0): 8, ('sofa', 0): 6, ('nake', 0): 5, ('outsid', 0): 9, ('bedroom', 0): 4, ('intrepid', 0): 1, ('duo', 0): 1, ('8th', 0): 3, ('j', 0): 2, ('hopeso', 0): 1, ('hunni', 0): 1, ('amnow', 0): 1, ('feelin', 0): 1, ('ithink', 0): 1, ('tonsolitusaswel', 0): 1, ('damn', 0): 5, ('iam', 0): 4, ('layin', 0): 1, ('bedreal', 0): 1, ('lotsof', 0): 1, ('xxxx', 0): 2, ('els', 0): 14, ('laid', 1): 1, ('tonight', 1): 3, ('real', 1): 5, ('dog', 1): 8, ('locat', 1): 2, ('sent', 1): 5, ('join', 1): 10, ('uk', 1): 5, ('largest', 1): 2, ('bt', 1): 1, ('gravel', 1): 1, ('69888', 1): 2, ('Nt', 1): 1, ('ec2a', 1): 2, ('31pmsg150p', 1): 1, ('true', 0): 18, ('word', 1): 13, ('80086', 1): 2, ('18', 1): 30, ('wwwtxttowincouk', 1): 2, ('warwick', 0): 1, ('weve', 0): 4, ('shop', 0): 17, ('concert', 0): 1, ('tmw', 0): 1, ('cancel', 0): 5, ('havnt', 0): 3, ('seen', 0): 7, ('age', 0): 5, ('thank', 1): 12, ('order', 1): 10, ('refer', 1): 3, ('t91', 1): 1, ('gbp', 1): 1, ('unsubscrib', 1): 15, ('servic', 1): 42, ('09057039994', 1): 1, ('whatev', 0): 14, ('dislik', 0): 3, ('sicomo', 0): 1, ('nolistened2th', 0): 1, ('plaid', 0): 1, ('albumquit', 0): 1, ('gdthe', 0): 1, ('air1', 0): 1, ('hilariousalso', 0): 1, ('bought', 0): 2, ('braindanc', 0): 1, ('compofstuff', 0): 1, ('aphex', 0): 1, ('abelu', 0): 1, ('hav2hear', 0): 1, ('itc', 0): 1, ('sn', 0): 3, ('wk', 1): 11, ('play', 1): 10, ('83370', 1): 1, ('wwwmusictrivianet', 1): 1, ('custcar', 1): 5, ('1x150pwk', 1): 3, ('includ', 0): 5, ('horribl', 0): 3, ('wif', 0): 15, ('yest', 0): 4, ('sale', 0): 3, ('shop', 1): 8, ('Hi', 1): 10, ('loyalti', 1): 6, ('offerth', 1): 1, ('nokia6650', 1): 1, ('onli', 1): 12, ('txtauction', 1): 2, ('start', 1): 8, ('81151', 1): 1, ('4tctxt', 1): 1, ('150pmtmsg', 1): 1, ('beerag', 0): 1, ('07808', 1): 1, ('xxxxxx', 1): 1, ('08719899217', 1): 1, ('41685', 1): 2, ('071104', 1): 2, ('de', 0): 14, ('apologet', 0): 1, ('fallen', 0): 1, ('actin', 0): 1, ('spoilt', 0): 1, ('child', 0): 1, ('caught', 0): 2, ('till', 0): 9, ('badli', 0): 1, ('cheer', 0): 6, ('regist', 1): 3, ('optin', 1): 1, ('subscrib', 1): 5, ('gift', 1): 9, ('receipt', 1): 2, ('correct', 1): 2, ('an', 1): 5, ('80062', 1): 2, ('bbc', 1): 1, ('chart', 1): 2, ('kothi', 0): 2, ('print', 0): 3, ('marandratha', 0): 1, ('good', 1): 3, ('friend', 1): 8, ('won', 1): 12, ('easi', 1): 5, ('08712103738', 1): 1, ('10p', 1): 8, ('btnationalr', 1): 4, ('Mr', 0): 2, ('owl', 0): 1, ('3', 0): 21, ('lick', 0): 3, ('round', 1): 1, ('highest', 1): 1, ('bid', 1): 5, ('54', 1): 1, ('next', 1): 10, ('maximum', 1): 1, ('71', 1): 1, ('e', 1): 3, ('g', 1): 2, ('83383', 1): 2, ('luck', 1): 2, ('punto', 0): 1, ('woulda', 0): 1, ('wors', 0): 5, ('esplanad', 0): 2, ('lift', 0): 5, ('co', 0): 47, ('dan', 0): 1, ('remind', 0): 10, ('far', 0): 10, ('he', 0): 19, ('definit', 0): 4, ('updatenow', 1): 2, ('12mth', 1): 1, ('400minscal', 1): 1, ('call2optoutj5q', 1): 1, ('they', 0): 14, ('thread', 0): 2, ('wishlist', 0): 1, ('section', 0): 2, ('forum', 0): 1, ('request', 0): 4, ('collect', 0): 5, ('bottom', 0): 2, ('safe', 0): 5, ('panic', 0): 2, ('surrend', 0): 1, ('return', 0): 13, ('vikki', 0): 5, ('obvious', 0): 3, ('thnx', 0): 1, ('2nite', 0): 4, ('famili', 0): 8, ('feb', 0): 3, ('complain', 0): 1, ('onlybettr', 0): 1, ('directli', 0): 6, ('bsnl', 0): 1, ('offc', 0): 1, ('nd', 0): 1, ('appli', 0): 4, ('onli', 0): 10, ('student', 0): 5, ('cat', 0): 3, ('xam', 0): 1, ('532', 0): 1, ('924', 0): 1, ('863', 0): 1, ('725', 0): 1, ('brilliant1thingi', 0): 1, ('answr', 0): 1, ('thanks2', 0): 1, ('werear', 0): 1, ('nalla', 0): 1, ('adi', 0): 1, ('entey', 0): 1, ('nattil', 0): 1, ('kittum', 0): 1, ('yesfrom', 0): 1, ('protect', 0): 2, ('ethreat', 0): 2, ('sib', 0): 2, ('sensit', 0): 2, ('passwordsatmsm', 0): 2, ('pin', 0): 3, ('thru', 0): 5, ('share', 0): 7, ('password', 0): 4, ('anybodi', 0): 4, ('syllabu', 0): 1, ('haiyoh', 0): 1, ('hamster', 0): 1, ('jealou', 0): 1, ('million', 0): 2, ('excus', 0): 7, ('citi', 0): 1, ('news', 0): 5, ('hassl', 0): 1, ('haughaighgtujhyguj', 0): 1, ('owe', 0): 1, ('ref', 1): 2, ('r836', 1): 1, ('450', 1): 7, ('should', 1): 5, ('arriv', 1): 4, ('09065069154', 1): 1, ('chat', 1): 27, ('86688', 1): 10, ('let', 1): 4, ('rcvd', 1): 6, ('hgsuite3422landsroww1j6hl', 1): 3, ('ldn', 1): 6, ('09058094455', 1): 1, ('princess', 0): 20, ('per', 0): 6, ('forward', 0): 11, ('wind', 0): 2, ('gam', 0): 1, ('gone', 0): 9, ('outstand', 0): 2, ('includ', 1): 2, ('1mcflyall', 1): 1, ('Ab', 1): 1, ('sara', 1): 1, ('jorgeshock', 1): 1, ('will', 1): 4, ('smithswitch', 1): 1, ('instruct', 1): 2, ('batteri', 0): 3, ('callin', 0): 1, ('bruv', 0): 2, ('seem', 0): 7, ('unnecessarili', 0): 1, ('affection', 0): 2, ('full', 0): 13, ('heat', 0): 1, ('pa', 0): 14, ('oil', 0): 1, ('ki', 0): 2, ('wi', 0): 1, ('nz', 0): 1, ('player', 0): 6, ('unsold', 0): 2, ('geniu', 0): 1, ('skype', 0): 4, ('brolli', 0): 1, ('wil', 0): 13, ('2mrw', 0): 3, ('franxx', 0): 1, ('heater', 0): 2, ('set', 0): 14, ('degre', 0): 1, ('fyi', 0): 2, ('ride', 0): 4, ('noe', 0): 14, ('toughest', 0): 2, ('earth', 0): 3, ('act', 0): 2, ('unspoken', 0): 1, ('decor', 0): 1, ('confid', 0): 4, ('aeronaut', 0): 2, ('professor', 0): 2, ('wer', 0): 6, ('calld', 0): 2, ('askd', 0): 8, ('aeroplan', 0): 2, ('aftr', 0): 4, ('sat', 0): 15, ('plane', 0): 5, ('ws', 0): 3, ('made', 0): 17, ('dey', 0): 3, ('saidif', 0): 2, ('studentsthi', 0): 2, ('datz', 0): 2, ('dearer', 0): 2, ('dem', 0): 3, ('lect', 0): 6, ('usf', 0): 4, ('stoner', 0): 1, ('food', 0): 17, ('fridg', 0): 1, ('meal', 0): 3, ('toyota', 0): 1, ('camri', 0): 1, ('mr', 0): 4, ('olayiwola', 0): 1, ('mileag', 0): 1, ('kit', 0): 1, ('clean', 0): 8, ('rais', 0): 5, ('dough', 0): 2, ('land', 0): 2, ('holla', 0): 3, ('tbspersolvo', 1): 1, ('chase', 1): 1, ('us', 1): 4, ('sinc', 1): 1, ('sept', 1): 3, ('38', 1): 1, ('definit', 1): 1, ('pay', 1): 2, ('inform', 1): 4, ('ignor', 1): 1, ('kath', 1): 1, ('manchest', 1): 1, ('keep', 1): 3, ('fantast', 1): 2, ('ngage', 1): 1, ('deck', 1): 1, ('go', 1): 11, ('wwwcnupdatescomnewslett', 1): 1, ('alert', 1): 5, ('out', 1): 4, ('congrat', 0): 7, ('pendingi', 0): 1, ('dayswil', 0): 1, ('thrurespect', 0): 1, ('mother', 0): 3, ('homecheck', 0): 1, ('best', 1): 4, ('UK', 1): 9, ('82324', 1): 1, ('helplin', 1): 1, ('08706091795', 1): 1, ('tear', 0): 6, ('eye', 0): 7, ('helen', 0): 2, ('fone', 0): 6, ('princ', 0): 2, ('tb', 0): 2, ('leh', 0): 18, ('messageno', 0): 2, ('responcewhat', 0): 2, ('happend', 0): 2, ('pic', 0): 9, ('pose', 0): 1, ('comb', 0): 1, ('dryer', 0): 1, ('ago', 0): 7, ('copi', 0): 7, ('awww', 0): 1, ('lone', 0): 3, ('09066612661', 1): 2, ('lux', 1): 1, ('ppm', 1): 2, ('jame', 1): 1, ('28', 1): 3, ('eh74rr', 1): 1, ('cheesi', 0): 1, ('frosti', 0): 1, ('snowman', 0): 1, ('09066350750', 1): 1, ('ibiza', 1): 3, ('10000', 1): 6, ('434', 1): 2, ('sk3', 1): 2, ('8wp', 1): 2, ('w', 0): 9, ('sez', 0): 1, ('arab', 0): 1, ('evry1', 0): 1, ('eshxxxxxxxxxxx', 0): 1, ('fudg', 0): 1, ('oreo', 0): 2, ('store', 0): 3, ('Ur', 1): 7, ('cashbal', 1): 2, ('current', 1): 4, ('pound', 1): 10, ('maxim', 1): 2, ('cashin', 1): 2, ('CC', 1): 2, ('08718720201', 1): 2, ('11414', 1): 1, ('tcrw1', 1): 1, ('excel', 0): 4, ('monkey', 0): 3, ('wot', 0): 14, ('mineal', 0): 1, ('wiv', 0): 4, ('wud', 0): 2, ('annoyin', 0): 1, ('bitch', 0): 3, ('where', 1): 1, ('2006', 1): 1, ('fifa', 1): 1, ('world', 1): 1, ('cup', 1): 3, ('held', 1): 1, ('87239', 1): 1, ('end', 1): 14, ('truth', 0): 7, ('graviti', 0): 3, ('our', 0): 8, ('heavi', 0): 5, ('lunchyou', 0): 1, ('onlinewhi', 0): 1, ('nimbomson', 0): 1, ('yep', 0): 6, ('real', 0): 15, ('weird', 0): 1, ('shitstorm', 0): 1, ('attribut', 0): 1, ('septemb', 0): 1, ('chinatown', 0): 1, ('porridg', 0): 1, ('claypot', 0): 1, ('rice', 0): 2, ('yam', 0): 1, ('cake', 0): 3, ('fishhead', 0): 1, ('beehoon', 0): 1, ('cheap', 0): 4, ('cafe', 0): 4, ('tok', 0): 1, ('stomach', 0): 2, ('trauma', 0): 1, ('swear', 0): 1, ('nicenicehow', 0): 2, ('complet', 0): 11, ('formclark', 0): 2, ('utter', 0): 3, ('accept', 0): 6, ('beg', 0): 2, ('cope', 0): 1, ('distanc', 0): 3, ('yr', 1): 7, ('b', 1): 1, ('when', 1): 2, ('olymp', 1): 1, ('ned', 0): 2, ('convinc', 0): 4, ('tht', 0): 7, ('possibl', 0): 6, ('witot', 0): 1, ('main', 0): 2, ('birla', 0): 1, ('soft', 0): 1, ('geeeee', 0): 2, ('bare', 0): 5, ('lt', 0): 2, ('25', 0): 1, ('pass', 0): 6, ('chennai', 0): 5, ('eatin', 0): 4, ('fren', 0): 5, ('advic', 0): 3, ('blimey', 0): 1, ('exercis', 0): 1, ('wifehow', 0): 2, ('exactli', 0): 4, ('fffff', 0): 1, ('kadeem', 0): 3, ('attractioni', 0): 1, ('mesh', 0): 1, ('thoughtsi', 0): 1, ('hersh', 0): 1, ('dreamlov', 0): 1, ('namemi', 0): 1, ('hermi', 0): 1, ('heri', 0): 2, ('cri', 0): 6, ('herwil', 0): 1, ('sorrowsi', 0): 1, ('craziest', 0): 1, ('herlov', 0): 2, ('proov', 0): 1, ('planeti', 0): 1, ('sing', 0): 4, ('prais', 0): 1, ('chicken', 0): 4, ('curri', 0): 2, ('maki', 0): 1, ('sambarlif', 0): 1, ('thenwil', 0): 1, ('mei', 0): 5, ('lotwil', 0): 1, ('galsu', 0): 1, ('dinner', 0): 17, ('nìte', 0): 1, ('smaller', 0): 1, ('capac', 0): 1, ('handsom', 0): 2, ('lazi', 0): 7, ('net', 0): 7, ('mummi', 0): 2, ('boytoy', 0): 8, ('doe', 0): 5, ('whom', 0): 1, ('wid', 0): 8, ('corect', 0): 1, ('spele', 0): 1, ('ie', 0): 1, ('sarcasm', 0): 1, ('didt', 0): 3, ('team', 0): 4, ('sun', 0): 13, ('anti', 0): 3, ('attract', 0): 1, ('brotha', 0): 2, ('callsmessagesmiss', 0): 2, ('mall', 0): 2, ('awesom', 0): 12, ('click', 0): 2, ('delet', 0): 4, ('poke', 0): 1, ('everyday', 0): 2, ('teach', 0): 6, ('canada', 0): 2, ('abi', 0): 2, ('hiya', 0): 3, ('hlday', 0): 1, ('camp', 0): 1, ('amrca', 0): 1, ('serena', 0): 1, ('heroi', 0): 1, ('tonit', 0): 5, ('apt', 0): 1, ('opportunitypl', 0): 1, ('touch', 0): 12, ('ltemailgt', 0): 1, ('kerala', 0): 4, ('boat', 0): 2, ('yo', 0): 4, ('enter', 0): 5, ('cabin', 0): 3, ('PA', 0): 3, ('boss', 0): 4, ('after', 0): 8, ('buzi', 0): 2, ('grinul', 0): 1, ('greet', 0): 6, ('whenev', 0): 8, ('goodnight', 0): 4, ('jolt', 0): 2, ('ahmad', 0): 4, ('al', 0): 4, ('hallaq', 0): 2, ('own', 0): 3, ('possess', 0): 3, ('passion', 0): 3, ('kiss', 0): 21, ('board', 0): 1, ('issu', 0): 4, ('overh', 0): 1, ('reslov', 0): 1, ('softwar', 0): 2, ('inst', 0): 1, ('pend', 0): 1, ('8o', 0): 1, ('clock', 0): 3, ('exam', 0): 7, ('liter', 0): 1, ('dubsack', 0): 2, ('describ', 0): 1, ('awak', 0): 7, ('grand', 0): 2, ('prix', 0): 1, ('cali', 0): 1, ('complex', 0): 1, ('freeli', 0): 1, ('tax', 0): 1, ('outrag', 0): 1, ('coccoon', 0): 1, ('dollar', 0): 6, ('mid', 0): 5, ('februari', 0): 2, ('motorola', 1): 8, ('sonyericsson', 1): 3, ('call2optout4qf2', 1): 1, ('comput', 0): 7, ('belli', 0): 2, ('loverboy', 0): 5, ('sigh', 0): 4, ('activ', 1): 4, ('condit', 1): 2, ('visit', 1): 4, ('www07781482378com', 1): 1, ('tripl', 1): 1, ('echo', 1): 1, ('shortli', 1): 2, ('dai', 0): 3, ('timeslil', 0): 1, ('busyi', 0): 1, ('piss', 0): 4, ('stupidit', 0): 3, ('pimpl', 0): 1, ('father', 0): 9, ('power', 0): 6, ('OF', 0): 6, ('frndship', 0): 3, ('ron', 0): 2, ('N', 0): 6, ('ding', 0): 2, ('tai', 0): 1, ('feng', 0): 1, ('reserv', 0): 3, ('chase', 0): 4, ('dream', 0): 13, ('bank', 0): 8, ('raglan', 0): 1, ('rd', 0): 4, ('edward', 0): 2, ('behind', 0): 5, ('cricket', 0): 2, ('ground', 0): 1, ('gimm', 0): 1, ('ring', 0): 11, ('closebi', 0): 1, ('tuesday', 0): 4, ('teas', 0): 5, ('must', 0): 11, ('prey', 0): 2, ('devour', 0): 1, ('durban', 0): 1, ('ador', 0): 4, ('lmao', 0): 4, ('anymor', 0): 3, ('costum', 0): 2, ('payment', 0): 2, ('fedex', 0): 1, ('pig', 0): 3, ('clover', 0): 1, ('forward', 1): 4, ('88877free', 1): 1, ('88877', 1): 1, ('wwwtextcompcom', 1): 2, ('equal', 0): 1, ('unev', 0): 1, ('peski', 0): 1, ('cyclist', 0): 1, ('cough', 0): 2, ('hey', 1): 2, ('boy', 1): 1, ('hot', 1): 9, ('xxx', 1): 7, ('pic', 1): 12, ('porn', 1): 1, ('69855', 1): 1, ('24hr', 1): 1, ('50p', 1): 2, ('stopbcm', 1): 1, ('SF', 1): 1, ('wc1n3xx', 1): 2, ('iouri', 0): 1, ('kaila', 0): 1, ('ba', 0): 2, ('dao', 0): 1, ('pm', 0): 5, ('tel', 0): 7, ('themp', 0): 1, ('tau', 0): 1, ('sar', 0): 2, ('piah', 0): 1, ('attend', 0): 1, ('wk', 0): 4, ('oic', 0): 3, ('dunno', 0): 15, ('whether', 0): 3, ('person', 0): 35, ('daddi', 0): 3, ('slap', 0): 3, ('ass', 0): 8, ('dick', 0): 1, ('men', 0): 3, ('adjust', 0): 1, ('cooper', 0): 1, ('law', 0): 2, ('allow', 0): 2, ('cute', 0): 7, ('Be', 0): 5, ('prove', 0): 3, ('anand', 0): 1, ('whi', 0): 11, ('each', 0): 2, ('moment', 0): 8, ('reveal', 0): 1, ('room', 0): 24, ('sake', 0): 1, ('bridgwat', 0): 1, ('banter', 0): 1, ('vldo', 0): 1, ('adsens', 0): 1, ('approv', 0): 2, ('minut', 0): 23, ('headin', 0): 2, ('busetop', 0): 1, ('final', 0): 7, ('stuck', 0): 2, ('middl', 0): 2, ('row', 0): 4, ('kkhow', 0): 3, ('machan', 0): 1, ('mon', 0): 5, ('oki', 0): 8, ('gd', 0): 9, ('la', 0): 4, ('oso', 0): 17, ('depend', 0): 3, ('western', 0): 1, ('chines', 0): 3, ('prefer', 0): 5, ('Mm', 0): 2, ('railway', 0): 3, ('well', 1): 5, ('done', 1): 3, ('england', 1): 8, ('offici', 1): 5, ('flag', 1): 9, ('yer', 1): 4, ('84199', 1): 4, ('optout', 1): 7, ('eng', 1): 4, ('box39822', 1): 4, ('w111wx', 1): 4, ('grasp', 0): 1, ('booti', 0): 1, ('her', 0): 3, ('photoshop', 0): 1, ('shut', 0): 1, ('garag', 0): 1, ('key', 0): 5, ('arent', 0): 5, ('bookshelf', 0): 1, ('just', 1): 14, ('pt2', 1): 1, ('87575', 1): 3, ('txtin', 1): 2, ('150ptone', 1): 3, ('HL', 1): 4, ('4info', 1): 2, ('wewa', 0): 1, ('130', 0): 1, ('iriv', 0): 1, ('255', 0): 1, ('128', 0): 1, ('lovli', 0): 1, ('forgiven', 0): 1, ('bless', 0): 3, ('arm', 0): 2, ('ha', 0): 8, ('depress', 0): 1, ('sittin', 0): 1, ('waitin', 0): 2, ('drop', 0): 14, ('scari', 0): 1, ('ryder', 0): 1, ('unsoldnow', 0): 1, ('gibb', 0): 1, ('waitshould', 0): 1, ('ticket', 0): 11, ('schedul', 0): 2, ('special', 1): 13, ('3000', 1): 1, ('08712402050', 1): 1, ('befor', 1): 1, ('close', 1): 2, ('10ppm', 1): 1, ('AG', 1): 1, ('promo', 1): 1, ('inclus', 1): 5, ('pl', 1): 9, ('goto', 1): 6, ('wwwcomuknet', 1): 5, ('login', 1): 5, ('3qxj9', 1): 4, ('extra', 1): 6, ('08702840625comuk', 1): 3, ('220cm2', 1): 3, ('9ae', 1): 4, ('chanc', 0): 8, ('evapor', 0): 1, ('violat', 0): 2, ('privaci', 0): 1, ('employ', 0): 1, ('paperwork', 0): 1, ('report', 0): 6, ('supervisor', 0): 2, ('sweeti', 0): 1, ('recycl', 0): 1, ('twice', 0): 3, ('spend', 0): 7, ('earn', 0): 3, ('foot', 0): 2, ('yay', 0): 4, ('everyth', 0): 20, ('school', 0): 19, ('creat', 0): 5, ('gap', 0): 9, ('finger', 0): 6, ('IS', 0): 14, ('prevent', 0): 1, ('dehydr', 0): 2, ('fluid', 0): 1, ('omw', 0): 5, ('view', 0): 1, ('gay', 0): 1, ('bell', 0): 3, ('water', 0): 6, ('grumpi', 0): 1, ('lie', 0): 2, ('HU', 0): 1, ('femal', 0): 1, ('citizen', 0): 2, ('smart', 0): 1, ('navig', 0): 1, ('choos', 0): 5, ('requir', 0): 3, ('guidanc', 0): 1, ('doubt', 0): 1, ('especi', 0): 4, ('into', 0): 1, ('ijust', 0): 1, ('had', 0): 8, ('fanci', 0): 3, ('meetin', 0): 2, ('cha', 0): 1, ('lil', 0): 2, ('beverag', 0): 1, ('l8r', 0): 3, ('vpist', 0): 1, ('pete', 0): 5, ('shame', 0): 4, ('quizz', 0): 1, ('popcorn', 0): 1, ('wlcome', 0): 1, ('lion', 0): 1, ('thur', 0): 3, ('which', 0): 8, ('taka', 0): 1, ('bet', 0): 4, ('sleepwellamptak', 0): 2, ('flippin', 0): 1, ('charm', 0): 1, ('Wk', 0): 2, ('hol', 0): 3, ('hairdress', 0): 1, ('appoint', 0): 3, ('four', 0): 2, ('beforehand', 0): 1, ('09050001808', 1): 2, ('m95', 1): 2, ('valid12hr', 1): 3, ('garbag', 0): 1, ('jam', 0): 1, ('bread', 0): 2, ('hannaford', 0): 1, ('wheat', 0): 1, ('chex', 0): 1, ('iphon', 0): 1, ('ranjith', 0): 2, ('cal', 0): 3, ('drpd', 0): 1, ('deeraj', 0): 1, ('deepak', 0): 1, ('5min', 0): 2, ('euro2004', 1): 2, ('kickoff', 1): 1, ('kept', 1): 1, ('result', 1): 1, ('daili', 1): 1, ('euro', 1): 2, ('83222', 1): 1, ('textpod', 1): 2, ('pod', 1): 1, ('84128', 1): 2, ('wwwtextpodnet', 1): 2, ('08712405020', 1): 4, ('matric', 0): 1, ('hon', 0): 2, ('doinat', 0): 1, ('receiv', 0): 4, ('1hr', 0): 2, ('delay', 0): 3, ('are', 1): 3, ('chosen', 1): 3, ('TO', 1): 4, ('A', 1): 9, ('09066364311', 1): 2, ('scotland', 0): 2, ('jjc', 0): 1, ('tendenc', 0): 1, ('GO', 1): 7, ('roww1j6hl', 1): 1, ('inner', 0): 1, ('tigress', 0): 1, ('rel', 0): 2, ('deliv', 0): 1, ('cost', 0): 5, ('risk', 0): 2, ('benefit', 0): 1, ('moji', 0): 3, ('speechless', 0): 2, ('easili', 0): 2, ('length', 0): 2, ('behalf', 0): 1, ('stun', 0): 1, ('friday', 0): 10, ('pool', 0): 1, ('bunch', 0): 1, ('lotto', 0): 1, ('deal', 0): 7, ('dial', 0): 1, ('browser', 0): 1, ('surf', 0): 5, ('wamma', 1): 1, ('laidwant', 1): 1, ('doggin', 1): 1, ('69696', 1): 1, ('nownyt', 1): 1, ('3lp', 1): 1, ('150msg', 1): 1, ('melodi', 0): 1, ('yoga', 0): 6, ('yar', 0): 10, ('hors', 0): 1, ('race', 0): 2, ('mah', 0): 8, ('earlier', 0): 7, ('blind', 1): 2, ('4U', 1): 1, ('rodds1', 1): 1, ('21m', 1): 1, ('aberdeen', 1): 1, ('unit', 1): 1, ('kingdom', 1): 1, ('check', 1): 4, ('him', 1): 1, ('httpimg', 1): 1, ('acwicmb3cktz8r74', 1): 1, ('hide', 1): 1, ('shd', 0): 5, ('hr', 0): 7, ('lyricalladie21f', 1): 1, ('invit', 1): 7, ('yes910', 1): 1, ('no910', 1): 1, ('wwwsmsacuhmmross', 1): 1, ('frnd', 1): 4, ('joy', 0): 10, ('john', 0): 10, ('an', 0): 3, ('IQ', 0): 3, ('ti', 0): 4, ('ia', 0): 2, ('needi', 0): 1, ('pout', 0): 3, ('stomp', 0): 3, ('feet', 0): 3, ('slave', 0): 2, ('macho', 0): 2, ('price', 0): 3, ('rang', 0): 4, ('interfu', 0): 1, ('blackberri', 0): 3, ('bold', 0): 5, ('bb', 0): 7, ('sm', 0): 11, ('mallika', 0): 1, ('sherawat', 0): 1, ('lturlgt', 0): 3, ('puriti', 0): 4, ('evng', 0): 5, ('cardiff', 0): 1, ('uni', 0): 2, ('grinder', 0): 1, ('referin', 0): 1, ('shld', 0): 2, ('rich', 0): 2, ('liaoso', 0): 1, ('onward', 0): 2, ('unless', 0): 6, ('hyde', 0): 2, ('park', 0): 12, ('mel', 0): 2, ('opp', 0): 1, ('confus', 0): 3, ('anyway', 0): 20, ('tt', 0): 4, ('choic', 0): 2, ('reckon', 0): 1, ('arrang', 0): 1, ('transport', 0): 1, ('wtf', 0): 4, ('splwat', 0): 1, ('whr', 0): 1, ('ru', 0): 3, ('think', 1): 7, ('smart', 1): 1, ('200', 1): 7, ('85222', 1): 1, ('nowtc', 1): 1, ('winnersclub', 1): 1, ('84', 1): 1, ('m26', 1): 2, ('3uz', 1): 2, ('gbp150week', 1): 1, ('din', 0): 4, ('lock', 0): 3, ('keypad', 0): 1, ('hide', 0): 2, ('anythi', 0): 1, ('UR', 1): 11, ('trip', 1): 4, ('eurodisinc', 1): 2, ('trav', 1): 2, ('acoentry41', 1): 2, ('Or', 1): 2, ('di', 1): 2, ('87121', 1): 3, ('186', 1): 2, ('150morefrmmob', 1): 2, ('shracomorsglsuplt10', 1): 2, ('ls1', 1): 2, ('3aj', 1): 2, ('messagesom', 0): 2, ('sendernam', 0): 2, ('sentdat', 0): 2, ('via', 0): 6, ('fullonsmscom', 0): 4, ('system', 0): 5, ('sh', 0): 1, ('readyal', 0): 1, ('toa', 0): 1, ('payoh', 0): 1, ('smth', 0): 9, ('Gd', 0): 4, ('did', 1): 1, ('hear', 1): 3, ('divorc', 1): 1, ('barbi', 1): 1, ('It', 1): 2, ('ken', 1): 1, ('stuff', 1): 1, ('telugutht', 0): 1, ('gudk', 0): 2, ('nyt', 0): 4, ('everybodi', 0): 2, ('nobodi', 0): 4, ('recognis', 0): 2, ('pongal', 0): 3, ('08714712388', 1): 1, ('10am7pm', 1): 3, ('shorter', 0): 3, ('gaze', 0): 1, ('spjanuari', 1): 1, ('male', 1): 2, ('gay', 1): 4, ('cheaper', 1): 2, ('08709222922', 1): 2, ('nation', 1): 7, ('rate', 1): 14, ('15pmin', 1): 2, ('cheap', 1): 3, ('78pmin', 1): 2, ('peak', 1): 2, ('08712460324', 1): 5, ('10pmin', 1): 6, ('spare', 0): 3, ('top', 0): 5, ('point', 0): 11, ('cultur', 0): 1, ('modul', 0): 3, ('itmail', 0): 1, ('panren', 0): 1, ('paru', 0): 1, ('itlet', 0): 1, ('rose', 0): 7, ('redr', 0): 2, ('bloodblood', 0): 2, ('heartheart', 0): 2, ('1u', 0): 2, ('poor', 0): 6, ('relat', 0): 4, ('2u', 0): 3, ('3u', 0): 2, ('4some1', 0): 2, ('pray', 0): 6, ('marri', 0): 6, ('doinghow', 0): 2, ('prometazin', 0): 1, ('syrup', 0): 1, ('5ml', 0): 1, ('feed', 0): 1, ('stressful', 0): 1, ('add', 0): 4, ('ni8swt', 0): 1, ('deam', 0): 1, ('thesmszonecom', 1): 1, ('anonym', 1): 1, ('mask', 1): 1, ('messagesim', 1): 1, ('theredo', 1): 1, ('potenti', 1): 1, ('abus', 1): 1, ('hope', 1): 1, ('61610', 1): 1, ('help08712400602450p', 1): 1, ('provid', 1): 1, ('tones2youcouk', 1): 1, ('now', 0): 20, ('09090900040', 1): 1, ('listen', 1): 3, ('extrem', 1): 1, ('dirti', 1): 1, ('live', 1): 20, ('ON', 1): 4, ('IN', 1): 1, ('offic', 1): 1, ('right', 1): 2, ('total', 1): 1, ('privaci', 1): 1, ('NO', 1): 3, ('one', 1): 5, ('sic', 1): 1, ('60p', 1): 1, ('247mp', 1): 1, ('0870753331018', 1): 1, ('kanowhr', 0): 1, ('maga', 0): 3, ('burger', 0): 1, ('explicit', 1): 1, ('sex', 1): 9, ('30', 1): 2, ('sec', 1): 1, ('ring', 1): 2, ('02073162414', 1): 1, ('20pmin', 1): 1, ('gsex', 1): 1, ('2667', 1): 1, ('wc1n', 1): 1, ('3xx', 1): 1, ('usual', 0): 6, ('fifteen', 0): 2, ('respond', 0): 4, ('ktv', 0): 1, ('xin', 0): 2, ('hostel', 0): 3, ('callon', 0): 1, ('assum', 0): 4, ('messagethank', 1): 1, ('use', 1): 5, ('subscript', 1): 5, ('150pmsgrcvd', 1): 1, ('skip', 1): 1, ('customercar', 1): 1, ('08718726270', 1): 1, ('rem', 0): 4, ('silver', 0): 1, ('black', 0): 3, ('448712404000pleas', 1): 1, ('08712404000', 1): 1, ('immedi', 1): 3, ('wait', 1): 9, ('ooooooh', 0): 1, ('yovil', 0): 1, ('sian', 0): 2, ('goodfin', 0): 1, ('dog', 0): 7, ('cell', 0): 2, ('urself', 0): 7, ('digi', 0): 1, ('cam', 0): 1, ('9pm', 0): 1, ('fab', 0): 2, ('coupla', 0): 1, ('telli', 0): 2, ('brdget', 0): 1, ('jone', 0): 1, ('hook', 0): 3, ('usualiam', 0): 3, ('cashto', 1): 1, ('08000407165', 1): 1, ('getstop', 1): 1, ('88222', 1): 1, ('php', 1): 1, ('repeat', 0): 2, ('instruct', 0): 1, ('road', 0): 5, ('doll', 0): 1, ('patrick', 0): 1, ('swayz', 0): 1, ('Do', 1): 9, ('realiz', 1): 1, ('40', 1): 2, ('thousand', 1): 1, ('old', 1): 2, ('ladi', 1): 2, ('run', 1): 1, ('around', 1): 1, ('tattoo', 1): 1, ('wrong', 0): 9, ('social', 0): 4, ('deni', 0): 3, ('8', 0): 7, ('latest', 0): 3, ('closer', 0): 2, ('theyll', 0): 1, ('idea', 0): 7, ('slurp', 0): 1, ('torch', 0): 4, ('except', 0): 3, ('chick', 0): 1, ('huge', 0): 2, ('boob', 0): 1, ('lindsay', 0): 1, ('some', 0): 4, ('bar', 0): 3, ('ptbo', 0): 2, ('blue', 0): 8, ('heron', 0): 1, ('hank', 0): 1, ('lotsli', 0): 1, ('1030', 0): 2, ('bugi', 0): 7, ('rofl', 0): 3, ('login', 0): 2, ('dorothykiefercom', 1): 1, ('bank', 1): 1, ('granit', 1): 1, ('issu', 1): 1, ('strongbuy', 1): 1, ('explos', 1): 1, ('pick', 1): 2, ('our', 1): 2, ('UP', 1): 1, ('over', 1): 3, ('nasdaq', 1): 1, ('symbol', 1): 1, ('cdgt', 1): 1, ('that', 1): 1, ('dint', 0): 2, ('housew', 1): 2, ('n', 1): 6, ('08717507711', 1): 2, ('btnation', 1): 2, ('knowwait', 0): 1, ('improv', 1): 2, ('msgs150p', 1): 2, ('18onli', 1): 2, ('daysh', 0): 2, ('potenti', 0): 2, ('talent', 0): 2, ('pooki', 0): 1, ('pie', 0): 4, ('leagu', 0): 1, ('2morro', 0): 1, ('low', 0): 1, ('youll', 1): 1, ('rcv', 1): 1, ('svc', 1): 1, ('hardcor', 1): 1, ('69988', 1): 1, ('If', 1): 10, ('must', 1): 3, ('age', 1): 5, ('verifi', 1): 2, ('B', 0): 5, ('Q', 0): 2, ('lifethi', 0): 1, ('twat', 0): 1, ('orang', 0): 1, ('dungere', 0): 1, ('deck', 0): 1, ('punch', 0): 1, ('common', 0): 4, ('hearin', 0): 1, ('welp', 0): 2, ('appar', 0): 4, ('retir', 0): 1, ('eryth', 0): 1, ('gave', 0): 4, ('photo', 0): 5, ('regist', 0): 2, ('yck', 0): 1, ('congrat', 1): 4, ('3650', 1): 1, ('09066382422', 1): 1, ('ave', 1): 2, ('3min', 1): 3, ('vari', 1): 4, ('300603', 1): 1, ('bcm4284', 1): 1, ('been', 0): 2, ('manag', 0): 4, ('oxygen', 0): 1, ('resort', 0): 1, ('roller', 0): 1, ('arithmet', 0): 1, ('percentag', 0): 1, ('anythin', 0): 2, ('orchard', 0): 4, ('mrt', 0): 4, ('hor', 0): 2, ('nottingham', 0): 1, ('63mile', 0): 1, ('40mph', 0): 1, ('ho', 0): 4, ('useless', 0): 1, ('ucal', 0): 1, ('wrki', 0): 1, ('AS', 0): 4, ('break', 0): 11, ('dabook', 0): 1, ('nite2', 0): 1, ('wrk', 0): 3, ('chat', 0): 10, ('list', 0): 7, ('puttin', 0): 2, ('DA', 0): 6, ('down', 0): 3, ('ON', 0): 8, ('O2', 1): 2, ('ad', 1): 3, ('benefit', 1): 1, ('train', 1): 1, ('advisor', 1): 1, ('diall', 1): 1, ('402', 1): 1, ('loo', 0): 1, ('zogtoriu', 0): 1, ('stare', 0): 2, ('530', 0): 6, ('station', 0): 3, ('befor', 0): 5, ('activ', 0): 3, ('abl', 0): 16, ('dr', 0): 1, ('budget', 0): 4, ('gari', 0): 2, ('freak', 0): 3, ('sue', 1): 2, ('work', 1): 1, ('lapdanc', 1): 1, ('love', 1): 5, ('bedroom', 1): 1, ('89555', 1): 3, ('By', 1): 1, ('textoper', 1): 3, ('G2', 1): 1, ('1da', 1): 1, ('150ppmsg', 1): 1, ('fran', 0): 2, ('broke', 0): 3, ('AN', 0): 2, ('knacker', 0): 2, ('C', 0): 9, ('janx', 0): 1, ('PS', 0): 3, ('NO', 0): 4, ('credit', 0): 5, ('tall', 0): 1, ('promis', 0): 8, ('ttyl', 0): 4, ('receivea', 1): 1, ('900', 1): 4, ('reward', 1): 6, ('09061701461', 1): 1, ('kl341', 1): 1, ('hour', 1): 3, ('ingredi', 0): 1, ('hppnss', 0): 1, ('sorrow', 0): 1, ('mine', 0): 9, ('forevr', 0): 1, ('goodfriend', 0): 1, ('077xxx', 1): 1, ('020603', 1): 3, ('2nd', 1): 11, ('reach', 1): 4, ('09066362206', 1): 1, ('asap', 1): 4, ('box97n7qp', 1): 2, ('plm', 0): 2, ('bot', 0): 1, ('repres', 1): 7, ('169', 1): 2, ('6031', 1): 2, ('10am9pm', 1): 2, ('ilol', 0): 1, ('wuldnt', 0): 1, ('bother', 0): 4, ('mite', 0): 4, ('chequ', 0): 1, ('beliv', 0): 2, ('display', 0): 2, ('intern', 0): 1, ('sub', 0): 2, ('extract', 0): 1, ('forget', 0): 12, ('privat', 0): 1, ('properti', 0): 2, ('propos', 0): 1, ('se', 0): 2, ('bloodi', 0): 2, ('funki', 0): 1, ('faceasssssholeee', 0): 1, ('cross', 0): 1, ('street', 0): 5, ('passthey', 0): 1, ('silent', 0): 4, ('ntswt', 0): 1, ('drm', 0): 1, ('shesil', 0): 1, ('bak', 0): 4, ('dont4get2text', 0): 1, ('bike', 0): 1, ('headach', 0): 2, ('nothin', 0): 2, ('hanger', 0): 1, ('member', 0): 2, ('aunt', 0): 4, ('flow', 0): 1, ('visit', 0): 3, ('6', 0): 14, ('develop', 0): 2, ('ovarian', 0): 1, ('cyst', 0): 1, ('Bc', 0): 1, ('shrink', 0): 1, ('annonc', 1): 1, ('07046744435', 1): 1, ('arrang', 1): 2, ('10', 0): 7, ('figur', 0): 5, ('skalli', 0): 1, ('odi', 0): 1, ('secret', 1): 5, ('admir', 1): 5, ('look', 1): 7, ('make', 1): 5, ('ufind', 1): 3, ('rreveal', 1): 3, ('specialcal', 1): 3, ('09065171142stopsms08', 1): 1, ('coffe', 0): 4, ('tomoc', 0): 1, ('file', 0): 5, ('sleepi', 0): 1, ('gosh', 0): 1, ('spose', 0): 1, ('evict', 0): 1, ('spiral', 0): 1, ('michael', 0): 1, ('riddanc', 0): 1, ('9ja', 0): 2, ('kthen', 0): 2, ('wenev', 0): 1, ('lik', 0): 3, ('paint', 0): 2, ('wall', 0): 2, ('shanghai', 0): 1, ('21st', 0): 1, ('instead', 0): 6, ('cya', 0): 1, ('umma', 0): 5, ('promot', 1): 1, ('8714714', 1): 1, ('citi', 1): 1, ('break', 1): 3, ('could', 1): 1, ('summer', 1): 5, ('spree', 1): 3, ('WK', 1): 1, ('88039', 1): 2, ('skilgm', 1): 2, ('tscs087147403231winawkage16', 1): 1, ('150perwksub', 1): 1, ('tension', 0): 2, ('ahwhat', 0): 1, ('machiani', 0): 1, ('Ah', 0): 3, ('westshor', 0): 1, ('villag', 0): 2, ('near', 0): 7, ('wow', 0): 6, ('healthi', 0): 1, ('five', 1): 2, ('08000776320', 1): 2, ('syria', 0): 1, ('hang', 0): 4, ('lousi', 0): 1, ('dead', 0): 3, ('hee', 0): 5, ('address', 0): 7, ('applespairsal', 0): 1, ('malarki', 0): 1, ('crucial', 0): 1, ('voda', 1): 4, ('7548', 1): 1, ('match', 1): 11, ('08712300220', 1): 4, ('quot', 1): 5, ('4041', 1): 1, ('standard', 1): 5, ('app', 1): 3, ('meet', 1): 4, ('dream', 1): 2, ('partner', 1): 3, ('soon', 1): 2, ('Is', 1): 1, ('career', 1): 1, ('flyng', 1): 1, ('horo', 1): 2, ('star', 1): 3, ('sign', 1): 2, ('ari', 1): 1, ('whatsup', 0): 2, ('mrng', 0): 13, ('europ', 0): 1, ('associ', 0): 1, ('gotto', 1): 1, ('08702840625', 1): 1, ('comuk220cm2', 1): 1, ('erm', 0): 1, ('woodland', 0): 1, ('avenu', 0): 1, ('somewher', 0): 5, ('parish', 0): 1, ('magazin', 0): 1, ('telephon', 0): 2, ('449050000301', 1): 1, ('09050000301', 1): 1, ('petei', 0): 1, ('jenni', 0): 1, ('leannewhat', 0): 1, ('pongaldo', 0): 2, ('necessari', 0): 2, ('watev', 0): 1, ('refil', 0): 1, ('success', 0): 4, ('inr', 0): 1, ('keralacircl', 0): 1, ('prepaid', 0): 1, ('balanc', 0): 1, ('Rs', 0): 2, ('transact', 0): 2, ('ID', 0): 1, ('KR', 0): 1, ('fantasi', 1): 6, ('08707509020', 1): 3, ('20p', 1): 4, ('ntt', 1): 7, ('ltd', 1): 10, ('1327', 1): 4, ('croydon', 1): 4, ('cr9', 1): 4, ('5wb', 1): 4, ('0870k', 1): 1, ('atten', 0): 1, ('1st', 0): 8, ('accid', 0): 2, ('a30', 0): 1, ('divert', 0): 1, ('wadebridgei', 0): 1, ('4mth', 1): 1, ('mobilesdirect', 1): 1, ('08000938767', 1): 1, ('or2stoptxt', 1): 1, ('remain', 0): 3, ('unconvinc', 0): 1, ('isnt', 0): 6, ('elabor', 0): 2, ('test', 0): 17, ('willpow', 0): 1, ('pisc', 0): 1, ('aquariu', 0): 1, ('theori', 0): 4, ('argu', 0): 5, ('correct', 0): 5, ('ditto', 0): 1, ('peac', 0): 3, ('087187272008', 1): 1, ('now1', 1): 1, ('gopalettan', 0): 1, ('small', 0): 6, ('gift', 0): 6, ('those', 0): 2, ('particip', 0): 1, ('admin', 0): 2, ('predict', 0): 2, ('nigeria', 0): 3, ('charact', 0): 2, ('okok', 0): 2, ('okthenwhat', 0): 2, ('knowh', 0): 1, ('film', 0): 6, ('commerci', 0): 1, ('broken', 0): 1, ('langport', 0): 1, ('santa', 1): 2, ('would', 1): 2, ('09077818151', 1): 1, ('book', 1): 3, ('calls150ppm', 1): 1, ('wwwsantacallingcom', 1): 1, ('goldvik', 1): 1, ('29m', 1): 1, ('yes762', 1): 1, ('no762', 1): 1, ('wwwsmsacugoldvik', 1): 1, ('hate', 0): 4, ('annoy', 0): 1, ('def', 0): 2, ('UU', 1): 1, ('1000call', 1): 1, ('09071512432', 1): 1, ('b4', 1): 1, ('300603tcsbcm4235wc1n3xxcallcost150ppmmobilesvari', 1): 1, ('max', 1): 1, ('7', 1): 2, ('50', 1): 2, ('fear', 0): 2, ('faint', 0): 1, ('housework', 0): 1, ('quick', 0): 4, ('cuppa', 0): 1, ('moan', 0): 4, ('toldsh', 0): 1, ('matter', 0): 2, ('convert', 0): 2, ('ship', 0): 4, ('spoken', 0): 3, ('ahhhhjust', 0): 1, ('uphad', 0): 1, ('thoso', 0): 1, ('comedi', 0): 2, ('liquor', 0): 1, ('flake', 0): 2, ('loko', 0): 1, ('non', 0): 1, ('elsewher', 0): 2, ('either', 1): 5, ('virgin', 1): 2, ('record', 1): 3, ('mysteri', 1): 1, ('09061104283', 1): 1, ('wwwsmsconet', 1): 1, ('approx', 1): 1, ('cancer', 0): 2, ('dear', 1): 6, ('holder', 1): 2, ('class', 1): 2, ('airport', 1): 1, ('loung', 1): 1, ('08704439680', 1): 1, ('x', 1): 3, ('onc', 0): 2, ('quickli', 0): 3, ('door', 0): 6, ('bomb', 0): 1, ('date', 0): 3, ('boo', 0): 4, ('menu', 0): 4, ('kkwhere', 0): 2, ('youhow', 0): 1, ('coolmob', 1): 1, ('readi', 1): 4, ('download', 1): 4, ('crazi', 1): 2, ('frogaxel', 1): 1, ('F', 1): 6, ('akonlon', 1): 1, ('black', 1): 1, ('eyeddont', 1): 1, ('P', 1): 1, ('more', 1): 6, ('info', 1): 7, ('adult', 0): 1, ('learn', 0): 4, ('danger', 0): 1, ('peep', 0): 1, ('comment', 0): 1, ('girl', 1): 4, ('mani', 1): 2, ('local', 1): 4, ('r', 1): 6, ('4fil', 1): 2, ('sexual', 1): 1, ('can', 1): 2, ('cute', 1): 1, ('69911', 1): 1, ('150p', 1): 12, ('prof', 0): 2, ('sem', 0): 2, ('enna', 0): 1, ('kalaachutaarama', 0): 1, ('score', 0): 3, ('sopha', 0): 1, ('secondari', 0): 1, ('applic', 0): 1, ('research', 0): 2, ('ogunrind', 0): 1, ('less', 0): 3, ('expens', 0): 1, ('600', 1): 1, ('400', 1): 4, ('and', 1): 2, ('5', 1): 6, ('deltomorrow', 1): 1, ('08002888812', 1): 1, ('shadow', 0): 1, ('spring', 0): 3, ('weightloss', 0): 1, ('ebay', 0): 1, ('buck', 0): 4, ('v', 1): 2, ('macedonia', 1): 1, ('miss', 1): 4, ('goalsteam', 1): 1, ('team', 1): 2, ('87077', 1): 3, ('eg', 1): 4, ('trywal', 1): 1, ('scotland', 1): 1, ('4txtú120', 1): 1, ('poboxox36504w45wq', 1): 1, ('bring', 1): 1, ('hero', 1): 1, ('hit', 1): 2, ('Go', 1): 3, ('wap', 1): 7, ('tip', 1): 1, ('greatest', 0): 1, ('courag', 0): 1, ('bear', 0): 1, ('defeat', 0): 1, ('heartgn', 0): 1, ('tc', 0): 1, ('gym', 0): 7, ('norm', 0): 1, ('415', 0): 1, ('librari', 0): 5, ('access', 0): 1, ('anoth', 1): 2, ('wwwtcbiz', 1): 2, ('150pmin', 1): 4, ('polo', 1): 2, ('suit', 1): 2, ('373', 1): 2, ('w1j', 1): 2, ('6hl', 1): 2, ('busi', 1): 2, ('kkare', 0): 1, ('url', 0): 1, ('poem', 0): 1, ('O', 0): 5, ('more', 0): 1, ('Ee', 0): 1, ('poortiyagi', 0): 1, ('odalebeku', 0): 1, ('hanumanji', 0): 1, ('1hanuman', 0): 1, ('2bajarangabali', 0): 1, ('3maruti', 0): 1, ('4pavanaputra', 0): 1, ('5sankatmochan', 0): 1, ('6ramaduth', 0): 1, ('7mahav', 0): 1, ('ee', 0): 1, ('janarig', 0): 1, ('ivatt', 0): 1, ('kalisidar', 0): 1, ('olag', 0): 1, ('ondu', 0): 1, ('keluviri', 0): 1, ('maretar', 0): 1, ('ind', 0): 1, ('dodda', 0): 1, ('problum', 0): 1, ('nalli', 0): 1, ('siguviri', 0): 1, ('idu', 0): 1, ('matra', 0): 1, ('neglet', 0): 1, ('ruin', 0): 2, ('thesi', 0): 2, ('olav', 0): 1, ('mandara', 0): 1, ('kano', 0): 1, ('trishul', 0): 1, ('theatr', 0): 3, ('physic', 0): 1, ('restock', 0): 2, ('cramp', 0): 1, ('woke', 0): 5, ('blur', 0): 2, ('easter', 0): 1, ('hmmm', 0): 5, ('italian', 0): 4, ('laid', 0): 1, ('airtel', 0): 1, ('line', 0): 5, ('rest', 0): 4, ('drinkin', 0): 1, ('divorc', 0): 1, ('from', 1): 9, ('upto', 1): 1, ('9061100010', 1): 1, ('C', 1): 7, ('wire3net', 1): 1, ('1st4term', 1): 1, ('mobcudb', 1): 1, ('shun', 0): 1, ('bian', 0): 1, ('glass', 0): 1, ('exhibit', 0): 1, ('soul', 0): 1, ('fire', 0): 2, ('spark', 0): 1, ('flame', 0): 2, ('big', 0): 20, ('rawr', 0): 1, ('xoxo', 0): 1, ('09066358152', 1): 1, ('person', 1): 2, ('detail', 1): 2, ('prompt', 1): 1, ('care', 1): 5, ('donat', 1): 2, ('unicef', 1): 1, ('asian', 1): 1, ('tsunami', 1): 1, ('disast', 1): 1, ('support', 1): 2, ('fund', 1): 1, ('864233', 1): 1, ('bill', 1): 3, ('brand', 0): 2, ('hooch', 0): 1, ('toaday', 0): 1, ('fell', 0): 2, ('splat', 0): 1, ('graze', 0): 1, ('knee', 0): 2, ('london', 0): 2, ('treatin', 0): 1, ('treacl', 0): 1, ('hict', 0): 1, ('employe', 0): 1, ('mode', 0): 6, ('high', 0): 3, ('honeybe', 0): 2, ('sweetest', 0): 2, ('waitu', 0): 2, ('crack', 0): 2, ('gmgngegn', 0): 2, ('pix', 0): 3, ('applebe', 0): 1, ('arun', 0): 3, ('transfr', 0): 3, ('malaria', 0): 4, ('bani', 0): 1, ('nan', 0): 1, ('yalrigu', 0): 1, ('heltiniiyo', 0): 1, ('chikku', 0): 7, ('meso', 0): 1, ('bodi', 0): 6, ('trust', 0): 7, ('meok', 0): 1, ('chikkub', 0): 1, ('kkyesterday', 0): 1, ('cbe', 0): 2, ('yesher', 0): 1, ('avail', 0): 7, ('upd8', 1): 1, ('freefon', 1): 3, ('2stoptxt', 1): 2, ('guild', 0): 1, ('bristol', 0): 1, ('flight', 0): 2, ('usc', 0): 2, ('portal', 0): 1, ('Id', 0): 5, ('bowl', 0): 3, ('worth', 0): 3, ('plenti', 0): 4, ('remembr', 0): 1, ('veri', 0): 7, ('everytim', 0): 1, ('dom', 0): 1, ('roger', 0): 3, ('mth', 1): 2, ('cameravideo', 1): 1, ('save', 1): 3, ('textsweekend', 1): 1, ('callback', 1): 3, ('orno', 1): 1, ('opt', 1): 9, ('behav', 0): 1, ('vijay', 0): 4, ('jaya', 0): 2, ('over', 0): 2, ('jada', 0): 1, ('kusruthi', 0): 1, ('lovabl', 0): 3, ('spl', 0): 1, ('matur', 0): 2, ('stylish', 0): 1, ('smsing', 0): 1, ('along', 0): 2, ('command', 0): 1, ('hellogorg', 0): 1, ('charg', 0): 6, ('lst', 0): 2, ('nitw', 0): 1, ('texd', 0): 1, ('hopeu', 0): 1, ('AD', 0): 1, ('wkend', 0): 2, ('4ward', 0): 1, ('cin', 0): 1, ('jaz', 0): 1, ('amaz', 1): 2, ('picsfree1', 1): 2, ('vid', 1): 1, ('enough', 1): 2, ('2day', 1): 4, ('keyword', 1): 1, ('outta', 0): 4, ('2u2', 0): 1, ('luton', 0): 1, ('0125698789', 0): 1, ('UR', 0): 4, ('H', 0): 1, ('build', 0): 1, ('slightli', 0): 2, ('beer', 0): 2, ('kafter', 0): 1, ('placement', 0): 2, ('oktak', 0): 1, ('careumma', 0): 1, ('spook', 1): 4, ('halloween', 1): 2, ('logo', 1): 3, ('eeri', 1): 2, ('card', 1): 3, ('08701417012150p', 1): 2, ('logop', 1): 2, ('officeunderstand', 0): 2, ('crazi', 0): 5, ('korean', 0): 1, ('leona', 0): 2, ('fave', 0): 1, ('aft', 0): 8, ('fuuuuck', 0): 1, ('sleepin', 0): 2, ('walsal', 0): 1, ('tue', 0): 2, ('mate', 0): 7, ('terri', 0): 1, ('januari', 1): 1, ('ben', 0): 1, ('gorgeou', 0): 3, ('brighten', 0): 1, ('aathiwher', 0): 2, ('hmmmhow', 0): 1, ('select', 0): 2, ('bbdpooja', 0): 1, ('pimpleseven', 0): 1, ('becom', 0): 4, ('blackand', 0): 1, ('sweatter', 0): 1, ('train', 0): 12, ('chillaxin', 0): 1, ('kb', 0): 3, ('tahan', 0): 1, ('anot', 0): 1, ('lo', 0): 1, ('adventur', 0): 2, ('youv', 0): 5, ('wishin', 0): 2, ('oper', 1): 9, ('80488biz', 1): 1, ('south', 0): 5, ('valuabl', 0): 4, ('loos', 0): 1, ('RV', 0): 1, ('roadsrvx', 0): 1, ('vote', 1): 1, ('sing', 1): 2, ('along', 1): 1, ('karaok', 1): 1, ('link', 1): 4, ('soooo', 0): 1, ('omg', 0): 3, ('provid', 0): 1, ('tming', 0): 2, ('someon', 1): 7, ('09050000928', 1): 1, ('pobox45w2tg150p', 1): 2, ('wet', 0): 2, ('07734396839', 1): 2, ('ibh', 1): 2, ('nokia6600', 1): 2, ('txtauctiontxt', 1): 2, ('wordstart', 1): 2, ('no81151', 1): 2, ('now4t', 1): 2, ('prone', 0): 1, ('fetch', 0): 5, ('charl', 0): 1, ('dodgey', 0): 1, ('recoveri', 0): 2, ('09061213237', 1): 2, ('177', 1): 2, ('m227xi', 1): 2, ('izzit', 0): 3, ('nyc', 0): 1, ('audiit', 0): 1, ('reloc', 0): 1, ('dawher', 0): 1, ('chapel', 0): 1, ('frontiervil', 0): 1, ('reward', 0): 2, ('tessypl', 0): 2, ('favor', 0): 2, ('nimyapl', 0): 2, ('shija', 0): 2, ('total', 0): 4, ('reject', 0): 1, ('To', 0): 2, ('gt', 0): 4, ('tortur', 0): 1, ('england', 0): 1, ('satan', 0): 1, ('impost', 0): 1, ('mene', 0): 1, ('priceso', 0): 1, ('itmay', 0): 1, ('destini', 0): 1, ('3d', 0): 1, ('imp', 0): 1, ('fli', 0): 3, ('hittng', 0): 1, ('reflex', 0): 1, ('ok', 1): 1, ('80488', 1): 1, ('cld', 0): 1, ('rather', 0): 3, ('coop', 0): 1, ('wellyou', 0): 1, ('lifey', 0): 1, ('thati', 0): 1, ('convers', 0): 1, ('usget', 0): 1, ('timeyour', 0): 1, ('sensesrespect', 0): 1, ('overemphasiseor', 0): 1, ('role', 0): 5, ('ge', 0): 3, ('awkward', 0): 1, ('cp', 0): 1, ('conserv', 0): 1, ('track', 0): 2, ('lighter', 0): 1, ('romant', 0): 1, ('sweetheart', 0): 2, ('darl', 0): 3, ('sexi', 0): 7, ('bun', 0): 3, ('sugar', 0): 4, ('plum', 0): 1, ('smack', 0): 1, ('format', 0): 2, ('envi', 0): 1, ('selfish', 0): 1, ('09061701939', 1): 1, ('s89', 1): 1, ('here', 0): 1, ('favorit', 0): 2, ('oyster', 0): 1, ('sashimi', 0): 1, ('rumbl', 0): 1, ('clever', 0): 1, ('pear', 0): 1, ('perfect', 0): 2, ('christma', 0): 9, ('meaning', 0): 1, ('compromis', 0): 2, ('mornin', 0): 2, ('nike', 0): 1, ('ringtoneget', 1): 2, ('freesend', 1): 2, ('subpoli', 1): 2, ('816183', 1): 2, ('weekstop', 1): 2, ('sms08718727870', 1): 2, ('smash', 0): 2, ('driver', 0): 1, ('dent', 0): 1, ('dearslp', 0): 2, ('welltak', 0): 2, ('careswt', 0): 2, ('dreamsmuah', 0): 2, ('lip', 0): 1, ('sync', 0): 1, ('shangela', 0): 1, ('26th', 0): 1, ('juli', 0): 1, ('virtual', 0): 1, ('hug', 0): 5, ('W4', 1): 1, ('5wq', 1): 1, ('norm', 1): 1, ('08712400200', 1): 1, ('farm', 0): 2, ('chees', 0): 1, ('cloth', 0): 1, ('jewelri', 0): 1, ('hourish', 0): 1, ('specif', 0): 1, ('acknowledg', 0): 1, ('astoundingli', 0): 1, ('tactless', 0): 1, ('gener', 0): 1, ('faggi', 0): 1, ('demand', 0): 2, ('blood', 0): 3, ('oath', 0): 1, ('fo', 0): 2, ('dahow', 0): 2, ('oga', 0): 1, ('tens', 0): 1, ('yesh', 0): 1, ('greatbhaji', 0): 1, ('sachin', 0): 1, ('worldveri', 0): 1, ('mandi', 1): 1, ('sullivan', 1): 1, ('hotmix', 1): 1, ('fmyou', 1): 1, ('500000', 1): 1, ('easter', 1): 1, ('drawpleas', 1): 1, ('telephon', 1): 1, ('09041940223', 1): 1, ('290305', 1): 1, ('transfer', 1): 1, ('els', 1): 1, ('mathew', 0): 1, ('tait', 0): 1, ('anderson', 0): 1, ('mmmm', 0): 2, ('fair', 0): 2, ('weak', 0): 2, ('push', 0): 3, ('expos', 0): 2, ('pull', 0): 1, ('wick', 0): 1, ('uve', 1): 3, ('xchat', 1): 3, ('jo', 0): 1, ('prin', 0): 1, ('not', 1): 3, ('heard', 1): 3, ('U4', 1): 3, ('rude', 1): 3, ('01223585334', 1): 2, ('cum', 1): 3, ('wan', 1): 2, ('2C', 1): 2, ('gettin', 1): 2, ('shag', 1): 3, ('pix', 1): 2, ('8552', 1): 4, ('2end', 1): 2, ('sam', 1): 3, ('announc', 0): 1, ('blog', 0): 2, ('auto', 0): 1, ('offici', 0): 2, ('philosoph', 0): 1, ('hole', 0): 1, ('voucher', 0): 1, ('virgin', 0): 1, ('sumf', 0): 1, ('textcomp', 1): 1, ('question', 1): 4, ('subsequ', 1): 1, ('charged150pmsg2', 1): 1, ('84128custcar', 1): 1, ('meh', 0): 5, ('thgt', 0): 1, ('clash', 0): 1, ('vomit', 0): 5, ('consent', 0): 1, ('form', 0): 1, ('fr', 0): 9, ('china', 0): 1, ('noisi', 0): 1, ('irrit', 0): 4, ('ignor', 0): 3, ('sipix', 1): 3, ('digit', 1): 4, ('09061221066', 1): 2, ('fromm', 1): 2, ('within', 1): 3, ('cover', 0): 4, ('mca', 0): 1, ('bill', 0): 5, ('miller', 0): 1, ('cme', 0): 2, ('2morow', 0): 2, ('etc', 0): 2, ('nose', 0): 1, ('essay', 0): 1, ('xx', 0): 2, ('guess', 1): 3, ('somebodi', 1): 2, ('secretli', 1): 2, ('fanci', 1): 9, ('wanna', 1): 7, ('give', 1): 5, ('09065394973', 1): 1, ('datebox1282essexcm61xn', 1): 2, ('elama', 0): 1, ('po', 0): 2, ('mudyadhu', 0): 1, ('ceri', 0): 1, ('rebel', 0): 1, ('dreamz', 0): 1, ('buddi', 0): 1, ('YA', 0): 2, ('2moro', 0): 2, ('bloke', 0): 1, ('crucifi', 0): 1, ('wahala', 0): 1, ('sdryb8i', 0): 1, ('hen', 0): 1, ('lord', 1): 1, ('OF', 1): 2, ('ringsreturn', 1): 1, ('king', 1): 3, ('nowrepli', 1): 1, ('lotr', 1): 2, ('june', 1): 1, ('soundtrack', 1): 1, ('stdtxtrate', 1): 1, ('sif', 0): 1, ('partnership', 0): 1, ('lead', 0): 3, ('valentin', 1): 3, ('lifetim', 1): 2, ('83600', 1): 2, ('custcare08718720201', 1): 2, ('goodno', 0): 1, ('problembut', 0): 1, ('american', 0): 2, ('harder', 0): 1, ('nbme', 0): 1, ('XX', 0): 1, ('invent', 0): 1, ('flyim', 0): 1, ('scare', 0): 4, ('flight', 1): 5, ('europ', 1): 1, ('away', 1): 2, ('B4', 1): 1, ('10th', 1): 1, ('09050000555', 1): 1, ('ba128nnfwfly150ppm', 1): 1, ('escap', 0): 2, ('wetherspoon', 0): 1, ('buyer', 0): 2, ('youdo', 0): 1, ('medic', 0): 1, ('7pm', 0): 1, ('vagu', 0): 1, ('rent', 0): 6, ('discuss', 0): 5, ('agenc', 0): 1, ('wouldnt', 0): 2, ('judgementali', 0): 1, ('2hr', 0): 1, ('rush', 0): 2, ('dirti', 0): 2, ('fellow', 0): 1, ('snicker', 0): 1, ('chord', 0): 1, ('iron', 0): 1, ('temp', 0): 2, ('unmit', 0): 1, ('howev', 0): 4, ('freephon', 1): 5, ('0808', 1): 3, ('145', 1): 3, ('4742', 1): 3, ('9am11pm', 1): 3, ('yessura', 0): 1, ('tvlol', 0): 1, ('sunni', 0): 3, ('ray', 0): 3, ('bay', 0): 3, ('realis', 0): 3, ('yalru', 0): 1, ('lyfu', 0): 2, ('astn', 0): 1, ('innu', 0): 1, ('mundh', 0): 1, ('lyf', 0): 2, ('ali', 0): 1, ('halla', 0): 1, ('ke', 0): 2, ('bilo', 0): 1, ('marriageprogram', 0): 1, ('edha', 0): 1, ('nt', 0): 3, ('ovr', 0): 1, ('chikkuali', 0): 1, ('vargu', 0): 1, ('meow', 0): 1, ('meowd', 0): 1, ('dictionari', 0): 2, ('3cover', 0): 2, ('screen', 0): 2, ('4press', 0): 2, ('5gentli', 0): 2, ('remov', 0): 5, ('Am', 1): 2, ('fink', 1): 1, ('met', 1): 1, ('yet', 1): 1, ('B', 1): 3, ('gr8', 1): 5, ('leav', 1): 2, ('wiv', 1): 2, ('area', 1): 3, ('09099726553', 1): 1, ('promis', 1): 1, ('carli', 1): 1, ('1minmobsmor', 1): 1, ('lkpobox177hp51fl', 1): 1, ('bangbab', 1): 1, ('way', 1): 1, ('bangb', 1): 1, ('tv', 1): 2, ('internetservic', 1): 1, ('menu', 1): 1, ('46', 0): 1, ('object', 0): 1, ('journey', 0): 1, ('terribl', 0): 1, ('infact', 0): 1, ('inconveni', 0): 2, ('6month', 1): 2, ('avail', 1): 3, ('call2optoutn9dx', 1): 2, ('armand', 0): 2, ('andor', 0): 1, ('hui', 0): 1, ('lib', 0): 1, ('contract', 1): 4, ('09066361921', 1): 1, ('vava', 0): 2, ('sign', 0): 3, ('record', 0): 2, ('women', 0): 2, ('08714712394', 1): 1, ('lab', 0): 2, ('2night', 1): 1, ('lucki', 1): 2, ('wildest', 1): 1, ('150pmsgrcvdhgsuite3422landsroww1j6hl', 1): 2, ('18yr', 1): 2, ('tote', 0): 1, ('steak', 0): 1, ('blake', 0): 2, ('taken', 0): 1, ('outhav', 0): 1, ('result', 0): 3, ('shirt', 0): 3, ('nudist', 0): 1, ('theme', 0): 1, ('darker', 0): 1, ('style', 0): 4, ('jolli', 0): 1, ('By', 0): 4, ('eve', 0): 8, ('730', 0): 2, ('sexiest', 1): 1, ('dirtiest', 1): 1, ('horni', 1): 4, ('89070', 1): 2, ('cancel', 1): 1, ('season', 0): 4, ('poet', 0): 1, ('imaginationmi', 0): 1, ('forev', 0): 6, ('youv', 1): 3, ('august', 1): 2, ('09066660100', 1): 1, ('2309', 1): 1, ('chechi', 0): 3, ('eggpotato', 0): 1, ('ratio', 0): 1, ('tortilla', 0): 2, ('88066', 1): 3, ('lost', 1): 2, ('derek', 0): 3, ('sunday', 0): 6, ('telugu', 0): 1, ('moviewat', 0): 1, ('detroit', 0): 1, ('nowcan', 0): 1, ('husband', 0): 2, ('nanni', 0): 2, ('amount', 0): 3, ('mp3', 0): 1, ('OK', 0): 5, ('walik', 0): 1, ('jokin', 0): 1, ('evey', 0): 1, ('mnth', 0): 1, ('okey', 0): 3, ('dokey', 0): 2, ('thasa', 0): 1, ('mess', 0): 1, ('upyeh', 0): 1, ('shudvetold', 0): 1, ('urgran', 0): 1, ('knowneway', 0): 1, ('illspeak', 0): 1, ('u2moro', 0): 1, ('asleep', 0): 6, ('Si', 0): 2, ('truffl', 0): 1, ('rape', 0): 1, ('poker', 0): 1, ('faster', 0): 2, ('bagi', 0): 1, ('countri', 0): 1, ('swiss', 0): 2, ('director', 0): 2, ('lac', 0): 1, ('crore', 0): 2, ('deposit', 0): 2, ('taxless', 0): 1, ('yr', 0): 5, ('delhi', 0): 1, ('lane', 0): 2, ('supli', 0): 1, ('monthli', 0): 1, ('imf', 0): 1, ('block', 0): 2, ('politician', 0): 2, ('corrupt', 0): 1, ('itna', 0): 1, ('karo', 0): 1, ('pura', 0): 1, ('padhegm', 0): 1, ('imag', 0): 1, ('remet', 0): 1, ('nichol', 0): 1, ('Mr', 1): 1, ('foley', 1): 1, ('excit', 1): 2, ('eye', 1): 1, ('wwwwin82050couk', 1): 1, ('ssi', 0): 1, ('thinl', 0): 1, ('sachinjust', 0): 1, ('video', 0): 2, ('tape', 0): 2, ('pple', 0): 3, ('infern', 0): 3, ('affair', 0): 4, ('sore', 0): 3, ('daili', 0): 1, ('09066364349', 1): 1, ('lose', 1): 1, ('box434sk38wp150ppm18', 1): 1, ('reboot', 0): 2, ('ym', 0): 2, ('buzz', 0): 4, ('googl', 0): 4, ('qet', 0): 1, ('lasagna', 0): 1, ('vodka', 0): 1, ('poci', 0): 1, ('thinkin', 0): 5, ('parkin', 0): 1, ('kent', 0): 1, ('vale', 0): 1, ('marri', 1): 2, ('women', 1): 1, ('discreet', 1): 1, ('action', 1): 2, ('instantli', 1): 1, ('69969', 1): 1, ('bcmsfwc1n3xx', 1): 1, ('step', 0): 2, ('woul', 0): 1, ('curfew', 0): 1, ('gibe', 0): 1, ('getsleep', 0): 1, ('studdi', 0): 1, ('ear', 0): 3, ('alian', 0): 1, ('raja', 0): 1, ('burrito', 0): 1, ('lookatm', 1): 2, ('purchas', 1): 3, ('clip', 1): 1, ('35p', 1): 1, ('better', 1): 1, ('whi', 1): 3, ('mmsto', 1): 1, ('32323', 1): 1, ('jess', 0): 1, ('nightnight', 0): 1, ('repair', 0): 2, ('shopth', 0): 1, ('08718723815', 1): 1, ('fring', 0): 2, ('too', 0): 3, ('distract', 0): 1, ('asap', 0): 3, ('lakh', 0): 1, ('toledo', 0): 1, ('J', 0): 2, ('123', 1): 3, ('competit', 1): 3, ('1450', 1): 2, ('09050002311', 1): 2, ('b4280703', 1): 2, ('tcsstop', 1): 2, ('08718727868', 1): 2, ('tmrw', 0): 2, ('hospit', 0): 3, ('data', 0): 1, ('analysi', 0): 1, ('3G', 1): 2, ('videophon', 1): 2, ('R', 1): 4, ('09063458130', 1): 1, ('videochat', 1): 2, ('wid', 1): 2, ('java', 1): 2, ('dload', 1): 2, ('polyph', 1): 1, ('nolin', 1): 2, ('rentl', 1): 2, ('bx420', 1): 2, ('ip4', 1): 3, ('5we', 1): 3, ('rude', 0): 1, ('campu', 0): 3, ('link', 0): 4, ('pressi', 0): 1, ('fact', 0): 4, ('upset', 0): 2, ('prioriti', 0): 1, ('constantli', 0): 2, ('typic', 0): 1, ('stalk', 0): 1, ('profil', 0): 2, ('yifeng', 0): 1, ('timin', 0): 1, ('yetund', 0): 2, ('period', 0): 3, ('alsoor', 0): 1, ('0870', 1): 3, ('yogasana', 0): 2, ('cine', 0): 5, ('steam', 0): 2, ('suffer', 0): 2, ('fever', 0): 3, ('dysentri', 0): 1, ('narcot', 0): 1, ('yun', 0): 3, ('suntec', 0): 2, ('steamboat', 0): 1, ('burger', 1): 2, ('footi', 1): 1, ('stadium', 1): 1, ('larg', 1): 1, ('super', 1): 2, ('cocacola', 1): 1, ('walk', 1): 1, ('11', 1): 2, ('mnth', 1): 2, ('etc', 1): 5, ('tariff', 1): 4, ('remov', 1): 3, ('luxuri', 1): 1, ('canari', 1): 1, ('island', 1): 1, ('sq825', 0): 1, ('julianaland', 0): 1, ('oblivi', 0): 1, ('upsetit', 0): 1, ('mad', 0): 1, ('taylor', 0): 2, ('mous', 0): 1, ('desk', 0): 1, ('priscilla', 0): 1, ('bbdtht', 0): 1, ('dvg', 0): 1, ('coldheard', 0): 1, ('vinobanagar', 0): 1, ('violenc', 0): 2, ('conditionand', 0): 1, ('mokka', 0): 1, ('lion', 1): 1, ('lionm', 1): 1, ('mono', 1): 2, ('lionp', 1): 1, ('wwwringtonescouk', 1): 1, ('origin', 1): 1, ('3gbp', 1): 1, ('08452810071', 1): 1, ('site', 0): 4, ('download', 0): 6, ('urgent', 0): 2, ('2godid', 0): 1, ('loung', 0): 2, ('approach', 0): 2, ('fwiw', 0): 1, ('afford', 0): 1, ('twenti', 0): 2, ('five', 0): 1, ('durham', 0): 1, ('seat', 0): 1, ('newspap', 0): 1, ('kay', 0): 2, ('capit', 0): 1, ('donno', 0): 2, ('scorabl', 0): 1, ('stuf', 0): 1, ('bleh', 0): 2, ('writh', 0): 1, ('discount', 0): 2, ('empti', 0): 6, ('lennon', 0): 1, ('tantrum', 0): 1, ('avoid', 0): 3, ('missunderstd', 0): 1, ('txtjourney', 0): 1, ('hasnt', 0): 3, ('gdnow', 0): 1, ('50', 0): 4, ('offlin', 0): 1, ('anjola', 0): 1, ('pei', 0): 1, ('sed', 0): 3, ('latr', 0): 3, ('caken', 0): 3, ('idk', 0): 1, ('bawl', 0): 1, ('failur', 0): 1, ('fail', 0): 3, ('riley', 0): 1, ('samu', 0): 1, ('shoulder', 0): 1, ('wwwidewcom', 1): 2, ('skillgam', 1): 2, ('1winaweek', 1): 2, ('age16', 1): 4, ('150ppermesssubscript', 1): 2, ('cup', 0): 3, ('anim', 0): 2, ('clear', 0): 2, ('sarcast', 0): 1, ('updat', 0): 1, ('statu', 0): 2, ('frequent', 0): 1, ('buy', 1): 3, ('space', 1): 2, ('invad', 1): 2, ('orig', 1): 2, ('arcad', 1): 6, ('consol', 1): 2, ('press', 1): 3, ('0', 1): 3, ('o2coukgam', 1): 2, ('set', 1): 4, ('ssindia', 0): 1, ('seri', 0): 3, ('african', 0): 1, ('soil', 0): 1, ('rencontr', 0): 1, ('mountain', 0): 1, ('Re', 0): 1, ('facebook', 0): 5, ('ashley', 0): 1, ('wed', 1): 2, ('tat', 0): 3, ('yiju', 0): 2, ('group', 0): 6, ('askin', 0): 5, ('asshol', 0): 1, ('09111032124', 1): 1, ('pobox12n146tf150p', 1): 1, ('footbal', 1): 1, ('TV', 1): 3, ('ski', 1): 2, ('gamestar', 1): 1, ('250k', 1): 1, ('score', 1): 2, ('saturday', 1): 3, ('nowski', 1): 1, ('88088', 1): 1, ('mila', 1): 2, ('age23', 1): 2, ('blond', 1): 2, ('guy', 1): 4, ('fun', 1): 5, ('mtalk', 1): 2, ('6986618', 1): 2, ('30pptxt', 1): 2, ('5free', 1): 2, ('increment', 1): 2, ('help08718728876', 1): 2, ('mag', 0): 1, ('avo', 0): 1, ('chief', 0): 1, ('royal', 0): 1, ('freerington', 1): 1, ('real1', 1): 1, ('pushbutton', 1): 1, ('dontcha', 1): 1, ('babygoodby', 1): 1, ('golddigg', 1): 1, ('webeburnin', 1): 1, ('6', 1): 4, ('3wk', 1): 2, ('futur', 0): 4, ('yowif', 0): 1, ('hint', 0): 2, ('unni', 0): 1, ('rechargerakhesh', 0): 1, ('pride', 0): 1, ('shouldnt', 0): 3, ('takin', 0): 1, ('grownup', 0): 1, ('stuffwhi', 0): 1, ('releas', 0): 3, ('vday', 0): 1, ('underwear', 0): 2, ('cinema', 0): 1, ('appeal', 0): 1, ('thriller', 0): 1, ('mac', 0): 1, ('830', 0): 2, ('uncl', 0): 8, ('anni', 0): 1, ('X', 0): 3, ('4d', 0): 2, ('1405', 0): 1, ('1680', 0): 1, ('1843', 0): 1, ('giggl', 0): 1, ('person2di', 0): 1, ('nvq', 0): 1, ('07808247860', 1): 1, ('08719899229', 1): 1, ('40411', 1): 1, ('061104', 1): 1, ('Er', 0): 2, ('1526', 0): 1, ('pubcaf', 0): 1, ('chuckin', 0): 1, ('green', 0): 3, ('trainner', 0): 1, ('carryin', 0): 1, ('bac', 0): 1, ('box', 0): 3, ('decad', 0): 1, ('cheaper', 0): 1, ('gover', 0): 1, ('backa', 0): 1, ('necklac', 0): 1, ('token', 0): 1, ('youthat', 0): 1, ('likingb', 0): 1, ('seeno', 0): 1, ('thatdont', 0): 1, ('strt', 1): 1, ('netcollex', 1): 4, ('ltdhelpdesk', 1): 1, ('02085076972', 1): 1, ('inc', 1): 5, ('speak', 1): 7, ('0871277810810', 1): 2, ('eastend', 1): 2, ('flower', 1): 2, ('dot', 1): 2, ('compar', 1): 2, ('D', 1): 4, ('violet', 1): 2, ('E', 1): 4, ('tulip', 1): 2, ('lili', 1): 2, ('84025', 1): 3, ('wkent150p16', 1): 2, ('membership', 1): 1, ('100000', 1): 1, ('jackpot', 1): 1, ('81010', 1): 1, ('wwwdbuknet', 1): 1, ('lccltd', 1): 1, ('4403ldnw1a7rw18', 1): 1, ('fridayhop', 0): 1, ('alternativehop', 0): 1, ('term', 0): 3, ('lit', 0): 1, ('sankranti', 0): 1, ('republ', 0): 1, ('shivratri', 0): 1, ('ugadi', 0): 1, ('independ', 0): 1, ('friendshipmotherfatherteacherschildren', 0): 1, ('ganesh', 0): 2, ('festiv', 0): 1, ('dasara', 0): 1, ('diwali', 0): 1, ('rememberi', 0): 1, ('theseyour', 0): 1, ('raj', 0): 1, ('snatch', 0): 1, ('purs', 0): 2, ('consensu', 0): 1, ('basket', 0): 1, ('shoot', 0): 1, ('yetti', 0): 1, ('bcum', 0): 3, ('childish', 0): 3, ('affect', 0): 2, ('kettoda', 0): 2, ('manda', 0): 2, ('besid', 0): 1, ('warm', 0): 5, ('control', 0): 1, ('ambrithmaduraimet', 0): 1, ('dha', 0): 1, ('marrgeremembr', 0): 1, ('44', 1): 1, ('7732584351', 1): 1, ('3510i', 1): 4, ('deliveredtomorrow', 1): 3, ('with', 1): 5, ('shatter', 0): 1, ('5903', 1): 1, ('09064019788', 1): 1, ('box42wr29c', 1): 1, ('got', 1): 4, ('wrc', 1): 2, ('ralli', 1): 4, ('Oz', 1): 2, ('lucozad', 1): 2, ('energi', 1): 3, ('LE', 1): 2, ('61200', 1): 2, ('25p', 1): 2, ('pack', 1): 2, ('lucozadecoukwrc', 1): 2, ('itcould', 1): 2, ('hahahaus', 0): 2, ('brain', 0): 2, ('clearli', 0): 1, ('decis', 0): 3, ('simpler', 0): 2, ('magic', 0): 2, ('gloucesterroad', 0): 1, ('uup', 0): 1, ('email', 1): 2, ('alertfrom', 1): 1, ('jeri', 1): 1, ('stewarts', 1): 1, ('2kbsubject', 1): 1, ('lowcost', 1): 1, ('prescripiton', 1): 1, ('drvgsto', 1): 1, ('deliv', 1): 2, ('wont', 1): 1, ('believ', 1): 1, ('true', 1): 2, ('it', 1): 2, ('incred', 1): 1, ('G', 1): 2, ('learn', 1): 1, ('truli', 1): 1, ('thing', 1): 2, ('blow', 1): 1, ('mind', 1): 2, ('o2fwd', 1): 1, ('18ptxt', 1): 1, ('upload', 0): 2, ('smsservic', 1): 1, ('yourinclus', 1): 1, ('S', 0): 5, ('tablet', 0): 2, ('reaction', 0): 2, ('coulda', 0): 1, ('tip', 0): 1, ('üll', 0): 2, ('2004', 1): 4, ('0784987', 1): 1, ('786', 1): 1, ('08719180219', 1): 1, ('45239', 1): 1, ('060505', 1): 1, ('sparkl', 1): 1, ('45', 1): 1, ('0121', 1): 1, ('2025050', 1): 1, ('wwwshortbreaksorguk', 1): 1, ('wifi', 0): 1, ('ipad', 0): 1, ('09050003091', 1): 2, ('c52', 1): 2, ('dress', 0): 2, ('sathya', 0): 2, ('singl', 0): 4, ('sac', 0): 2, ('hundredh', 0): 1, ('batsman', 0): 1, ('butt', 0): 2, ('caller', 0): 4, ('4the', 0): 1, ('conveni', 0): 1, ('broth', 0): 1, ('ramen', 0): 1, ('08717898035', 1): 2, ('unsub', 1): 3, ('X', 1): 4, ('netflix', 0): 1, ('Oi', 0): 1, ('fix', 0): 3, ('teethif', 0): 1, ('asapok', 0): 1, ('srt', 0): 1, ('ps3', 0): 1, ('usb', 0): 1, ('goigng', 0): 1, ('perfum', 0): 1, ('no', 0): 1, ('prepar', 0): 3, ('adult', 1): 2, ('noit', 0): 1, ('ful', 0): 2, ('lyric', 0): 1, ('zaher', 0): 1, ('excit', 0): 1, ('chad', 0): 1, ('gymnast', 0): 1, ('christian', 0): 1, ('eldest', 0): 1, ('minstand', 0): 1, ('jia', 0): 1, ('mandan', 0): 1, ('mell', 0): 6, ('oru', 0): 3, ('minnaminungint', 0): 3, ('nurungu', 0): 3, ('vettam', 0): 3, ('callertun', 0): 6, ('press', 0): 4, ('proof', 0): 2, ('rupaul', 0): 1, ('tool', 0): 2, ('wee', 0): 1, ('tm', 0): 2, ('studyn', 0): 1, ('aptitud', 0): 1, ('freemsg', 1): 6, ('86888', 1): 1, ('talk', 1): 1, ('subscribe6gbpmnth', 1): 1, ('3hr', 1): 1, ('stoptxtstop', 1): 1, ('09066364589', 1): 2, ('king', 0): 2, ('hill', 0): 3, ('swashbuckl', 0): 1, ('jan', 0): 2, ('whn', 0): 2, ('ofic', 0): 1, ('oficegot', 0): 1, ('duffer', 0): 1, ('vikkyim', 0): 1, ('otsid', 0): 2, ('nw', 0): 2, ('loveabl', 0): 1, ('etern', 0): 1, ('nobl', 0): 1, ('intim', 0): 1, ('natur', 0): 6, ('enam', 0): 1, ('advanc', 0): 1, ('leg', 0): 2, ('neck', 0): 1, ('amigo', 0): 1, ('burn', 0): 2, ('beneath', 0): 1, ('pale', 0): 1, ('moon', 0): 2, ('goodnit', 0): 2, ('btwn', 0): 1, ('rout', 0): 1, ('center', 0): 2, ('tootsi', 0): 1, ('Up', 0): 1, ('stripe', 0): 1, ('skirt', 0): 1, ('tabl', 0): 1, ('eight', 0): 3, ('vote', 0): 1, ('wherev', 0): 4, ('guid', 0): 3, ('hotel', 0): 3, ('dusk', 0): 1, ('puzzl', 0): 1, ('08707500020', 1): 1, ('mentor', 0): 1, ('100', 0): 1, ('percent', 0): 1, ('dointerest', 1): 1, ('sextextukcom', 1): 1, ('xxuk', 1): 1, ('suzi', 1): 1, ('69876', 1): 1, ('tnc', 1): 2, ('websit', 1): 1, ('godnot', 0): 1, ('jesu', 0): 2, ('piggi', 0): 1, ('dark', 0): 2, ('shine', 0): 2, ('ou', 1): 1, ('83355', 1): 1, ('ibhltd', 1): 1, ('ldnw15h', 1): 1, ('150pmtmsgrcvd18', 1): 1, ('hostbas', 0): 1, ('idp', 0): 1, ('linux', 0): 1, ('leo', 0): 1, ('knowthi', 0): 1, ('tirunelvai', 0): 1, ('workin', 0): 3, ('overtim', 0): 1, ('nigpun', 0): 1, ('yeh', 0): 1, ('kane', 0): 1, ('shud', 0): 1, ('7634', 1): 1, ('7684', 1): 1, ('same', 0): 6, ('goodenviron', 0): 2, ('terrif', 0): 2, ('slipperi', 0): 1, ('09066649731from', 1): 1, ('notifi', 1): 1, ('futur', 1): 1, ('market', 1): 1, ('84122', 1): 1, ('08450542832', 1): 1, ('consid', 0): 4, ('09066362231', 1): 3, ('07xxxxxxxxx', 1): 2, ('21870000hi', 1): 2, ('mailbox', 1): 2, ('09056242159', 1): 2, ('retriev', 1): 2, ('cc100pmin', 1): 1, ('ujhhhhhhh', 0): 1, ('sandiago', 0): 1, ('parantella', 0): 1, ('poop', 0): 1, ('scienc', 0): 2, ('asu', 0): 1, ('randomli', 0): 1, ('reformat', 0): 1, ('truekdo', 0): 1, ('expert', 0): 1, ('galcan', 0): 1, ('boyi', 0): 1, ('galno', 0): 1, ('jst', 0): 1, ('heaven', 0): 1, ('princegn', 0): 1, ('thx', 0): 2, ('sth', 0): 1, ('spec', 0): 1, ('membership', 0): 1, ('px3748', 0): 1, ('dayexcept', 0): 1, ('gain', 0): 3, ('kg', 0): 1, ('pressur', 0): 1, ('within', 0): 3, ('limit', 0): 2, ('jeremiah', 0): 1, ('xclusiveclubsaisai', 1): 1, ('2morow', 1): 1, ('285', 1): 1, ('soire', 1): 1, ('zouk', 1): 1, ('nichol', 1): 1, ('parisfre', 1): 1, ('rose', 1): 1, ('all', 1): 1, ('0794674629107880867867', 1): 1, ('pant', 0): 1, ('poyyarikaturkolathupalayamunjalur', 0): 1, ('posterod', 0): 1, ('worc', 0): 1, ('foreg', 0): 1, ('shrub', 0): 1, ('free2day', 1): 1, ('sexi', 1): 8, ('St', 1): 1, ('georg', 1): 1, ('jordantxt', 1): 1, ('89080', 1): 1, ('sauci', 1): 2, ('celeb4', 1): 1, ('c', 1): 1, ('pocketbabecouk', 1): 1, ('0870241182716', 1): 1, ('prospect', 0): 2, ('grave', 0): 2, ('fish', 0): 2, ('memori', 0): 1, ('OH', 0): 3, ('MR', 0): 1, ('sheffield', 0): 2, ('em', 0): 4, ('someplac', 0): 1, ('order', 0): 5, ('slipper', 0): 2, ('carri', 0): 2, ('98321561', 0): 1, ('familiar', 0): 1, ('1225', 1): 1, ('50award', 1): 1, ('3100', 1): 2, ('cantdo', 0): 1, ('anythingtomorrow', 0): 1, ('mypar', 0): 1, ('aretak', 0): 1, ('outfor', 0): 1, ('katexxx', 0): 1, ('big', 1): 1, ('brother', 1): 1, ('comput', 1): 2, ('10k', 1): 3, ('09064018838', 1): 1, ('cro1327', 1): 1, ('BT', 1): 2, ('voicemail', 1): 1, ('08719181503', 1): 1, ('petey', 0): 1, ('wherear', 0): 1, ('friendsar', 0): 1, ('thekingshead', 0): 1, ('canlov', 0): 1, ('nic', 0): 2, ('cornwal', 0): 1, ('shite', 0): 1, ('kip', 0): 1, ('Ew', 0): 1, ('do', 0): 1, ('09061744553', 1): 1, ('polyh', 1): 1, ('ph', 0): 1, ('call2optouthf8', 1): 1, ('breez', 0): 1, ('bright', 0): 2, ('fresh', 0): 1, ('flower', 0): 2, ('twitter', 0): 1, ('bird', 0): 2, ('0871277810710pmin', 1): 1, ('groov', 0): 1, ('exe', 0): 3, ('sfrom', 0): 1, ('manual', 0): 1, ('tech', 0): 1, ('processit', 0): 1, ('reset', 0): 1, ('troubleshoot', 0): 1, ('mina', 0): 1, ('ull', 0): 4, ('announc', 1): 3, ('unabl', 1): 1, ('07090298926', 1): 1, ('reschedul', 1): 1, ('ref9307622', 1): 1, ('loud', 0): 2, ('gurl', 0): 1, ('appropri', 0): 1, ('harri', 0): 1, ('gwr', 0): 1, ('progress', 0): 1, ('continu', 0): 2, ('funer', 0): 2, ('random', 0): 3, ('browsin', 0): 1, ('compulsori', 0): 1, ('jane', 0): 1, ('chuck', 0): 1, ('anywher', 0): 3, ('wipro', 0): 1, ('interview', 0): 3, ('surnam', 0): 1, ('clue', 0): 1, ('spanish', 0): 1, ('begin', 0): 2, ('aslamalaikkuminsha', 0): 1, ('allah', 0): 3, ('tohar', 0): 1, ('beeen', 0): 1, ('muht', 0): 1, ('albi', 0): 1, ('mufti', 0): 1, ('mahfuuzmean', 0): 1, ('onlydon', 0): 1, ('block', 1): 1, ('breaker', 1): 1, ('delux', 1): 1, ('format', 1): 1, ('featur', 1): 1, ('graphic', 1): 1, ('tmobil', 1): 2, ('bbdelux', 1): 1, ('challeng', 1): 1, ('ahead', 0): 3, ('yunni', 0): 1, ('onword', 0): 1, ('mtnl', 0): 1, ('mumbai', 0): 1, ('cannt', 0): 1, ('2year', 0): 1, ('strain', 0): 1, ('dime', 0): 2, ('receipt', 0): 2, ('BE', 1): 1, ('realiti', 1): 1, ('21', 1): 1, ('creep', 0): 2, ('sarasota', 0): 2, ('yell', 0): 1, ('scrappi', 0): 1, ('241', 1): 1, ('3lion', 1): 1, ('click', 1): 2, ('tirupur', 0): 1, ('peni', 0): 1, ('tap', 0): 2, ('spile', 0): 2, ('seven', 0): 3, ('broad', 0): 2, ('canal', 0): 2, ('mittelschmertz', 0): 1, ('paracetamol', 0): 1, ('doke', 0): 1, ('lay', 0): 2, ('asthma', 0): 1, ('attack', 0): 1, ('fishrman', 0): 1, ('sack', 0): 2, ('stone', 0): 2, ('strtd', 0): 1, ('throwin', 0): 1, ('in2', 0): 1, ('atlast', 0): 1, ('1stone', 0): 1, ('moraldont', 0): 1, ('ffffuuuuuuu', 0): 1, ('hai', 0): 2, ('ana', 0): 1, ('sathi', 0): 1, ('rto', 0): 1, ('uniqu', 0): 1, ('deserv', 0): 1, ('oclock', 0): 1, ('bash', 0): 1, ('flat', 0): 3, ('09058094565', 1): 2, ('x49your', 1): 1, ('09065989182', 1): 2, ('aunti', 0): 4, ('shrek', 0): 1, ('3db', 0): 1, ('jack', 0): 1, ('sayask', 0): 1, ('pretend', 0): 1, ('respons', 0): 2, ('hypotheticalhuagauahahuagahyuhagga', 0): 1, ('melik', 0): 1, ('4a', 0): 2, ('rayman', 1): 1, ('golf', 1): 1, ('activ8', 1): 1, ('key', 1): 1, ('termsappli', 1): 1, ('money', 1): 2, ('wine', 1): 1, ('946', 1): 1, ('wot', 1): 1, ('super', 0): 2, ('danalla', 0): 1, ('import', 1): 5, ('dept', 1): 1, ('13404', 1): 1, ('08717507382', 1): 1, ('spiritu', 0): 1, ('dearli', 0): 3, ('hcl', 0): 1, ('fresher', 0): 1, ('processexcel', 0): 1, ('neededsalari', 0): 1, ('upto', 0): 2, ('mssuman', 0): 1, ('indyarockscom', 0): 1, ('slide', 0): 2, ('grown', 0): 1, ('89545', 1): 2, ('todayfrom', 1): 2, ('www4tcbiz', 1): 2, ('2optout', 1): 3, ('08718726270150gbpmtmsg18', 1): 2, ('helloooo', 0): 2, ('Ma', 0): 1, ('swell', 0): 1, ('630', 0): 2, ('program', 0): 2, ('slack', 0): 1, ('6230', 1): 1, ('pobox11414tcrw1', 1): 1, ('youwhen', 0): 1, ('permiss', 0): 1, ('retard', 0): 1, ('kbut', 0): 1, ('hitteranyway', 0): 1, ('simul', 0): 1, ('accentur', 0): 1, ('goal', 0): 1, ('chikkuwat', 0): 1, ('plural', 0): 1, ('noun', 0): 1, ('univ', 0): 1, ('app', 0): 2, ('geeee', 0): 5, ('misbehav', 0): 2, ('fault', 0): 4, ('revers', 0): 2, ('mathemat', 0): 2, ('horniest', 1): 1, ('2nite', 1): 1, ('nytec2a3lpmsg150p', 1): 1, ('guilti', 0): 2, ('20', 0): 3, ('yesbut', 0): 1, ('math', 0): 3, ('chapter', 0): 1, ('againlov', 0): 1, ('5I', 0): 1, ('dread', 0): 1, ('thou', 0): 1, ('sink', 0): 1, ('pace', 0): 1, ('cage', 0): 1, ('cock', 0): 1, ('surround', 0): 1, ('cuck', 0): 1, ('kalainar', 0): 1, ('officethenampet', 0): 1, ('del', 0): 1, ('sum', 0): 2, ('lucyxx', 0): 1, ('survey', 0): 1, ('premier', 1): 1, ('542', 1): 2, ('0578', 1): 1, ('Wa', 0): 2, ('openin', 0): 1, ('formal', 0): 1, ('weighthaha', 0): 1, ('harish', 0): 1, ('acnt', 0): 1, ('ow', 0): 1, ('deyi', 0): 1, ('paid', 0): 2, ('60400thousadi', 0): 1, ('mt', 0): 3, ('2day', 0): 1, ('6pm', 0): 2, ('soup', 0): 2, ('yummmm', 0): 1, ('footbal', 0): 1, ('basketbal', 0): 1, ('outdoor', 0): 1, ('lipo', 0): 1, ('funni', 0): 3, ('complementari', 1): 1, ('wa14', 1): 1, ('2px', 1): 1, ('sender', 1): 1, ('hol', 1): 2, ('ta', 0): 2, ('vtire', 0): 1, ('inspect', 0): 1, ('nurseri', 0): 1, ('spk', 0): 2, ('slept', 0): 2, ('timey', 0): 1, ('playng', 0): 1, ('1s', 0): 2, ('cust', 1): 3, ('deartak', 0): 1, ('hunonbu', 0): 1, ('2go', 0): 2, ('donyt', 0): 1, ('homebut', 0): 1, ('latelyxxx', 0): 1, ('shock', 0): 2, ('error', 0): 2, ('difficulti', 0): 1, ('med', 0): 6, ('4u', 0): 1, ('california', 0): 2, ('drunk', 0): 2, ('motherfuck', 0): 1, ('daysso', 0): 1, ('finalis', 0): 1, ('visitne', 0): 1, ('nowonion', 0): 1, ('musthu', 0): 2, ('vl', 0): 5, ('woould', 0): 1, ('afternon', 0): 1, ('brought', 0): 1, ('shini', 0): 1, ('constant', 0): 1, ('nvm', 0): 2, ('hella', 0): 4, ('0776xxxxxxx', 1): 1, ('upgrdcentr', 1): 1, ('may', 1): 5, ('upgrad', 1): 3, ('0207', 1): 2, ('153', 1): 2, ('9153', 1): 1, ('26th', 1): 1, ('juli', 1): 2, ('jap', 0): 1, ('12', 0): 4, ('west', 0): 2, ('coast', 0): 2, ('haiz', 0): 2, ('09061749602', 1): 1, ('528', 1): 1, ('hp20', 1): 1, ('1yf', 1): 1, ('dialogu', 0): 1, ('reltnship', 0): 1, ('wipe', 0): 1, ('off', 0): 2, ('timegud', 0): 1, ('first', 1): 3, ('87131', 1): 4, ('0845', 1): 2, ('2814032', 1): 1, ('3x', 1): 1, ('150pw', 1): 1, ('nd', 1): 1, ('audrey', 0): 2, ('anal', 0): 1, ('sex', 0): 1, ('gang', 0): 3, ('bang', 0): 2, ('wesley', 0): 2, ('cstore', 0): 1, ('bro', 0): 3, ('religi', 0): 1, ('valu', 0): 5, ('evn', 0): 1, ('evr', 0): 1, ('prop', 0): 1, ('challeng', 0): 1, ('godyou', 0): 1, ('tact', 0): 1, ('tlk', 0): 2, ('panalambut', 0): 1, ('HM', 0): 1, ('slob', 0): 1, ('rubber', 0): 1, ('innoc', 0): 2, ('5terror', 0): 1, ('6cruel', 0): 1, ('7romant', 0): 1, ('8lovabl', 0): 1, ('9decent', 0): 1, ('joker', 0): 1, ('nightsw', 0): 1, ('port', 0): 1, ('liaotoo', 0): 1, ('familymay', 0): 1, ('stabil', 0): 1, ('tranquil', 0): 1, ('vibrant', 0): 1, ('zoe', 0): 1, ('shitin', 0): 1, ('myself', 0): 1, ('IL', 0): 3, ('defo', 0): 1, ('hardest', 0): 1, ('lekdog', 0): 1, ('jog', 0): 1, ('G', 0): 2, ('loss', 0): 3, ('tom', 0): 2, ('categori', 0): 1, ('measur', 0): 2, ('ethnic', 0): 1, ('censu', 0): 1, ('transcrib', 0): 1, ('07808726822', 1): 1, ('020903', 1): 1, ('08718729758', 1): 1, ('box95qu', 1): 1, ('reveal', 1): 5, ('So', 1): 2, ('09065174042', 1): 2, ('recd', 1): 2, ('07821230901', 1): 2, ('passport', 0): 1, ('En', 0): 1, ('nang', 0): 1, ('bakra', 0): 1, ('kalstiyathen', 0): 1, ('teacoffe', 0): 1, ('everyso', 0): 1, ('often', 0): 3, ('panick', 0): 1, ('bein', 0): 1, ('surya', 0): 1, ('pokkiri', 0): 1, ('pickl', 0): 2, ('justthought', 0): 1, ('sayhey', 0): 1, ('doinnearli', 0): 1, ('endof', 0): 1, ('offdam', 0): 1, ('nevamindw', 0): 1, ('2hook', 0): 1, ('uwant', 0): 1, ('m8', 0): 1, ('lovejen', 0): 1, ('bleak', 0): 1, ('postpon', 0): 1, ('gautham', 0): 1, ('armenia', 0): 1, ('swann', 0): 1, ('howard', 0): 1, ('tog', 0): 3, ('express', 0): 2, ('someonethat', 0): 1, ('seperated鈥', 0): 1, ('〨ud', 0): 1, ('tookplac', 0): 1, ('ghodbandar', 0): 1, ('slove', 0): 1, ('slip', 0): 2, ('investig', 0): 1, ('centr', 0): 1, ('hmmmkbut', 0): 1, ('field', 0): 1, ('administr', 0): 2, ('desert', 0): 1, ('geoenvironment', 0): 1, ('implic', 0): 1, ('okcom', 0): 1, ('taxt', 0): 1, ('massagetiepo', 0): 1, ('argh', 0): 2, ('lool', 0): 1, ('dice', 0): 1, ('amk', 0): 1, ('tea', 0): 5, ('senthil', 0): 1, ('apnt', 0): 1, ('5pm', 0): 2, ('mushi', 0): 1, ('embarrass', 0): 1, ('ccna', 0): 1, ('optimist', 0): 1, ('Ge', 0): 1, ('philosophi', 0): 1, ('wan2', 1): 1, ('meetgreet', 1): 1, ('westlif', 1): 1, ('they', 1): 1, ('tour', 1): 1, ('1unbreak', 1): 1, ('2untam', 1): 1, ('3unkempt', 1): 1, ('83049', 1): 1, ('rahul', 0): 1, ('dengra', 0): 1, ('breadstick', 0): 1, ('drivin', 0): 3, ('ummmmmaah', 0): 2, ('prabhaim', 0): 1, ('sorydarealyfrm', 0): 1, ('sori', 0): 1, ('ton', 0): 1, ('coin', 0): 2, ('paypal', 0): 1, ('voila', 0): 1, ('pocket', 0): 1, ('hockey', 0): 1, ('elect', 0): 1, ('med', 1): 1, ('stamp', 1): 1, ('self', 1): 1, ('address', 1): 1, ('envelop', 1): 1, ('drink', 1): 1, ('Us', 1): 1, ('113', 1): 1, ('bray', 1): 1, ('wicklow', 1): 1, ('eir', 1): 1, ('deu', 0): 2, ('veggi', 0): 1, ('k718', 1): 1, ('09065069120', 1): 1, ('sinco', 0): 1, ('paye', 0): 1, ('icicibankcom', 0): 1, ('urn', 0): 2, ('bewar', 0): 1, ('fraud', 0): 1, ('disclos', 0): 1, ('li', 0): 1, ('maili', 0): 1, ('varma', 0): 1, ('kept', 0): 1, ('regard', 0): 6, ('membershiptak', 0): 1, ('careinsha', 0): 1, ('captain', 0): 3, ('vijaykanth', 0): 1, ('tvhe', 0): 1, ('drunken', 0): 2, ('braini', 0): 1, ('chikkuk', 0): 1, ('msging', 0): 2, ('swoop', 0): 1, ('payback', 0): 1, ('splash', 0): 1, ('edg', 0): 1, ('underdtand', 0): 1, ('lodg', 0): 1, ('belong', 0): 1, ('herwho', 0): 1, ('fate', 0): 1, ('shoranur', 0): 1, ('incid', 0): 2, ('fuell', 0): 1, ('concern', 0): 2, ('prior', 0): 1, ('grief', 0): 1, ('chain', 0): 2, ('against', 0): 1, ('importantli', 0): 1, ('burden', 0): 1, ('lanr', 0): 1, ('fakey', 0): 1, ('eckankar', 0): 1, ('alreadysabarish', 0): 1, ('vewi', 0): 2, ('lubli', 0): 1, ('wisdom', 0): 2, ('teeth', 0): 1, ('hidden', 0): 1, ('09061221061', 1): 1, ('28day', 1): 1, ('box177', 1): 1, ('m221bp', 1): 1, ('2yr', 1): 1, ('warranti', 1): 1, ('p', 1): 2, ('399', 1): 1, ('womdarful', 0): 1, ('actor', 0): 1, ('exact', 0): 2, ('ovulatewhen', 0): 1, ('3wk', 0): 1, ('fret', 0): 2, ('relax', 0): 3, ('histori', 0): 2, ('quarter', 0): 1, ('hot', 0): 2, ('brison', 0): 1, ('languag', 0): 2, ('yeahand', 0): 1, ('newquaysend', 0): 1, ('postcard', 0): 2, ('while', 0): 1, ('goneu', 0): 1, ('1im', 0): 1, ('talkin', 0): 1, ('boutxx', 0): 1, ('tonex', 1): 1, ('renew', 1): 1, ('choos', 1): 7, ('wwwclubzedcouk', 1): 1, ('webadr', 0): 1, ('gete', 0): 1, ('salari', 0): 3, ('Eh', 0): 2, ('ger', 0): 1, ('toke', 0): 1, ('syd', 0): 1, ('lehhaha', 0): 1, ('forgt', 0): 1, ('previou', 0): 2, ('base', 0): 2, ('rate', 0): 2, ('regular', 0): 1, ('strongli', 0): 1, ('sacrific', 0): 2, ('creativ', 0): 1, ('stifl', 0): 1, ('aathilov', 0): 1, ('transfer', 0): 1, ('differb', 0): 1, ('borrow', 0): 1, ('miiiiiiissssssssss', 0): 1, ('teresa', 0): 1, ('packag', 0): 3, ('dec', 0): 1, ('thot', 0): 1, ('yould', 0): 1, ('fantast', 0): 3, ('bam', 0): 1, ('aid', 0): 2, ('usml', 0): 1, ('sim', 1): 4, ('door', 1): 1, ('OK', 1): 2, ('88600', 1): 1, ('exp', 1): 1, ('30apr', 1): 1, ('bootydeli', 1): 1, ('32f', 1): 1, ('yes434', 1): 1, ('no434', 1): 1, ('wwwsmsacubootydeli', 1): 1, ('hmmmi', 0): 1, ('swimsuit', 0): 1, ('Lk', 0): 1, ('specialis', 0): 1, ('labor', 0): 1, ('sha', 0): 2, ('shakara', 0): 1, ('beggar', 0): 1, ('embarass', 0): 3, ('tag', 0): 1, ('messi', 0): 2, ('pictur', 0): 4, ('laundri', 0): 2, ('bra', 0): 1, ('strewn', 0): 1, ('pillow', 0): 1, ('floor', 0): 1, ('occur', 0): 2, ('vidnot', 0): 1, ('finishd', 0): 1, ('gonnamissu', 0): 1, ('muchi', 0): 1, ('butther', 0): 1, ('abouta', 0): 1, ('merememberin', 0): 1, ('asther', 0): 1, ('ofsi', 0): 1, ('breakin', 0): 1, ('contract', 0): 1, ('yaxx', 0): 1, ('thout', 0): 1, ('quiet', 0): 2, ('beth', 0): 1, ('charli', 0): 1, ('tick', 0): 6, ('current', 0): 3, ('bought', 1): 1, ('so', 0): 1, ('peopl', 1): 1, ('09090204448', 1): 1, ('there', 1): 2, ('minapn', 1): 1, ('ls278bb', 1): 1, ('kz', 0): 2, ('sura', 0): 2, ('given', 0): 2, ('ultimatum', 0): 2, ('countin', 0): 2, ('aburo', 0): 2, ('08719899230', 1): 1, ('brought', 1): 2, ('gmw', 1): 1, ('connect', 1): 2, ('aveng', 0): 1, ('wereth', 0): 1, ('monkeespeopl', 0): 1, ('monkeyaround', 0): 1, ('howdi', 0): 1, ('howu', 0): 1, ('foundurself', 0): 1, ('jobyet', 0): 1, ('sausagelov', 0): 1, ('jen', 0): 2, ('reali', 0): 1, ('soz', 0): 1, ('imat', 0): 1, ('apolog', 0): 1, ('admit', 0): 1, ('hhahhaahahah', 0): 1, ('nig', 0): 1, ('leonardo', 0): 1, ('toot', 0): 1, ('multimedia', 0): 1, ('sweater', 0): 1, ('mango', 0): 1, ('size', 0): 1, ('hun', 0): 1, ('2nitetel', 0): 1, ('every1', 0): 1, ('ava', 0): 1, ('goodtimeoli', 0): 1, ('melnit', 0): 1, ('ifink', 0): 1, ('sortedbut', 0): 1, ('everythin', 0): 1, ('monl8rsx', 0): 1, ('blastin', 0): 1, ('tsunami', 0): 2, ('rajnik', 0): 1, ('swim', 0): 1, ('oceand', 0): 1, ('dayu', 0): 2, ('lover', 0): 3, ('dear1', 0): 2, ('best1', 0): 2, ('clos1', 0): 2, ('lvblefrnd', 0): 2, ('jstfrnd', 0): 2, ('cutefrnd', 0): 2, ('lifpartnr', 0): 2, ('swtheart', 0): 2, ('bstfrnd', 0): 2, ('rpli', 0): 4, ('enemi', 0): 2, ('connect', 0): 3, ('lotr', 0): 1, ('jacket', 0): 2, ('presnt', 0): 1, ('bcz', 0): 1, ('mi', 0): 3, ('jeevithathil', 0): 1, ('irulina', 0): 1, ('neekunna', 0): 1, ('prakasamanu', 0): 1, ('sneham', 0): 1, ('prakasam', 0): 1, ('ennal', 0): 1, ('prabha', 0): 2, ('mn', 0): 1, ('islov', 0): 1, ('SN', 1): 1, ('pobox202', 1): 1, ('nr31', 1): 1, ('7z', 1): 1, ('450pw', 1): 1, ('saeed', 0): 1, ('cannot', 0): 3, ('rdi', 0): 1, ('comp', 0): 1, ('wherr', 0): 1, ('agre', 0): 1, ('impress', 0): 2, ('patti', 0): 2, ('donew', 0): 1, ('haul', 0): 1, ('Xy', 0): 1, ('auction', 0): 1, ('biola', 0): 1, ('ach', 0): 2, ('dorm', 0): 1, ('scroung', 0): 2, ('tour', 0): 3, ('fassyol', 0): 1, ('blacko', 0): 1, ('londn', 0): 1, ('squeez', 0): 1, ('drama', 0): 1, ('plsi', 0): 1, ('struggl', 0): 1, ('strang', 0): 2, ('placeno', 0): 1, ('ego', 0): 1, ('necess', 0): 1, ('gowait', 0): 1, ('reppurcuss', 0): 1, ('wondarful', 0): 1, ('3230', 0): 1, ('textbook', 0): 1, ('algorithm', 0): 1, ('edit', 0): 1, ('kilo', 0): 1, ('drunkard', 0): 1, ('oz', 0): 1, ('movi', 1): 2, ('89105', 1): 1, ('film', 1): 2, ('ts', 1): 1, ('cs', 1): 1, ('follow', 0): 1, ('electr', 0): 1, ('websit', 0): 2, ('spacebuck', 0): 1, ('wah', 0): 1, ('condit', 0): 1, ('continu', 1): 1, ('in2', 1): 1, ('name', 1): 6, ('US', 1): 1, ('presid', 1): 1, ('80082', 1): 1, ('essenti', 0): 1, ('idiot', 0): 2, ('looovvv', 0): 1, ('multi', 0): 1, ('sirsalam', 0): 1, ('alaikkumprid', 0): 1, ('shopw', 0): 1, ('qatarrakhesh', 0): 1, ('indianpl', 0): 1, ('numberrespect', 0): 1, ('tp', 0): 1, ('alrit', 0): 4, ('hunnywot', 0): 1, ('chillin', 0): 2, ('MO', 0): 2, ('bedroomlov', 0): 1, ('hvae', 1): 1, ('09061701444', 1): 1, ('24', 1): 1, ('acl03530150pm', 1): 1, ('betta', 0): 1, ('invest', 0): 1, ('product', 0): 1, ('treasur', 0): 1, ('window', 0): 2, ('logoff', 0): 1, ('09096102316', 1): 1, ('2moro', 1): 1, ('luv', 1): 3, ('jane', 1): 1, ('xx', 1): 2, ('1minmoremobsemspobox45po139wa', 1): 1, ('nok', 1): 1, ('87021', 1): 2, ('dub', 0): 1, ('je', 0): 1, ('quot', 0): 1, ('jerri', 0): 1, ('cartoon', 0): 4, ('witin', 0): 1, ('purchas', 0): 1, ('freemsgfav', 1): 1, ('tonesrepli', 1): 1, ('payasam', 0): 1, ('rinu', 0): 1, ('salespe', 0): 1, ('meanwhil', 0): 1, ('pase', 0): 1, ('un', 0): 1, ('buen', 0): 1, ('tiempo', 0): 1, ('comprehens', 0): 1, ('minu', 0): 1, ('paragraph', 0): 1, ('yesterday', 1): 1, ('09061702893', 1): 1, ('call2optoutf4q', 1): 1, ('ER', 0): 1, ('enjoyin', 0): 1, ('moyep', 0): 1, ('sall', 0): 1, ('hehe', 0): 1, ('shexi', 0): 1, ('Xx', 0): 1, ('sao', 0): 1, ('anyplac', 0): 1, ('golden', 0): 1, ('truli', 0): 1, ('webpag', 0): 1, ('aiyo', 0): 3, ('pai', 0): 1, ('seh', 0): 1, ('variou', 0): 1, ('yeovil', 0): 1, ('motor', 0): 1, ('max', 0): 1, ('state', 0): 1, ('kall', 0): 1, ('bestcongrat', 0): 1, ('naughti', 0): 2, ('boooo', 0): 1, ('lov', 0): 1, ('nevr', 0): 1, ('unrecogn', 0): 1, ('somon', 0): 1, ('definitli', 0): 1, ('undrstnd', 0): 1, ('L', 0): 1, ('under', 0): 1, ('envelop', 0): 2, ('tix', 0): 1, ('spous', 0): 1, ('pmt', 0): 1, ('sumthin', 0): 1, ('4give', 0): 1, ('shldxxxx', 0): 1, ('haircut', 0): 1, ('breezi', 0): 1, ('somerset', 0): 1, ('town', 1): 2, ('08700621170150p', 1): 2, ('apeshit', 0): 1, ('banneduk', 1): 1, ('g696ga', 1): 2, ('thanku', 0): 1, ('brainless', 0): 1, ('dolld', 0): 1, ('vehicl', 0): 1, ('sariyag', 0): 1, ('madok', 0): 1, ('barolla', 0): 1, ('forgiv', 0): 1, ('yahoo', 0): 4, ('messeng', 0): 1, ('hundr', 0): 2, ('faith', 0): 1, ('possiblehop', 0): 1, ('worklov', 0): 1, ('beautifulmay', 0): 1, ('three', 0): 2, ('christmasmerri', 0): 1, ('babysit', 0): 1, ('An', 0): 2, ('misundrstud', 0): 1, ('Gn', 0): 1, ('version', 0): 4, ('threat', 0): 1, ('shifad', 0): 1, ('complaint', 0): 1, ('hiwhat', 0): 1, ('match', 0): 2, ('havin', 0): 1, ('goin2b', 0): 1, ('only1mor', 0): 1, ('jazz', 0): 2, ('hiphop', 0): 1, ('kitti', 0): 1, ('shave', 0): 1, ('jetton', 0): 1, ('clarifi', 0): 1, ('prepon', 0): 1, ('didntgiv', 0): 1, ('bellearli', 0): 1, ('hunnyjust', 0): 1, ('bedbut', 0): 1, ('thepub', 0): 1, ('l8tr', 0): 2, ('uwana', 0): 1, ('jenxxx', 0): 1, ('coveragd', 0): 1, ('vasai', 0): 1, ('4o', 0): 1, ('fakemi', 0): 1, ('reffer', 0): 1, ('uif', 0): 1, ('geti', 0): 1, ('rsi', 0): 1, ('acc', 0): 1, ('silenc', 0): 1, ('himthen', 0): 1, ('toshiba', 0): 2, ('porteg', 0): 1, ('m100', 0): 1, ('ambiti', 0): 1, ('cupboard', 0): 1, ('dentist', 0): 1, ('elain', 0): 1, ('tomorro', 0): 1, ('phone750', 1): 1, ('7th', 0): 2, ('6th', 0): 2, ('5th', 0): 2, ('4th', 0): 3, ('3rd', 0): 2, ('engalnd', 0): 1, ('mia', 0): 1, ('elliot', 0): 1, ('staff', 0): 1, ('amrita', 0): 1, ('hadnt', 0): 1, ('wahay', 0): 1, ('get4an18th', 0): 1, ('function', 0): 1, ('ape', 0): 1, ('tddnewsletteremc1couk', 1): 1, ('thedailydraw', 1): 1, ('helen', 1): 1, ('dozen', 1): 1, ('prizeswith', 1): 1, ('famamu', 0): 1, ('madam', 0): 2, ('realli', 1): 1, ('nake', 1): 1, ('69698', 1): 2, ('snowboard', 0): 1, ('goa', 0): 1, ('jod', 0): 1, ('revis', 0): 1, ('keri', 0): 1, ('bin', 0): 2, ('smidgin', 0): 1, ('collegexx', 0): 1, ('tesco', 0): 1, ('oppos', 0): 1, ('checkin', 0): 1, ('numberso', 0): 1, ('ittb', 0): 1, ('dang', 0): 1, ('fujitsu', 0): 2, ('lifebook', 0): 1, ('pathaya', 0): 1, ('enketa', 0): 1, ('maraikara', 0): 1, ('stereo', 0): 1, ('unknown', 0): 1, ('nasti', 0): 1, ('dri', 0): 2, ('shot', 0): 1, ('2000', 0): 1, ('tke', 0): 1, ('infra', 0): 1, ('meal', 1): 1, ('pc', 1): 1, ('dine', 1): 1, ('experiencehttpwwwvouch4mecometlpdiningasp', 1): 1, ('babi', 1): 2, ('wow', 1): 1, ('cam', 1): 1, ('mobi', 1): 2, ('chatim', 1): 1, ('w8in', 1): 1, ('4utxt', 1): 1, ('rpli', 1): 1, ('82242', 1): 1, ('hlp', 1): 1, ('08712317606', 1): 1, ('msg150p', 1): 1, ('2rcv', 1): 1, ('burial', 0): 1, ('mojibiola', 0): 1, ('rayan', 0): 1, ('macleran', 0): 1, ('eek', 0): 1, ('glo', 0): 1, ('hard', 1): 2, ('121', 1): 1, ('60pmin', 1): 3, ('09094646899', 1): 1, ('biggest', 1): 2, ('VU', 1): 1, ('bcm1896wc1n3xx', 1): 1, ('jon', 0): 1, ('spain', 0): 1, ('recent', 0): 3, ('dinero', 0): 1, ('12000pe', 0): 1, ('48', 0): 1, ('jame', 0): 1, ('nobut', 0): 1, ('direct', 0): 1, ('yeesh', 0): 1, ('spunout', 0): 1, ('wrld', 0): 1, ('nytho', 0): 1, ('TX', 0): 1, ('fonin', 0): 1, ('2mwen', 0): 1, ('BK', 0): 1, ('frmcloud', 0): 1, ('cuddl', 0): 2, ('brisk', 0): 1, ('stagwood', 0): 1, ('winterston', 0): 1, ('victor', 0): 1, ('onedg', 0): 1, ('themob', 1): 2, ('newest', 1): 2, ('gossip', 1): 1, ('babe', 1): 5, ('fit', 1): 1, ('funki', 1): 1, ('82468', 1): 2, ('simpli', 1): 1, ('password', 1): 1, ('85069', 1): 1, ('usher', 1): 1, ('britney', 1): 1, ('fml', 1): 1, ('5249', 1): 1, ('mk17', 1): 1, ('92h', 1): 1, ('450ppw', 1): 1, ('sorryin', 0): 1, ('cosign', 0): 1, ('detailsi', 0): 1, ('youmi', 0): 1, ('kegger', 0): 1, ('jb', 0): 1, ('078', 1): 1, ('08712402779', 1): 1, ('chikkuil', 0): 1, ('sight', 0): 2, ('maintain', 0): 1, ('shja', 0): 1, ('deari', 0): 1, ('soso', 0): 1, ('smsd', 0): 1, ('becz', 0): 1, ('undrstndng', 0): 1, ('930', 0): 1, ('merri', 0): 3, ('xma', 0): 6, ('rhythm', 0): 2, ('establish', 0): 1, ('music', 0): 3, ('templ', 0): 4, ('church', 0): 3, ('serv', 0): 1, ('footi', 0): 1, ('blow', 0): 1, ('phil', 0): 1, ('nevil', 0): 1, ('disc', 0): 1, ('consist', 0): 1, ('practicum', 0): 1, ('garden', 1): 1, ('bulb', 1): 1, ('seed', 1): 1, ('3350', 1): 1, ('scotsman', 1): 1, ('go2', 1): 1, ('notxtcouk', 1): 1, ('secur', 1): 1, ('unsecur', 1): 1, ('cant', 1): 2, ('195', 1): 1, ('6669', 1): 1, ('yummi', 0): 1, ('suzi', 0): 1, ('info', 0): 1, ('couldnt', 0): 4, ('ksri', 0): 1, ('sivatat', 0): 1, ('intrud', 0): 1, ('siva', 0): 1, ('salon', 0): 2, ('touch', 1): 1, ('folk', 1): 1, ('compani', 1): 1, ('commun', 1): 1, ('150psm', 1): 1, ('east', 0): 1, ('place', 1): 2, ('singl', 1): 3, ('favourit', 0): 1, ('nearli', 0): 2, ('430', 0): 2, ('83039', 1): 1, ('62735', 1): 1, ('accommodationvouch', 1): 1, ('mustprovid', 1): 1, ('15541', 1): 1, ('hottest', 1): 1, ('straight', 1): 2, ('wet', 1): 1, ('goodmorningmi', 0): 1, ('grandfath', 0): 1, ('expiredso', 0): 1, ('scrumptiou', 0): 1, ('macha', 0): 1, ('upseti', 0): 1, ('mindsetbeliev', 0): 1, ('uslet', 0): 1, ('againcal', 0): 1, ('anytim', 0): 2, ('vivek', 0): 1, ('087123002209am7pm', 1): 1, ('sip', 0): 1, ('cappuccino', 0): 1, ('cthen', 0): 1, ('conclus', 0): 1, ('pg', 0): 3, ('refer', 0): 3, ('drop', 1): 2, ('IS', 1): 3, ('IT', 1): 2, ('5K', 1): 2, ('travel', 1): 2, ('09064011000', 1): 2, ('cr01327bt', 1): 2, ('fixedlin', 1): 2, ('enc', 0): 1, ('nelson', 0): 1, ('aint', 0): 1, ('ajith', 0): 1, ('Id', 1): 1, ('deepest', 1): 1, ('darkest', 1): 1, ('09094646631', 1): 1, ('nat', 1): 2, ('realiz', 0): 1, ('absenc', 0): 1, ('escal', 0): 1, ('brand', 1): 2, ('7250', 1): 1, ('pshewmiss', 0): 1, ('lookin', 1): 1, ('daytim', 1): 1, ('busti', 1): 1, ('woman', 1): 1, ('sort', 1): 1, ('09099726429', 1): 1, ('janinexx', 1): 1, ('1minmobsmorelkpobox177hp51fl', 1): 2, ('ima', 0): 1, ('fatti', 0): 1, ('burgundi', 0): 1, ('bw', 0): 1, ('gua', 0): 1, ('faber', 0): 1, ('children', 0): 1, ('gastroenter', 0): 1, ('replac', 0): 1, ('reduc', 0): 1, ('self', 0): 3, ('senor', 0): 1, ('sooo', 0): 1, ('contribut', 0): 1, ('greatli', 0): 1, ('qi', 0): 1, ('suddenli', 0): 1, ('5month', 1): 1, ('confirm', 1): 1, ('amongst', 0): 1, ('papa', 0): 1, ('messagestext', 1): 1, ('nowus', 1): 1, ('web2mobil', 1): 1, ('txt250com', 1): 1, ('150pwk', 1): 2, ('box139', 1): 1, ('la32wu', 1): 1, ('txtx', 1): 1, ('2p', 1): 2, ('08448350055', 1): 1, ('planettalkinstantcom', 1): 1, ('Ts', 1): 1, ('kkadvanc', 0): 1, ('abeg', 0): 1, ('profit', 0): 1, ('sponsor', 0): 1, ('thousand', 0): 1, ('n8', 0): 1, ('bahama', 1): 2, ('callfreefon', 1): 1, ('08081560665', 1): 1, ('cruis', 1): 1, ('07786200117', 1): 1, ('mth', 0): 2, ('or', 0): 1, ('stool', 0): 1, ('rule', 0): 3, ('bend', 0): 1, ('thia', 0): 1, ('inlud', 0): 1, ('preview', 0): 1, ('lifei', 0): 1, ('daywith', 0): 1, ('somewheresomeon', 0): 1, ('tosend', 0): 1, ('thangam', 0): 1, ('missin', 0): 2, ('japanes', 0): 1, ('proverb', 0): 1, ('none', 0): 5, ('itu', 0): 1, ('him', 0): 1, ('itleav', 0): 1, ('strike', 0): 1, ('cud', 0): 1, ('730pm', 0): 1, ('theyr', 0): 4, ('lido', 0): 1, ('fan', 0): 1, ('casualti', 0): 1, ('stuff42moro', 0): 1, ('sheet', 0): 2, ('attach', 0): 2, ('castor', 0): 2, ('randomlli', 0): 1, ('panason', 1): 1, ('bluetoothhdset', 1): 1, ('doublemin', 1): 1, ('doubletxt', 1): 1, ('trend', 0): 1, ('pro', 0): 1, ('con', 0): 1, ('brief', 0): 2, ('descript', 0): 1, ('nuclear', 0): 1, ('fusion', 0): 1, ('iter', 0): 1, ('jet', 0): 1, ('blanket', 0): 2, ('lingo', 0): 1, ('sever', 0): 2, ('100603', 1): 1, ('09066368753', 1): 1, ('97n7qp', 1): 1, ('jordan', 1): 1, ('home', 1): 1, ('abroad', 1): 1, ('lone', 1): 1, ('xxsp', 1): 1, ('visionsmscom', 1): 1, ('stopcost', 1): 1, ('08712400603', 1): 1, ('whore', 0): 1, ('unbeliev', 0): 1, ('leu', 0): 1, ('2morrow', 0): 2, ('cheyyamoand', 0): 1, ('09065394514', 1): 1, ('yah', 0): 1, ('karnan', 0): 1, ('galileo', 0): 1, ('dobbi', 0): 2, ('021', 1): 1, ('3680offer', 1): 1, ('28thfebtc', 1): 1, ('pattern', 0): 1, ('emerg', 0): 1, ('fiendmak', 0): 1, ('muchimped', 0): 1, ('hesit', 0): 2, ('addict', 0): 2, ('loneli', 0): 1, ('pierr', 0): 1, ('cardin', 0): 1, ('resum', 0): 1, ('minimum', 0): 1, ('reappli', 0): 1, ('help08700469649', 1): 1, ('box420', 1): 1, ('bridg', 0): 1, ('lager', 0): 1, ('legal', 0): 2, ('split', 0): 1, ('occas', 0): 1, ('celebr', 0): 3, ('reflect', 0): 1, ('desir', 0): 1, ('affectionsamp', 0): 1, ('tradit', 0): 1, ('ideal', 0): 1, ('instal', 0): 1, ('rounderso', 0): 1, ('sleepingand', 0): 2, ('bishan', 0): 1, ('nearer', 0): 1, ('resub', 1): 1, ('monoc', 1): 1, ('polyc', 1): 1, ('stream', 1): 1, ('0871212025016', 1): 1, ('mostli', 0): 1, ('hmv', 1): 3, ('genuin', 1): 1, ('answer', 1): 2, ('infowww100percentrealcom', 1): 1, ('nasti', 1): 1, ('filthyguy', 1): 1, ('bitch', 1): 1, ('slo', 1): 1, ('slo4msg', 1): 1, ('worm', 0): 1, ('robinson', 0): 1, ('msgsometext', 0): 1, ('shoul', 0): 1, ('bunker', 0): 1, ('11', 0): 1, ('clair', 0): 1, ('gudnitetcpractic', 0): 1, ('necessarili', 0): 2, ('thangamit', 0): 1, ('human', 0): 1, ('creepi', 0): 2, ('lara', 0): 1, ('visa', 0): 1, ('gucci', 0): 1, ('chic', 0): 1, ('declar', 0): 1, ('puppi', 0): 1, ('nois', 0): 1, ('prolli', 0): 1, ('dayha', 0): 1, ('valuemorn', 0): 1, ('hopeafternoon', 0): 1, ('faitheven', 0): 1, ('luvnight', 0): 1, ('restwish', 0): 1, ('todaygood', 0): 1, ('suppli', 0): 1, ('08712402902', 1): 1, ('08712101358', 1): 1, ('exwif', 0): 1, ('signific', 0): 1, ('dramat', 0): 1, ('luci', 1): 2, ('hubbi', 1): 1, ('meetin', 1): 1, ('alon', 1): 1, ('cumin', 1): 1, ('09099726395', 1): 1, ('brah', 0): 1, ('wifedont', 0): 1, ('iti', 0): 1, ('toolet', 0): 1, ('4u', 1): 1, ('125', 1): 1, ('freeentri', 1): 1, ('xt', 1): 1, ('wwwldewcom1win150ppmx3age16', 1): 1, ('reassur', 0): 1, ('hip', 0): 2, ('hop', 0): 5, ('zoom', 0): 1, ('9996', 1): 1, ('14thmarch', 1): 1, ('availa', 1): 1, ('chikkugo', 0): 1, ('windi', 0): 1, ('TA', 0): 1, ('godtaken', 0): 1, ('teethi', 0): 1, ('flirt', 1): 3, ('25', 1): 2, ('recdthirtyeight', 1): 1, ('infront', 0): 1, ('21', 0): 1, ('jiayin', 0): 1, ('08715203685', 1): 1, ('code4xx26', 1): 1, ('131004', 1): 1, ('pple700', 0): 1, ('900', 0): 1, ('nightsexcel', 0): 1, ('locat', 0): 1, ('breakfast', 0): 1, ('hamper', 0): 1, ('milk', 0): 2, ('tkt', 1): 2, ('09058099801', 1): 1, ('b4190604', 1): 1, ('7876150ppm', 1): 1, ('yesim', 0): 1, ('tunji', 0): 1, ('queen', 0): 2, ('jamster', 1): 1, ('videosound', 1): 1, ('gold', 1): 1, ('videosounds2', 1): 1, ('logosmusicnew', 1): 1, ('jamstercouk', 1): 1, ('16onli', 1): 1, ('09701213186', 1): 1, ('0825', 1): 1, ('09058094599', 1): 1, ('soni', 0): 1, ('ericsson', 0): 1, ('salesman', 0): 1, ('doublefaggot', 0): 1, ('weekday', 0): 1, ('nail', 0): 1, ('anniversari', 0): 1, ('tarpon', 0): 1, ('spirit', 0): 1, ('confer', 0): 1, ('knicker', 1): 1, ('beg', 1): 1, ('01223585236', 1): 1, ('XX', 1): 1, ('nikiyu4net', 1): 1, ('8am', 0): 1, ('reliev', 0): 1, ('westonzoyland', 0): 1, ('buz', 0): 1, ('wedlunch', 0): 1, ('outsomewher', 0): 1, ('adrink', 0): 1, ('towncud', 0): 1, ('2watershd', 0): 1, ('fromwrk', 0): 1, ('bthere', 0): 1, ('petexxx', 0): 1, ('darl', 1): 1, ('pink', 0): 1, ('furnitur', 0): 2, ('treadmil', 0): 1, ('craigslist', 0): 1, ('wwwtxt2shopcom', 1): 1, ('jenn', 0): 1, ('itnow', 0): 1, ('backward', 0): 1, ('palm', 0): 1, ('santha', 0): 1, ('corrct', 0): 1, ('dane', 0): 1, ('uworld', 0): 1, ('qbank', 0): 1, ('assess', 0): 1, ('promin', 0): 1, ('bite', 0): 1, ('cheek', 0): 1, ('gene', 0): 1, ('sunroof', 0): 1, ('dhoni', 0): 1, ('titleso', 0): 1, ('everywher', 0): 1, ('tram', 0): 1, ('cousin', 0): 2, ('vic', 0): 1, ('market', 0): 1, ('easier', 0): 2, ('six', 1): 2, ('20000', 1): 2, ('csh11', 1): 2, ('150pday', 1): 2, ('6day', 1): 2, ('tsandc', 1): 2, ('parentsi', 0): 1, ('forget', 1): 1, ('request', 1): 1, ('1stchoicecouk', 1): 1, ('wish', 1): 1, ('08707808226', 1): 1, ('flood', 0): 1, ('torrent', 0): 1, ('particularli', 0): 1, ('ibm', 0): 1, ('hp', 0): 1, ('09058097218', 1): 1, ('ls15hb', 1): 2, ('smsshsexnetun', 1): 1, ('fgkslpopw', 1): 1, ('fgkslpo', 1): 1, ('birth', 0): 2, ('8lb', 0): 1, ('7oz', 0): 1, ('brilliantli', 0): 1, ('darlinim', 0): 1, ('soonxxx', 0): 1, ('087104711148', 1): 1, ('werent', 0): 1, ('bud', 0): 1, ('bpo', 0): 1, ('youphon', 0): 1, ('athom', 0): 1, ('youwanna', 0): 1, ('honestli', 0): 1, ('promptli', 0): 1, ('burnt', 0): 1, ('champ', 0): 1, ('glasgow', 0): 1, ('unlimit', 0): 1, ('seventeen', 0): 1, ('ml', 0): 1, ('resub', 0): 1, ('resent', 1): 1, ('previou', 1): 1, ('fail', 1): 1, ('due', 1): 1, ('error', 1): 1, ('queri', 1): 1, ('customersqueriesnetvisionukcom', 1): 1, ('effici', 0): 1, ('award', 0): 1, ('calcul', 0): 1, ('monthnot', 0): 1, ('peach', 0): 1, ('tast', 0): 2, ('lush', 0): 2, ('scold', 0): 2, ('zhong', 0): 1, ('qing', 0): 1, ('7ish', 0): 2, ('juici', 0): 1, ('defer', 0): 1, ('admiss', 0): 1, ('billion', 0): 1, ('pock', 0): 1, ('pandi', 0): 1, ('4w', 0): 1, ('technolog', 0): 1, ('todayh', 0): 1, ('shoe', 0): 1, ('ton', 1): 1, ('hunk', 1): 1, ('httpgotbabescouk', 1): 1, ('neither', 0): 1, ('sterm', 0): 1, ('resolv', 0): 1, ('kindli', 0): 2, ('pap', 0): 1, ('keen', 0): 1, ('rhode', 0): 1, ('bong', 0): 1, ('Co', 1): 2, ('renew', 0): 1, ('vill', 0): 1, ('parco', 0): 1, ('nb', 0): 1, ('orc', 0): 1, ('waiti', 0): 1, ('yellow', 0): 1, ('uk', 0): 1, ('lingeri', 1): 1, ('wwwbridalpetticoatdreamscouk', 1): 1, ('superb', 1): 1, ('weddingfriend', 1): 1, ('stress', 0): 3, ('someday', 0): 1, ('wrkin', 0): 1, ('bluray', 0): 1, ('pictur', 1): 1, ('also', 1): 2, ('httpalto18coukwavewaveaspo44345', 1): 1, ('pouch', 0): 1, ('born', 0): 2, ('competit', 0): 1, ('freind', 0): 1, ('aww', 0): 1, ('deadwel', 0): 1, ('jez', 0): 1, ('iscom', 0): 1, ('todo', 0): 1, ('workand', 0): 1, ('whilltak', 0): 1, ('kkim', 0): 1, ('finewhen', 0): 1, ('dedic', 0): 4, ('cinema', 1): 1, ('09061209465', 1): 1, ('suprman', 1): 1, ('V', 1): 1, ('matrix3', 1): 1, ('starwars3', 1): 1, ('bx420ip45w', 1): 1, ('suffici', 0): 1, ('engag', 0): 1, ('fixd', 0): 1, ('bthmm', 0): 1, ('njan', 0): 1, ('vilikkamt', 0): 1, ('sudn', 0): 1, ('loooooool', 0): 1, ('couch', 0): 1, ('gota', 0): 1, ('chang', 1): 1, ('club4mobilescom', 1): 1, ('87070', 1): 1, ('club4', 1): 1, ('box1146', 1): 1, ('sayi', 0): 1, ('msn', 0): 1, ('yijuehotmailcom', 0): 1, ('breather', 0): 1, ('grant', 0): 1, ('fulfil', 0): 1, ('x49', 1): 1, ('colourredtextcolourtxtstar', 1): 1, ('kkit', 0): 1, ('goodwhen', 0): 1, ('cross', 1): 2, ('08001950382', 1): 2, ('call2optout674', 1): 1, ('despar', 0): 1, ('gs', 0): 1, ('ammo', 0): 1, ('ak', 0): 1, ('dippeditinadew', 0): 1, ('lovingli', 0): 1, ('itwhichturnedinto', 0): 1, ('tomeandsaidthi', 0): 1, ('4U', 0): 2, ('mention', 0): 1, ('heygreat', 0): 1, ('dealfarm', 0): 1, ('9am', 0): 1, ('95pax', 0): 1, ('16', 0): 1, ('patent', 0): 1, ('meatbal', 0): 1, ('ovul', 0): 2, ('strip', 0): 1, ('postal', 0): 1, ('addressul', 0): 1, ('alrightokay', 0): 1, ('dawhat', 0): 1, ('contin', 0): 1, ('splashmobil', 1): 1, ('subscrit', 1): 1, ('300p', 1): 1, ('kick', 1): 1, ('qualiti', 1): 1, ('item', 1): 1, ('7cfca1a', 1): 1, ('dahe', 0): 1, ('daalway', 0): 1, ('thisdon', 0): 1, ('messagepandi', 0): 1, ('mental', 0): 2, ('commit', 0): 1, ('bead', 0): 1, ('Da', 0): 1, ('chachi', 0): 1, ('unabl', 0): 2, ('Pl', 0): 1, ('tiz', 0): 1, ('kanagu', 0): 1, ('prescrib', 0): 1, ('cashbincouk', 1): 1, ('lot', 1): 1, ('wwwcashbincouk', 1): 1, ('ever', 1): 2, ('these', 1): 2, ('tiwari', 0): 1, ('rcbbattl', 0): 1, ('kochi', 0): 1, ('09095350301', 1): 1, ('erot', 1): 1, ('ecstaci', 1): 1, ('notic', 0): 2, ('beyond', 0): 3, ('mondaynxt', 0): 1, ('bhaskar', 0): 1, ('intent', 0): 1, ('visitor', 0): 1, ('borderlin', 0): 1, ('websitenow', 0): 1, ('magicalsongsblogspotcom', 0): 1, ('remind', 1): 1, ('alreadi', 1): 1, ('paid', 1): 1, ('httpdoit', 1): 1, ('mymobi', 1): 1, ('landlin', 0): 1, ('anna', 0): 1, ('nagar', 0): 1, ('noic', 0): 1, ('nowi', 0): 1, ('candont', 0): 1, ('gaug', 0): 1, ('oper', 0): 1, ('ask', 1): 1, ('09058097189', 1): 1, ('oha', 0): 1, ('mc', 0): 1, ('carso', 0): 1, ('pari', 1): 2, ('69101', 1): 1, ('wwwrtfsphostingcom', 1): 1, ('08714712412', 1): 1, ('neft', 0): 1, ('beneficiari', 0): 1, ('user', 1): 1, ('0789xxxxxxx', 1): 1, ('day2find', 1): 1, ('log', 1): 2, ('onto', 1): 2, ('httpwwwurawinnercom', 1): 1, ('surpris', 1): 1, ('jackson', 0): 1, ('rec', 0): 1, ('thanksgiv', 0): 1, ('allday', 0): 1, ('themobhit', 1): 1, ('premium', 1): 2, ('pink', 1): 1, ('panther', 1): 1, ('sugabab', 1): 1, ('zebra', 1): 1, ('anim', 1): 1, ('badass', 1): 1, ('hoodi', 1): 1, ('wallpaperal', 1): 1, ('phoni', 1): 1, ('xxxx', 1): 1, ('chile', 0): 1, ('sublet', 0): 1, ('febapril', 0): 1, ('audit', 0): 2, ('CL', 0): 1, ('3365', 0): 1, ('uncomfort', 0): 1, ('3pound', 1): 1, ('individu', 0): 1, ('dresser', 0): 1, ('gong', 0): 1, ('kaypoh', 0): 1, ('natalja', 1): 1, ('25f', 1): 1, ('yes440', 1): 1, ('no440', 1): 1, ('wwwsmsacunat27081980', 1): 1, ('645', 0): 1, ('laugh', 1): 1, ('chitchat', 1): 1, ('logon', 1): 1, ('8883', 1): 1, ('CM', 1): 1, ('4217', 1): 1, ('w1a', 1): 1, ('6zf', 1): 1, ('118pmsg', 1): 1, ('abil', 0): 1, ('grandma', 0): 2, ('hungov', 0): 1, ('misplac', 0): 1, ('mcat', 0): 1, ('atlanta', 0): 1, ('kkapo', 0): 1, ('kgood', 0): 1, ('wwwapplausestorecom', 1): 1, ('monthlysubscription50pmsg', 1): 1, ('max6month', 1): 1, ('tcsc', 1): 1, ('web', 1): 1, ('2stop', 1): 1, ('rightio', 0): 1, ('1148', 0): 1, ('fumbl', 0): 1, ('youi', 0): 1, ('major', 0): 1, ('commun', 0): 1, ('outreach', 0): 1, ('disastr', 0): 1, ('fav', 0): 1, ('wld', 0): 1, ('passabl', 0): 1, ('phd', 0): 1, ('5year', 0): 1, ('clearer', 0): 1, ('nottel', 0): 1, ('half8th', 0): 1, ('howda', 0): 1, ('en', 0): 1, ('samachara', 0): 1, ('fuckin', 0): 1, ('pre', 0): 1, ('jurong', 0): 1, ('buffet', 0): 1, ('amor', 0): 1, ('thirunelvali', 0): 1, ('tirunelvali', 0): 1, ('evei', 0): 1, ('netno', 0): 1, ('availablei', 0): 1, ('tackl', 0): 1, ('pee', 0): 1, ('prsn', 0): 1, ('somtim', 0): 1, ('eveb', 0): 2, ('unclaim', 1): 1, ('09066368327', 1): 1, ('closingdate040902', 1): 1, ('claimcod', 1): 1, ('m39m51', 1): 1, ('150pmmorefrommobile2bremovedmobypobox734ls27yf', 1): 1, ('havent', 1): 1, ('randi', 1): 1, ('femal', 1): 1, ('07815296484', 1): 1, ('08718738001', 1): 1, ('41782', 1): 1, ('181104', 1): 1, ('str', 0): 1, ('cherish', 0): 1, ('randomli', 1): 1, ('loyal', 1): 1, ('09066380611', 1): 1, ('1month', 1): 1, ('smartcal', 1): 1, ('68866', 1): 1, ('subscriptn3gbpwk', 1): 1, ('08448714184', 1): 1, ('stoptxt', 1): 1, ('landlineonli', 1): 1, ('stil', 0): 1, ('tobe', 0): 1, ('recharg', 0): 1, ('gram', 0): 2, ('eighth', 0): 1, ('smarter', 0): 1, ('chastiti', 0): 1, ('devic', 0): 1, ('beat', 0): 1, ('left', 1): 1, ('07008009200', 1): 1, ('goal', 1): 2, ('arsen', 1): 2, ('henri', 1): 2, ('liverpool', 1): 2, ('simpl', 1): 1, ('shot', 1): 1, ('yard', 1): 1, ('bergkamp', 1): 1, ('margin', 1): 1, ('78', 1): 1, ('dose', 0): 1, ('safeti', 0): 1, ('aspect', 0): 1, ('88800', 1): 1, ('89034', 1): 1, ('08718711108', 1): 1, ('khelat', 0): 1, ('kintu', 0): 1, ('opponent', 0): 1, ('dhort', 0): 1, ('lage', 0): 1, ('qualiti', 0): 1, ('agent', 1): 1, ('load', 1): 1, ('goodi', 1): 1, ('mat', 1): 1, ('taught', 0): 1, ('becau', 0): 1, ('prabu', 0): 1, ('complac', 0): 1, ('mid', 1): 1, ('convincingjust', 0): 1, ('neglect', 0): 1, ('itjust', 0): 1, ('coher', 0): 1, ('spontan', 0): 1, ('goodeven', 0): 1, ('09050000878', 1): 1, ('juliana', 0): 1, ('daal', 0): 1, ('chennaibecaus', 0): 1, ('vpod', 1): 1, ('81303', 1): 1, ('str8', 1): 1, ('classic', 1): 1, ('nokia150p', 1): 1, ('poly200p', 1): 1, ('parad', 0): 1, ('mmmmmmm', 0): 1, ('snuggl', 0): 1, ('whisper', 0): 1, ('howv', 0): 1, ('nofew', 0): 1, ('beforew', 0): 1, ('haunt', 0): 1, ('promot', 0): 1, ('tscs08714740323', 1): 1, ('1winawk', 1): 1, ('150perweeksub', 1): 1, ('rip', 0): 1, ('uteru', 0): 1, ('natuit', 0): 1, ('chop', 0): 1, ('bff', 0): 1, ('carli', 0): 1, ('perumbavoor', 0): 1, ('httptm', 1): 2, ('widelivecomindex', 1): 2, ('wmlid820554ad0a1705572711firsttru', 1): 1, ('pen', 0): 1, ('biro', 0): 1, ('april', 0): 1, ('hustl', 0): 1, ('forth', 0): 1, ('harlem', 0): 1, ('engin', 0): 1, ('In', 1): 1, ('simpson', 1): 1, ('releas', 1): 1, ('2007', 1): 1, ('band', 1): 1, ('die', 1): 1, ('agreen', 1): 1, ('bblue', 1): 1, ('cred', 1): 1, ('spageddi', 0): 1, ('lastest', 1): 1, ('stereophon', 1): 1, ('marley', 1): 1, ('dizze', 1): 1, ('racal', 1): 1, ('libertin', 1): 1, ('stroke', 1): 1, ('nookii', 1): 1, ('bookmark', 1): 1, ('08006344447', 1): 2, ('pub', 1): 1, ('quizwin', 1): 1, ('high', 1): 2, ('street', 1): 1, ('duchess', 1): 1, ('cornwal', 1): 1, ('82277unsub', 1): 1, ('008704050406', 1): 1, ('SP', 1): 1, ('absolut', 0): 1, ('wwwfullonsmscom', 0): 1, ('0906346330', 1): 1, ('spanish', 1): 1, ('47', 1): 1, ('po19', 1): 1, ('2ez', 1): 1, ('bluff', 0): 1, ('squeeeeez', 0): 1, ('frndshp', 0): 1, ('luvd', 0): 1, ('notic', 1): 1, ('drive', 1): 2, ('anyon', 1): 1, ('slower', 1): 1, ('idiot', 1): 1, ('everyon', 1): 1, ('faster', 1): 1, ('maniac', 1): 1, ('jean', 0): 1, ('rajini', 0): 1, ('sudden', 0): 1, ('influx', 0): 1, ('jsco', 1): 2, ('2channel', 1): 1, ('leadership', 1): 1, ('skill', 1): 1, ('strong', 1): 1, ('psychic', 1): 1, ('wquestion', 1): 1, ('449month', 1): 1, ('bundl', 1): 1, ('deal', 1): 1, ('avbl', 1): 1, ('call2optoutj', 1): 1, ('MF', 1): 1, ('konw', 0): 1, ('waht', 0): 1, ('rael', 0): 1, ('gving', 0): 1, ('yuo', 0): 2, ('exmpel', 0): 1, ('jsut', 0): 1, ('ese', 0): 1, ('tih', 0): 2, ('evrey', 0): 1, ('splle', 0): 1, ('wrnog', 0): 1, ('sitll', 0): 1, ('ra', 0): 1, ('wihtuot', 0): 1, ('ayn', 0): 1, ('mitsak', 0): 1, ('sleepsweet', 0): 1, ('specifi', 0): 1, ('domain', 0): 1, ('nusstu', 0): 1, ('swhrt', 0): 1, ('deyhop', 0): 1, ('2daylov', 0): 1, ('misstak', 0): 1, ('huai', 0): 1, ('vitamin', 0): 1, ('velusami', 0): 1, ('facil', 0): 1, ('hmmmstill', 0): 1, ('squat', 0): 1, ('kkfrom', 0): 1, ('alwi', 0): 1, ('dull', 0): 1, ('level', 0): 1, ('shove', 0): 1, ('flavour', 0): 1, ('storm', 0): 1, ('phne', 0): 1, ('wt', 0): 1, ('margaret', 0): 1, ('girlfrnd', 0): 2, ('f', 0): 1, ('grahmbel', 0): 1, ('invnt', 0): 1, ('telphon', 0): 1, ('moralon', 0): 1, ('4get', 0): 1, ('h', 0): 1, ('doggi', 0): 1, ('wyli', 0): 1, ('melt', 0): 1, ('sunlight', 0): 2, ('bcozi', 0): 1, ('hungri', 1): 2, ('feel', 1): 1, ('08718730555', 1): 1, ('kkthi', 0): 1, ('kote', 0): 1, ('thin', 0): 1, ('faultal', 0): 1, ('faultf', 0): 1, ('himso', 0): 1, ('thanxxx', 0): 1, ('weirdo', 0): 1, ('then', 1): 1, ('0870737910216yr', 1): 1, ('150wk', 1): 1, ('help08714742804', 1): 1, ('exhaust', 0): 1, ('imposs', 0): 1, ('blame', 0): 1, ('kit', 1): 1, ('strip', 1): 1, ('1013', 1): 1, ('ig11', 1): 1, ('oja', 1): 1, ('ecstasi', 0): 1, ('zero', 0): 1, ('gender', 1): 1, ('wither', 1): 1, ('eg23f', 1): 1, ('men', 1): 1, ('eg23g', 1): 1, ('although', 0): 1, ('baig', 0): 1, ('uve', 0): 1, ('dismissi', 0): 1, ('paranoid', 0): 1, ('edison', 0): 1, ('rightli', 0): 1, ('wise', 0): 1, ('viva', 0): 1, ('gmgngegnt', 0): 1, ('harri', 1): 2, ('potter', 1): 1, ('phoenix', 1): 1, ('among', 1): 1, ('reader', 1): 1, ('obey', 0): 1, ('ringtonefrom', 1): 1, ('wmlid1b6a5ecef91ff937819firsttrue180430jul05', 1): 1, ('noooooooo', 0): 1, ('uniqu', 1): 1, ('30th', 1): 1, ('wwwareyouuniquecouk', 1): 1, ('lou', 0): 1, ('gailxx', 0): 1, ('headstart', 0): 1, ('230ish', 0): 1, ('desper', 0): 1, ('earlierw', 0): 1, ('rummer', 0): 1, ('dual', 0): 1, ('Pa', 0): 1, ('seeker', 0): 1, ('wrote', 0): 1, ('ritten', 0): 1, ('fold', 0): 1, ('jokethet', 0): 1, ('skinni', 0): 1, ('liney', 0): 1, ('camera', 0): 1, ('cast', 0): 1, ('gail', 0): 1, ('wrongtak', 0): 1, ('worryc', 0): 1, ('hunlov', 0): 1, ('yaxxx', 0): 1, ('bbq', 0): 1, ('6ish', 0): 1, ('gentli', 0): 1, ('sooooo', 0): 1, ('80608', 1): 1, ('wwwmovietriviatv', 1): 1, ('08712405022', 1): 1, ('nit', 0): 1, ('toopray', 0): 1, ('inshah', 0): 1, ('ahsen', 0): 1, ('08715205273', 1): 1, ('dot', 0): 1, ('volcano', 0): 1, ('erupt', 0): 1, ('aris', 0): 1, ('hurrican', 0): 1, ('sway', 0): 1, ('aroundn', 0): 1, ('disast', 0): 1, ('seek', 0): 1, ('b4u', 1): 1, ('wc', 1): 1, ('2703', 1): 1, ('marsm', 1): 1, ('wwwb4utelecom', 1): 1, ('08717168528', 1): 1, ('numberpl', 0): 1, ('idconvey', 0): 1, ('achanammarakheshqatar', 0): 1, ('tellmiss', 0): 1, ('lk', 0): 1, ('regret', 0): 1, ('nh', 0): 1, ('mistakeu', 0): 1, ('bornpleas', 0): 1, ('yor', 0): 1, ('local', 0): 1, ('2B', 0): 1, ('terminatedw', 0): 1, ('gudnit', 0): 1, ('notebook', 0): 1, ('baaaaab', 0): 1, ('misss', 0): 1, ('youuuuu', 0): 1, ('neshanthtel', 0): 1, ('chez', 0): 1, ('jule', 0): 1, ('gran', 0): 1, ('onlyfound', 0): 1, ('afew', 0): 1, ('agocusoon', 0): 1, ('honi', 0): 1, ('joanna', 0): 1, ('univers', 0): 1, ('southern', 0): 1, ('unhappi', 0): 1, ('ryan', 0): 1, ('cram', 0): 1, ('mega', 0): 1, ('asda', 0): 1, ('count', 0): 1, ('puzzel', 0): 1, ('textand', 1): 1, ('08002988890', 1): 1, ('TH', 0): 1, ('gower', 0): 1, ('wale', 0): 1, ('morrow', 0): 1, ('WK', 0): 1, ('them', 0): 1, ('bec', 0): 1, ('chiong', 0): 1, ('inconsider', 0): 1, ('nag', 0): 1, ('recess', 0): 1, ('henc', 0): 1, ('gist', 0): 1, ('epsilon', 0): 1, ('switch', 0): 1, ('plate', 0): 1, ('leftov', 0): 1, ('xuhui', 0): 1, ('lover', 1): 1, ('heart', 1): 1, ('name1', 1): 1, ('name2', 1): 1, ('mobno', 1): 1, ('adam', 1): 1, ('07123456789', 1): 1, ('yahoo', 1): 1, ('txtno', 1): 1, ('ukp2000', 1): 1, ('09061790125', 1): 1, ('idc', 0): 1, ('weasel', 0): 1, ('least5tim', 0): 1, ('wudnt', 0): 1, ('evri', 0): 1, ('emot', 0): 1, ('dsnt', 0): 3, ('wordsevri', 0): 1, ('prayr', 0): 1, ('uothrwis', 0): 1, ('uso', 0): 1, ('correctli', 0): 1, ('exorc', 0): 1, ('emili', 0): 1, ('snog', 0): 1, ('marvel', 1): 1, ('ultim', 1): 1, ('spiderman', 1): 1, ('spider', 1): 1, ('83338', 1): 1, ('8ball', 1): 1, ('wallpap', 1): 1, ('wnevr', 0): 1, ('fal', 0): 2, ('vth', 0): 2, ('yen', 0): 1, ('madodu', 0): 1, ('nav', 0): 1, ('pretsorginta', 0): 1, ('nammanna', 0): 1, ('pretsovru', 0): 1, ('alwa', 0): 1, ('FA', 1): 2, ('21st', 1): 1, ('2005', 1): 1, ('questionstd', 1): 1, ('ratetc', 1): 1, ('08452810075over18', 1): 1, ('document', 0): 1, ('submit', 0): 1, ('stapati', 0): 1, ('perhap', 0): 1, ('identif', 0): 1, ('flash', 0): 1, ('tiim', 0): 1, ('followin', 0): 1, ('comei', 0): 1, ('invoic', 0): 1}\n"
     ]
    }
   ],
   "source": [
    "print(data_freq)"
   ]
  },
  {
   "cell_type": "code",
   "execution_count": 25,
   "metadata": {},
   "outputs": [],
   "source": [
    "data_freq2 = build_freq(X, Y)"
   ]
  },
  {
   "cell_type": "code",
   "execution_count": 26,
   "metadata": {},
   "outputs": [
    {
     "data": {
      "text/plain": [
       "9308"
      ]
     },
     "execution_count": 26,
     "metadata": {},
     "output_type": "execute_result"
    }
   ],
   "source": [
    "len(data_freq2)"
   ]
  },
  {
   "cell_type": "markdown",
   "metadata": {},
   "source": [
    "View a sample example of the data transformation with the number of positive and negative occurence of each word displayed in a table"
   ]
  },
  {
   "cell_type": "code",
   "execution_count": 27,
   "metadata": {},
   "outputs": [],
   "source": [
    "#Obtain an example\n",
    "sample = set(xtr[217][0])"
   ]
  },
  {
   "cell_type": "code",
   "execution_count": 28,
   "metadata": {},
   "outputs": [],
   "source": [
    "data_table =[]\n",
    "for text in sample:\n",
    "    pos = 0\n",
    "    neg = 0\n",
    "    \n",
    "    if (text, 1) in data_freq:\n",
    "        pos=data_freq[(text, 1)]\n",
    "    \n",
    "    if (text, 0) in data_freq:\n",
    "        neg = data_freq[(text,0)]\n",
    "        \n",
    "    data_table.append([text, pos, neg])   "
   ]
  },
  {
   "cell_type": "code",
   "execution_count": 29,
   "metadata": {},
   "outputs": [
    {
     "data": {
      "text/html": [
       "<div>\n",
       "<style scoped>\n",
       "    .dataframe tbody tr th:only-of-type {\n",
       "        vertical-align: middle;\n",
       "    }\n",
       "\n",
       "    .dataframe tbody tr th {\n",
       "        vertical-align: top;\n",
       "    }\n",
       "\n",
       "    .dataframe thead th {\n",
       "        text-align: right;\n",
       "    }\n",
       "</style>\n",
       "<table border=\"1\" class=\"dataframe\">\n",
       "  <thead>\n",
       "    <tr style=\"text-align: right;\">\n",
       "      <th></th>\n",
       "      <th>word</th>\n",
       "      <th>num_pos</th>\n",
       "      <th>num_neg</th>\n",
       "    </tr>\n",
       "  </thead>\n",
       "  <tbody>\n",
       "    <tr>\n",
       "      <th>0</th>\n",
       "      <td>m263uz</td>\n",
       "      <td>2</td>\n",
       "      <td>0</td>\n",
       "    </tr>\n",
       "    <tr>\n",
       "      <th>1</th>\n",
       "      <td>offer</td>\n",
       "      <td>21</td>\n",
       "      <td>6</td>\n",
       "    </tr>\n",
       "    <tr>\n",
       "      <th>2</th>\n",
       "      <td>16</td>\n",
       "      <td>34</td>\n",
       "      <td>1</td>\n",
       "    </tr>\n",
       "    <tr>\n",
       "      <th>3</th>\n",
       "      <td>sub</td>\n",
       "      <td>7</td>\n",
       "      <td>2</td>\n",
       "    </tr>\n",
       "    <tr>\n",
       "      <th>4</th>\n",
       "      <td>voucher</td>\n",
       "      <td>18</td>\n",
       "      <td>1</td>\n",
       "    </tr>\n",
       "    <tr>\n",
       "      <th>5</th>\n",
       "      <td>150</td>\n",
       "      <td>27</td>\n",
       "      <td>0</td>\n",
       "    </tr>\n",
       "    <tr>\n",
       "      <th>6</th>\n",
       "      <td>300</td>\n",
       "      <td>8</td>\n",
       "      <td>0</td>\n",
       "    </tr>\n",
       "    <tr>\n",
       "      <th>7</th>\n",
       "      <td>discount</td>\n",
       "      <td>5</td>\n",
       "      <td>2</td>\n",
       "    </tr>\n",
       "    <tr>\n",
       "      <th>8</th>\n",
       "      <td>worth</td>\n",
       "      <td>9</td>\n",
       "      <td>3</td>\n",
       "    </tr>\n",
       "    <tr>\n",
       "      <th>9</th>\n",
       "      <td>text</td>\n",
       "      <td>89</td>\n",
       "      <td>54</td>\n",
       "    </tr>\n",
       "    <tr>\n",
       "      <th>10</th>\n",
       "      <td>Cs</td>\n",
       "      <td>8</td>\n",
       "      <td>0</td>\n",
       "    </tr>\n",
       "    <tr>\n",
       "      <th>11</th>\n",
       "      <td>chanc</td>\n",
       "      <td>17</td>\n",
       "      <td>8</td>\n",
       "    </tr>\n",
       "    <tr>\n",
       "      <th>12</th>\n",
       "      <td>pobox84</td>\n",
       "      <td>3</td>\n",
       "      <td>0</td>\n",
       "    </tr>\n",
       "    <tr>\n",
       "      <th>13</th>\n",
       "      <td>claim</td>\n",
       "      <td>60</td>\n",
       "      <td>0</td>\n",
       "    </tr>\n",
       "    <tr>\n",
       "      <th>14</th>\n",
       "      <td>final</td>\n",
       "      <td>9</td>\n",
       "      <td>7</td>\n",
       "    </tr>\n",
       "    <tr>\n",
       "      <th>15</th>\n",
       "      <td>ur</td>\n",
       "      <td>58</td>\n",
       "      <td>115</td>\n",
       "    </tr>\n",
       "    <tr>\n",
       "      <th>16</th>\n",
       "      <td>85023</td>\n",
       "      <td>4</td>\n",
       "      <td>0</td>\n",
       "    </tr>\n",
       "    <tr>\n",
       "      <th>17</th>\n",
       "      <td>today</td>\n",
       "      <td>18</td>\n",
       "      <td>89</td>\n",
       "    </tr>\n",
       "    <tr>\n",
       "      <th>18</th>\n",
       "      <td>savamob</td>\n",
       "      <td>6</td>\n",
       "      <td>0</td>\n",
       "    </tr>\n",
       "    <tr>\n",
       "      <th>19</th>\n",
       "      <td>member</td>\n",
       "      <td>4</td>\n",
       "      <td>2</td>\n",
       "    </tr>\n",
       "    <tr>\n",
       "      <th>20</th>\n",
       "      <td>ye</td>\n",
       "      <td>9</td>\n",
       "      <td>39</td>\n",
       "    </tr>\n",
       "    <tr>\n",
       "      <th>21</th>\n",
       "      <td>mobil</td>\n",
       "      <td>78</td>\n",
       "      <td>7</td>\n",
       "    </tr>\n",
       "    <tr>\n",
       "      <th>22</th>\n",
       "      <td>T</td>\n",
       "      <td>8</td>\n",
       "      <td>4</td>\n",
       "    </tr>\n",
       "  </tbody>\n",
       "</table>\n",
       "</div>"
      ],
      "text/plain": [
       "        word  num_pos  num_neg\n",
       "0     m263uz        2        0\n",
       "1      offer       21        6\n",
       "2         16       34        1\n",
       "3        sub        7        2\n",
       "4    voucher       18        1\n",
       "5        150       27        0\n",
       "6        300        8        0\n",
       "7   discount        5        2\n",
       "8      worth        9        3\n",
       "9       text       89       54\n",
       "10        Cs        8        0\n",
       "11     chanc       17        8\n",
       "12   pobox84        3        0\n",
       "13     claim       60        0\n",
       "14     final        9        7\n",
       "15        ur       58      115\n",
       "16     85023        4        0\n",
       "17     today       18       89\n",
       "18   savamob        6        0\n",
       "19    member        4        2\n",
       "20        ye        9       39\n",
       "21     mobil       78        7\n",
       "22         T        8        4"
      ]
     },
     "execution_count": 29,
     "metadata": {},
     "output_type": "execute_result"
    }
   ],
   "source": [
    "pd.DataFrame(data_table, columns=[\"word\",\"num_pos\",\"num_neg\"])"
   ]
  },
  {
   "cell_type": "markdown",
   "metadata": {},
   "source": [
    "### Show a plot showing the data split into two classes"
   ]
  },
  {
   "cell_type": "code",
   "execution_count": 30,
   "metadata": {},
   "outputs": [
    {
     "data": {
      "image/png": "[encoded data removed]",
      "text/plain": [
       "<Figure size 576x576 with 1 Axes>"
      ]
     },
     "metadata": {
      "needs_background": "light"
     },
     "output_type": "display_data"
    }
   ],
   "source": [
    "fig, ax = plt.subplots(figsize = (8, 8))\n",
    "\n",
    "x = np.log([x[1] + 1 for x in data_table])  #1 added to avoid log(0)\n",
    "y = np.log([x[2] + 1 for x in data_table]) \n",
    "\n",
    "ax.scatter(x, y)  #scatter plot of negative and positive count\n",
    "\n",
    "# assign axis labels\n",
    "plt.xlabel(\"Log Positive count\", fontsize=20)\n",
    "plt.ylabel(\"Log Negative count\", fontsize=20)\n",
    "\n",
    "for i in range(0, len(data_table)): #Annotate the scatter plot with corresponding word\n",
    "    ax.annotate(data_table[i][0], (x[i], y[i]), fontsize=15)\n",
    "\n",
    "ax.plot([0, 9], [0, 9], color = 'red') # red line to divide the 2 areas.\n",
    "plt.show()"
   ]
  },
  {
   "cell_type": "markdown",
   "metadata": {},
   "source": [
    "## Extract positive and negative features"
   ]
  },
  {
   "cell_type": "code",
   "execution_count": 31,
   "metadata": {},
   "outputs": [],
   "source": [
    "#pos_neg_data = []\n",
    "\n",
    "#for i in range(0,len(X)):\n",
    "#    pos_neg_data.append(extract_pos_neg_features1(X[i][0], data_freq))"
   ]
  },
  {
   "cell_type": "code",
   "execution_count": 32,
   "metadata": {},
   "outputs": [],
   "source": [
    "#pd.DataFrame(np.squeeze(pos_neg_data))"
   ]
  },
  {
   "cell_type": "code",
   "execution_count": 33,
   "metadata": {},
   "outputs": [
    {
     "data": {
      "text/html": [
       "<div>\n",
       "<style scoped>\n",
       "    .dataframe tbody tr th:only-of-type {\n",
       "        vertical-align: middle;\n",
       "    }\n",
       "\n",
       "    .dataframe tbody tr th {\n",
       "        vertical-align: top;\n",
       "    }\n",
       "\n",
       "    .dataframe thead th {\n",
       "        text-align: right;\n",
       "    }\n",
       "</style>\n",
       "<table border=\"1\" class=\"dataframe\">\n",
       "  <thead>\n",
       "    <tr style=\"text-align: right;\">\n",
       "      <th></th>\n",
       "      <th>0</th>\n",
       "      <th>1</th>\n",
       "    </tr>\n",
       "  </thead>\n",
       "  <tbody>\n",
       "    <tr>\n",
       "      <th>0</th>\n",
       "      <td>245.0</td>\n",
       "      <td>551.0</td>\n",
       "    </tr>\n",
       "    <tr>\n",
       "      <th>1</th>\n",
       "      <td>414.0</td>\n",
       "      <td>725.0</td>\n",
       "    </tr>\n",
       "    <tr>\n",
       "      <th>2</th>\n",
       "      <td>1.0</td>\n",
       "      <td>7.0</td>\n",
       "    </tr>\n",
       "    <tr>\n",
       "      <th>3</th>\n",
       "      <td>59.0</td>\n",
       "      <td>310.0</td>\n",
       "    </tr>\n",
       "    <tr>\n",
       "      <th>4</th>\n",
       "      <td>74.0</td>\n",
       "      <td>539.0</td>\n",
       "    </tr>\n",
       "    <tr>\n",
       "      <th>...</th>\n",
       "      <td>...</td>\n",
       "      <td>...</td>\n",
       "    </tr>\n",
       "    <tr>\n",
       "      <th>3338</th>\n",
       "      <td>7.0</td>\n",
       "      <td>98.0</td>\n",
       "    </tr>\n",
       "    <tr>\n",
       "      <th>3339</th>\n",
       "      <td>139.0</td>\n",
       "      <td>2170.0</td>\n",
       "    </tr>\n",
       "    <tr>\n",
       "      <th>3340</th>\n",
       "      <td>40.0</td>\n",
       "      <td>1192.0</td>\n",
       "    </tr>\n",
       "    <tr>\n",
       "      <th>3341</th>\n",
       "      <td>12.0</td>\n",
       "      <td>473.0</td>\n",
       "    </tr>\n",
       "    <tr>\n",
       "      <th>3342</th>\n",
       "      <td>499.0</td>\n",
       "      <td>277.0</td>\n",
       "    </tr>\n",
       "  </tbody>\n",
       "</table>\n",
       "<p>3343 rows × 2 columns</p>\n",
       "</div>"
      ],
      "text/plain": [
       "          0       1\n",
       "0     245.0   551.0\n",
       "1     414.0   725.0\n",
       "2       1.0     7.0\n",
       "3      59.0   310.0\n",
       "4      74.0   539.0\n",
       "...     ...     ...\n",
       "3338    7.0    98.0\n",
       "3339  139.0  2170.0\n",
       "3340   40.0  1192.0\n",
       "3341   12.0   473.0\n",
       "3342  499.0   277.0\n",
       "\n",
       "[3343 rows x 2 columns]"
      ]
     },
     "execution_count": 33,
     "metadata": {},
     "output_type": "execute_result"
    }
   ],
   "source": [
    "pos_neg_data = []\n",
    "\n",
    "for i in range(0,len(xtr)):\n",
    "    pos_neg_data.append(extract_pos_neg_features1(xtr[i][0], data_freq))\n",
    "\n",
    "xtr = np.squeeze(pos_neg_data)\n",
    "ytr = np.squeeze(ytr)\n",
    "pd.DataFrame(np.squeeze(pos_neg_data))"
   ]
  },
  {
   "cell_type": "code",
   "execution_count": 34,
   "metadata": {},
   "outputs": [
    {
     "data": {
      "text/html": [
       "<div>\n",
       "<style scoped>\n",
       "    .dataframe tbody tr th:only-of-type {\n",
       "        vertical-align: middle;\n",
       "    }\n",
       "\n",
       "    .dataframe tbody tr th {\n",
       "        vertical-align: top;\n",
       "    }\n",
       "\n",
       "    .dataframe thead th {\n",
       "        text-align: right;\n",
       "    }\n",
       "</style>\n",
       "<table border=\"1\" class=\"dataframe\">\n",
       "  <thead>\n",
       "    <tr style=\"text-align: right;\">\n",
       "      <th></th>\n",
       "      <th>0</th>\n",
       "      <th>1</th>\n",
       "    </tr>\n",
       "  </thead>\n",
       "  <tbody>\n",
       "    <tr>\n",
       "      <th>0</th>\n",
       "      <td>629.0</td>\n",
       "      <td>584.0</td>\n",
       "    </tr>\n",
       "    <tr>\n",
       "      <th>1</th>\n",
       "      <td>140.0</td>\n",
       "      <td>153.0</td>\n",
       "    </tr>\n",
       "    <tr>\n",
       "      <th>2</th>\n",
       "      <td>107.0</td>\n",
       "      <td>1509.0</td>\n",
       "    </tr>\n",
       "    <tr>\n",
       "      <th>3</th>\n",
       "      <td>28.0</td>\n",
       "      <td>215.0</td>\n",
       "    </tr>\n",
       "    <tr>\n",
       "      <th>4</th>\n",
       "      <td>50.0</td>\n",
       "      <td>639.0</td>\n",
       "    </tr>\n",
       "    <tr>\n",
       "      <th>...</th>\n",
       "      <td>...</td>\n",
       "      <td>...</td>\n",
       "    </tr>\n",
       "    <tr>\n",
       "      <th>1110</th>\n",
       "      <td>112.0</td>\n",
       "      <td>1404.0</td>\n",
       "    </tr>\n",
       "    <tr>\n",
       "      <th>1111</th>\n",
       "      <td>12.0</td>\n",
       "      <td>203.0</td>\n",
       "    </tr>\n",
       "    <tr>\n",
       "      <th>1112</th>\n",
       "      <td>44.0</td>\n",
       "      <td>272.0</td>\n",
       "    </tr>\n",
       "    <tr>\n",
       "      <th>1113</th>\n",
       "      <td>546.0</td>\n",
       "      <td>693.0</td>\n",
       "    </tr>\n",
       "    <tr>\n",
       "      <th>1114</th>\n",
       "      <td>9.0</td>\n",
       "      <td>454.0</td>\n",
       "    </tr>\n",
       "  </tbody>\n",
       "</table>\n",
       "<p>1115 rows × 2 columns</p>\n",
       "</div>"
      ],
      "text/plain": [
       "          0       1\n",
       "0     629.0   584.0\n",
       "1     140.0   153.0\n",
       "2     107.0  1509.0\n",
       "3      28.0   215.0\n",
       "4      50.0   639.0\n",
       "...     ...     ...\n",
       "1110  112.0  1404.0\n",
       "1111   12.0   203.0\n",
       "1112   44.0   272.0\n",
       "1113  546.0   693.0\n",
       "1114    9.0   454.0\n",
       "\n",
       "[1115 rows x 2 columns]"
      ]
     },
     "execution_count": 34,
     "metadata": {},
     "output_type": "execute_result"
    }
   ],
   "source": [
    "pos_neg_data = []\n",
    "\n",
    "for i in range(0,len(xte)):\n",
    "    pos_neg_data.append(extract_pos_neg_features1(xte[i][0], data_freq))\n",
    "\n",
    "xte = np.squeeze(pos_neg_data)\n",
    "yte = np.squeeze(yte)\n",
    "pd.DataFrame(np.squeeze(pos_neg_data))"
   ]
  },
  {
   "cell_type": "code",
   "execution_count": 35,
   "metadata": {},
   "outputs": [
    {
     "data": {
      "text/html": [
       "<div>\n",
       "<style scoped>\n",
       "    .dataframe tbody tr th:only-of-type {\n",
       "        vertical-align: middle;\n",
       "    }\n",
       "\n",
       "    .dataframe tbody tr th {\n",
       "        vertical-align: top;\n",
       "    }\n",
       "\n",
       "    .dataframe thead th {\n",
       "        text-align: right;\n",
       "    }\n",
       "</style>\n",
       "<table border=\"1\" class=\"dataframe\">\n",
       "  <thead>\n",
       "    <tr style=\"text-align: right;\">\n",
       "      <th></th>\n",
       "      <th>0</th>\n",
       "      <th>1</th>\n",
       "    </tr>\n",
       "  </thead>\n",
       "  <tbody>\n",
       "    <tr>\n",
       "      <th>0</th>\n",
       "      <td>57.0</td>\n",
       "      <td>277.0</td>\n",
       "    </tr>\n",
       "    <tr>\n",
       "      <th>1</th>\n",
       "      <td>67.0</td>\n",
       "      <td>1423.0</td>\n",
       "    </tr>\n",
       "    <tr>\n",
       "      <th>2</th>\n",
       "      <td>90.0</td>\n",
       "      <td>1225.0</td>\n",
       "    </tr>\n",
       "    <tr>\n",
       "      <th>3</th>\n",
       "      <td>23.0</td>\n",
       "      <td>524.0</td>\n",
       "    </tr>\n",
       "    <tr>\n",
       "      <th>4</th>\n",
       "      <td>23.0</td>\n",
       "      <td>896.0</td>\n",
       "    </tr>\n",
       "    <tr>\n",
       "      <th>...</th>\n",
       "      <td>...</td>\n",
       "      <td>...</td>\n",
       "    </tr>\n",
       "    <tr>\n",
       "      <th>1109</th>\n",
       "      <td>13.0</td>\n",
       "      <td>357.0</td>\n",
       "    </tr>\n",
       "    <tr>\n",
       "      <th>1110</th>\n",
       "      <td>57.0</td>\n",
       "      <td>194.0</td>\n",
       "    </tr>\n",
       "    <tr>\n",
       "      <th>1111</th>\n",
       "      <td>64.0</td>\n",
       "      <td>333.0</td>\n",
       "    </tr>\n",
       "    <tr>\n",
       "      <th>1112</th>\n",
       "      <td>23.0</td>\n",
       "      <td>502.0</td>\n",
       "    </tr>\n",
       "    <tr>\n",
       "      <th>1113</th>\n",
       "      <td>55.0</td>\n",
       "      <td>135.0</td>\n",
       "    </tr>\n",
       "  </tbody>\n",
       "</table>\n",
       "<p>1114 rows × 2 columns</p>\n",
       "</div>"
      ],
      "text/plain": [
       "         0       1\n",
       "0     57.0   277.0\n",
       "1     67.0  1423.0\n",
       "2     90.0  1225.0\n",
       "3     23.0   524.0\n",
       "4     23.0   896.0\n",
       "...    ...     ...\n",
       "1109  13.0   357.0\n",
       "1110  57.0   194.0\n",
       "1111  64.0   333.0\n",
       "1112  23.0   502.0\n",
       "1113  55.0   135.0\n",
       "\n",
       "[1114 rows x 2 columns]"
      ]
     },
     "execution_count": 35,
     "metadata": {},
     "output_type": "execute_result"
    }
   ],
   "source": [
    "pos_neg_data = []\n",
    "\n",
    "for i in range(0,len(xva)):\n",
    "    pos_neg_data.append(extract_pos_neg_features1(xva[i][0], data_freq))\n",
    "\n",
    "xva = np.squeeze(pos_neg_data)\n",
    "yva = np.squeeze(yva)\n",
    "pd.DataFrame(np.squeeze(pos_neg_data))"
   ]
  },
  {
   "cell_type": "code",
   "execution_count": 36,
   "metadata": {},
   "outputs": [],
   "source": [
    "xtr, xva, xte = xtr.T, xva.T, xte.T"
   ]
  },
  {
   "cell_type": "code",
   "execution_count": 37,
   "metadata": {},
   "outputs": [
    {
     "data": {
      "text/plain": [
       "(1, 3343)"
      ]
     },
     "execution_count": 37,
     "metadata": {},
     "output_type": "execute_result"
    }
   ],
   "source": [
    "n = ytr.shape[0]\n",
    "ytr=ytr.reshape(1,n)\n",
    "ytr.shape"
   ]
  },
  {
   "cell_type": "code",
   "execution_count": 38,
   "metadata": {},
   "outputs": [
    {
     "data": {
      "text/plain": [
       "(1, 1115)"
      ]
     },
     "execution_count": 38,
     "metadata": {},
     "output_type": "execute_result"
    }
   ],
   "source": [
    "n = yte.shape[0]\n",
    "yte=yte.reshape(1,n)\n",
    "yte.shape"
   ]
  },
  {
   "cell_type": "code",
   "execution_count": 39,
   "metadata": {},
   "outputs": [
    {
     "data": {
      "text/plain": [
       "(1, 1114)"
      ]
     },
     "execution_count": 39,
     "metadata": {},
     "output_type": "execute_result"
    }
   ],
   "source": [
    "n = yva.shape[0]\n",
    "yva=yva.reshape(1,n)\n",
    "yva.shape"
   ]
  },
  {
   "cell_type": "markdown",
   "metadata": {},
   "source": [
    "# Run Logistic Regression"
   ]
  },
  {
   "cell_type": "code",
   "execution_count": 40,
   "metadata": {},
   "outputs": [],
   "source": [
    "w,b = initalise_parameters(xtr)"
   ]
  },
  {
   "cell_type": "code",
   "execution_count": 41,
   "metadata": {},
   "outputs": [],
   "source": [
    "grads, cost = propagate(w, b, xtr, ytr)"
   ]
  },
  {
   "cell_type": "markdown",
   "metadata": {},
   "source": [
    "### Normalize data"
   ]
  },
  {
   "cell_type": "code",
   "execution_count": 42,
   "metadata": {},
   "outputs": [
    {
     "data": {
      "text/plain": [
       "array([[117.57792402],\n",
       "       [640.37660784]])"
      ]
     },
     "execution_count": 42,
     "metadata": {},
     "output_type": "execute_result"
    }
   ],
   "source": [
    "x_Mean = np.mean(xtr, axis=1)\n",
    "x_Mean.reshape(2,1)"
   ]
  },
  {
   "cell_type": "code",
   "execution_count": 43,
   "metadata": {},
   "outputs": [
    {
     "data": {
      "text/plain": [
       "array([[152.2341206 ],\n",
       "       [540.07369038]])"
      ]
     },
     "execution_count": 43,
     "metadata": {},
     "output_type": "execute_result"
    }
   ],
   "source": [
    "x_std = np.std(xtr, axis=1)\n",
    "x_std.reshape(2,1)"
   ]
  },
  {
   "cell_type": "code",
   "execution_count": 44,
   "metadata": {},
   "outputs": [],
   "source": [
    "xtr_norm = (xtr - x_Mean.reshape(2,1))/x_std.reshape(2,1)\n",
    "xte_norm = (xte - x_Mean.reshape(2,1))/x_std.reshape(2,1)\n",
    "xva_norm = (xva - x_Mean.reshape(2,1))/x_std.reshape(2,1)"
   ]
  },
  {
   "cell_type": "code",
   "execution_count": 45,
   "metadata": {},
   "outputs": [
    {
     "name": "stdout",
     "output_type": "stream",
     "text": [
      "Cost after iteration 0: 0.693147\n",
      "Cost after iteration 10000: 0.214344\n",
      "Cost after iteration 20000: 0.161635\n",
      "Cost after iteration 30000: 0.142990\n",
      "Cost after iteration 40000: 0.133594\n",
      "Cost after iteration 50000: 0.127996\n",
      "Cost after iteration 60000: 0.124322\n",
      "Cost after iteration 70000: 0.121755\n",
      "Cost after iteration 80000: 0.119879\n",
      "Cost after iteration 90000: 0.118465\n"
     ]
    }
   ],
   "source": [
    "params, grads, costs = optimize(w, b, xtr_norm, ytr, 100000, learning_rate=0.0009, print_cost = True)"
   ]
  },
  {
   "cell_type": "code",
   "execution_count": 46,
   "metadata": {},
   "outputs": [],
   "source": [
    "w = params['w']\n",
    "b = params['b']"
   ]
  },
  {
   "cell_type": "code",
   "execution_count": 47,
   "metadata": {},
   "outputs": [
    {
     "data": {
      "image/png": "[encoded data removed]",
      "text/plain": [
       "<Figure size 432x288 with 1 Axes>"
      ]
     },
     "metadata": {
      "needs_background": "light"
     },
     "output_type": "display_data"
    }
   ],
   "source": [
    "plt.plot(costs)\n",
    "plt.xlabel(\"Iteration\", fontsize=15)\n",
    "plt.ylabel(\"Cost\", fontsize=15)\n",
    "plt.title(\"Cost vs Iteration plot\", fontsize=18)\n",
    "plt.show()"
   ]
  },
  {
   "cell_type": "markdown",
   "metadata": {},
   "source": [
    "### Make Predictions"
   ]
  },
  {
   "cell_type": "code",
   "execution_count": 48,
   "metadata": {},
   "outputs": [],
   "source": [
    "Y_prediction_Val, A_Val   = predict(w, b, xva_norm)\n",
    "Y_prediction_Train, A_Train = predict(w, b, xtr_norm)"
   ]
  },
  {
   "cell_type": "code",
   "execution_count": 49,
   "metadata": {},
   "outputs": [
    {
     "data": {
      "image/png": "[encoded data removed]",
      "text/plain": [
       "<Figure size 432x288 with 1 Axes>"
      ]
     },
     "metadata": {
      "needs_background": "light"
     },
     "output_type": "display_data"
    },
    {
     "name": "stdout",
     "output_type": "stream",
     "text": [
      "--> An AUC value of 0.98 achieved\n"
     ]
    }
   ],
   "source": [
    "compute_Roc(ytr, A_Train)"
   ]
  },
  {
   "cell_type": "code",
   "execution_count": 50,
   "metadata": {},
   "outputs": [
    {
     "name": "stdout",
     "output_type": "stream",
     "text": [
      "--> The total of 3343 predicted with only 3205 accurate predictions\n",
      "\n",
      "=======================\n",
      "Ground Truth comparison\n",
      "=======================\n",
      "\u001b[90m\n",
      "\u001b[90mActual label is True while we predicted True   -  \u001b[92mTrue Positive  =  327\n",
      "\u001b[90mActual label is False while we predicted False -  \u001b[92mTrue Negatve   =  2878\n",
      "\u001b[90mActual label is False while we predicted True  -  \u001b[91mFalse Positive =  34\n",
      "\u001b[90mActual label is True while we predicted False  -  \u001b[91mFalse Negative =  104\n",
      "\n",
      "\u001b[94m\n",
      "--> 361 positive outcomes predicted\n",
      "--> 2982 negative outcomes predicted\n",
      "--> An accuracy of 95.87 % was achieved\n",
      "--> Sensitity of 0.76 was achieved\n",
      "--> Specificity of 0.99 was achieved \n",
      "--> 0.11 rate of positive prediction\n",
      "--> 0.89 rate of negative prediction\n",
      "--> 0.24 false negative rate was achieved\n",
      "--> 0.01 false positve rate (fallout) was achieved\n",
      "--> Negative predictive value of 0.97\n",
      "--> Recall value 0f 0.76 achieved\n",
      "--> The precision vaue of 0.91 achieved\n",
      "--> An Fscore of 0.83 achieved\n"
     ]
    },
    {
     "data": {
      "image/png": "[encoded data removed]",
      "text/plain": [
       "<Figure size 576x288 with 2 Axes>"
      ]
     },
     "metadata": {
      "needs_background": "light"
     },
     "output_type": "display_data"
    }
   ],
   "source": [
    "eva_train=EvaluateTest(ytr.T, Y_prediction_Train.T)"
   ]
  },
  {
   "cell_type": "code",
   "execution_count": 51,
   "metadata": {},
   "outputs": [
    {
     "data": {
      "image/png": "[encoded data removed]",
      "text/plain": [
       "<Figure size 432x288 with 1 Axes>"
      ]
     },
     "metadata": {
      "needs_background": "light"
     },
     "output_type": "display_data"
    },
    {
     "name": "stdout",
     "output_type": "stream",
     "text": [
      "--> An AUC value of 0.97 achieved\n"
     ]
    }
   ],
   "source": [
    "compute_Roc(yva, A_Val)"
   ]
  },
  {
   "cell_type": "code",
   "execution_count": 52,
   "metadata": {},
   "outputs": [
    {
     "name": "stdout",
     "output_type": "stream",
     "text": [
      "--> The total of 1114 predicted with only 1059 accurate predictions\n",
      "\n",
      "=======================\n",
      "Ground Truth comparison\n",
      "=======================\n",
      "\u001b[90m\n",
      "\u001b[90mActual label is True while we predicted True   -  \u001b[92mTrue Positive  =  122\n",
      "\u001b[90mActual label is False while we predicted False -  \u001b[92mTrue Negatve   =  937\n",
      "\u001b[90mActual label is False while we predicted True  -  \u001b[91mFalse Positive =  9\n",
      "\u001b[90mActual label is True while we predicted False  -  \u001b[91mFalse Negative =  46\n",
      "\n",
      "\u001b[94m\n",
      "--> 131 positive outcomes predicted\n",
      "--> 983 negative outcomes predicted\n",
      "--> An accuracy of 95.06 % was achieved\n",
      "--> Sensitity of 0.73 was achieved\n",
      "--> Specificity of 0.99 was achieved \n",
      "--> 0.12 rate of positive prediction\n",
      "--> 0.88 rate of negative prediction\n",
      "--> 0.27 false negative rate was achieved\n",
      "--> 0.01 false positve rate (fallout) was achieved\n",
      "--> Negative predictive value of 0.95\n",
      "--> Recall value 0f 0.73 achieved\n",
      "--> The precision vaue of 0.93 achieved\n",
      "--> An Fscore of 0.82 achieved\n"
     ]
    },
    {
     "data": {
      "image/png": "[encoded data removed]",
      "text/plain": [
       "<Figure size 576x288 with 2 Axes>"
      ]
     },
     "metadata": {
      "needs_background": "light"
     },
     "output_type": "display_data"
    }
   ],
   "source": [
    "eva_valid=EvaluateTest(yva.T, Y_prediction_Val.T)"
   ]
  },
  {
   "cell_type": "code",
   "execution_count": 53,
   "metadata": {},
   "outputs": [
    {
     "name": "stdout",
     "output_type": "stream",
     "text": [
      "Train accuracy: 95.8719712832785\n",
      "Val accuracy: 95.06283662477558\n"
     ]
    }
   ],
   "source": [
    "print(\"Train accuracy: {}\".format(100 - np.mean(np.abs(Y_prediction_Train - ytr)) * 100))\n",
    "print(\"Val accuracy: {}\".format(100 - np.mean(np.abs(Y_prediction_Val - yva)) * 100))"
   ]
  },
  {
   "cell_type": "markdown",
   "metadata": {},
   "source": [
    "Train accuracy: 95.36970567121321 %\n",
    "Val accuracy: 96.41062455132807 %\n",
    "Test accuracy: 95.76453697056712 %\n"
   ]
  },
  {
   "cell_type": "markdown",
   "metadata": {},
   "source": [
    "# Test with dictionary developed from entire dataset"
   ]
  },
  {
   "cell_type": "code",
   "execution_count": 54,
   "metadata": {},
   "outputs": [
    {
     "data": {
      "text/html": [
       "<div>\n",
       "<style scoped>\n",
       "    .dataframe tbody tr th:only-of-type {\n",
       "        vertical-align: middle;\n",
       "    }\n",
       "\n",
       "    .dataframe tbody tr th {\n",
       "        vertical-align: top;\n",
       "    }\n",
       "\n",
       "    .dataframe thead th {\n",
       "        text-align: right;\n",
       "    }\n",
       "</style>\n",
       "<table border=\"1\" class=\"dataframe\">\n",
       "  <thead>\n",
       "    <tr style=\"text-align: right;\">\n",
       "      <th></th>\n",
       "      <th>0</th>\n",
       "      <th>1</th>\n",
       "    </tr>\n",
       "  </thead>\n",
       "  <tbody>\n",
       "    <tr>\n",
       "      <th>0</th>\n",
       "      <td>429.0</td>\n",
       "      <td>891.0</td>\n",
       "    </tr>\n",
       "    <tr>\n",
       "      <th>1</th>\n",
       "      <td>696.0</td>\n",
       "      <td>1172.0</td>\n",
       "    </tr>\n",
       "    <tr>\n",
       "      <th>2</th>\n",
       "      <td>1.0</td>\n",
       "      <td>8.0</td>\n",
       "    </tr>\n",
       "    <tr>\n",
       "      <th>3</th>\n",
       "      <td>109.0</td>\n",
       "      <td>476.0</td>\n",
       "    </tr>\n",
       "    <tr>\n",
       "      <th>4</th>\n",
       "      <td>131.0</td>\n",
       "      <td>891.0</td>\n",
       "    </tr>\n",
       "    <tr>\n",
       "      <th>...</th>\n",
       "      <td>...</td>\n",
       "      <td>...</td>\n",
       "    </tr>\n",
       "    <tr>\n",
       "      <th>3338</th>\n",
       "      <td>12.0</td>\n",
       "      <td>150.0</td>\n",
       "    </tr>\n",
       "    <tr>\n",
       "      <th>3339</th>\n",
       "      <td>240.0</td>\n",
       "      <td>3514.0</td>\n",
       "    </tr>\n",
       "    <tr>\n",
       "      <th>3340</th>\n",
       "      <td>62.0</td>\n",
       "      <td>1912.0</td>\n",
       "    </tr>\n",
       "    <tr>\n",
       "      <th>3341</th>\n",
       "      <td>24.0</td>\n",
       "      <td>760.0</td>\n",
       "    </tr>\n",
       "    <tr>\n",
       "      <th>3342</th>\n",
       "      <td>832.0</td>\n",
       "      <td>452.0</td>\n",
       "    </tr>\n",
       "  </tbody>\n",
       "</table>\n",
       "<p>3343 rows × 2 columns</p>\n",
       "</div>"
      ],
      "text/plain": [
       "          0       1\n",
       "0     429.0   891.0\n",
       "1     696.0  1172.0\n",
       "2       1.0     8.0\n",
       "3     109.0   476.0\n",
       "4     131.0   891.0\n",
       "...     ...     ...\n",
       "3338   12.0   150.0\n",
       "3339  240.0  3514.0\n",
       "3340   62.0  1912.0\n",
       "3341   24.0   760.0\n",
       "3342  832.0   452.0\n",
       "\n",
       "[3343 rows x 2 columns]"
      ]
     },
     "execution_count": 54,
     "metadata": {},
     "output_type": "execute_result"
    }
   ],
   "source": [
    "pos_neg_data = []\n",
    "\n",
    "for i in range(0,len(xtr2)):\n",
    "    pos_neg_data.append(extract_pos_neg_features1(xtr2[i][0], data_freq2))\n",
    "\n",
    "xtr2 = np.squeeze(pos_neg_data)\n",
    "pd.DataFrame(np.squeeze(pos_neg_data))"
   ]
  },
  {
   "cell_type": "code",
   "execution_count": 55,
   "metadata": {},
   "outputs": [
    {
     "data": {
      "text/html": [
       "<div>\n",
       "<style scoped>\n",
       "    .dataframe tbody tr th:only-of-type {\n",
       "        vertical-align: middle;\n",
       "    }\n",
       "\n",
       "    .dataframe tbody tr th {\n",
       "        vertical-align: top;\n",
       "    }\n",
       "\n",
       "    .dataframe thead th {\n",
       "        text-align: right;\n",
       "    }\n",
       "</style>\n",
       "<table border=\"1\" class=\"dataframe\">\n",
       "  <thead>\n",
       "    <tr style=\"text-align: right;\">\n",
       "      <th></th>\n",
       "      <th>0</th>\n",
       "      <th>1</th>\n",
       "    </tr>\n",
       "  </thead>\n",
       "  <tbody>\n",
       "    <tr>\n",
       "      <th>0</th>\n",
       "      <td>99.0</td>\n",
       "      <td>467.0</td>\n",
       "    </tr>\n",
       "    <tr>\n",
       "      <th>1</th>\n",
       "      <td>99.0</td>\n",
       "      <td>2291.0</td>\n",
       "    </tr>\n",
       "    <tr>\n",
       "      <th>2</th>\n",
       "      <td>165.0</td>\n",
       "      <td>1990.0</td>\n",
       "    </tr>\n",
       "    <tr>\n",
       "      <th>3</th>\n",
       "      <td>35.0</td>\n",
       "      <td>884.0</td>\n",
       "    </tr>\n",
       "    <tr>\n",
       "      <th>4</th>\n",
       "      <td>39.0</td>\n",
       "      <td>1473.0</td>\n",
       "    </tr>\n",
       "    <tr>\n",
       "      <th>...</th>\n",
       "      <td>...</td>\n",
       "      <td>...</td>\n",
       "    </tr>\n",
       "    <tr>\n",
       "      <th>1109</th>\n",
       "      <td>25.0</td>\n",
       "      <td>596.0</td>\n",
       "    </tr>\n",
       "    <tr>\n",
       "      <th>1110</th>\n",
       "      <td>108.0</td>\n",
       "      <td>317.0</td>\n",
       "    </tr>\n",
       "    <tr>\n",
       "      <th>1111</th>\n",
       "      <td>112.0</td>\n",
       "      <td>565.0</td>\n",
       "    </tr>\n",
       "    <tr>\n",
       "      <th>1112</th>\n",
       "      <td>37.0</td>\n",
       "      <td>832.0</td>\n",
       "    </tr>\n",
       "    <tr>\n",
       "      <th>1113</th>\n",
       "      <td>102.0</td>\n",
       "      <td>216.0</td>\n",
       "    </tr>\n",
       "  </tbody>\n",
       "</table>\n",
       "<p>1114 rows × 2 columns</p>\n",
       "</div>"
      ],
      "text/plain": [
       "          0       1\n",
       "0      99.0   467.0\n",
       "1      99.0  2291.0\n",
       "2     165.0  1990.0\n",
       "3      35.0   884.0\n",
       "4      39.0  1473.0\n",
       "...     ...     ...\n",
       "1109   25.0   596.0\n",
       "1110  108.0   317.0\n",
       "1111  112.0   565.0\n",
       "1112   37.0   832.0\n",
       "1113  102.0   216.0\n",
       "\n",
       "[1114 rows x 2 columns]"
      ]
     },
     "execution_count": 55,
     "metadata": {},
     "output_type": "execute_result"
    }
   ],
   "source": [
    "pos_neg_data = []\n",
    "\n",
    "for i in range(0,len(xva2)):\n",
    "    pos_neg_data.append(extract_pos_neg_features1(xva2[i][0], data_freq2))\n",
    "\n",
    "xva2 = np.squeeze(pos_neg_data)\n",
    "pd.DataFrame(np.squeeze(pos_neg_data))"
   ]
  },
  {
   "cell_type": "code",
   "execution_count": 56,
   "metadata": {},
   "outputs": [],
   "source": [
    "xtr2=xtr2.T\n",
    "xva2=xva2.T"
   ]
  },
  {
   "cell_type": "code",
   "execution_count": 57,
   "metadata": {},
   "outputs": [
    {
     "data": {
      "text/plain": [
       "array([[ 202.80765779],\n",
       "       [1041.11935387]])"
      ]
     },
     "execution_count": 57,
     "metadata": {},
     "output_type": "execute_result"
    }
   ],
   "source": [
    "x_Mean = np.mean(xtr2, axis=1)\n",
    "x_Mean.reshape(2,1)"
   ]
  },
  {
   "cell_type": "code",
   "execution_count": 58,
   "metadata": {},
   "outputs": [
    {
     "data": {
      "text/plain": [
       "array([[261.92587048],\n",
       "       [878.63752577]])"
      ]
     },
     "execution_count": 58,
     "metadata": {},
     "output_type": "execute_result"
    }
   ],
   "source": [
    "x_std = np.std(xtr2, axis=1)\n",
    "x_std.reshape(2,1)"
   ]
  },
  {
   "cell_type": "code",
   "execution_count": 59,
   "metadata": {},
   "outputs": [],
   "source": [
    "xtr_norm2 = (xtr2 - x_Mean.reshape(2,1))/x_std.reshape(2,1)\n",
    "#xte_norm = (xte - x_Mean.reshape(2,1))/x_std.reshape(2,1)\n",
    "xva_norm2 = (xva2 - x_Mean.reshape(2,1))/x_std.reshape(2,1)"
   ]
  },
  {
   "cell_type": "code",
   "execution_count": 60,
   "metadata": {},
   "outputs": [],
   "source": [
    "w2,b2 = initalise_parameters(xtr2)"
   ]
  },
  {
   "cell_type": "code",
   "execution_count": 61,
   "metadata": {},
   "outputs": [
    {
     "name": "stdout",
     "output_type": "stream",
     "text": [
      "Cost after iteration 0: 0.693147\n",
      "Cost after iteration 10000: 0.217199\n",
      "Cost after iteration 20000: 0.165050\n",
      "Cost after iteration 30000: 0.146683\n",
      "Cost after iteration 40000: 0.137457\n",
      "Cost after iteration 50000: 0.131976\n",
      "Cost after iteration 60000: 0.128387\n",
      "Cost after iteration 70000: 0.125884\n",
      "Cost after iteration 80000: 0.124058\n",
      "Cost after iteration 90000: 0.122684\n"
     ]
    }
   ],
   "source": [
    "params, grads, costs = optimize(w2, b2, xtr_norm2, ytr, 100000, learning_rate=0.0009, print_cost = True)"
   ]
  },
  {
   "cell_type": "code",
   "execution_count": 62,
   "metadata": {},
   "outputs": [
    {
     "data": {
      "image/png": "[encoded data removed]",
      "text/plain": [
       "<Figure size 432x288 with 1 Axes>"
      ]
     },
     "metadata": {
      "needs_background": "light"
     },
     "output_type": "display_data"
    }
   ],
   "source": [
    "plt.plot(costs)\n",
    "plt.xlabel(\"Iteration\", fontsize=15)\n",
    "plt.ylabel(\"Cost\", fontsize=15)\n",
    "plt.title(\"Cost vs Iteration plot\", fontsize=18)\n",
    "plt.show()"
   ]
  },
  {
   "cell_type": "code",
   "execution_count": 63,
   "metadata": {},
   "outputs": [],
   "source": [
    "Y_prediction_Val2, A_Val2     = predict(w2, b2, xva_norm2)\n",
    "Y_prediction_Train2, A_Train2 = predict(w2, b2, xtr_norm2)"
   ]
  },
  {
   "cell_type": "code",
   "execution_count": 64,
   "metadata": {},
   "outputs": [
    {
     "data": {
      "image/png": "[encoded data removed]",
      "text/plain": [
       "<Figure size 432x288 with 1 Axes>"
      ]
     },
     "metadata": {
      "needs_background": "light"
     },
     "output_type": "display_data"
    },
    {
     "name": "stdout",
     "output_type": "stream",
     "text": [
      "--> An AUC value of 0.49 achieved\n"
     ]
    }
   ],
   "source": [
    "compute_Roc(ytr, A_Train2)"
   ]
  },
  {
   "cell_type": "code",
   "execution_count": 65,
   "metadata": {},
   "outputs": [
    {
     "name": "stdout",
     "output_type": "stream",
     "text": [
      "--> The total of 3343 predicted with only 2912 accurate predictions\n",
      "\n",
      "=======================\n",
      "Ground Truth comparison\n",
      "=======================\n",
      "\u001b[90m\n",
      "\u001b[90mActual label is True while we predicted True   -  \u001b[92mTrue Positive  =  0\n",
      "\u001b[90mActual label is False while we predicted False -  \u001b[92mTrue Negatve   =  2912\n",
      "\u001b[90mActual label is False while we predicted True  -  \u001b[91mFalse Positive =  0\n",
      "\u001b[90mActual label is True while we predicted False  -  \u001b[91mFalse Negative =  431\n",
      "\n",
      "No True positives or False positives predicted\n",
      "=============================================\n",
      "Fscore cannot be calculated as denominator is 0\n",
      "=============================================\n",
      "\u001b[94m\n",
      "--> 0 positive outcomes predicted\n",
      "--> 3343 negative outcomes predicted\n",
      "--> An accuracy of 87.11 % was achieved\n",
      "--> Sensitity of 0.0 was achieved\n",
      "--> Specificity of 1.0 was achieved \n",
      "--> 0.0 rate of positive prediction\n",
      "--> 1.0 rate of negative prediction\n",
      "--> 1.0 false negative rate was achieved\n",
      "--> 0.0 false positve rate (fallout) was achieved\n",
      "--> Negative predictive value of 0.87\n",
      "--> Recall value 0f 0.0 achieved\n",
      "--> The precision vaue of 0 achieved\n",
      "--> An Fscore of 0 achieved\n"
     ]
    },
    {
     "data": {
      "image/png": "[encoded data removed]",
      "text/plain": [
       "<Figure size 576x288 with 2 Axes>"
      ]
     },
     "metadata": {
      "needs_background": "light"
     },
     "output_type": "display_data"
    }
   ],
   "source": [
    "eva_train2=EvaluateTest(ytr.T, Y_prediction_Train2.T)"
   ]
  },
  {
   "cell_type": "code",
   "execution_count": 66,
   "metadata": {},
   "outputs": [
    {
     "data": {
      "image/png": "[encoded data removed]",
      "text/plain": [
       "<Figure size 432x288 with 1 Axes>"
      ]
     },
     "metadata": {
      "needs_background": "light"
     },
     "output_type": "display_data"
    },
    {
     "name": "stdout",
     "output_type": "stream",
     "text": [
      "--> An AUC value of 0.49 achieved\n"
     ]
    }
   ],
   "source": [
    "compute_Roc(yva, A_Val2)"
   ]
  },
  {
   "cell_type": "code",
   "execution_count": 67,
   "metadata": {},
   "outputs": [
    {
     "name": "stdout",
     "output_type": "stream",
     "text": [
      "--> The total of 1114 predicted with only 946 accurate predictions\n",
      "\n",
      "=======================\n",
      "Ground Truth comparison\n",
      "=======================\n",
      "\u001b[90m\n",
      "\u001b[90mActual label is True while we predicted True   -  \u001b[92mTrue Positive  =  0\n",
      "\u001b[90mActual label is False while we predicted False -  \u001b[92mTrue Negatve   =  946\n",
      "\u001b[90mActual label is False while we predicted True  -  \u001b[91mFalse Positive =  0\n",
      "\u001b[90mActual label is True while we predicted False  -  \u001b[91mFalse Negative =  168\n",
      "\n",
      "No True positives or False positives predicted\n",
      "=============================================\n",
      "Fscore cannot be calculated as denominator is 0\n",
      "=============================================\n",
      "\u001b[94m\n",
      "--> 0 positive outcomes predicted\n",
      "--> 1114 negative outcomes predicted\n",
      "--> An accuracy of 84.92 % was achieved\n",
      "--> Sensitity of 0.0 was achieved\n",
      "--> Specificity of 1.0 was achieved \n",
      "--> 0.0 rate of positive prediction\n",
      "--> 1.0 rate of negative prediction\n",
      "--> 1.0 false negative rate was achieved\n",
      "--> 0.0 false positve rate (fallout) was achieved\n",
      "--> Negative predictive value of 0.85\n",
      "--> Recall value 0f 0.0 achieved\n",
      "--> The precision vaue of 0 achieved\n",
      "--> An Fscore of 0 achieved\n"
     ]
    },
    {
     "data": {
      "image/png": "[encoded data removed]",
      "text/plain": [
       "<Figure size 576x288 with 2 Axes>"
      ]
     },
     "metadata": {
      "needs_background": "light"
     },
     "output_type": "display_data"
    }
   ],
   "source": [
    "eva_valid2=EvaluateTest(yva.T, Y_prediction_Val2.T)"
   ]
  },
  {
   "cell_type": "code",
   "execution_count": 68,
   "metadata": {},
   "outputs": [
    {
     "name": "stdout",
     "output_type": "stream",
     "text": [
      "Train accuracy 2: 87.1073885731379\n",
      "Val accuracy 2: 84.91921005385997\n"
     ]
    }
   ],
   "source": [
    "print(\"Train accuracy 2: {}\".format(100 - np.mean(np.abs(Y_prediction_Train2 - ytr)) * 100))\n",
    "print(\"Val accuracy 2: {}\".format(100 - np.mean(np.abs(Y_prediction_Val2 - yva)) * 100))"
   ]
  },
  {
   "cell_type": "markdown",
   "metadata": {},
   "source": [
    "# Test Model "
   ]
  },
  {
   "cell_type": "code",
   "execution_count": 69,
   "metadata": {},
   "outputs": [
    {
     "name": "stdout",
     "output_type": "stream",
     "text": [
      "Test accuracy: 95.87443946188341\n"
     ]
    }
   ],
   "source": [
    "Y_prediction_Test, A_Test = predict(w, b, xte_norm)\n",
    "print(\"Test accuracy: {}\".format(100 - np.mean(np.abs(Y_prediction_Test - yte)) * 100))"
   ]
  },
  {
   "cell_type": "code",
   "execution_count": 70,
   "metadata": {},
   "outputs": [
    {
     "data": {
      "image/png": "[encoded data removed]",
      "text/plain": [
       "<Figure size 432x288 with 1 Axes>"
      ]
     },
     "metadata": {
      "needs_background": "light"
     },
     "output_type": "display_data"
    },
    {
     "name": "stdout",
     "output_type": "stream",
     "text": [
      "--> An AUC value of 0.97 achieved\n"
     ]
    }
   ],
   "source": [
    "compute_Roc(yte, A_Test)"
   ]
  },
  {
   "cell_type": "code",
   "execution_count": 71,
   "metadata": {},
   "outputs": [
    {
     "name": "stdout",
     "output_type": "stream",
     "text": [
      "--> The total of 1115 predicted with only 1069 accurate predictions\n",
      "\n",
      "=======================\n",
      "Ground Truth comparison\n",
      "=======================\n",
      "\u001b[90m\n",
      "\u001b[90mActual label is True while we predicted True   -  \u001b[92mTrue Positive  =  113\n",
      "\u001b[90mActual label is False while we predicted False -  \u001b[92mTrue Negatve   =  956\n",
      "\u001b[90mActual label is False while we predicted True  -  \u001b[91mFalse Positive =  11\n",
      "\u001b[90mActual label is True while we predicted False  -  \u001b[91mFalse Negative =  35\n",
      "\n",
      "\u001b[94m\n",
      "--> 124 positive outcomes predicted\n",
      "--> 991 negative outcomes predicted\n",
      "--> An accuracy of 95.87 % was achieved\n",
      "--> Sensitity of 0.76 was achieved\n",
      "--> Specificity of 0.99 was achieved \n",
      "--> 0.11 rate of positive prediction\n",
      "--> 0.89 rate of negative prediction\n",
      "--> 0.24 false negative rate was achieved\n",
      "--> 0.01 false positve rate (fallout) was achieved\n",
      "--> Negative predictive value of 0.96\n",
      "--> Recall value 0f 0.76 achieved\n",
      "--> The precision vaue of 0.91 achieved\n",
      "--> An Fscore of 0.83 achieved\n"
     ]
    },
    {
     "data": {
      "image/png": "[encoded data removed]",
      "text/plain": [
       "<Figure size 576x288 with 2 Axes>"
      ]
     },
     "metadata": {
      "needs_background": "light"
     },
     "output_type": "display_data"
    }
   ],
   "source": [
    "eva_test=EvaluateTest(yte.T, Y_prediction_Test.T)"
   ]
  },
  {
   "cell_type": "code",
   "execution_count": null,
   "metadata": {},
   "outputs": [],
   "source": []
  }
 ],
 "metadata": {
  "kernelspec": {
   "display_name": "Python 3",
   "language": "python",
   "name": "python3"
  },
  "language_info": {
   "codemirror_mode": {
    "name": "ipython",
    "version": 3
   },
   "file_extension": ".py",
   "mimetype": "text/x-python",
   "name": "python",
   "nbconvert_exporter": "python",
   "pygments_lexer": "ipython3",
   "version": "3.7.3"
  }
 },
 "nbformat": 4,
 "nbformat_minor": 2
}
