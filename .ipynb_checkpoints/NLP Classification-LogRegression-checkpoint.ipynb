{
 "cells": [
  {
   "cell_type": "markdown",
   "metadata": {},
   "source": [
    "### NLP Classification Project\n",
    "\n",
    "##### Building a spam filter with the kernel framework. \n",
    "\n",
    "Emails are either classed as undersired \"spam\" or \"ham\". This classification task is applies and uses variants of edit distance within a kernel framework. LibSVM algorithm is then applied to clasify the data as either \"ham\" or \"spam\". The <a href = \"https://archive.ics.uci.edu/ml/datasets/SMS+Spam+Collection\">SMS Spam Collection Data Set</a> from UCI machine learning repository \n",
    "\n",
    "* Clean the data\n",
    "* Carry out data exploration\n",
    "* split, tokenize, remove punctuation\n",
    "* Extract features\n",
    "* Construct kernels\n",
    "* Run classification \n",
    "* Compare and analyse"
   ]
  },
  {
   "cell_type": "code",
   "execution_count": 1,
   "metadata": {},
   "outputs": [],
   "source": [
    "#Import required files\n",
    "import nltk\n",
    "import numpy as np\n",
    "import pandas as pd\n",
    "import matplotlib.pyplot as plt\n",
    "from pathlib import Path\n",
    "import re\n",
    "import string\n",
    "from zipfile import ZipFile \n",
    "import requests\n",
    "from libsvm.svmutil import *\n",
    "from util_ker import *\n",
    "from util_ker import EvaluateTest\n",
    "from util_Text import *\n",
    "from LogUtil import *\n",
    "import seaborn as sns\n",
    "import time\n",
    "\n",
    "%matplotlib inline\n",
    "pd.set_option('display.max_colwidth', 100)"
   ]
  },
  {
   "cell_type": "markdown",
   "metadata": {},
   "source": [
    "### Download Data"
   ]
  },
  {
   "cell_type": "code",
   "execution_count": 2,
   "metadata": {},
   "outputs": [],
   "source": [
    "#download 'smsspamcollection.zip' files from UCI website (file is a zipped file )\n",
    "url = \"https://archive.ics.uci.edu/ml/machine-learning-databases/00228/smsspamcollection.zip\"\n",
    "r = requests.get(url, allow_redirects=True)\n",
    "open('smsspamcollection.zip', 'wb').write(r.content)\n",
    "fname = 'smsspamcollection.zip'"
   ]
  },
  {
   "cell_type": "code",
   "execution_count": 3,
   "metadata": {},
   "outputs": [
    {
     "name": "stdout",
     "output_type": "stream",
     "text": [
      "File Name                                             Modified             Size\n",
      "SMSSpamCollection                              2011-03-15 22:36:02       477907\n",
      "readme                                         2011-04-18 14:53:56         5868\n",
      "Extraction Complete!\n"
     ]
    }
   ],
   "source": [
    "#Extract the zipped file\n",
    "with ZipFile(fname, 'r') as nip: \n",
    "    nip.printdir() \n",
    "     \n",
    "    nip.extractall() \n",
    "    print('Extraction Complete!') "
   ]
  },
  {
   "cell_type": "code",
   "execution_count": 4,
   "metadata": {},
   "outputs": [],
   "source": [
    "#Load Data\n",
    "data = pd.read_csv(\"./SMSSpamCollection\", sep='\\t', header=None, names=['label','Text'])"
   ]
  },
  {
   "cell_type": "code",
   "execution_count": 5,
   "metadata": {},
   "outputs": [
    {
     "data": {
      "text/html": [
       "<div>\n",
       "<style scoped>\n",
       "    .dataframe tbody tr th:only-of-type {\n",
       "        vertical-align: middle;\n",
       "    }\n",
       "\n",
       "    .dataframe tbody tr th {\n",
       "        vertical-align: top;\n",
       "    }\n",
       "\n",
       "    .dataframe thead th {\n",
       "        text-align: right;\n",
       "    }\n",
       "</style>\n",
       "<table border=\"1\" class=\"dataframe\">\n",
       "  <thead>\n",
       "    <tr style=\"text-align: right;\">\n",
       "      <th></th>\n",
       "      <th>label</th>\n",
       "      <th>Text</th>\n",
       "    </tr>\n",
       "  </thead>\n",
       "  <tbody>\n",
       "    <tr>\n",
       "      <th>0</th>\n",
       "      <td>ham</td>\n",
       "      <td>Go until jurong point, crazy.. Available only in bugis n great world la e buffet... Cine there g...</td>\n",
       "    </tr>\n",
       "    <tr>\n",
       "      <th>1</th>\n",
       "      <td>ham</td>\n",
       "      <td>Ok lar... Joking wif u oni...</td>\n",
       "    </tr>\n",
       "    <tr>\n",
       "      <th>2</th>\n",
       "      <td>spam</td>\n",
       "      <td>Free entry in 2 a wkly comp to win FA Cup final tkts 21st May 2005. Text FA to 87121 to receive ...</td>\n",
       "    </tr>\n",
       "    <tr>\n",
       "      <th>3</th>\n",
       "      <td>ham</td>\n",
       "      <td>U dun say so early hor... U c already then say...</td>\n",
       "    </tr>\n",
       "    <tr>\n",
       "      <th>4</th>\n",
       "      <td>ham</td>\n",
       "      <td>Nah I don't think he goes to usf, he lives around here though</td>\n",
       "    </tr>\n",
       "  </tbody>\n",
       "</table>\n",
       "</div>"
      ],
      "text/plain": [
       "  label  \\\n",
       "0   ham   \n",
       "1   ham   \n",
       "2  spam   \n",
       "3   ham   \n",
       "4   ham   \n",
       "\n",
       "                                                                                                  Text  \n",
       "0  Go until jurong point, crazy.. Available only in bugis n great world la e buffet... Cine there g...  \n",
       "1                                                                        Ok lar... Joking wif u oni...  \n",
       "2  Free entry in 2 a wkly comp to win FA Cup final tkts 21st May 2005. Text FA to 87121 to receive ...  \n",
       "3                                                    U dun say so early hor... U c already then say...  \n",
       "4                                        Nah I don't think he goes to usf, he lives around here though  "
      ]
     },
     "execution_count": 5,
     "metadata": {},
     "output_type": "execute_result"
    }
   ],
   "source": [
    "data.head()"
   ]
  },
  {
   "cell_type": "code",
   "execution_count": 6,
   "metadata": {},
   "outputs": [
    {
     "name": "stdout",
     "output_type": "stream",
     "text": [
      "The data is made up of 5572 examples \n"
     ]
    }
   ],
   "source": [
    "print(f'The data is made up of {data.shape[0]} examples ')"
   ]
  },
  {
   "cell_type": "code",
   "execution_count": 7,
   "metadata": {},
   "outputs": [
    {
     "data": {
      "image/png": "[encoded data removed]",
      "text/plain": [
       "<Figure size 432x288 with 1 Axes>"
      ]
     },
     "metadata": {
      "needs_background": "light"
     },
     "output_type": "display_data"
    }
   ],
   "source": [
    "sns.countplot(data.label)\n",
    "plt.show()"
   ]
  },
  {
   "cell_type": "code",
   "execution_count": 8,
   "metadata": {},
   "outputs": [
    {
     "name": "stdout",
     "output_type": "stream",
     "text": [
      "4825 examples classed as ham. 747 examples classed as spam\n"
     ]
    }
   ],
   "source": [
    "len_ham  = data[data['label']=='ham'].count()[0]\n",
    "len_spam = data[data['label']=='spam'].count()[0]\n",
    "print(f'{len_ham} examples classed as ham. {len_spam} examples classed as spam')"
   ]
  },
  {
   "cell_type": "markdown",
   "metadata": {},
   "source": [
    "# Uneven Length Sequences"
   ]
  },
  {
   "cell_type": "code",
   "execution_count": 9,
   "metadata": {},
   "outputs": [],
   "source": [
    "#Extract the length of each example\n",
    "lenData = np.zeros((len(data),1))\n",
    "for i in range(len(data)):\n",
    "    lenData[i] = len(data.Text[i])"
   ]
  },
  {
   "cell_type": "code",
   "execution_count": 10,
   "metadata": {},
   "outputs": [
    {
     "data": {
      "image/png": "[encoded data removed]",
      "text/plain": [
       "<Figure size 432x288 with 1 Axes>"
      ]
     },
     "metadata": {
      "needs_background": "light"
     },
     "output_type": "display_data"
    }
   ],
   "source": [
    "#Plot a histogram showing the distribution of the variable length\n",
    "plt.hist(lenData);\n",
    "plt.title('Distribution of variable length examples');"
   ]
  },
  {
   "cell_type": "markdown",
   "metadata": {},
   "source": [
    "### Clean Data\n",
    "\n",
    " - Remove punctuation\n",
    " - Tokenize the strings\n",
    " - Remove stop words"
   ]
  },
  {
   "cell_type": "code",
   "execution_count": 11,
   "metadata": {},
   "outputs": [
    {
     "data": {
      "text/html": [
       "<div>\n",
       "<style scoped>\n",
       "    .dataframe tbody tr th:only-of-type {\n",
       "        vertical-align: middle;\n",
       "    }\n",
       "\n",
       "    .dataframe tbody tr th {\n",
       "        vertical-align: top;\n",
       "    }\n",
       "\n",
       "    .dataframe thead th {\n",
       "        text-align: right;\n",
       "    }\n",
       "</style>\n",
       "<table border=\"1\" class=\"dataframe\">\n",
       "  <thead>\n",
       "    <tr style=\"text-align: right;\">\n",
       "      <th></th>\n",
       "      <th>label</th>\n",
       "      <th>Text</th>\n",
       "      <th>Text_cleaned</th>\n",
       "    </tr>\n",
       "  </thead>\n",
       "  <tbody>\n",
       "    <tr>\n",
       "      <th>0</th>\n",
       "      <td>ham</td>\n",
       "      <td>Go until jurong point, crazy.. Available only in bugis n great world la e buffet... Cine there g...</td>\n",
       "      <td>[Go, jurong, point, crazy, Available, bugis, n, great, world, la, e, buffet, Cine, got, amore, wat]</td>\n",
       "    </tr>\n",
       "    <tr>\n",
       "      <th>1</th>\n",
       "      <td>ham</td>\n",
       "      <td>Ok lar... Joking wif u oni...</td>\n",
       "      <td>[Ok, lar, Joking, wif, u, oni]</td>\n",
       "    </tr>\n",
       "    <tr>\n",
       "      <th>2</th>\n",
       "      <td>spam</td>\n",
       "      <td>Free entry in 2 a wkly comp to win FA Cup final tkts 21st May 2005. Text FA to 87121 to receive ...</td>\n",
       "      <td>[Free, entry, 2, wkly, comp, win, FA, Cup, final, tkts, 21st, May, 2005, Text, FA, 87121, receiv...</td>\n",
       "    </tr>\n",
       "    <tr>\n",
       "      <th>3</th>\n",
       "      <td>ham</td>\n",
       "      <td>U dun say so early hor... U c already then say...</td>\n",
       "      <td>[U, dun, say, early, hor, U, c, already, say]</td>\n",
       "    </tr>\n",
       "    <tr>\n",
       "      <th>4</th>\n",
       "      <td>ham</td>\n",
       "      <td>Nah I don't think he goes to usf, he lives around here though</td>\n",
       "      <td>[Nah, I, dont, think, goes, usf, lives, around, though]</td>\n",
       "    </tr>\n",
       "    <tr>\n",
       "      <th>5</th>\n",
       "      <td>spam</td>\n",
       "      <td>FreeMsg Hey there darling it's been 3 week's now and no word back! I'd like some fun you up for ...</td>\n",
       "      <td>[FreeMsg, Hey, darling, 3, weeks, word, back, Id, like, fun, still, Tb, ok, XxX, std, chgs, send...</td>\n",
       "    </tr>\n",
       "    <tr>\n",
       "      <th>6</th>\n",
       "      <td>ham</td>\n",
       "      <td>Even my brother is not like to speak with me. They treat me like aids patent.</td>\n",
       "      <td>[Even, brother, like, speak, They, treat, like, aids, patent]</td>\n",
       "    </tr>\n",
       "    <tr>\n",
       "      <th>7</th>\n",
       "      <td>ham</td>\n",
       "      <td>As per your request 'Melle Melle (Oru Minnaminunginte Nurungu Vettam)' has been set as your call...</td>\n",
       "      <td>[As, per, request, Melle, Melle, Oru, Minnaminunginte, Nurungu, Vettam, set, callertune, Callers...</td>\n",
       "    </tr>\n",
       "    <tr>\n",
       "      <th>8</th>\n",
       "      <td>spam</td>\n",
       "      <td>WINNER!! As a valued network customer you have been selected to receivea £900 prize reward! To c...</td>\n",
       "      <td>[WINNER, As, valued, network, customer, selected, receivea, 900, prize, reward, To, claim, call,...</td>\n",
       "    </tr>\n",
       "    <tr>\n",
       "      <th>9</th>\n",
       "      <td>spam</td>\n",
       "      <td>Had your mobile 11 months or more? U R entitled to Update to the latest colour mobiles with came...</td>\n",
       "      <td>[Had, mobile, 11, months, U, R, entitled, Update, latest, colour, mobiles, camera, Free, Call, T...</td>\n",
       "    </tr>\n",
       "  </tbody>\n",
       "</table>\n",
       "</div>"
      ],
      "text/plain": [
       "  label  \\\n",
       "0   ham   \n",
       "1   ham   \n",
       "2  spam   \n",
       "3   ham   \n",
       "4   ham   \n",
       "5  spam   \n",
       "6   ham   \n",
       "7   ham   \n",
       "8  spam   \n",
       "9  spam   \n",
       "\n",
       "                                                                                                  Text  \\\n",
       "0  Go until jurong point, crazy.. Available only in bugis n great world la e buffet... Cine there g...   \n",
       "1                                                                        Ok lar... Joking wif u oni...   \n",
       "2  Free entry in 2 a wkly comp to win FA Cup final tkts 21st May 2005. Text FA to 87121 to receive ...   \n",
       "3                                                    U dun say so early hor... U c already then say...   \n",
       "4                                        Nah I don't think he goes to usf, he lives around here though   \n",
       "5  FreeMsg Hey there darling it's been 3 week's now and no word back! I'd like some fun you up for ...   \n",
       "6                        Even my brother is not like to speak with me. They treat me like aids patent.   \n",
       "7  As per your request 'Melle Melle (Oru Minnaminunginte Nurungu Vettam)' has been set as your call...   \n",
       "8  WINNER!! As a valued network customer you have been selected to receivea £900 prize reward! To c...   \n",
       "9  Had your mobile 11 months or more? U R entitled to Update to the latest colour mobiles with came...   \n",
       "\n",
       "                                                                                          Text_cleaned  \n",
       "0  [Go, jurong, point, crazy, Available, bugis, n, great, world, la, e, buffet, Cine, got, amore, wat]  \n",
       "1                                                                       [Ok, lar, Joking, wif, u, oni]  \n",
       "2  [Free, entry, 2, wkly, comp, win, FA, Cup, final, tkts, 21st, May, 2005, Text, FA, 87121, receiv...  \n",
       "3                                                        [U, dun, say, early, hor, U, c, already, say]  \n",
       "4                                              [Nah, I, dont, think, goes, usf, lives, around, though]  \n",
       "5  [FreeMsg, Hey, darling, 3, weeks, word, back, Id, like, fun, still, Tb, ok, XxX, std, chgs, send...  \n",
       "6                                        [Even, brother, like, speak, They, treat, like, aids, patent]  \n",
       "7  [As, per, request, Melle, Melle, Oru, Minnaminunginte, Nurungu, Vettam, set, callertune, Callers...  \n",
       "8  [WINNER, As, valued, network, customer, selected, receivea, 900, prize, reward, To, claim, call,...  \n",
       "9  [Had, mobile, 11, months, U, R, entitled, Update, latest, colour, mobiles, camera, Free, Call, T...  "
      ]
     },
     "execution_count": 11,
     "metadata": {},
     "output_type": "execute_result"
    }
   ],
   "source": [
    "data['Text_cleaned'] = data['Text'].apply(lambda x: clean_text(x)) #Applies the function to each row\n",
    "data.head(10)"
   ]
  },
  {
   "cell_type": "markdown",
   "metadata": {},
   "source": [
    "### Apply Stemming"
   ]
  },
  {
   "cell_type": "code",
   "execution_count": 12,
   "metadata": {},
   "outputs": [],
   "source": [
    "# ['Porter','Lancaster']\n",
    "Stemmer = 'Porter'"
   ]
  },
  {
   "cell_type": "code",
   "execution_count": 13,
   "metadata": {},
   "outputs": [
    {
     "data": {
      "text/html": [
       "<div>\n",
       "<style scoped>\n",
       "    .dataframe tbody tr th:only-of-type {\n",
       "        vertical-align: middle;\n",
       "    }\n",
       "\n",
       "    .dataframe tbody tr th {\n",
       "        vertical-align: top;\n",
       "    }\n",
       "\n",
       "    .dataframe thead th {\n",
       "        text-align: right;\n",
       "    }\n",
       "</style>\n",
       "<table border=\"1\" class=\"dataframe\">\n",
       "  <thead>\n",
       "    <tr style=\"text-align: right;\">\n",
       "      <th></th>\n",
       "      <th>label</th>\n",
       "      <th>Text</th>\n",
       "      <th>Text_cleaned</th>\n",
       "      <th>Text_stemmed</th>\n",
       "    </tr>\n",
       "  </thead>\n",
       "  <tbody>\n",
       "    <tr>\n",
       "      <th>0</th>\n",
       "      <td>ham</td>\n",
       "      <td>Go until jurong point, crazy.. Available only in bugis n great world la e buffet... Cine there g...</td>\n",
       "      <td>[Go, jurong, point, crazy, Available, bugis, n, great, world, la, e, buffet, Cine, got, amore, wat]</td>\n",
       "      <td>[Go, jurong, point, crazi, avail, bugi, n, great, world, la, e, buffet, cine, got, amor, wat]</td>\n",
       "    </tr>\n",
       "    <tr>\n",
       "      <th>1</th>\n",
       "      <td>ham</td>\n",
       "      <td>Ok lar... Joking wif u oni...</td>\n",
       "      <td>[Ok, lar, Joking, wif, u, oni]</td>\n",
       "      <td>[Ok, lar, joke, wif, u, oni]</td>\n",
       "    </tr>\n",
       "    <tr>\n",
       "      <th>2</th>\n",
       "      <td>spam</td>\n",
       "      <td>Free entry in 2 a wkly comp to win FA Cup final tkts 21st May 2005. Text FA to 87121 to receive ...</td>\n",
       "      <td>[Free, entry, 2, wkly, comp, win, FA, Cup, final, tkts, 21st, May, 2005, Text, FA, 87121, receiv...</td>\n",
       "      <td>[free, entri, 2, wkli, comp, win, FA, cup, final, tkt, 21st, may, 2005, text, FA, 87121, receiv,...</td>\n",
       "    </tr>\n",
       "    <tr>\n",
       "      <th>3</th>\n",
       "      <td>ham</td>\n",
       "      <td>U dun say so early hor... U c already then say...</td>\n",
       "      <td>[U, dun, say, early, hor, U, c, already, say]</td>\n",
       "      <td>[U, dun, say, earli, hor, U, c, alreadi, say]</td>\n",
       "    </tr>\n",
       "    <tr>\n",
       "      <th>4</th>\n",
       "      <td>ham</td>\n",
       "      <td>Nah I don't think he goes to usf, he lives around here though</td>\n",
       "      <td>[Nah, I, dont, think, goes, usf, lives, around, though]</td>\n",
       "      <td>[nah, I, dont, think, goe, usf, live, around, though]</td>\n",
       "    </tr>\n",
       "  </tbody>\n",
       "</table>\n",
       "</div>"
      ],
      "text/plain": [
       "  label  \\\n",
       "0   ham   \n",
       "1   ham   \n",
       "2  spam   \n",
       "3   ham   \n",
       "4   ham   \n",
       "\n",
       "                                                                                                  Text  \\\n",
       "0  Go until jurong point, crazy.. Available only in bugis n great world la e buffet... Cine there g...   \n",
       "1                                                                        Ok lar... Joking wif u oni...   \n",
       "2  Free entry in 2 a wkly comp to win FA Cup final tkts 21st May 2005. Text FA to 87121 to receive ...   \n",
       "3                                                    U dun say so early hor... U c already then say...   \n",
       "4                                        Nah I don't think he goes to usf, he lives around here though   \n",
       "\n",
       "                                                                                          Text_cleaned  \\\n",
       "0  [Go, jurong, point, crazy, Available, bugis, n, great, world, la, e, buffet, Cine, got, amore, wat]   \n",
       "1                                                                       [Ok, lar, Joking, wif, u, oni]   \n",
       "2  [Free, entry, 2, wkly, comp, win, FA, Cup, final, tkts, 21st, May, 2005, Text, FA, 87121, receiv...   \n",
       "3                                                        [U, dun, say, early, hor, U, c, already, say]   \n",
       "4                                              [Nah, I, dont, think, goes, usf, lives, around, though]   \n",
       "\n",
       "                                                                                          Text_stemmed  \n",
       "0        [Go, jurong, point, crazi, avail, bugi, n, great, world, la, e, buffet, cine, got, amor, wat]  \n",
       "1                                                                         [Ok, lar, joke, wif, u, oni]  \n",
       "2  [free, entri, 2, wkli, comp, win, FA, cup, final, tkt, 21st, may, 2005, text, FA, 87121, receiv,...  \n",
       "3                                                        [U, dun, say, earli, hor, U, c, alreadi, say]  \n",
       "4                                                [nah, I, dont, think, goe, usf, live, around, though]  "
      ]
     },
     "execution_count": 13,
     "metadata": {},
     "output_type": "execute_result"
    }
   ],
   "source": [
    "data['Text_stemmed'] = data['Text_cleaned'].apply(lambda x: stemming(x,Stemmer))\n",
    "data.head()"
   ]
  },
  {
   "cell_type": "markdown",
   "metadata": {},
   "source": [
    "### Lemmatize the data"
   ]
  },
  {
   "cell_type": "code",
   "execution_count": 14,
   "metadata": {},
   "outputs": [
    {
     "data": {
      "text/html": [
       "<div>\n",
       "<style scoped>\n",
       "    .dataframe tbody tr th:only-of-type {\n",
       "        vertical-align: middle;\n",
       "    }\n",
       "\n",
       "    .dataframe tbody tr th {\n",
       "        vertical-align: top;\n",
       "    }\n",
       "\n",
       "    .dataframe thead th {\n",
       "        text-align: right;\n",
       "    }\n",
       "</style>\n",
       "<table border=\"1\" class=\"dataframe\">\n",
       "  <thead>\n",
       "    <tr style=\"text-align: right;\">\n",
       "      <th></th>\n",
       "      <th>label</th>\n",
       "      <th>Text</th>\n",
       "      <th>Text_cleaned</th>\n",
       "      <th>Text_stemmed</th>\n",
       "      <th>Text_lemmatized</th>\n",
       "    </tr>\n",
       "  </thead>\n",
       "  <tbody>\n",
       "    <tr>\n",
       "      <th>0</th>\n",
       "      <td>ham</td>\n",
       "      <td>Go until jurong point, crazy.. Available only in bugis n great world la e buffet... Cine there g...</td>\n",
       "      <td>[Go, jurong, point, crazy, Available, bugis, n, great, world, la, e, buffet, Cine, got, amore, wat]</td>\n",
       "      <td>[Go, jurong, point, crazi, avail, bugi, n, great, world, la, e, buffet, cine, got, amor, wat]</td>\n",
       "      <td>[Go, jurong, point, crazi, avail, bugi, n, great, world, la, e, buffet, cine, got, amor, wat]</td>\n",
       "    </tr>\n",
       "    <tr>\n",
       "      <th>1</th>\n",
       "      <td>ham</td>\n",
       "      <td>Ok lar... Joking wif u oni...</td>\n",
       "      <td>[Ok, lar, Joking, wif, u, oni]</td>\n",
       "      <td>[Ok, lar, joke, wif, u, oni]</td>\n",
       "      <td>[Ok, lar, joke, wif, u, oni]</td>\n",
       "    </tr>\n",
       "    <tr>\n",
       "      <th>2</th>\n",
       "      <td>spam</td>\n",
       "      <td>Free entry in 2 a wkly comp to win FA Cup final tkts 21st May 2005. Text FA to 87121 to receive ...</td>\n",
       "      <td>[Free, entry, 2, wkly, comp, win, FA, Cup, final, tkts, 21st, May, 2005, Text, FA, 87121, receiv...</td>\n",
       "      <td>[free, entri, 2, wkli, comp, win, FA, cup, final, tkt, 21st, may, 2005, text, FA, 87121, receiv,...</td>\n",
       "      <td>[free, entri, 2, wkli, comp, win, FA, cup, final, tkt, 21st, may, 2005, text, FA, 87121, receiv,...</td>\n",
       "    </tr>\n",
       "    <tr>\n",
       "      <th>3</th>\n",
       "      <td>ham</td>\n",
       "      <td>U dun say so early hor... U c already then say...</td>\n",
       "      <td>[U, dun, say, early, hor, U, c, already, say]</td>\n",
       "      <td>[U, dun, say, earli, hor, U, c, alreadi, say]</td>\n",
       "      <td>[U, dun, say, earli, hor, U, c, alreadi, say]</td>\n",
       "    </tr>\n",
       "    <tr>\n",
       "      <th>4</th>\n",
       "      <td>ham</td>\n",
       "      <td>Nah I don't think he goes to usf, he lives around here though</td>\n",
       "      <td>[Nah, I, dont, think, goes, usf, lives, around, though]</td>\n",
       "      <td>[nah, I, dont, think, goe, usf, live, around, though]</td>\n",
       "      <td>[nah, I, dont, think, goe, usf, live, around, though]</td>\n",
       "    </tr>\n",
       "  </tbody>\n",
       "</table>\n",
       "</div>"
      ],
      "text/plain": [
       "  label  \\\n",
       "0   ham   \n",
       "1   ham   \n",
       "2  spam   \n",
       "3   ham   \n",
       "4   ham   \n",
       "\n",
       "                                                                                                  Text  \\\n",
       "0  Go until jurong point, crazy.. Available only in bugis n great world la e buffet... Cine there g...   \n",
       "1                                                                        Ok lar... Joking wif u oni...   \n",
       "2  Free entry in 2 a wkly comp to win FA Cup final tkts 21st May 2005. Text FA to 87121 to receive ...   \n",
       "3                                                    U dun say so early hor... U c already then say...   \n",
       "4                                        Nah I don't think he goes to usf, he lives around here though   \n",
       "\n",
       "                                                                                          Text_cleaned  \\\n",
       "0  [Go, jurong, point, crazy, Available, bugis, n, great, world, la, e, buffet, Cine, got, amore, wat]   \n",
       "1                                                                       [Ok, lar, Joking, wif, u, oni]   \n",
       "2  [Free, entry, 2, wkly, comp, win, FA, Cup, final, tkts, 21st, May, 2005, Text, FA, 87121, receiv...   \n",
       "3                                                        [U, dun, say, early, hor, U, c, already, say]   \n",
       "4                                              [Nah, I, dont, think, goes, usf, lives, around, though]   \n",
       "\n",
       "                                                                                          Text_stemmed  \\\n",
       "0        [Go, jurong, point, crazi, avail, bugi, n, great, world, la, e, buffet, cine, got, amor, wat]   \n",
       "1                                                                         [Ok, lar, joke, wif, u, oni]   \n",
       "2  [free, entri, 2, wkli, comp, win, FA, cup, final, tkt, 21st, may, 2005, text, FA, 87121, receiv,...   \n",
       "3                                                        [U, dun, say, earli, hor, U, c, alreadi, say]   \n",
       "4                                                [nah, I, dont, think, goe, usf, live, around, though]   \n",
       "\n",
       "                                                                                       Text_lemmatized  \n",
       "0        [Go, jurong, point, crazi, avail, bugi, n, great, world, la, e, buffet, cine, got, amor, wat]  \n",
       "1                                                                         [Ok, lar, joke, wif, u, oni]  \n",
       "2  [free, entri, 2, wkli, comp, win, FA, cup, final, tkt, 21st, may, 2005, text, FA, 87121, receiv,...  \n",
       "3                                                        [U, dun, say, earli, hor, U, c, alreadi, say]  \n",
       "4                                                [nah, I, dont, think, goe, usf, live, around, though]  "
      ]
     },
     "execution_count": 14,
     "metadata": {},
     "output_type": "execute_result"
    }
   ],
   "source": [
    "data['Text_lemmatized'] = data['Text_stemmed'].apply(lambda x: lemmatizing(x))\n",
    "\n",
    "data.head()"
   ]
  },
  {
   "cell_type": "markdown",
   "metadata": {},
   "source": [
    "### Change labels from ham to -1 and spam to 1"
   ]
  },
  {
   "cell_type": "code",
   "execution_count": 15,
   "metadata": {},
   "outputs": [],
   "source": [
    "data.replace({'label': {'ham': -1, 'spam': 1}}, inplace=True)"
   ]
  },
  {
   "cell_type": "code",
   "execution_count": 16,
   "metadata": {},
   "outputs": [
    {
     "data": {
      "text/html": [
       "<div>\n",
       "<style scoped>\n",
       "    .dataframe tbody tr th:only-of-type {\n",
       "        vertical-align: middle;\n",
       "    }\n",
       "\n",
       "    .dataframe tbody tr th {\n",
       "        vertical-align: top;\n",
       "    }\n",
       "\n",
       "    .dataframe thead th {\n",
       "        text-align: right;\n",
       "    }\n",
       "</style>\n",
       "<table border=\"1\" class=\"dataframe\">\n",
       "  <thead>\n",
       "    <tr style=\"text-align: right;\">\n",
       "      <th></th>\n",
       "      <th>label</th>\n",
       "      <th>Text</th>\n",
       "      <th>Text_cleaned</th>\n",
       "      <th>Text_stemmed</th>\n",
       "      <th>Text_lemmatized</th>\n",
       "    </tr>\n",
       "  </thead>\n",
       "  <tbody>\n",
       "    <tr>\n",
       "      <th>5567</th>\n",
       "      <td>1</td>\n",
       "      <td>This is the 2nd time we have tried 2 contact u. U have won the £750 Pound prize. 2 claim is easy...</td>\n",
       "      <td>[This, 2nd, time, tried, 2, contact, u, U, 750, Pound, prize, 2, claim, easy, call, 087187272008...</td>\n",
       "      <td>[thi, 2nd, time, tri, 2, contact, u, U, 750, pound, prize, 2, claim, easi, call, 087187272008, n...</td>\n",
       "      <td>[thi, 2nd, time, tri, 2, contact, u, U, 750, pound, prize, 2, claim, easi, call, 087187272008, n...</td>\n",
       "    </tr>\n",
       "    <tr>\n",
       "      <th>5568</th>\n",
       "      <td>-1</td>\n",
       "      <td>Will ü b going to esplanade fr home?</td>\n",
       "      <td>[Will, ü, b, going, esplanade, fr, home]</td>\n",
       "      <td>[will, ü, b, go, esplanad, fr, home]</td>\n",
       "      <td>[will, ü, b, go, esplanad, fr, home]</td>\n",
       "    </tr>\n",
       "    <tr>\n",
       "      <th>5569</th>\n",
       "      <td>-1</td>\n",
       "      <td>Pity, * was in mood for that. So...any other suggestions?</td>\n",
       "      <td>[Pity, mood, Soany, suggestions]</td>\n",
       "      <td>[piti, mood, soani, suggest]</td>\n",
       "      <td>[piti, mood, soani, suggest]</td>\n",
       "    </tr>\n",
       "    <tr>\n",
       "      <th>5570</th>\n",
       "      <td>-1</td>\n",
       "      <td>The guy did some bitching but I acted like i'd be interested in buying something else next week ...</td>\n",
       "      <td>[The, guy, bitching, I, acted, like, id, interested, buying, something, else, next, week, gave, ...</td>\n",
       "      <td>[the, guy, bitch, I, act, like, id, interest, buy, someth, els, next, week, gave, us, free]</td>\n",
       "      <td>[the, guy, bitch, I, act, like, id, interest, buy, someth, el, next, week, gave, u, free]</td>\n",
       "    </tr>\n",
       "    <tr>\n",
       "      <th>5571</th>\n",
       "      <td>-1</td>\n",
       "      <td>Rofl. Its true to its name</td>\n",
       "      <td>[Rofl, Its, true, name]</td>\n",
       "      <td>[rofl, it, true, name]</td>\n",
       "      <td>[rofl, it, true, name]</td>\n",
       "    </tr>\n",
       "  </tbody>\n",
       "</table>\n",
       "</div>"
      ],
      "text/plain": [
       "      label  \\\n",
       "5567      1   \n",
       "5568     -1   \n",
       "5569     -1   \n",
       "5570     -1   \n",
       "5571     -1   \n",
       "\n",
       "                                                                                                     Text  \\\n",
       "5567  This is the 2nd time we have tried 2 contact u. U have won the £750 Pound prize. 2 claim is easy...   \n",
       "5568                                                                 Will ü b going to esplanade fr home?   \n",
       "5569                                            Pity, * was in mood for that. So...any other suggestions?   \n",
       "5570  The guy did some bitching but I acted like i'd be interested in buying something else next week ...   \n",
       "5571                                                                           Rofl. Its true to its name   \n",
       "\n",
       "                                                                                             Text_cleaned  \\\n",
       "5567  [This, 2nd, time, tried, 2, contact, u, U, 750, Pound, prize, 2, claim, easy, call, 087187272008...   \n",
       "5568                                                             [Will, ü, b, going, esplanade, fr, home]   \n",
       "5569                                                                     [Pity, mood, Soany, suggestions]   \n",
       "5570  [The, guy, bitching, I, acted, like, id, interested, buying, something, else, next, week, gave, ...   \n",
       "5571                                                                              [Rofl, Its, true, name]   \n",
       "\n",
       "                                                                                             Text_stemmed  \\\n",
       "5567  [thi, 2nd, time, tri, 2, contact, u, U, 750, pound, prize, 2, claim, easi, call, 087187272008, n...   \n",
       "5568                                                                 [will, ü, b, go, esplanad, fr, home]   \n",
       "5569                                                                         [piti, mood, soani, suggest]   \n",
       "5570          [the, guy, bitch, I, act, like, id, interest, buy, someth, els, next, week, gave, us, free]   \n",
       "5571                                                                               [rofl, it, true, name]   \n",
       "\n",
       "                                                                                          Text_lemmatized  \n",
       "5567  [thi, 2nd, time, tri, 2, contact, u, U, 750, pound, prize, 2, claim, easi, call, 087187272008, n...  \n",
       "5568                                                                 [will, ü, b, go, esplanad, fr, home]  \n",
       "5569                                                                         [piti, mood, soani, suggest]  \n",
       "5570            [the, guy, bitch, I, act, like, id, interest, buy, someth, el, next, week, gave, u, free]  \n",
       "5571                                                                               [rofl, it, true, name]  "
      ]
     },
     "execution_count": 16,
     "metadata": {},
     "output_type": "execute_result"
    }
   ],
   "source": [
    "data.tail()"
   ]
  },
  {
   "cell_type": "code",
   "execution_count": 17,
   "metadata": {},
   "outputs": [
    {
     "name": "stdout",
     "output_type": "stream",
     "text": [
      "\u001b[92m\n",
      "Does not operate after  &lt;#&gt;  or what\n",
      "\u001b[90mRaw_Text\n",
      "\u001b[94m\n",
      "['Does', 'operate', 'ltgt']\n",
      "\u001b[90mCleaned to tokenize, remove punctuation and stopwords\n",
      "\u001b[96m\n",
      "['doe', 'oper', 'ltgt']\n",
      "\u001b[90mStemmed with Porter stemmer\n",
      "\u001b[91m\n",
      "['doe', 'oper', 'ltgt']\n",
      "\u001b[90mLemmatized with WordNetLemmatizer\n"
     ]
    }
   ],
   "source": [
    "sample=78 #Change to view sample data\n",
    "\n",
    "print('\\033[92m')\n",
    "print(data.Text[sample])\n",
    "print('\\033[90m'+ 'Raw_Text')\n",
    "\n",
    "print('\\033[94m')\n",
    "print(data.Text_cleaned[sample])\n",
    "print('\\033[90m'+ 'Cleaned to tokenize, remove punctuation and stopwords')\n",
    "\n",
    "print('\\033[96m')\n",
    "print(data.Text_stemmed[sample])\n",
    "print('\\033[90m'+ 'Stemmed with Porter stemmer')\n",
    "\n",
    "print('\\033[91m')\n",
    "print(data.Text_lemmatized[sample])\n",
    "print('\\033[90m'+ 'Lemmatized with WordNetLemmatizer')"
   ]
  },
  {
   "cell_type": "markdown",
   "metadata": {},
   "source": [
    "### Extract predictor variables and target label"
   ]
  },
  {
   "cell_type": "code",
   "execution_count": 18,
   "metadata": {},
   "outputs": [],
   "source": [
    "Y = data.label.values.reshape(len(data),1)\n",
    "X = data.Text_stemmed.values.reshape(len(Y),1)  #data.iloc[:,4].values.shape"
   ]
  },
  {
   "cell_type": "markdown",
   "metadata": {},
   "source": [
    "## Build Probabilistic Model"
   ]
  },
  {
   "cell_type": "code",
   "execution_count": 19,
   "metadata": {},
   "outputs": [],
   "source": [
    "pos_index = np.where(Y==1)\n",
    "neg_index = np.where(Y==-1)"
   ]
  },
  {
   "cell_type": "code",
   "execution_count": 20,
   "metadata": {},
   "outputs": [],
   "source": [
    "def build_freq(examples, label):\n",
    "    label_list = np.squeeze(label).tolist() #Converts the label to list\n",
    "    freq={}\n",
    "    \n",
    "    for lab, Text in zip(label_list, examples):\n",
    "        for word in Text[0]:  \n",
    "            pair = (word, lab)\n",
    "            #freq[pair] = freq.get(pair,0)\n",
    "            if pair in freq:\n",
    "                freq[pair] += 1\n",
    "            else:\n",
    "                freq[pair] = 1\n",
    "    return freq"
   ]
  },
  {
   "cell_type": "code",
   "execution_count": 21,
   "metadata": {},
   "outputs": [],
   "source": [
    "data_freq = build_freq(X, Y)"
   ]
  },
  {
   "cell_type": "code",
   "execution_count": 22,
   "metadata": {},
   "outputs": [
    {
     "name": "stdout",
     "output_type": "stream",
     "text": [
      "{('Go', -1): 10, ('jurong', -1): 1, ('point', -1): 17, ('crazi', -1): 10, ('avail', -1): 13, ('bugi', -1): 7, ('n', -1): 131, ('great', -1): 101, ('world', -1): 34, ('la', -1): 7, ('e', -1): 71, ('buffet', -1): 2, ('cine', -1): 7, ('got', -1): 232, ('amor', -1): 1, ('wat', -1): 108, ('Ok', -1): 147, ('lar', -1): 38, ('joke', -1): 16, ('wif', -1): 27, ('u', -1): 724, ('oni', -1): 4, ('free', 1): 216, ('entri', 1): 26, ('2', 1): 173, ('wkli', 1): 14, ('comp', 1): 10, ('win', 1): 61, ('FA', 1): 4, ('cup', 1): 5, ('final', 1): 17, ('tkt', 1): 4, ('21st', 1): 2, ('may', 1): 7, ('2005', 1): 3, ('text', 1): 138, ('87121', 1): 4, ('receiv', 1): 37, ('questionstd', 1): 2, ('txt', 1): 163, ('ratetc', 1): 2, ('appli', 1): 29, ('08452810075over18', 1): 2, ('U', -1): 261, ('dun', -1): 55, ('say', -1): 138, ('earli', -1): 33, ('hor', -1): 2, ('c', -1): 43, ('alreadi', -1): 89, ('nah', -1): 10, ('I', -1): 1462, ('dont', -1): 265, ('think', -1): 152, ('goe', -1): 26, ('usf', -1): 11, ('live', -1): 27, ('around', -1): 59, ('though', -1): 26, ('freemsg', 1): 12, ('hey', 1): 5, ('darl', 1): 2, ('3', 1): 26, ('week', 1): 62, ('word', 1): 22, ('back', 1): 23, ('Id', 1): 2, ('like', 1): 13, ('fun', 1): 9, ('still', 1): 7, ('Tb', 1): 1, ('ok', 1): 3, ('xxx', 1): 11, ('std', 1): 9, ('chg', 1): 2, ('send', 1): 70, ('150', 1): 41, ('rcv', 1): 2, ('even', -1): 85, ('brother', -1): 20, ('like', -1): 244, ('speak', -1): 25, ('they', -1): 30, ('treat', -1): 19, ('aid', -1): 2, ('patent', -1): 1, ('As', -1): 27, ('per', -1): 12, ('request', -1): 9, ('mell', -1): 6, ('oru', -1): 4, ('minnaminungint', -1): 3, ('nurungu', -1): 3, ('vettam', -1): 3, ('set', -1): 22, ('callertun', -1): 10, ('caller', -1): 6, ('press', -1): 7, ('9', -1): 27, ('copi', -1): 11, ('friend', -1): 89, ('winner', 1): 16, ('As', 1): 12, ('valu', 1): 11, ('network', 1): 27, ('custom', 1): 51, ('select', 1): 31, ('receivea', 1): 2, ('900', 1): 7, ('prize', 1): 94, ('reward', 1): 10, ('To', 1): 73, ('claim', 1): 115, ('call', 1): 371, ('09061701461', 1): 2, ('code', 1): 29, ('kl341', 1): 2, ('valid', 1): 23, ('12', 1): 11, ('hour', 1): 5, ('had', 1): 15, ('mobil', 1): 135, ('11', 1): 5, ('month', 1): 6, ('U', 1): 86, ('R', 1): 10, ('entitl', 1): 8, ('updat', 1): 19, ('latest', 1): 37, ('colour', 1): 18, ('camera', 1): 33, ('the', 1): 26, ('Co', 1): 5, ('08002986030', 1): 2, ('Im', -1): 301, ('gonna', -1): 58, ('home', -1): 160, ('soon', -1): 56, ('want', -1): 213, ('talk', -1): 56, ('stuff', -1): 43, ('anymor', -1): 8, ('tonight', -1): 58, ('k', -1): 23, ('ive', -1): 73, ('cri', -1): 7, ('enough', -1): 27, ('today', -1): 133, ('six', 1): 3, ('chanc', 1): 29, ('cash', 1): 62, ('from', 1): 12, ('100', 1): 38, ('20000', 1): 2, ('pound', 1): 23, ('csh11', 1): 2, ('87575', 1): 4, ('cost', 1): 35, ('150pday', 1): 2, ('6day', 1): 2, ('16', 1): 51, ('tsandc', 1): 2, ('repli', 1): 109, ('HL', 1): 6, ('4', 1): 119, ('info', 1): 8, ('urgent', 1): 63, ('you', 1): 102, ('1', 1): 36, ('membership', 1): 2, ('100000', 1): 2, ('jackpot', 1): 2, ('No', 1): 38, ('81010', 1): 2, ('TC', 1): 20, ('wwwdbuknet', 1): 2, ('lccltd', 1): 2, ('pobox', 1): 16, ('4403ldnw1a7rw18', 1): 2, ('search', -1): 20, ('right', -1): 91, ('word', -1): 34, ('thank', -1): 88, ('breather', -1): 1, ('promis', -1): 12, ('wont', -1): 53, ('take', -1): 141, ('help', -1): 39, ('grant', -1): 1, ('fulfil', -1): 1, ('you', -1): 213, ('wonder', -1): 40, ('bless', -1): 9, ('time', -1): 219, ('have', -1): 91, ('A', -1): 86, ('date', -1): 11, ('ON', -1): 12, ('sunday', -1): 8, ('with', -1): 21, ('will', -1): 48, ('xxxmobilemovieclub', 1): 1, ('use', 1): 11, ('credit', 1): 19, ('click', 1): 5, ('wap', 1): 10, ('link', 1): 6, ('next', 1): 16, ('messag', 1): 45, ('httpwap', 1): 1, ('xxxmobilemovieclubcomnqjkgighjjgcbl', 1): 1, ('Oh', -1): 76, ('kim', -1): 1, ('watch', -1): 69, ('Eh', -1): 6, ('rememb', -1): 34, ('2', -1): 309, ('spell', -1): 5, ('name', -1): 37, ('ye', -1): 71, ('He', -1): 53, ('v', -1): 26, ('naughti', -1): 6, ('make', -1): 134, ('wet', -1): 3, ('fine', -1): 45, ('way', -1): 100, ('feel', -1): 92, ('that', -1): 147, ('gota', -1): 1, ('b', -1): 50, ('england', 1): 9, ('v', 1): 2, ('macedonia', 1): 1, ('dont', 1): 22, ('miss', 1): 10, ('goalsteam', 1): 1, ('news', 1): 7, ('ur', 1): 107, ('nation', 1): 12, ('team', 1): 3, ('87077', 1): 8, ('eg', 1): 12, ('trywal', 1): 1, ('scotland', 1): 1, ('4txtú120', 1): 1, ('poboxox36504w45wq', 1): 1, ('Is', -1): 51, ('serious', -1): 9, ('go', -1): 399, ('tri', -1): 78, ('month', -1): 37, ('ha', -1): 9, ('So', -1): 117, ('ü', -1): 117, ('pay', -1): 39, ('first', -1): 56, ('then', -1): 58, ('da', -1): 122, ('stock', -1): 6, ('comin', -1): 11, ('aft', -1): 19, ('finish', -1): 67, ('lunch', -1): 45, ('str', -1): 3, ('lor', -1): 160, ('ard', -1): 21, ('3', -1): 44, ('smth', -1): 16, ('ur', -1): 190, ('ffffffffff', -1): 1, ('alright', -1): 23, ('meet', -1): 117, ('sooner', -1): 4, ('just', -1): 97, ('forc', -1): 4, ('eat', -1): 45, ('slice', -1): 3, ('realli', -1): 85, ('hungri', -1): 12, ('tho', -1): 17, ('thi', -1): 53, ('suck', -1): 7, ('mark', -1): 9, ('get', -1): 360, ('worri', -1): 41, ('know', -1): 244, ('sick', -1): 10, ('turn', -1): 12, ('pizza', -1): 8, ('lol', -1): 73, ('alway', -1): 57, ('convinc', -1): 4, ('did', -1): 54, ('catch', -1): 13, ('bu', -1): 29, ('are', -1): 87, ('fri', -1): 17, ('egg', -1): 6, ('tea', -1): 6, ('mom', -1): 21, ('left', -1): 30, ('dinner', -1): 35, ('Do', -1): 100, ('love', -1): 239, ('', -1): 385, ('back', -1): 129, ('amp', -1): 84, ('pack', -1): 4, ('car', -1): 44, ('ill', -1): 240, ('let', -1): 87, ('there', -1): 43, ('room', -1): 38, ('ahhh', -1): 1, ('work', -1): 132, ('vagu', -1): 2, ('what', -1): 141, ('wait', -1): 95, ('still', -1): 147, ('clear', -1): 8, ('sure', -1): 77, ('sarcast', -1): 2, ('x', -1): 33, ('doesnt', -1): 26, ('us', -1): 54, ('yeah', -1): 85, ('apologet', -1): 1, ('fallen', -1): 1, ('actin', -1): 1, ('spoilt', -1): 1, ('child', -1): 3, ('caught', -1): 3, ('till', -1): 21, ('but', -1): 144, ('not', -1): 64, ('badli', -1): 1, ('cheer', -1): 12, ('K', -1): 48, ('tell', -1): 138, ('anyth', -1): 76, ('for', -1): 21, ('fear', -1): 3, ('faint', -1): 1, ('housework', -1): 1, ('quick', -1): 8, ('cuppa', -1): 1, ('thank', 1): 15, ('subscript', 1): 5, ('rington', 1): 32, ('UK', 1): 14, ('charg', 1): 23, ('5month', 1): 1, ('pleas', 1): 55, ('confirm', 1): 1, ('ye', 1): 15, ('NO', 1): 3, ('If', 1): 14, ('yup', -1): 43, ('look', -1): 60, ('msg', -1): 61, ('xuhui', -1): 3, ('learn', -1): 6, ('2nd', -1): 10, ('may', -1): 41, ('lesson', -1): 26, ('8am', -1): 2, ('oop', -1): 10, ('roommat', -1): 8, ('done', -1): 45, ('see', -1): 153, ('letter', -1): 8, ('B', -1): 7, ('decid', -1): 27, ('hello', -1): 47, ('how', -1): 188, ('saturday', -1): 9, ('text', -1): 86, ('youd', -1): 8, ('tomo', -1): 17, ('im', -1): 129, ('invit', -1): 12, ('pl', -1): 98, ('ahead', -1): 7, ('watt', -1): 1, ('weekend', -1): 27, ('abiola', -1): 11, ('forget', -1): 18, ('need', -1): 176, ('crave', -1): 12, ('sweet', -1): 36, ('arabian', -1): 1, ('steed', -1): 1, ('mmmmmm', -1): 2, ('yummi', -1): 3, ('07732584351', 1): 1, ('rodger', 1): 1, ('burn', 1): 1, ('msg', 1): 34, ('We', 1): 36, ('tri', 1): 38, ('sm', 1): 24, ('nokia', 1): 68, ('camcord', 1): 15, ('08000930705', 1): 16, ('deliveri', 1): 21, ('tomorrow', 1): 10, ('who', -1): 24, ('hope', -1): 120, ('man', -1): 44, ('well', -1): 128, ('endow', -1): 1, ('ltgt', -1): 276, ('inch', -1): 6, ('No', -1): 136, ('callsmessagesmiss', -1): 3, ('call', -1): 289, ('didnt', -1): 79, ('hep', -1): 1, ('immunis', -1): 1, ('nigeria', -1): 8, ('fair', -1): 3, ('tyler', -1): 6, ('cant', -1): 119, ('could', -1): 53, ('mayb', -1): 42, ('ask', -1): 126, ('bit', -1): 46, ('stubborn', -1): 1, ('hospit', -1): 12, ('kept', -1): 4, ('weak', -1): 7, ('sucker', -1): 2, ('saw', -1): 23, ('class', -1): 45, ('gram', -1): 4, ('usual', -1): 13, ('run', -1): 31, ('half', -1): 25, ('eighth', -1): 2, ('smarter', -1): 1, ('almost', -1): 13, ('whole', -1): 14, ('second', -1): 21, ('fyi', -1): 6, ('ride', -1): 5, ('tomorrow', -1): 80, ('morn', -1): 81, ('he', -1): 32, ('crash', -1): 4, ('place', -1): 60, ('wow', -1): 10, ('never', -1): 44, ('realiz', -1): 6, ('embarass', -1): 5, ('accomod', -1): 2, ('thought', -1): 47, ('sinc', -1): 25, ('best', -1): 37, ('seem', -1): 16, ('happi', -1): 119, ('cave', -1): 1, ('sorri', -1): 153, ('give', -1): 107, ('offer', -1): 9, ('ac', 1): 4, ('sptv', 1): 2, ('new', 1): 72, ('jersey', 1): 1, ('devil', 1): 1, ('detroit', 1): 1, ('red', 1): 1, ('wing', 1): 1, ('play', 1): 20, ('ice', 1): 1, ('hockey', 1): 1, ('correct', 1): 4, ('incorrect', 1): 1, ('end', 1): 25, ('mallika', -1): 1, ('sherawat', -1): 1, ('yesterday', -1): 20, ('find', -1): 52, ('lturlgt', -1): 3, ('congrat', 1): 10, ('year', 1): 13, ('special', 1): 21, ('cinema', 1): 3, ('pass', 1): 6, ('09061209465', 1): 3, ('C', 1): 17, ('suprman', 1): 3, ('V', 1): 3, ('matrix3', 1): 3, ('starwars3', 1): 3, ('etc', 1): 7, ('bx420ip45w', 1): 3, ('150pm', 1): 13, ('', 1): 38, ('later', -1): 134, ('reach', -1): 46, ('yesgauti', -1): 1, ('sehwag', -1): 1, ('odi', -1): 2, ('seri', -1): 4, ('your', -1): 91, ('pick', -1): 85, ('1', -1): 49, ('burger', -1): 1, ('move', -1): 18, ('pain', -1): 29, ('kill', -1): 7, ('Ha', -1): 9, ('good', -1): 225, ('girl', -1): 40, ('situat', -1): 10, ('seeker', -1): 1, ('it', -1): 122, ('part', -1): 22, ('check', -1): 51, ('IQ', -1): 4, ('took', -1): 19, ('forev', -1): 10, ('ok', -1): 116, ('come', -1): 295, ('doubl', -1): 5, ('hair', -1): 24, ('dresser', -1): 3, ('said', -1): 87, ('wun', -1): 7, ('cut', -1): 15, ('short', -1): 10, ('nice', -1): 57, ('I', 1): 39, ('advis', 1): 3, ('follow', 1): 11, ('recent', 1): 5, ('review', 1): 4, ('mob', 1): 25, ('award', 1): 66, ('1500', 1): 4, ('bonu', 1): 21, ('09066364589', 1): 2, ('song', -1): 13, ('dedic', -1): 4, ('day', -1): 217, ('which', -1): 13, ('send', -1): 135, ('valuabl', -1): 4, ('frnd', -1): 24, ('rpli', -1): 5, ('UR', 1): 22, ('complimentari', 1): 12, ('trip', 1): 4, ('eurodisinc', 1): 2, ('trav', 1): 2, ('acoentry41', 1): 2, ('Or', 1): 3, ('1000', 1): 46, ('di', 1): 2, ('186', 1): 2, ('150morefrmmob', 1): 2, ('shracomorsglsuplt10', 1): 2, ('ls1', 1): 2, ('3aj', 1): 2, ('did', 1): 1, ('hear', 1): 3, ('divorc', 1): 1, ('barbi', 1): 1, ('It', 1): 2, ('come', 1): 5, ('ken', 1): 1, ('stuff', 1): 1, ('plane', -1): 5, ('end', -1): 42, ('wah', -1): 4, ('lucki', -1): 9, ('save', -1): 13, ('money', -1): 53, ('hee', -1): 13, ('HI', -1): 12, ('babe', -1): 73, ('IM', -1): 22, ('AT', -1): 23, ('now', -1): 33, ('wanna', -1): 28, ('DO', -1): 9, ('someth', -1): 69, ('XX', -1): 2, ('kkwhere', -1): 2, ('youhow', -1): 1, ('perform', -1): 3, ('machan', -1): 4, ('free', -1): 59, ('cool', -1): 41, ('gentleman', -1): 3, ('digniti', -1): 3, ('respect', -1): 4, ('peopl', -1): 48, ('much', -1): 112, ('shi', -1): 1, ('pa', -1): 25, ('doe', -1): 10, ('oper', -1): 1, ('job', -1): 45, ('ta', -1): 3, ('earn', -1): 3, ('ah', -1): 25, ('hi', -1): 42, ('next', -1): 46, ('stop', -1): 45, ('network', -1): 6, ('If', -1): 119, ('urgnt', -1): 5, ('sm', -1): 18, ('real', -1): 24, ('yo', -1): 12, ('ticket', -1): 13, ('one', -1): 171, ('jacket', -1): 2, ('use', -1): 60, ('multi', -1): 1, ('start', -1): 57, ('came', -1): 26, ('bed', -1): 32, ('coin', -1): 6, ('factori', -1): 1, ('gotta', -1): 12, ('cash', -1): 13, ('nitro', -1): 3, ('ela', -1): 2, ('kanoil', -1): 1, ('download', -1): 11, ('wen', -1): 25, ('don', -1): 11, ('stand', -1): 11, ('close', -1): 18, ('anoth', -1): 35, ('night', -1): 112, ('spent', -1): 8, ('late', -1): 57, ('afternoon', -1): 28, ('casualti', -1): 1, ('mean', -1): 52, ('havent', -1): 45, ('stuff42moro', -1): 1, ('includ', -1): 5, ('sheet', -1): 4, ('smile', -1): 71, ('pleasur', -1): 8, ('troubl', -1): 8, ('pour', -1): 3, ('rain', -1): 15, ('sum1', -1): 3, ('hurt', -1): 33, ('becoz', -1): 4, ('someon', -1): 47, ('servic', 1): 72, ('repres', 1): 10, ('0800', 1): 13, ('169', 1): 2, ('6031', 1): 2, ('10am9pm', 1): 2, ('won', 1): 24, ('guarante', 1): 51, ('5000', 1): 24, ('plan', -1): 58, ('buy', -1): 71, ('lido', -1): 3, ('530', -1): 7, ('show', -1): 34, ('your', 1): 80, ('wait', 1): 19, ('collect', 1): 50, ('simpli', 1): 3, ('password', 1): 3, ('mix', 1): 3, ('85069', 1): 2, ('verifi', 1): 3, ('get', 1): 87, ('usher', 1): 2, ('britney', 1): 2, ('fml', 1): 2, ('PO', 1): 31, ('box', 1): 33, ('5249', 1): 2, ('mk17', 1): 2, ('92h', 1): 2, ('450ppw', 1): 2, ('telugu', -1): 1, ('moviewat', -1): 1, ('abt', -1): 26, ('when', -1): 51, ('load', -1): 11, ('loan', -1): 6, ('Hi', -1): 71, ('Wk', -1): 2, ('hol', -1): 3, ('forgot', -1): 31, ('hairdress', -1): 1, ('appoint', -1): 5, ('four', -1): 2, ('shower', -1): 13, ('beforehand', -1): 1, ('caus', -1): 21, ('prob', -1): 18, ('cup', -1): 4, ('coffe', -1): 8, ('anim', -1): 2, ('pleas', -1): 80, ('noth', -1): 34, ('els', -1): 23, ('okay', -1): 26, ('price', -1): 8, ('long', -1): 42, ('legal', -1): 4, ('Y', -1): 18, ('ave', -1): 5, ('am', -1): 1, ('xx', -1): 5, ('and', -1): 108, ('gone', -1): 15, ('4the', -1): 1, ('drive', -1): 40, ('test', -1): 27, ('yet', -1): 48, ('guess', -1): 35, ('gave', -1): 10, ('boston', -1): 5, ('men', -1): 7, ('chang', -1): 32, ('locat', -1): 2, ('nyc', -1): 4, ('cuz', -1): 7, ('signin', -1): 1, ('page', -1): 10, ('umma', -1): 7, ('life', -1): 76, ('vava', -1): 3, ('lot', -1): 50, ('dear', -1): 94, ('wish', -1): 69, ('birthday', -1): 35, ('truli', -1): 2, ('memor', -1): 1, ('aight', -1): 33, ('hit', -1): 12, ('would', -1): 72, ('ip', -1): 1, ('address', -1): 17, ('consid', -1): 6, ('comput', -1): 9, ('isnt', -1): 17, ('minecraft', -1): 1, ('server', -1): 1, ('grumpi', -1): 1, ('old', -1): 18, ('My', -1): 101, ('better', -1): 41, ('lie', -1): 7, ('play', -1): 27, ('busi', -1): 20, ('plural', -1): 1, ('noun', -1): 2, ('research', -1): 4, ('dinnermsg', -1): 1, ('co', -1): 76, ('new', -1): 67, ('thing', -1): 111, ('scare', -1): 5, ('mah', -1): 13, ('loud', -1): 3, ('gent', 1): 2, ('contact', 1): 61, ('last', 1): 13, ('weekend', 1): 13, ('draw', 1): 39, ('show', 1): 35, ('09064012160', 1): 2, ('k52', 1): 3, ('12hr', 1): 17, ('150ppm', 1): 34, ('Wa', -1): 2, ('openin', -1): 1, ('sentenc', -1): 3, ('formal', -1): 1, ('anyway', -1): 31, ('juz', -1): 25, ('tt', -1): 5, ('eatin', -1): 7, ('puttin', -1): 2, ('weighthaha', -1): 1, ('anythin', -1): 3, ('special', -1): 34, ('happen', -1): 50, ('enter', -1): 9, ('cabin', -1): 5, ('PA', -1): 5, ('bday', -1): 15, ('boss', -1): 9, ('felt', -1): 13, ('she', -1): 75, ('askd', -1): 12, ('4', -1): 174, ('after', -1): 16, ('apart', -1): 10, ('We', -1): 85, ('went', -1): 61, ('holiday', 1): 32, ('flight', 1): 7, ('inc', 1): 8, ('speak', 1): 10, ('live', 1): 30, ('oper', 1): 15, ('0871277810910pmin', 1): 1, ('18', 1): 43, ('goodo', -1): 2, ('must', -1): 22, ('friday', -1): 15, ('eggpotato', -1): 1, ('ratio', -1): 1, ('tortilla', -1): 2, ('hmmmi', -1): 1, ('uncl', -1): 16, ('inform', -1): 11, ('school', -1): 29, ('directli', -1): 6, ('food', -1): 23, ('privat', 1): 18, ('2004', 1): 8, ('account', 1): 19, ('statement', 1): 16, ('07742676969', 1): 2, ('786', 1): 4, ('unredeem', 1): 16, ('point', 1): 16, ('08719180248', 1): 2, ('identifi', 1): 16, ('45239', 1): 3, ('expir', 1): 18, ('2000', 1): 36, ('caller', 1): 12, ('5903', 1): 1, ('thi', 1): 41, ('landlin', 1): 34, ('09064019788', 1): 1, ('box42wr29c', 1): 1, ('applespairsal', -1): 1, ('malarki', -1): 1, ('today', 1): 36, ('voda', 1): 5, ('number', 1): 39, ('7548', 1): 1, ('350', 1): 15, ('match', 1): 15, ('08712300220', 1): 6, ('quot', 1): 6, ('4041', 1): 1, ('standard', 1): 6, ('rate', 1): 29, ('app', 1): 4, ('sao', -1): 1, ('mu', -1): 15, ('12', -1): 4, ('Ü', -1): 52, ('predict', -1): 5, ('üll', -1): 3, ('knowyetund', -1): 1, ('hasnt', -1): 5, ('sent', -1): 58, ('bother', -1): 8, ('involv', -1): 2, ('shouldnt', -1): 5, ('impos', -1): 1, ('apologis', -1): 3, ('hey', -1): 106, ('R', -1): 30, ('ME', -1): 34, ('AN', -1): 2, ('del', -1): 1, ('bak', -1): 8, ('again', -1): 5, ('NO', -1): 8, ('C', -1): 17, ('sum', -1): 2, ('from', -1): 10, ('lucyxx', -1): 1, ('kkhow', -1): 4, ('cost', -1): 12, ('tmorrowpl', -1): 1, ('answer', -1): 24, ('question', -1): 24, ('sunshin', 1): 8, ('quiz', 1): 13, ('Q', 1): 4, ('top', 1): 17, ('soni', 1): 8, ('dvd', 1): 7, ('player', 1): 12, ('u', 1): 62, ('know', 1): 26, ('countri', 1): 4, ('algarv', 1): 2, ('ansr', 1): 4, ('82277', 1): 5, ('sptyron', 1): 4, ('want', 1): 32, ('laid', 1): 3, ('tonight', 1): 4, ('real', 1): 12, ('dog', 1): 12, ('locat', 1): 5, ('sent', 1): 10, ('direct', 1): 10, ('join', 1): 18, ('uk', 1): 11, ('largest', 1): 4, ('bt', 1): 1, ('txting', 1): 10, ('gravel', 1): 1, ('69888', 1): 2, ('Nt', 1): 1, ('ec2a', 1): 4, ('31pmsg150p', 1): 2, ('haf', -1): 23, ('msn', -1): 2, ('yijuehotmailcom', -1): 1, ('befor', -1): 7, ('activ', -1): 5, ('youll', 1): 1, ('chat', 1): 44, ('svc', 1): 1, ('for', 1): 33, ('hardcor', 1): 2, ('GO', 1): 11, ('69988', 1): 1, ('noth', 1): 4, ('must', 1): 5, ('age', 1): 9, ('yr', 1): 14, ('lazi', -1): 9, ('type', -1): 15, ('lect', -1): 9, ('pouch', -1): 2, ('sir', -1): 34, ('mail', -1): 27, ('swt', -1): 2, ('nver', -1): 1, ('tire', -1): 13, ('littl', -1): 27, ('lovabl', -1): 10, ('person', -1): 59, ('cozsomtim', -1): 1, ('occupi', -1): 3, ('biggest', -1): 1, ('heart', -1): 42, ('gud', -1): 64, ('ni8', -1): 14, ('can', -1): 83, ('open', -1): 21, ('ya', -1): 32, ('dot', -1): 1, ('staff', -1): 2, ('whi', 1): 7, ('havent', 1): 1, ('Im', 1): 12, ('randi', 1): 2, ('sexi', 1): 15, ('femal', 1): 1, ('local', 1): 5, ('luv', 1): 5, ('netcollex', 1): 4, ('ltd', 1): 16, ('08700621170150p', 1): 2, ('per', 1): 46, ('stop', 1): 115, ('ummmawil', -1): 1, ('inour', -1): 1, ('begin', -1): 5, ('qatar', -1): 4, ('pray', -1): 10, ('hard', -1): 13, ('Ki', -1): 4, ('delet', -1): 6, ('contact', -1): 14, ('sindu', -1): 1, ('birla', -1): 3, ('soft', -1): 3, ('the', -1): 98, ('wine', -1): 12, ('flow', -1): 3, ('thk', -1): 50, ('plaza', -1): 2, ('Ur', -1): 47, ('typic', -1): 1, ('repli', -1): 50, ('everywher', -1): 2, ('dirt', -1): 1, ('floor', -1): 3, ('window', -1): 4, ('shirt', -1): 7, ('sometim', -1): 11, ('mouth', -1): 2, ('dream', -1): 25, ('without', -1): 28, ('chore', -1): 1, ('joy', -1): 13, ('tv', -1): 22, ('exist', -1): 1, ('hail', -1): 1, ('mist', -1): 1, ('becom', -1): 8, ('aaooooright', -1): 1, ('leav', -1): 82, ('hous', -1): 37, ('interview', -1): 5, ('boy', -1): 37, ('mear', -1): 1, ('miss', -1): 118, ('annonc', 1): 1, ('07046744435', 1): 1, ('arrang', 1): 2, ('0871277810810', 1): 2, ('keep', -1): 70, ('safe', -1): 12, ('envi', -1): 1, ('everyon', -1): 17, ('parentsi', -1): 1, ('hand', -1): 24, ('excit', -1): 3, ('spend', -1): 14, ('pl', 1): 11, ('bootydeli', 1): 1, ('32f', 1): 1, ('invit', 1): 11, ('friend', 1): 16, ('yes434', 1): 1, ('no434', 1): 1, ('see', 1): 19, ('wwwsmsacubootydeli', 1): 1, ('frnd', 1): 6, ('62468', 1): 7, ('bangbab', 1): 1, ('Ur', 1): 15, ('order', 1): 17, ('way', 1): 1, ('should', 1): 6, ('download', 1): 7, ('content', 1): 14, ('goto', 1): 6, ('bangb', 1): 1, ('tv', 1): 2, ('internetservic', 1): 1, ('menu', 1): 1, ('cultur', -1): 1, ('modul', -1): 4, ('09061701939', 1): 1, ('s89', 1): 1, ('avoid', -1): 5, ('missunderstd', -1): 1, ('wit', -1): 15, ('belov', -1): 2, ('escap', -1): 4, ('fanci', -1): 6, ('bridg', -1): 1, ('lager', -1): 1, ('complet', -1): 19, ('formclark', -1): 2, ('also', -1): 68, ('utter', -1): 3, ('wast', -1): 10, ('axi', -1): 1, ('bank', -1): 15, ('account', -1): 24, ('hmmm', -1): 9, ('hop', -1): 7, ('Ya', -1): 21, ('muz', -1): 11, ('discuss', -1): 7, ('liao', -1): 35, ('bloodi', -1): 4, ('hell', -1): 12, ('believ', -1): 18, ('surnam', -1): 1, ('Mr', -1): 3, ('clue', -1): 1, ('spanish', -1): 1, ('bath', -1): 25, ('goodfin', -1): 1, ('youv', -1): 10, ('carlo', -1): 15, ('mall', -1): 3, ('stay', -1): 33, ('til', -1): 25, ('smoke', -1): 26, ('worth', -1): 4, ('log', -1): 9, ('spoke', -1): 6, ('maneesha', -1): 3, ('V', -1): 21, ('wed', -1): 12, ('satisfi', -1): 3, ('experi', -1): 8, ('toll', -1): 3, ('lift', -1): 9, ('especi', -1): 9, ('approach', -1): 2, ('studi', -1): 19, ('gr8', -1): 12, ('trust', -1): 10, ('guy', -1): 57, ('greatby', -1): 1, ('handsom', -1): 2, ('toward', -1): 7, ('net', -1): 7, ('mummi', -1): 4, ('where', -1): 49, ('boytoy', -1): 16, ('haha', -1): 48, ('awesom', -1): 19, ('minut', -1): 44, ('freephon', 1): 8, ('0808', 1): 4, ('145', 1): 4, ('4742', 1): 4, ('9am11pm', 1): 4, ('xma', -1): 13, ('radio', -1): 3, ('ju', -1): 35, ('si', -1): 18, ('are', 1): 3, ('uniqu', 1): 2, ('enough', 1): 2, ('find', 1): 23, ('30th', 1): 1, ('august', 1): 2, ('wwwareyouuniquecouk', 1): 1, ('join', -1): 17, ('leagu', -1): 1, ('touch', -1): 19, ('deal', -1): 10, ('week', -1): 72, ('final', -1): 16, ('cours', -1): 14, ('It', -1): 68, ('howev', -1): 7, ('suggest', -1): 5, ('abl', -1): 26, ('or', -1): 1, ('everi', -1): 39, ('stool', -1): 1, ('settl', -1): 8, ('year', -1): 62, ('wishin', -1): 2, ('mrng', -1): 15, ('hav', -1): 26, ('stori', -1): 20, ('hamster', -1): 2, ('dead', -1): 8, ('tmr', -1): 28, ('1pm', -1): 1, ('orchard', -1): 11, ('mrt', -1): 9, ('kate', -1): 11, ('babyjontet', -1): 1, ('txt', -1): 13, ('xxx', -1): 23, ('found', -1): 16, ('enc', -1): 1, ('buck', -1): 7, ('darlin', -1): 14, ('colleg', -1): 16, ('refil', -1): 2, ('success', -1): 8, ('inr', -1): 2, ('ltdecimalgt', -1): 23, ('keralacircl', -1): 2, ('prepaid', -1): 2, ('balanc', -1): 4, ('Rs', -1): 4, ('transact', -1): 5, ('ID', -1): 2, ('KR', -1): 2, ('goodmorn', -1): 14, ('sleep', -1): 74, ('ga', -1): 14, ('alter', -1): 1, ('11', -1): 4, ('dat', -1): 42, ('ericsson', -1): 2, ('oso', -1): 23, ('cannot', -1): 5, ('oredi', -1): 15, ('straight', -1): 4, ('dogg', -1): 1, ('connect', -1): 8, ('refund', -1): 1, ('bill', -1): 9, ('both', -1): 4, ('shoot', -1): 4, ('big', -1): 35, ('readi', -1): 36, ('bruv', -1): 2, ('break', -1): 14, ('reward', -1): 2, ('semest', -1): 12, ('chat', -1): 15, ('kkgoodstudi', -1): 1, ('noe', -1): 20, ('leh', -1): 29, ('sound', -1): 27, ('match', -1): 5, ('head', -1): 23, ('draw', -1): 5, ('slept', -1): 8, ('past', -1): 7, ('easi', -1): 18, ('ahsen', -1): 2, ('select', -1): 5, ('exam', -1): 16, ('march', -1): 13, ('gt', -1): 8, ('atm', -1): 3, ('regist', -1): 5, ('os', -1): 2, ('ubandu', -1): 1, ('instal', -1): 3, ('diskyou', -1): 1, ('import', -1): 14, ('file', -1): 8, ('system', -1): 7, ('repair', -1): 3, ('shop', -1): 36, ('Of', -1): 8, ('romant', -1): 2, ('nite', -1): 21, ('sceneri', -1): 1, ('500', 1): 45, ('89545', 1): 3, ('todayfrom', 1): 2, ('onli', 1): 21, ('www4tcbiz', 1): 3, ('2optout', 1): 4, ('08718726270150gbpmtmsg18', 1): 3, ('appreci', -1): 9, ('will', 1): 5, ('meet', 1): 6, ('dream', 1): 3, ('partner', 1): 5, ('soon', 1): 3, ('Is', 1): 1, ('career', 1): 1, ('flyng', 1): 1, ('start', 1): 14, ('horo', 1): 2, ('star', 1): 3, ('sign', 1): 2, ('e', 1): 3, ('g', 1): 2, ('ari', 1): 1, ('compani', -1): 15, ('elama', -1): 1, ('po', -1): 2, ('mudyadhu', -1): 1, ('strict', -1): 1, ('teacher', -1): 3, ('bcoz', -1): 12, ('teach', -1): 11, ('conduct', -1): 2, ('gandhipuram', -1): 1, ('walk', -1): 30, ('cross', -1): 2, ('road', -1): 10, ('side', -1): 13, ('street', -1): 7, ('rubber', -1): 1, ('batteri', -1): 7, ('die', -1): 18, ('yesher', -1): 2, ('someon', 1): 14, ('date', 1): 27, ('even', 1): 7, ('flirt', 1): 5, ('10p', 1): 14, ('name', 1): 15, ('sam', 1): 3, ('25', 1): 3, ('recdthirtyeight', 1): 1, ('penc', 1): 3, ('print', -1): 5, ('oh', -1): 30, ('upstair', -1): 2, ('Or', -1): 34, ('closer', -1): 4, ('youwhen', -1): 1, ('wil', -1): 19, ('theori', -1): 4, ('argument', -1): 6, ('win', -1): 19, ('lose', -1): 27, ('argu', -1): 5, ('kick', -1): 7, ('correct', -1): 9, ('447801259231', 1): 2, ('secret', 1): 10, ('admir', 1): 10, ('look', 1): 12, ('make', 1): 13, ('ufind', 1): 8, ('rreveal', 1): 8, ('think', 1): 14, ('specialcal', 1): 8, ('09058094597', 1): 2, ('tomarrow', -1): 3, ('hear', -1): 30, ('laptop', -1): 12, ('case', -1): 15, ('pleassssssseeeee', -1): 1, ('tel', -1): 12, ('avent', -1): 3, ('sportsx', -1): 1, ('shine', -1): 2, ('meant', -1): 14, ('sign', -1): 8, ('although', -1): 2, ('told', -1): 53, ('baig', -1): 1, ('face', -1): 29, ('fr', -1): 12, ('thanx', -1): 31, ('everyth', -1): 30, ('uve', -1): 1, ('commerci', -1): 2, ('too', -1): 4, ('websit', -1): 4, ('slipper', -1): 3, ('kalli', -1): 6, ('bat', -1): 3, ('inning', -1): 3, ('goodnight', -1): 8, ('fix', -1): 12, ('wake', -1): 31, ('dearli', -1): 3, ('congratul', 1): 14, ('CD', 1): 8, ('voucher', 1): 36, ('125gift', 1): 3, ('music', 1): 20, ('87066', 1): 13, ('tnc', 1): 8, ('wwwldewcom1win150ppmx3age16', 1): 4, ('ranjith', -1): 3, ('cal', -1): 6, ('drpd', -1): 2, ('deeraj', -1): 2, ('deepak', -1): 2, ('5min', -1): 3, ('hold', -1): 22, ('bcum', -1): 5, ('angri', -1): 18, ('wid', -1): 16, ('dnt', -1): 13, ('coz', -1): 19, ('childish', -1): 5, ('true', -1): 23, ('deep', -1): 10, ('affect', -1): 4, ('care', -1): 77, ('luv', -1): 34, ('kettoda', -1): 4, ('manda', -1): 4, ('doinghow', -1): 2, ('up', -1): 2, ('3day', -1): 1, ('ship', -1): 7, ('2wk', -1): 1, ('usp', -1): 1, ('lag', -1): 2, ('bribe', -1): 1, ('nipost', -1): 1, ('lemm', -1): 8, ('necessarili', -1): 2, ('expect', -1): 11, ('headin', -1): 2, ('mmm', -1): 4, ('jolt', -1): 2, ('suzi', -1): 1, ('lover', -1): 9, ('offer', 1): 38, ('video', 1): 30, ('handset', 1): 6, ('750', 1): 19, ('anytim', 1): 12, ('min', 1): 50, ('unlimit', 1): 10, ('now', 1): 58, ('park', -1): 17, ('mini', -1): 2, ('disturb', -1): 11, ('MY', -1): 24, ('IN', -1): 18, ('luton', -1): 1, ('0125698789', -1): 1, ('ring', -1): 16, ('IF', -1): 10, ('UR', -1): 9, ('H', -1): 1, ('realli', 1): 1, ('horni', 1): 7, ('nake', 1): 1, ('hot', 1): 15, ('69698', 1): 2, ('unsubscrib', 1): 19, ('whi', -1): 24, ('dint', -1): 6, ('same', -1): 10, ('wana', -1): 11, ('trip', -1): 19, ('sometm', -1): 1, ('chang', 1): 1, ('Go', 1): 4, ('club4mobilescom', 1): 1, ('choos', 1): 10, ('club', 1): 19, ('87070', 1): 1, ('150pwk', 1): 2, ('club4', 1): 1, ('box1146', 1): 1, ('mk45', 1): 2, ('2wt', 1): 2, ('evo', -1): 1, ('flash', -1): 3, ('jealou', -1): 3, ('singl', 1): 6, ('chart', 1): 3, ('qualiti', 1): 2, ('sort', -1): 16, ('narcot', -1): 1, ('sunni', -1): 6, ('ray', -1): 5, ('blue', -1): 12, ('bay', -1): 4, ('hmv', 1): 10, ('genuin', 1): 3, ('just', 1): 30, ('answer', 1): 8, ('easi', 1): 13, ('question', 1): 10, ('86688', 1): 19, ('more', 1): 10, ('infowww100percentrealcom', 1): 3, ('might', -1): 34, ('object', -1): 1, ('bf', -1): 5, ('rob', -1): 2, ('mack', -1): 1, ('gf', -1): 2, ('theater', -1): 1, ('all', -1): 42, ('celebr', -1): 8, ('full', -1): 21, ('swing', -1): 12, ('tool', -1): 2, ('definit', -1): 8, ('keepintouch', -1): 1, ('gdeve', -1): 1, ('far', -1): 16, ('oki', -1): 20, ('pass', -1): 10, ('last', -1): 66, ('ahold', -1): 1, ('anybodi', -1): 6, ('throw', -1): 6, ('babi', -1): 30, ('cruisin', -1): 1, ('r', -1): 101, ('hour', -1): 46, ('fone', -1): 10, ('jenni', -1): 2, ('Ge', -1): 2, ('dearshal', -1): 1, ('tonitebusi', -1): 1, ('streetshal', -1): 1, ('updat', -1): 6, ('toniteth', -1): 1, ('okvarunnathu', -1): 1, ('edukkukaye', -1): 1, ('raksha', -1): 1, ('ollubut', -1): 1, ('sens', -1): 7, ('gautham', -1): 3, ('stupid', -1): 10, ('cam', -1): 2, ('buzi', -1): 3, ('accident', -1): 4, ('messag', -1): 62, ('resend', -1): 2, ('tmobil', 1): 3, ('phone', 1): 57, ('upgrad', 1): 4, ('pay', 1): 2, ('go', 1): 20, ('sim', 1): 5, ('card', 1): 4, ('loyalti', 1): 7, ('0845', 1): 3, ('021', 1): 2, ('3680offer', 1): 1, ('28thfebtc', 1): 1, ('unless', -1): 9, ('GO', -1): 8, ('gurl', -1): 1, ('appropri', -1): 1, ('teas', -1): 9, ('plz', -1): 25, ('rose', -1): 8, ('grave', -1): 2, ('bslvyl', -1): 13, ('phone', -1): 84, ('tomoc', -1): 2, ('somebodi', -1): 9, ('high', -1): 4, ('diesel', -1): 1, ('shit', -1): 35, ('shock', -1): 3, ('scari', -1): 3, ('imagin', -1): 7, ('def', -1): 4, ('somewher', -1): 10, ('taxi', -1): 2, ('fridg', -1): 1, ('meal', -1): 4, ('womdarful', -1): 1, ('actor', -1): 2, ('blind', 1): 2, ('4U', 1): 1, ('rodds1', 1): 1, ('21m', 1): 1, ('aberdeen', 1): 1, ('unit', 1): 1, ('kingdom', 1): 1, ('check', 1): 4, ('him', 1): 1, ('httpimg', 1): 1, ('acwicmb3cktz8r74', 1): 1, ('hide', 1): 1, ('remb', -1): 1, ('book', -1): 32, ('jo', -1): 3, ('our', -1): 11, ('friendship', -1): 22, ('hang', -1): 6, ('thread', -1): 2, ('themob', 1): 3, ('newest', 1): 3, ('game', 1): 25, ('tone', 1): 73, ('gossip', 1): 1, ('babe', 1): 10, ('sport', 1): 7, ('keep', 1): 6, ('fit', 1): 1, ('funki', 1): 1, ('82468', 1): 2, ('garag', -1): 3, ('key', -1): 6, ('arent', -1): 7, ('bookshelf', -1): 1, ('accept', -1): 9, ('dayu', -1): 3, ('sister', -1): 18, ('dear1', -1): 3, ('best1', -1): 3, ('clos1', -1): 3, ('lvblefrnd', -1): 3, ('jstfrnd', -1): 3, ('cutefrnd', -1): 3, ('lifpartnr', -1): 3, ('belovd', -1): 4, ('swtheart', -1): 3, ('bstfrnd', -1): 3, ('enemi', -1): 5, ('smart', 1): 1, ('200', 1): 12, ('weekli', 1): 24, ('85222', 1): 1, ('nowtc', 1): 1, ('winnersclub', 1): 1, ('84', 1): 1, ('m26', 1): 3, ('3uz', 1): 3, ('gbp150week', 1): 1, ('2day', -1): 4, ('normal', -1): 11, ('waythi', -1): 1, ('uniquei', -1): 1, ('rest', -1): 9, ('mylif', -1): 1, ('wot', -1): 23, ('lost', -1): 11, ('made', -1): 30, ('kkadvanc', -1): 1, ('pongal', -1): 3, ('kb', -1): 7, ('power', -1): 9, ('yoga', -1): 7, ('dunno', -1): 31, ('tahan', -1): 2, ('anot', -1): 2, ('lo', -1): 2, ('dude', -1): 24, ('afraid', -1): 3, ('decemb', 1): 5, ('11mth', 1): 9, ('08002986906', 1): 4, ('cake', -1): 4, ('merri', -1): 9, ('christma', -1): 11, ('kiss', -1): 36, ('cud', -1): 4, ('ppl', -1): 5, ('gona', -1): 3, ('l8', -1): 1, ('buse', -1): 2, ('gon', -1): 1, ('waitin', -1): 4, ('pete', -1): 9, ('guild', -1): 1, ('bristol', -1): 2, ('flight', -1): 2, ('problem', -1): 41, ('dahow', -1): 2, ('Id', -1): 7, ('track', -1): 6, ('record', -1): 4, ('read', -1): 27, ('women', -1): 2, ('light', -1): 15, ('kkapo', -1): 1, ('kgood', -1): 1, ('movi', -1): 26, ('return', -1): 15, ('immedi', -1): 5, ('germani', 1): 3, ('minut', 1): 12, ('fix', 1): 2, ('line', 1): 37, ('via', 1): 3, ('access', 1): 8, ('0844', 1): 2, ('861', 1): 2, ('85', 1): 4, ('prepay', 1): 2, ('ani', -1): 17, ('chanc', -1): 12, ('evapor', -1): 1, ('violat', -1): 2, ('privaci', -1): 1, ('steal', -1): 2, ('number', -1): 68, ('employ', -1): 1, ('paperwork', -1): 2, ('report', -1): 6, ('supervisor', -1): 3, ('valentin', 1): 3, ('day', 1): 27, ('take', 1): 19, ('lifetim', 1): 2, ('83600', 1): 4, ('150pmsg', 1): 15, ('rcvd', 1): 7, ('custcare08718720201', 1): 2, ('tadaaaaa', -1): 1, ('dine', -1): 2, ('sleepingand', -1): 3, ('surf', -1): 6, ('post', -1): 22, ('1000', -1): 1, ('wiv', -1): 6, ('carolin', -1): 2, ('favourit', -1): 3, ('hide', -1): 3, ('stranger', -1): 2, ('Am', -1): 23, ('interest', -1): 14, ('two', -1): 32, ('round', -1): 8, ('gudnitetcpractic', -1): 2, ('di', -1): 31, ('yiju', -1): 6, ('In', -1): 36, ('huim', -1): 1, ('num', -1): 6, ('small', -1): 11, ('prestig', -1): 1, ('fanci', 1): 12, ('shag', 1): 3, ('dointerest', 1): 1, ('sextextukcom', 1): 1, ('xxuk', 1): 1, ('suzi', 1): 1, ('69876', 1): 1, ('websit', 1): 1, ('X', 1): 6, ('jeremiah', -1): 1, ('iphon', -1): 1, ('apeshit', -1): 1, ('ever', -1): 32, ('misbehav', -1): 2, ('slap', -1): 3, ('urself', -1): 9, ('fault', -1): 6, ('basic', -1): 9, ('Yo', -1): 21, ('figur', -1): 13, ('alcohol', -1): 3, ('jay', -1): 14, ('weed', -1): 10, ('ish', -1): 6, ('wa', -1): 31, ('5', -1): 34, ('ago', -1): 12, ('wtf', -1): 4, ('callingforgot', -1): 1, ('onam', -1): 1, ('sirjii', -1): 1, ('met', -1): 9, ('insur', -1): 7, ('personmeet', -1): 1, ('insha', -1): 1, ('allahrakhesh', -1): 1, ('ex', -1): 10, ('tata', -1): 1, ('aig', -1): 1, ('tisscotays', -1): 1, ('cashbal', 1): 7, ('current', 1): 12, ('maxim', 1): 7, ('cashin', 1): 7, ('CC', 1): 6, ('08708800282', 1): 1, ('hgsuite3422land', 1): 8, ('roww1j6hl', 1): 4, ('unemploy', -1): 2, ('moment', -1): 13, ('st', -1): 8, ('andrewsboy', -1): 1, ('cold', -1): 6, ('chikku', -1): 12, ('chikkudb', -1): 1, ('audrey', -1): 2, ('statu', -1): 2, ('forward', -1): 13, ('sunshin', -1): 1, ('dawn', -1): 1, ('refresh', -1): 1, ('aliv', -1): 2, ('breath', -1): 4, ('air', -1): 6, ('Z', -1): 1, ('updatenow', 1): 2, ('xma', 1): 15, ('motorola', 1): 11, ('sonyericsson', 1): 5, ('bluetooth', 1): 9, ('doubl', 1): 18, ('orang', 1): 28, ('mobileupd8', 1): 16, ('08000839402', 1): 15, ('call2optoutf4q', 1): 1, ('here', 1): 1, ('discount', 1): 9, ('rp176781', 1): 1, ('wwwregalportfoliocouk', 1): 1, ('08717205546', 1): 1, ('uniform', -1): 1, ('geeee', -1): 5, ('woke', -1): 10, ('cuddl', -1): 6, ('spoil', -1): 3, ('min', -1): 35, ('agre', -1): 2, ('refer', 1): 4, ('t91', 1): 1, ('gbp', 1): 1, ('09057039994', 1): 1, ('seen', -1): 12, ('mei', -1): 7, ('didt', -1): 5, ('recognis', -1): 3, ('lindsay', -1): 1, ('sigh', -1): 7, ('some', -1): 4, ('bar', -1): 5, ('ptbo', -1): 3, ('heron', -1): 1, ('payasam', -1): 1, ('rinu', -1): 1, ('bring', -1): 37, ('taught', -1): 1, ('becau', -1): 1, ('verifi', -1): 3, ('project', -1): 15, ('prabu', -1): 1, ('mistak', -1): 8, ('bodi', -1): 6, ('quit', -1): 39, ('slow', -1): 11, ('guid', -1): 6, ('ovul', -1): 2, ('relax', -1): 7, ('reason', -1): 20, ('followin', -1): 1, ('coupl', -1): 12, ('wallet', -1): 1, ('945', -1): 1, ('6month', 1): 2, ('avail', 1): 3, ('call2optoutn9dx', 1): 2, ('owl', -1): 1, ('lick', -1): 5, ('custom', -1): 11, ('Mm', -1): 10, ('fun', -1): 23, ('4mth', 1): 3, ('half', 1): 13, ('price', 1): 17, ('rental', 1): 12, ('mobilesdirect', 1): 3, ('08000938767', 1): 3, ('or2stoptxt', 1): 3, ('huh', -1): 20, ('Fr', -1): 1, ('sat', -1): 26, ('intro', -1): 5, ('pilat', -1): 6, ('kickbox', -1): 1, ('offic', -1): 25, ('lap', -1): 1, ('shut', -1): 3, ('bout', -1): 14, ('730ish', -1): 1, ('award', -1): 1, ('calcul', -1): 3, ('monthnot', -1): 1, ('current', -1): 6, ('period', -1): 3, ('actual', -1): 34, ('rock', -1): 13, ('put', -1): 35, ('pictur', -1): 7, ('ass', -1): 13, ('facebook', -1): 8, ('Al', -1): 2, ('salam', -1): 1, ('wahleykkumshar', -1): 1, ('newsbi', -1): 1, ('grace', -1): 2, ('god', -1): 41, ('tayseertissco', -1): 1, ('joinedhop', -1): 1, ('fineinshah', -1): 1, ('allahmeet', -1): 1, ('sometimerakheshvisitor', -1): 1, ('india', -1): 10, ('hmmmkbut', -1): 1, ('field', -1): 2, ('quickli', -1): 3, ('dai', -1): 6, ('administr', -1): 2, ('first', 1): 6, ('87131', 1): 4, ('poli', 1): 25, ('true', 1): 3, ('help', 1): 19, ('2814032', 1): 1, ('1st', 1): 26, ('3x', 1): 1, ('150pw', 1): 1, ('nd', 1): 1, ('chechi', -1): 3, ('cream', -1): 4, ('none', -1): 8, ('yep', -1): 10, ('loxahatche', -1): 2, ('tree', -1): 4, ('burn', -1): 4, ('stoner', -1): 1, ('slightli', -1): 2, ('disastr', -1): 1, ('pm', -1): 11, ('fav', -1): 1, ('darl', -1): 5, ('wld', -1): 2, ('drink', -1): 23, ('busetop', -1): 1, ('messagesom', -1): 2, ('sendernam', -1): 2, ('sentdat', -1): 2, ('via', -1): 9, ('fullonsmscom', -1): 6, ('iron', -1): 2, ('yan', -1): 5, ('jiu', -1): 5, ('skip', -1): 2, ('den', -1): 32, ('blah', -1): 3, ('wendi', -1): 1, ('D', -1): 8, ('09064012103', 1): 1, ('box334sk38ch', 1): 2, ('whatsup', -1): 2, ('goal', -1): 1, ('250', 1): 21, ('competit', 1): 3, ('80086', 1): 2, ('wwwtxttowincouk', 1): 2, ('logo', 1): 5, ('lover', 1): 2, ('heart', 1): 3, ('love', 1): 10, ('name1', 1): 2, ('name2', 1): 2, ('mobno', 1): 2, ('adam', 1): 2, ('eve', 1): 5, ('07123456789', 1): 2, ('yahoo', 1): 2, ('pobox36504w45wq', 1): 5, ('txtno', 1): 2, ('ad', 1): 4, ('150p', 1): 24, ('yesfrom', -1): 1, ('enter', 1): 16, ('09111032124', 1): 1, ('pobox12n146tf150p', 1): 1, ('siva', -1): 1, ('hostel', -1): 5, ('aha', -1): 8, ('09058094455', 1): 1, ('land', 1): 18, ('3030', 1): 8, ('receiv', -1): 9, ('voic', -1): 10, ('express', -1): 5, ('1childish', -1): 1, ('2naughti', -1): 1, ('3sentiment', -1): 1, ('4rowdi', -1): 1, ('5ful', -1): 1, ('attitud', -1): 1, ('6romant', -1): 1, ('7shi', -1): 1, ('8attract', -1): 1, ('9funni', -1): 1, ('irrit', -1): 7, ('shell', -1): 6, ('aathiwher', -1): 3, ('urin', -1): 1, ('7', -1): 26, ('esplanad', -1): 4, ('mind', -1): 39, ('wnt', -1): 6, ('bmw', -1): 3, ('urgentlyit', -1): 3, ('vri', -1): 6, ('urgentbut', -1): 3, ('hv', -1): 5, ('shortag', -1): 3, ('lacsther', -1): 3, ('sourc', -1): 4, ('arng', -1): 3, ('amt', -1): 5, ('lacsthat', -1): 3, ('At', -1): 17, ('fifteen', -1): 4, ('fuck', -1): 47, ('respond', -1): 6, ('3650', 1): 2, ('09066382422', 1): 2, ('ave', 1): 3, ('3min', 1): 4, ('vari', 1): 6, ('close', 1): 4, ('300603', 1): 2, ('post', 1): 5, ('bcm4284', 1): 2, ('ldn', 1): 10, ('wc1n3xx', 1): 4, ('hillsborough', -1): 1, ('th', -1): 14, ('askin', -1): 6, ('dollar', -1): 7, ('shoul', -1): 1, ('g', -1): 13, ('iouri', -1): 3, ('ten', -1): 13, ('applebe', -1): 2, ('txtjourney', -1): 1, ('gdnow', -1): 1, ('50', -1): 6, ('arrang', -1): 5, ('yesh', -1): 3, ('greatbhaji', -1): 2, ('cricket', -1): 3, ('sachin', -1): 2, ('worldveri', -1): 2, ('tough', -1): 7, ('suppos', -1): 14, ('oic', -1): 3, ('tot', -1): 21, ('din', -1): 8, ('group', -1): 6, ('wereth', -1): 1, ('monkeespeopl', -1): 1, ('WE', -1): 5, ('monkeyaround', -1): 1, ('howdi', -1): 1, ('gorgeou', -1): 4, ('howu', -1): 1, ('doin', -1): 11, ('foundurself', -1): 1, ('jobyet', -1): 1, ('sausagelov', -1): 1, ('jen', -1): 4, ('blimey', -1): 1, ('exercis', -1): 1, ('kinda', -1): 8, ('hmm', -1): 11, ('concentr', -1): 5, ('10', -1): 10, ('hank', -1): 1, ('lotsli', -1): 1, ('kkwhat', -1): 1, ('detail', -1): 20, ('transferacc', -1): 1, ('optimist', -1): 1, ('improv', -1): 2, ('loan', 1): 5, ('purpos', 1): 4, ('75000', 1): 3, ('homeown', 1): 3, ('tenant', 1): 4, ('welcom', 1): 10, ('have', 1): 7, ('previous', 1): 3, ('refus', 1): 4, ('1956669', 1): 3, ('Si', -1): 3, ('oreo', -1): 3, ('truffl', -1): 2, ('ami', -1): 2, ('ure', -1): 10, ('beauti', -1): 23, ('intellig', -1): 4, ('woman', -1): 4, ('T', -1): 5, ('SO', -1): 11, ('result', -1): 6, ('consist', -1): 1, ('kind', -1): 16, ('practicum', -1): 1, ('link', -1): 5, ('ear', -1): 3, ('ttyl', -1): 6, ('120', -1): 1, ('bad', -1): 30, ('thru', -1): 7, ('differ', -1): 14, ('feelingwav', -1): 1, ('decis', -1): 6, ('cope', -1): 2, ('individualtim', -1): 1, ('heal', -1): 1, ('each', -1): 3, ('upgrdcentr', 1): 1, ('0207', 1): 2, ('153', 1): 2, ('9153', 1): 1, ('26th', 1): 1, ('juli', 1): 2, ('tc', 1): 30, ('optout', 1): 9, ('bye', -1): 4, ('railway', -1): 3, ('princess', -1): 32, ('oral', -1): 1, ('doggi', -1): 3, ('style', -1): 10, ('fave', -1): 3, ('posit', -1): 4, ('enjoy', -1): 32, ('slipperi', -1): 1, ('bike', -1): 1, ('mani', -1): 56, ('languag', -1): 2, ('okmail', 1): 1, ('dear', 1): 16, ('dave', 1): 2, ('notic', 1): 3, ('tenerif', 1): 7, ('09061743806', 1): 2, ('sae', 1): 21, ('box326', 1): 2, ('cw25wx', 1): 4, ('scream', -1): 14, ('remov', -1): 7, ('flat', -1): 5, ('rate', -1): 3, ('transfer', -1): 5, ('charg', -1): 13, ('differb', -1): 1, ('9ja', -1): 3, ('moan', 1): 1, ('69888nyt', 1): 1, ('line', -1): 9, ('broken', -1): 2, ('cum', -1): 10, ('infront', -1): 2, ('other', -1): 12, ('wise', -1): 3, ('9t', -1): 3, ('aathilov', -1): 3, ('tension', -1): 2, ('ahwhat', -1): 1, ('machiani', -1): 1, ('8th', -1): 6, ('whenr', -1): 1, ('G', -1): 9, ('mcr', -1): 1, ('sec', -1): 5, ('tast', -1): 3, ('fb', -1): 6, ('jaykwon', -1): 1, ('thuglyf', -1): 1, ('falconerf', -1): 1, ('activ', 1): 7, ('term', 1): 10, ('condit', 1): 5, ('visit', 1): 7, ('www07781482378com', 1): 2, ('depend', -1): 9, ('qualiti', -1): 5, ('fade', -1): 1, ('glori', -1): 1, ('6', -1): 28, ('ralph', -1): 1, ('dri', -1): 4, ('trade', -1): 2, ('credit', -1): 8, ('card', -1): 14, ('sorryin', -1): 2, ('reunion', -1): 1, ('nowcan', -1): 1, ('meh', -1): 9, ('nope', -1): 15, ('monday', -1): 10, ('accentur', -1): 1, ('confirm', -1): 13, ('jackson', -1): 1, ('rec', -1): 1, ('center', -1): 2, ('7ish', -1): 2, ('fight', -1): 13, ('either', -1): 12, ('bt', -1): 13, ('fightng', -1): 3, ('some1', -1): 5, ('dificult', -1): 3, ('nuerologist', -1): 1, ('lolnic', -1): 1, ('fish', -1): 3, ('water', -1): 10, ('123', 1): 3, ('1450', 1): 3, ('09050002311', 1): 2, ('b4280703', 1): 2, ('tcsstop', 1): 3, ('08718727868', 1): 2, ('over', 1): 4, ('bore', -1): 25, ('outsid', -1): 16, ('westshor', -1): 1, ('hyde', -1): 2, ('villag', -1): 3, ('near', -1): 10, ('anthoni', -1): 2, ('fee', -1): 3, ('rent', -1): 12, ('signific', -1): 2, ('opinion', -1): 9, ('over', -1): 5, ('jada', -1): 4, ('kusruthi', -1): 4, ('silent', -1): 11, ('spl', -1): 4, ('charact', -1): 7, ('matur', -1): 6, ('8', -1): 15, ('stylish', -1): 5, ('simpl', -1): 17, ('latest', -1): 3, ('gs', -1): 1, ('scroung', -1): 2, ('ammo', -1): 1, ('ak', -1): 1, ('prabhaim', -1): 3, ('sorydarealyfrm', -1): 3, ('sori', -1): 3, ('forgiven', -1): 2, ('nojst', -1): 1, ('tat', -1): 6, ('40gb', 1): 6, ('ipod', 1): 12, ('mp3', 1): 5, ('83355', 1): 4, ('ibhltd', 1): 3, ('ldnw15h', 1): 3, ('150pmtmsgrcvd18', 1): 3, ('sno', -1): 1, ('competit', -1): 3, ('boltblu', 1): 1, ('mono', 1): 4, ('poly3', 1): 1, ('cha', 1): 2, ('slide', 1): 1, ('yeah', 1): 1, ('slow', 1): 1, ('jamz', 1): 1, ('6', 1): 6, ('toxic', 1): 1, ('8', 1): 1, ('with', 1): 7, ('Me', 1): 1, ('httpwwwbubbletextcom', 1): 1, ('renew', 1): 3, ('pin', 1): 1, ('tgxxrz', 1): 1, ('transport', -1): 2, ('less', -1): 10, ('problemat', -1): 1, ('By', -1): 10, ('no', -1): 2, ('unconsci', -1): 2, ('children', -1): 3, ('adult', -1): 2, ('behav', -1): 3, ('abnorm', -1): 1, ('ebay', -1): 2, ('elsewher', -1): 3, ('shall', -1): 29, ('pickl', -1): 2, ('were', -1): 14, ('taco', -1): 2, ('rude', -1): 1, ('campu', -1): 6, ('020903', 1): 2, ('2nd', 1): 20, ('attempt', 1): 22, ('08718729755', 1): 1, ('box95qu', 1): 3, ('worth', 1): 13, ('85023', 1): 7, ('savamob', 1): 13, ('member', 1): 8, ('T', 1): 13, ('Cs', 1): 13, ('08717898035', 1): 3, ('300', 1): 12, ('sub', 1): 10, ('unsub', 1): 5, ('pretti', -1): 15, ('ladi', -1): 9, ('singl', -1): 7, ('reciev', 1): 1, ('within', 1): 7, ('24hr', 1): 2, ('channel', 1): 1, ('teletext', 1): 1, ('Pg', 1): 1, ('doublefaggot', -1): 1, ('2003', 1): 13, ('07815296484', 1): 1, ('800', 1): 22, ('08718738001', 1): 2, ('41782', 1): 1, ('181104', 1): 1, ('todaysundaysunday', -1): 3, ('holidayso', -1): 3, ('l8r', -1): 6, ('malaria', -1): 7, ('bani', -1): 1, ('lead', -1): 6, ('passion', -1): 4, ('across', -1): 10, ('sea', -1): 15, ('probabl', -1): 33, ('lt', -1): 3, ('fat', -1): 8, ('finger', -1): 8, ('button', -1): 1, ('ummmmmaah', -1): 3, ('tirupur', -1): 3, ('wwwapplausestorecom', 1): 1, ('monthlysubscription50pmsg', 1): 1, ('max6month', 1): 1, ('tcsc', 1): 1, ('web', 1): 2, ('age16', 1): 5, ('2stop', 1): 1, ('famou', -1): 1, ('quot', -1): 4, ('develop', -1): 4, ('abil', -1): 2, ('listen', -1): 17, ('uncondit', -1): 1, ('temper', -1): 1, ('self', -1): 7, ('confid', -1): 6, ('marri', -1): 11, ('Pa', -1): 2, ('oclock', -1): 1, ('mine', -1): 17, ('bash', -1): 1, ('recoveri', -1): 2, ('rather', -1): 7, ('coop', -1): 1, ('hotel', -1): 5, ('cali', -1): 2, ('english', -1): 5, ('bloke', -1): 3, ('weddin', -1): 1, ('omw', -1): 7, ('btw', -1): 4, ('alibi', -1): 1, ('sink', -1): 1, ('pace', -1): 1, ('cage', -1): 1, ('cock', -1): 2, ('surround', -1): 1, ('remind', -1): 10, ('own', -1): 3, ('cuck', -1): 1, ('hurri', -1): 8, ('weeddefici', -1): 1, ('three', -1): 4, ('acknowledg', -1): 1, ('astoundingli', -1): 1, ('tactless', -1): 1, ('gener', -1): 4, ('faggi', -1): 2, ('demand', -1): 2, ('blood', -1): 3, ('oath', -1): 1, ('fo', -1): 2, ('warm', -1): 9, ('milk', -1): 3, ('youll', -1): 13, ('magic', -1): 4, ('loos', -1): 3, ('weight', -1): 7, ('pan', -1): 2, ('cheap', -1): 6, ('perhap', -1): 2, ('silli', -1): 1, ('O', -1): 11, ('uv', -1): 1, ('mutat', -1): 1, ('sunscreen', -1): 1, ('essenti', -1): 4, ('theseday', -1): 1, ('lunchyou', -1): 1, ('onlinewhi', -1): 1, ('pic', -1): 12, ('aiyo', -1): 6, ('fast', -1): 14, ('workin', -1): 8, ('bao', -1): 1, ('sugardad', -1): 1, ('ahge', -1): 1, ('meim', -1): 1, ('browni', -1): 3, ('geeeee', -1): 2, ('bare', -1): 7, ('2mrw', -1): 5, ('ninish', -1): 1, ('icki', -1): 1, ('american', -1): 3, ('freek', -1): 1, ('callin', -1): 3, ('eh', -1): 6, ('oooh', -1): 2, ('ridden', -1): 1, ('ey', -1): 1, ('gym', -1): 12, ('whatev', -1): 17, ('daddi', -1): 8, ('dick', -1): 2, ('missi', -1): 1, ('yar', -1): 13, ('mum', -1): 19, ('sch', -1): 22, ('clean', -1): 11, ('lab', -1): 4, ('goggl', -1): 1, ('door', -1): 10, ('call09050000327', 1): 2, ('us', 1): 5, ('ring', 1): 4, ('09050005321', 1): 1, ('arngd', -1): 1, ('marriag', -1): 6, ('walkin', -1): 1, ('unfortuntli', -1): 1, ('snake', -1): 3, ('bite', -1): 4, ('danc', -1): 4, ('frnt', -1): 1, ('sayin', -1): 1, ('izzit', -1): 7, ('textand', 1): 1, ('08002988890', 1): 1, ('exwif', -1): 1, ('kid', -1): 14, ('scotland', -1): 2, ('jjc', -1): 1, ('tendenc', -1): 1, ('headach', -1): 3, ('jazz', -1): 5, ('yogasana', -1): 5, ('em', -1): 8, ('meiv', -1): 1, ('hardli', -1): 2, ('gotani', -1): 1, ('srsli', -1): 1, ('yi', -1): 1, ('shop', 1): 15, ('spree', 1): 7, ('80878', 1): 3, ('tsc', 1): 18, ('wwwtxt2shopcom', 1): 2, ('custcar', 1): 7, ('08715705022', 1): 4, ('1x150pwk', 1): 5, ('08712402050', 1): 2, ('befor', 1): 2, ('10ppm', 1): 2, ('AG', 1): 2, ('promo', 1): 2, ('07753741225', 1): 1, ('S', 1): 9, ('M', 1): 10, ('08715203677', 1): 1, ('42478', 1): 1, ('241004', 1): 1, ('grand', -1): 4, ('prix', -1): 1, ('choos', -1): 8, ('nitz', -1): 1, ('import', 1): 12, ('announc', 1): 6, ('542', 1): 4, ('0825', 1): 2, ('exhaust', -1): 5, ('train', -1): 19, ('pie', -1): 4, ('present', -1): 8, ('ar', -1): 7, ('blastin', -1): 1, ('tsunami', -1): 2, ('occur', -1): 2, ('rajnik', -1): 1, ('swim', -1): 3, ('indian', -1): 9, ('oceand', -1): 1, ('Be', -1): 12, ('noon', -1): 11, ('xclusiveclubsaisai', 1): 1, ('2morow', 1): 1, ('285', 1): 1, ('soire', 1): 1, ('zouk', 1): 1, ('nichol', 1): 1, ('parisfre', 1): 1, ('rose', 1): 1, ('all', 1): 3, ('ladi', 1): 2, ('0794674629107880867867', 1): 1, ('bridgwat', -1): 1, ('banter', -1): 1, ('neva', -1): 18, ('imma', -1): 7, ('somethin', -1): 5, ('22', 1): 2, ('kick', 1): 3, ('euro2004', 1): 5, ('kept', 1): 3, ('result', 1): 3, ('daili', 1): 4, ('remov', 1): 7, ('83222', 1): 3, ('valentin', -1): 15, ('game', -1): 13, ('que', -1): 3, ('colour', -1): 6, ('suit', -1): 4, ('bestrpli', -1): 1, ('thanx4', -1): 1, ('cer', -1): 1, ('IT', -1): 8, ('UP', -1): 20, ('more', -1): 4, ('often', -1): 4, ('OH', -1): 6, ('soonc', -1): 1, ('himthen', -1): 1, ('futur', -1): 4, ('hundr', -1): 2, ('aunti', -1): 5, ('1st', -1): 12, ('shuhui', -1): 7, ('leona', -1): 4, ('reaction', -1): 2, ('famili', -1): 21, ('snow', -1): 14, ('weather', -1): 7, ('togeth', -1): 21, ('grow', -1): 1, ('dismay', -1): 1, ('alex', -1): 8, ('IS', -1): 21, ('AS', -1): 4, ('concern', -1): 2, ('pub', -1): 16, ('bud', -1): 4, ('offici', -1): 3, ('paid', -1): 6, ('market', -1): 3, ('tootsi', -1): 1, ('pop', -1): 7, ('longer', -1): 8, ('darren', -1): 12, ('textbuddi', 1): 2, ('guy', 1): 6, ('area', 1): 8, ('25p', 1): 8, ('search', 1): 2, ('postcod', 1): 3, ('gaytextbuddycom', 1): 2, ('one', 1): 10, ('89693', 1): 2, ('vodafon', 1): 6, ('4882', 1): 2, ('09064019014', 1): 2, ('seventeen', -1): 1, ('pound', -1): 5, ('seven', -1): 3, ('ml', -1): 1, ('holder', 1): 6, ('PC', 1): 5, ('httpwwwetlpcoukexpressoff', 1): 2, ('apply2', 1): 1, ('80062', 1): 5, ('Me', -1): 22, ('funni', -1): 7, ('sweetheart', -1): 2, ('biola', -1): 2, ('login', -1): 2, ('dad', -1): 30, ('fetch', -1): 7, ('restock', -1): 2, ('thanksgiv', -1): 3, ('effect', -1): 4, ('brighten', -1): 1, ('wee', -1): 2, ('thursday', -1): 5, ('allo', -1): 1, ('brave', -1): 1, ('taken', -1): 2, ('triumph', -1): 1, ('ham', -1): 4, ('jolli', -1): 2, ('cartoon', -1): 5, ('music', -1): 4, ('eve', -1): 14, ('templ', -1): 4, ('church', -1): 4, ('uncomfort', -1): 1, ('08715203694', 1): 1, ('40533', 1): 2, ('311004', 1): 2, ('email', -1): 18, ('rstm', 1): 2, ('sw7', 1): 2, ('3ss', 1): 2, ('gentl', -1): 5, ('sonetim', -1): 1, ('rough', -1): 1, ('panic', -1): 2, ('tuesday', -1): 8, ('wesley', -1): 2, ('town', -1): 24, ('bet', -1): 4, ('hella', -1): 5, ('drug', -1): 15, ('dealer', -1): 2, ('impati', -1): 2, ('sun', -1): 16, ('earth', -1): 5, ('cloud', -1): 1, ('river', -1): 2, ('evng', -1): 6, ('wikipediacom', -1): 1, ('88800', 1): 1, ('89034', 1): 1, ('premium', 1): 2, ('08718711108', 1): 1, ('under', -1): 2, ('lay', -1): 4, ('envelop', -1): 4, ('paper', -1): 13, ('On', -1): 15, ('repent', -1): 1, ('de', -1): 22, ('prepar', -1): 6, ('kama', -1): 1, ('sutra', -1): 1, ('En', -1): 1, ('nang', -1): 1, ('bakra', -1): 1, ('kalstiyathen', -1): 1, ('teacoffe', -1): 1, ('carlosl', -1): 1, ('lakh', -1): 1, ('Ho', -1): 2, ('ho', -1): 8, ('belli', -1): 5, ('laugh', -1): 17, ('sun0819', 1): 1, ('helloy', 1): 1, ('seem', 1): 1, ('cool', 1): 1, ('say', 1): 1, ('hi', 1): 1, ('HI', 1): 1, ('gr8', 1): 7, ('20', 1): 3, ('everi', 1): 33, ('wk', 1): 15, ('opt', 1): 13, ('08452810071', 1): 1, ('ditto', -1): 1, ('peac', -1): 5, ('knw', -1): 17, ('wetherspoon', -1): 1, ('piggi', -1): 1, ('awak', -1): 7, ('freaki', -1): 1, ('yell', -1): 2, ('scrappi', -1): 1, ('lone', -1): 3, ('hex', -1): 2, ('explain', -1): 4, ('sdryb8i', -1): 1, ('xy', -1): 6, ('Hi', 1): 14, ('sue', 1): 2, ('old', 1): 2, ('work', 1): 3, ('lapdanc', 1): 1, ('sex', 1): 11, ('bedroom', 1): 1, ('89555', 1): 3, ('By', 1): 1, ('textoper', 1): 3, ('G2', 1): 1, ('1da', 1): 1, ('150ppmsg', 1): 1, ('king', -1): 6, ('onc', -1): 9, ('build', -1): 5, ('map', -1): 4, ('imprtant', -1): 1, ('tomorw', -1): 1, ('dearm', -1): 1, ('cherthalain', -1): 1, ('cochin', -1): 2, ('bfore', -1): 1, ('starti', -1): 1, ('accordinglyor', -1): 1, ('comingtmorow', -1): 1, ('engag', -1): 2, ('an', -1): 6, ('holiday', -1): 12, ('torch', -1): 7, ('bold', -1): 7, ('forward', 1): 4, ('448712404000pleas', 1): 1, ('08712404000', 1): 1, ('immedi', 1): 5, ('farm', -1): 2, ('4d', -1): 2, ('1405', -1): 1, ('1680', -1): 1, ('1843', -1): 1, ('law', -1): 5, ('purchas', -1): 2, ('box', -1): 5, ('Ah', -1): 4, ('poop', -1): 2, ('gpu', -1): 2, ('entrepreneur', -1): 1, ('corpor', -1): 1, ('gap', -1): 10, ('Ku', -1): 1, ('prevent', -1): 1, ('dehydr', -1): 2, ('fluid', -1): 1, ('weird', -1): 4, ('idea', -1): 11, ('deari', -1): 3, ('soso', -1): 1, ('smsd', -1): 1, ('away', -1): 21, ('trek', -1): 1, ('harri', -1): 1, ('drivin', -1): 4, ('fantast', 1): 7, ('ngage', 1): 1, ('deck', 1): 1, ('wwwcnupdatescomnewslett', 1): 1, ('alert', 1): 5, ('out', 1): 9, ('height', -1): 4, ('aeronaut', -1): 2, ('professor', -1): 2, ('wer', -1): 6, ('calld', -1): 2, ('sit', -1): 16, ('aeroplan', -1): 2, ('aftr', -1): 6, ('ws', -1): 3, ('student', -1): 6, ('dey', -1): 5, ('Bt', -1): 8, ('saidif', -1): 2, ('studentsthi', -1): 2, ('datz', -1): 2, ('shitstorm', -1): 1, ('attribut', -1): 1, ('08714712388', 1): 1, ('10am7pm', 1): 4, ('stress', -1): 5, ('dorm', -1): 2, ('menu', -1): 6, ('sell', -1): 16, ('449071512431', 1): 1, ('UU', 1): 3, ('1250', 1): 2, ('09071512433', 1): 2, ('b4', 1): 4, ('050703', 1): 2, ('tcsbcm4235wc1n3xx', 1): 2, ('callcost', 1): 2, ('mobilesvari', 1): 2, ('max', 1): 3, ('7', 1): 5, ('50', 1): 6, ('sth', -1): 1, ('spec', -1): 1, ('membership', -1): 1, ('px3748', -1): 1, ('08714712394', 1): 1, ('macha', -1): 1, ('upseti', -1): 1, ('assum', -1): 5, ('mindsetbeliev', -1): 1, ('uslet', -1): 1, ('againcal', -1): 1, ('anytim', -1): 4, ('sfine', -1): 1, ('wondar', -1): 1, ('flim', -1): 1, ('cooki', -1): 2, ('jelli', -1): 1, ('stillmayb', -1): 1, ('sameso', -1): 1, ('itor', -1): 1, ('admiti', -1): 1, ('madthen', -1): 1, ('correctionor', -1): 1, ('lifeand', -1): 1, ('worldmay', -1): 1, ('runninglet', -1): 1, ('scrumptiou', -1): 1, ('ba', -1): 2, ('dao', -1): 1, ('order', -1): 8, ('half8th', -1): 2, ('exactli', -1): 6, ('jide', -1): 1, ('visit', -1): 9, ('email', 1): 2, ('alertfrom', 1): 1, ('jeri', 1): 1, ('stewarts', 1): 1, ('2kbsubject', 1): 1, ('lowcost', 1): 1, ('prescripiton', 1): 1, ('drvgsto', 1): 1, ('listen', 1): 3, ('spring', -1): 3, ('yay', -1): 6, ('steak', -1): 1, ('convincingjust', -1): 1, ('twice', -1): 5, ('neglect', -1): 1, ('itjust', -1): 1, ('tonit', -1): 8, ('opportunityal', -1): 1, ('fastpl', -1): 1, ('add', -1): 9, ('prayer', -1): 1, ('dearrakhesh', -1): 1, ('offerth', 1): 2, ('nokia6650', 1): 2, ('10', 1): 11, ('txtauction', 1): 4, ('81151', 1): 2, ('4tctxt', 1): 2, ('150pmtmsg', 1): 2, ('rite', -1): 19, ('Da', -1): 3, ('gd', -1): 12, ('faster', -1): 3, ('gal', -1): 14, ('attach', -1): 3, ('glad', -1): 9, ('hadnt', -1): 1, ('clock', -1): 5, ('shout', -1): 4, ('realis', -1): 4, ('wahay', -1): 1, ('shorter', -1): 3, ('gaze', -1): 1, ('eye', -1): 10, ('930', -1): 2, ('subscrib', 1): 9, ('best', 1): 9, ('82324', 1): 1, ('helplin', 1): 2, ('08706091795', 1): 2, ('weve', -1): 4, ('spoken', -1): 4, ('gist', -1): 2, ('Do', 1): 13, ('realiz', 1): 1, ('40', 1): 2, ('well', 1): 7, ('thousand', 1): 1, ('run', 1): 1, ('around', 1): 2, ('tattoo', 1): 1, ('premier', 1): 2, ('gimm', -1): 3, ('lip', -1): 3, ('caveboy', -1): 1, ('librari', -1): 8, ('reali', -1): 5, ('sorryi', -1): 1, ('confus', -1): 4, ('holla', -1): 7, ('anyon', -1): 18, ('spare', -1): 3, ('top', -1): 7, ('faith', -1): 1, ('possiblehop', -1): 1, ('worklov', -1): 1, ('beautifulmay', -1): 1, ('christmasmerri', -1): 1, ('youcarlo', -1): 1, ('isar', -1): 1, ('vibrat', -1): 2, ('act', -1): 5, ('romant', 1): 1, ('pari', 1): 3, ('night', 1): 7, ('79', 1): 1, ('book', 1): 6, ('08704439680tsc', 1): 1, ('grandma', -1): 2, ('hungov', -1): 1, ('unclaim', 1): 1, ('09066368327', 1): 1, ('closingdate040902', 1): 1, ('claimcod', 1): 1, ('m39m51', 1): 1, ('150pmmorefrommobile2bremovedmobypobox734ls27yf', 1): 1, ('gua', -1): 1, ('mt', -1): 3, ('faber', -1): 1, ('yest', -1): 7, ('X', -1): 8, ('ma', -1): 3, ('advanc', -1): 6, ('citi', 1): 3, ('break', 1): 5, ('could', 1): 7, ('summer', 1): 9, ('WK', 1): 3, ('store', 1): 8, ('88039', 1): 3, ('skilgm', 1): 3, ('tscs087147403231winawkage16', 1): 2, ('150perwksub', 1): 3, ('nt', -1): 11, ('goin', -1): 21, ('meetin', -1): 4, ('ti', -1): 5, ('theyr', -1): 7, ('dramat', -1): 1, ('appar', -1): 4, ('anywher', -1): 3, ('damn', -1): 7, ('hunt', -1): 2, ('drunkard', -1): 1, ('idc', -1): 1, ('weasel', -1): 2, ('row', -1): 4, ('space', -1): 6, ('trash', -1): 1, ('beg', -1): 3, ('sing', -1): 5, ('slave', -1): 8, ('punish', -1): 2, ('beerag', -1): 1, ('0578', 1): 2, ('randomlli', -1): 1, ('within', -1): 6, ('couldnt', -1): 5, ('most', -1): 4, ('diff', -1): 3, ('ever', 1): 3, ('thought', 1): 1, ('good', 1): 12, ('life', 1): 3, ('perfect', 1): 1, ('commun', 1): 2, ('100psm', 1): 1, ('5', 1): 10, ('polyphon', 1): 5, ('087018728737', 1): 1, ('toppoli', 1): 1, ('tune', 1): 1, ('subpoli', 1): 3, ('81618', 1): 1, ('pole', 1): 1, ('08718727870', 1): 2, ('fondli', -1): 1, ('bein', -1): 3, ('thot', -1): 2, ('ywhere', -1): 1, ('dogbreath', -1): 1, ('jan', -1): 3, ('S', -1): 8, ('AL', -1): 1, ('omg', -1): 8, ('weigh', -1): 3, ('woohoo', -1): 1, ('uncount', -1): 1, ('dictionari', -1): 4, ('piec', -1): 5, ('9996', 1): 1, ('14thmarch', 1): 1, ('availa', 1): 1, ('petey', -1): 1, ('wherear', -1): 1, ('friendsar', -1): 1, ('thekingshead', -1): 1, ('canlov', -1): 1, ('nic', -1): 2, ('b4', -1): 8, ('pobox84', 1): 6, ('m263uz', 1): 4, ('appt', -1): 4, ('lttimegt', -1): 7, ('no1', 1): 8, ('8077', 1): 2, ('tell', 1): 18, ('mate', 1): 13, ('wwwgetzedcouk', 1): 9, ('36504', 1): 7, ('w45wq', 1): 6, ('norm150pton', 1): 6, ('cashto', 1): 2, ('08000407165', 1): 2, ('getstop', 1): 2, ('88222', 1): 2, ('php', 1): 2, ('rg21', 1): 1, ('4jx', 1): 1, ('dled', -1): 1, ('3d', -1): 3, ('imp', -1): 2, ('aint', -1): 9, ('smokin', -1): 1, ('boooo', -1): 1, ('bec', -1): 2, ('ugh', -1): 12, ('ssnervou', -1): 1, ('costum', -1): 2, ('gift', -1): 10, ('yowif', -1): 1, ('hint', -1): 3, ('either', 1): 10, ('gift', 1): 18, ('borrow', -1): 2, ('bag', -1): 8, ('outbid', 1): 1, ('simonwatson5120', 1): 1, ('shinco', 1): 1, ('plyr', 1): 1, ('bid', 1): 8, ('acsmsreward', 1): 1, ('notif', 1): 1, ('model', -1): 6, ('youi', -1): 1, ('galileo', -1): 2, ('dobbi', -1): 2, ('boo', -1): 6, ('enjoyin', -1): 2, ('yourjob', -1): 1, ('gettin', -1): 8, ('hunnyhop', -1): 1, ('oktak', -1): 2, ('llspeak', -1): 1, ('2U', -1): 2, ('soonlot', -1): 1, ('OF', -1): 12, ('lovem', -1): 2, ('xxxx', -1): 3, ('starshin', -1): 1, ('ach', -1): 4, ('sip', -1): 2, ('cappuccino', -1): 2, ('smsservic', 1): 1, ('yourinclus', 1): 1, ('wwwcomuknet', 1): 5, ('login', 1): 5, ('3qxj9', 1): 4, ('extra', 1): 7, ('08702840625comuk', 1): 3, ('220cm2', 1): 3, ('9ae', 1): 4, ('alfi', 1): 3, ('moon', 1): 3, ('children', 1): 3, ('need', 1): 11, ('song', 1): 3, ('m8', 1): 5, ('chariti', 1): 9, ('8007', 1): 21, ('zed', 1): 6, ('08701417012', 1): 3, ('profit', 1): 3, ('hahahaus', -1): 3, ('brain', -1): 4, ('green', -1): 4, ('burial', -1): 1, ('mojibiola', -1): 2, ('reveal', 1): 9, ('So', 1): 2, ('09065174042', 1): 2, ('recd', 1): 3, ('cust', 1): 4, ('care', 1): 7, ('07821230901', 1): 2, ('mate', -1): 16, ('RV', -1): 1, ('age', -1): 9, ('roadsrvx', -1): 1, ('skype', -1): 6, ('kz', -1): 2, ('sura', -1): 4, ('given', -1): 3, ('ultimatum', -1): 2, ('countin', -1): 2, ('aburo', -1): 2, ('five', 1): 3, ('08002888812', 1): 2, ('inconsider', -1): 2, ('nag', -1): 2, ('recess', -1): 2, ('henc', -1): 2, ('wed', 1): 2, ('voucherstext', 1): 1, ('nowsavamobmemb', 1): 1, ('soo', -1): 2, ('understand', -1): 14, ('2morrow', -1): 3, ('comprehens', -1): 1, ('prashanthettan', -1): 1, ('mother', -1): 5, ('09066350750', 1): 2, ('ibiza', 1): 4, ('10000', 1): 7, ('await', 1): 27, ('434', 1): 3, ('sk3', 1): 3, ('8wp', 1): 3, ('ppm', 1): 4, ('kkwhen', -1): 2, ('meanwhil', -1): 4, ('xavier', -1): 3, ('warn', -1): 3, ('samantha', -1): 1, ('guitar', -1): 1, ('impress', -1): 4, ('doug', -1): 1, ('stomach', -1): 3, ('trauma', -1): 1, ('swear', -1): 1, ('officewhat', -1): 1, ('mattermsg', -1): 1, ('nowi', -1): 2, ('shoe', -1): 2, ('wan', -1): 53, ('inner', -1): 1, ('tigress', -1): 1, ('version', -1): 6, ('AH', -1): 1, ('poor', -1): 10, ('babyhop', -1): 1, ('urfeel', -1): 1, ('bettersn', -1): 1, ('probthat', -1): 1, ('overdos', -1): 1, ('spk', -1): 3, ('SN', -1): 1, ('lovejen', -1): 2, ('talk', 1): 5, ('fall', 1): 1, ('world', 1): 2, ('discreet', 1): 2, ('vip', 1): 4, ('83110', 1): 1, ('hai', -1): 7, ('ana', -1): 1, ('sathi', -1): 1, ('rto', -1): 1, ('spoon', -1): 2, ('tampa', -1): 9, ('geniu', -1): 2, ('whenev', -1): 11, ('lotta', -1): 2, ('corvett', -1): 1, ('suppli', 1): 3, ('cd', 1): 5, ('virgin', 1): 2, ('record', 1): 6, ('mysteri', 1): 1, ('09061104283', 1): 1, ('wwwsmsconet', 1): 2, ('approx', 1): 1, ('wall', -1): 4, ('bunker', -1): 1, ('matter', -1): 6, ('07808', 1): 1, ('xxxxxx', 1): 1, ('08719899217', 1): 1, ('41685', 1): 2, ('071104', 1): 2, ('hello', 1): 3, ('posh', 1): 1, ('bird', 1): 1, ('chap', 1): 1, ('user', 1): 8, ('trial', 1): 1, ('prod', 1): 1, ('champney', 1): 1, ('can', 1): 4, ('put', 1): 1, ('address', 1): 4, ('dob', 1): 1, ('asap', 1): 6, ('Ta', 1): 1, ('r', 1): 12, ('what', 1): 5, ('how', 1): 5, ('0721072', 1): 1, ('philosoph', -1): 1, ('hole', -1): 1, ('goodno', -1): 1, ('problembut', -1): 1, ('drop', -1): 22, ('nap', -1): 3, ('yourself', -1): 2, ('atleast', -1): 1, ('otherwis', -1): 10, ('shakespear', -1): 1, ('shesil', -1): 3, ('till', 1): 3, ('drop', 1): 2, ('IS', 1): 8, ('IT', 1): 2, ('10k', 1): 3, ('5K', 1): 2, ('travel', 1): 2, ('09064011000', 1): 2, ('ntt', 1): 10, ('cr01327bt', 1): 2, ('fixedlin', 1): 2, ('castor', -1): 2, ('liverpool', 1): 3, ('mid', 1): 2, ('09058094565', 1): 2, ('09065171142stopsms08', 1): 1, ('remind', 1): 2, ('alreadi', 1): 1, ('paid', 1): 1, ('httpdoit', 1): 1, ('mymobi', 1): 1, ('knew', -1): 13, ('woul', -1): 1, ('curfew', -1): 1, ('gibe', -1): 1, ('midnight', -1): 6, ('getsleep', -1): 1, ('studdi', -1): 1, ('massag', -1): 1, ('oil', -1): 2, ('sup', -1): 6, ('yoyyooo', -1): 1, ('permiss', -1): 2, ('mac', -1): 3, ('usb', -1): 2, ('gibb', -1): 2, ('unsoldmik', -1): 1, ('hussey', -1): 1, ('fail', -1): 5, ('sad', -1): 21, ('unbeliev', -1): 2, ('faglord', -1): 1, ('wifehow', -1): 3, ('murder', -1): 20, ('nutter', -1): 1, ('cutter', -1): 1, ('ctter', -1): 1, ('cttergg', -1): 1, ('cttargg', -1): 1, ('ctargg', -1): 1, ('ctagg', -1): 1, ('ie', -1): 2, ('thu', -1): 1, ('superb', -1): 1, ('grate', -1): 1, ('opportun', -1): 3, ('happier', -1): 1, ('agent', -1): 1, ('due', -1): 4, ('sever', -1): 2, ('outstand', -1): 3, ('invoic', -1): 1, ('possibl', -1): 10, ('smell', -1): 2, ('tobacco', -1): 1, ('derek', -1): 5, ('taylor', -1): 3, ('worst', -1): 2, ('charl', -1): 2, ('lastest', 1): 1, ('stereophon', 1): 1, ('marley', 1): 1, ('dizze', 1): 1, ('racal', 1): 1, ('libertin', 1): 1, ('stroke', 1): 1, ('nookii', 1): 1, ('bookmark', 1): 1, ('plu', -1): 18, ('grinul', -1): 1, ('greet', -1): 7, ('white', -1): 5, ('fudg', -1): 1, ('store', -1): 4, ('januari', 1): 1, ('male', 1): 3, ('sale', 1): 4, ('gay', 1): 6, ('cheaper', 1): 2, ('08709222922', 1): 2, ('15pmin', 1): 2, ('cheap', 1): 4, ('78pmin', 1): 2, ('peak', 1): 2, ('08712460324', 1): 7, ('10pmin', 1): 10, ('zaher', -1): 1, ('ym', -1): 2, ('nauseou', -1): 1, ('piss', -1): 7, ('pig', -1): 4, ('diet', -1): 5, ('chip', -1): 2, ('iam', -1): 6, ('addict', -1): 4, ('msging', -1): 3, ('wrong', -1): 14, ('photo', -1): 9, ('yck', -1): 2, ('ashley', -1): 2, ('avalarr', -1): 1, ('hollalat', -1): 1, ('attend', -1): 6, ('todaybut', -1): 1, ('websitenow', -1): 1, ('blog', -1): 2, ('magicalsongsblogspotcom', -1): 1, ('chikkuil', -1): 1, ('ate', -1): 6, ('kvb', -1): 1, ('acc', -1): 4, ('money', 1): 4, ('lucki', 1): 8, ('88600', 1): 3, ('1million', 1): 1, ('give', 1): 9, ('away', 1): 4, ('ppt150x3normal', 1): 1, ('box403', 1): 1, ('w1t1ji', 1): 1, ('fridayhop', -1): 1, ('alternativehop', -1): 1, ('yr', -1): 8, ('term', -1): 4, ('congratul', -1): 1, ('ore', -1): 1, ('mo', -1): 6, ('owo', -1): 1, ('fro', -1): 1, ('wherev', -1): 6, ('samu', -1): 1, ('shoulder', -1): 1, ('matthew', 1): 1, ('09063440451', 1): 1, ('4lux', 1): 1, ('ppm150', 1): 1, ('box334', 1): 1, ('sk38xh', 1): 7, ('wear', -1): 9, ('jean', -1): 2, ('fever', -1): 4, ('vomitin', -1): 1, ('kkare', -1): 1, ('09061749602', 1): 1, ('528', 1): 1, ('hp20', 1): 1, ('1yf', 1): 1, ('stuf', -1): 2, ('bleh', -1): 2, ('least', -1): 13, ('writh', -1): 1, ('ton', -1): 1, ('paypal', -1): 1, ('voila', -1): 1, ('pocket', -1): 1, ('onli', -1): 16, ('medic', -1): 8, ('touch', 1): 1, ('folk', 1): 1, ('compani', 1): 3, ('enjoy', 1): 12, ('150psm', 1): 1, ('sorta', -1): 1, ('blown', -1): 1, ('recent', -1): 5, ('id', -1): 20, ('score', -1): 4, ('sopha', -1): 1, ('secondari', -1): 1, ('applic', -1): 2, ('appli', -1): 4, ('ogunrind', -1): 1, ('expens', -1): 6, ('08718720201', 1): 5, ('11414', 1): 3, ('tcrw1', 1): 3, ('lodg', -1): 2, ('chk', -1): 1, ('ms', -1): 1, ('dict', -1): 1, ('shb', -1): 1, ('truth', -1): 12, ('graviti', -1): 4, ('heavi', -1): 7, ('bowl', -1): 5, ('filthi', 1): 2, ('stori', 1): 1, ('girl', 1): 10, ('ull', -1): 6, ('brand', -1): 2, ('simpler', -1): 2, ('welp', -1): 3, ('retir', -1): 1, ('code', -1): 1, ('natwest', -1): 1, ('09050001808', 1): 2, ('m95', 1): 2, ('valid12hr', 1): 3, ('chad', -1): 1, ('gymnast', -1): 1, ('site', -1): 5, ('christian', -1): 1, ('backa', -1): 1, ('necklac', -1): 2, ('token', -1): 1, ('youthat', -1): 1, ('wife', -1): 21, ('likingb', -1): 1, ('seeno', -1): 1, ('thatdont', -1): 1, ('aptitud', -1): 1, ('215', -1): 1, ('hors', -1): 1, ('race', -1): 2, ('earlier', -1): 13, ('chicken', -1): 4, ('rice', -1): 2, ('wrongli', -1): 1, ('ad', -1): 9, ('crap', -1): 2, ('borin', -1): 1, ('boggi', -1): 1, ('biatch', -1): 1, ('nxt', -1): 6, ('il', -1): 5, ('hesit', -1): 3, ('notebook', -1): 1, ('salari', -1): 4, ('chocol', -1): 2, ('daysh', -1): 2, ('potenti', -1): 2, ('talent', -1): 4, ('reckon', -1): 2, ('eightish', -1): 1, ('carpark', -1): 1, ('3G', 1): 5, ('videophon', 1): 5, ('09063458130', 1): 3, ('videochat', 1): 5, ('wid', 1): 5, ('java', 1): 5, ('dload', 1): 5, ('polyph', 1): 3, ('nolin', 1): 5, ('rentl', 1): 5, ('fuckin', -1): 3, ('yun', -1): 5, ('ahth', -1): 1, ('ubi', -1): 2, ('tomorrowcal', -1): 1, ('67441233', -1): 1, ('ireneer', -1): 1, ('bus822656166382', -1): 1, ('cresubi', -1): 1, ('tech', -1): 2, ('park6ph', -1): 1, ('5wkg', -1): 1, ('daysèn', -1): 1, ('sd', -1): 1, ('butt', -1): 3, ('sore', -1): 4, ('26th', -1): 1, ('juli', -1): 1, ('7am', -1): 1, ('parti', -1): 15, ('5ish', -1): 1, ('Up', -1): 2, ('stripe', -1): 1, ('skirt', -1): 1, ('miracl', -1): 8, ('jesu', -1): 5, ('escal', -1): 1, ('yetund', -1): 3, ('quiet', -1): 2, ('beth', -1): 1, ('aunt', -1): 4, ('charli', -1): 1, ('helen', -1): 2, ('nobut', -1): 1, ('heard', -1): 8, ('should', -1): 14, ('syllabu', -1): 1, ('panason', 1): 1, ('bluetoothhdset', 1): 1, ('doublemin', 1): 1, ('doubletxt', 1): 1, ('contract', 1): 4, ('730pm', -1): 1, ('poyyarikaturkolathupalayamunjalur', -1): 1, ('posterod', -1): 1, ('heroi', -1): 1, ('apt', -1): 1, ('opportunitypl', -1): 1, ('ltemailgt', -1): 1, ('kerala', -1): 5, ('fit', -1): 2, ('terribl', -1): 3, ('fan', -1): 2, ('meat', -1): 1, ('suprem', -1): 1, ('toldsh', -1): 1, ('dearregret', -1): 1, ('cudnt', -1): 1, ('calldrov', -1): 1, ('frm', -1): 11, ('ctla', -1): 1, ('homeleft', -1): 1, ('mobil', -1): 15, ('carent', -1): 1, ('ishtamayoohappi', -1): 1, ('bakrid', -1): 1, ('exe', -1): 3, ('knowwait', -1): 1, ('gloriou', -1): 1, ('anniversari', -1): 2, ('J', -1): 5, ('content', -1): 6, ('prey', -1): 3, ('coax', -1): 1, ('imag', -1): 2, ('fond', -1): 1, ('souveni', -1): 1, ('cougarpen', -1): 1, ('guess', 1): 7, ('somebodi', 1): 2, ('secretli', 1): 2, ('wanna', 1): 10, ('09065394514', 1): 1, ('datebox1282essexcm61xn', 1): 2, ('150pmin', 1): 4, ('pattern', -1): 2, ('throat', -1): 4, ('scratch', -1): 2, ('plm', -1): 2, ('asleep', -1): 6, ('foreign', -1): 3, ('stamp', -1): 3, ('countri', -1): 3, ('lectur', -1): 5, ('no1', -1): 1, ('MR', -1): 1, ('sheffield', -1): 2, ('nanni', -1): 2, ('rais', -1): 5, ('zoe', -1): 1, ('shitin', -1): 1, ('myself', -1): 1, ('IL', -1): 3, ('defo', -1): 1, ('hardest', -1): 1, ('2morow', -1): 2, ('million', -1): 2, ('lekdog', -1): 1, ('fill', -1): 12, ('loverboy', -1): 6, ('blanket', -1): 2, ('suffici', -1): 1, ('thx', -1): 2, ('flirt', -1): 4, ('nyt', -1): 12, ('edison', -1): 2, ('rightli', -1): 2, ('fool', -1): 6, ('speechless', -1): 3, ('viva', -1): 2, ('gmgngegnt', -1): 2, ('atten', -1): 1, ('roast', -1): 3, ('09058097218', 1): 1, ('ls15hb', 1): 2, ('becaus', -1): 5, ('educ', -1): 3, ('career', -1): 3, ('bloke', 1): 1, ('zoe', 1): 1, ('seriou', -1): 6, ('kickoff', 1): 2, ('inform', 1): 10, ('euro', 1): 3, ('soire', -1): 1, ('june', -1): 3, ('3rd', -1): 5, ('data', -1): 1, ('analysi', -1): 1, ('thesi', -1): 2, ('belliger', -1): 1, ('hiya', -1): 9, ('ST', -1): 1, ('april', -1): 5, ('le', -1): 1, ('off', -1): 4, ('rudi', -1): 1, ('snoringthey', -1): 1, ('drunk', -1): 3, ('ink', -1): 1, ('515', -1): 1, ('femal', -1): 2, ('howr', -1): 1, ('eastend', 1): 2, ('TV', 1): 4, ('flower', 1): 3, ('dot', 1): 2, ('compar', 1): 2, ('D', 1): 4, ('violet', 1): 2, ('E', 1): 4, ('tulip', 1): 2, ('F', 1): 6, ('lili', 1): 2, ('84025', 1): 3, ('wkent150p16', 1): 2, ('technic', -1): 3, ('support', -1): 10, ('processnetwork', -1): 1, ('daysso', -1): 1, ('finalis', -1): 1, ('travel', -1): 6, ('visitne', -1): 1, ('urgent', -1): 2, ('lot', 1): 2, ('peopl', 1): 3, ('regist', 1): 6, ('wwwflirtpartyu', 1): 1, ('replys150', 1): 1, ('bitch', -1): 5, ('dentist', -1): 2, ('ask', 1): 6, ('cant', 1): 5, ('09058091854', 1): 2, ('box385', 1): 2, ('M6', 1): 2, ('6wu', 1): 2, ('09050003091', 1): 2, ('c52', 1): 2, ('uve', 1): 6, ('xchat', 1): 5, ('lul', -1): 1, ('juici', -1): 3, ('gossip', -1): 2, ('nurs', -1): 1, ('obes', -1): 1, ('oyea', -1): 1, ('Oi', -1): 2, ('parchi', -1): 1, ('na', -1): 10, ('kicchu', -1): 1, ('kaaj', -1): 1, ('kort', -1): 1, ('iccha', -1): 1, ('korch', -1): 1, ('tul', -1): 1, ('dvd', -1): 1, ('sculptur', -1): 1, ('convey', -1): 10, ('regard', -1): 9, ('surya', -1): 1, ('vijay', -1): 4, ('pokkiri', -1): 1, ('dearer', -1): 3, ('dem', -1): 4, ('attractioni', -1): 1, ('mesh', -1): 1, ('thoughtsi', -1): 1, ('hersh', -1): 1, ('dreamlov', -1): 1, ('namemi', -1): 1, ('hermi', -1): 1, ('heri', -1): 2, ('herwil', -1): 1, ('sorrowsi', -1): 1, ('craziest', -1): 2, ('herlov', -1): 2, ('proov', -1): 1, ('planeti', -1): 1, ('prais', -1): 1, ('curri', -1): 2, ('maki', -1): 1, ('sambarlif', -1): 1, ('thenwil', -1): 1, ('lotwil', -1): 2, ('frndship', -1): 5, ('needl', -1): 1, ('evn', -1): 3, ('meetitz', -1): 1, ('4few', -1): 1, ('alwi', -1): 3, ('conect', -1): 1, ('spatula', -1): 1, ('sipix', 1): 6, ('digit', 1): 9, ('09061221061', 1): 2, ('28day', 1): 2, ('box177', 1): 2, ('m221bp', 1): 2, ('2yr', 1): 2, ('warranti', 1): 2, ('p', 1): 4, ('399', 1): 2, ('09061790121', 1): 3, ('goto', -1): 2, ('doctor', -1): 10, ('complex', -1): 1, ('freeli', -1): 1, ('tax', -1): 1, ('outrag', -1): 1, ('tomorro', -1): 2, ('ryder', -1): 1, ('unsoldnow', -1): 1, ('b', 1): 5, ('receipt', 1): 3, ('an', 1): 6, ('when', 1): 3, ('elvi', 1): 1, ('presley', 1): 1, ('birthday', 1): 1, ('fret', -1): 2, ('strip', -1): 1, ('postal', -1): 1, ('addressul', -1): 1, ('alrightokay', -1): 1, ('cliff', -1): 2, ('been', -1): 8, ('ne', -1): 3, ('wrking', -1): 1, ('uni', -1): 5, ('depress', -1): 3, ('sittin', -1): 1, ('wind', -1): 3, ('black', -1): 5, ('aiyah', -1): 6, ('O2', 1): 5, ('log', 1): 7, ('onto', 1): 7, ('httpwwwurawinnercom', 1): 6, ('surpris', 1): 5, ('hen', -1): 1, ('onlin', -1): 22, ('italian', -1): 5, ('grin', -1): 12, ('math', -1): 4, ('sfirst', -1): 1, ('timedhoni', -1): 1, ('teju', -1): 1, ('hourish', -1): 1, ('nothi', -1): 1, ('groundamla', -1): 1, ('durban', -1): 2, ('conveni', -1): 1, ('evalu', -1): 1, ('449050000301', 1): 1, ('09050000301', 1): 1, ('bore', 1): 4, ('speed', 1): 1, ('speedchat', 1): 2, ('80155', 1): 1, ('em', 1): 1, ('swap', 1): 1, ('chatter', 1): 1, ('chat80155', 1): 1, ('rcd', 1): 1, ('cancel', -1): 6, ('cheyyamoand', -1): 1, ('08000776320', 1): 2, ('okok', -1): 3, ('okthenwhat', -1): 3, ('aiyar', -1): 4, ('part', 1): 10, ('survey', 1): 1, ('yesterday', 1): 3, ('howev', 1): 1, ('wish', 1): 2, ('80160', 1): 1, ('wwwtxt43com', 1): 1, ('fall', -1): 10, ('gayd', -1): 1, ('hmv1', 1): 1, ('error', -1): 2, ('difficulti', -1): 2, ('howz', -1): 6, ('painhop', -1): 1, ('tau', -1): 1, ('sar', -1): 2, ('piah', -1): 1, ('forget', 1): 2, ('place', 1): 5, ('mani', 1): 3, ('request', 1): 2, ('1stchoicecouk', 1): 1, ('08707808226', 1): 1, ('oha', -1): 1, ('film', -1): 9, ('let', 1): 5, ('hgsuite3422landsroww1j6hl', 1): 3, ('shade', -1): 1, ('notifi', 1): 1, ('luck', 1): 6, ('futur', 1): 4, ('market', 1): 1, ('84122', 1): 1, ('08450542832', 1): 1, ('station', -1): 6, ('tank', -1): 2, ('readi', 1): 6, ('4fil', 1): 2, ('sexual', 1): 1, ('cute', 1): 1, ('69911', 1): 1, ('sitter', -1): 1, ('kaitlyn', -1): 1, ('danger', -1): 2, ('peep', -1): 1, ('comment', -1): 1, ('veggi', -1): 1, ('2000', -1): 1, ('neighbor', -1): 2, ('computerless', -1): 1, ('hot', -1): 7, ('balloon', -1): 1, ('passthey', -1): 1, ('Gd', -1): 4, ('ntswt', -1): 1, ('drm', -1): 1, ('got', 1): 7, ('wrc', 1): 2, ('ralli', 1): 4, ('Oz', 1): 2, ('lucozad', 1): 2, ('energi', 1): 3, ('LE', 1): 2, ('61200', 1): 2, ('pack', 1): 2, ('lucozadecoukwrc', 1): 2, ('itcould', 1): 2, ('melodi', -1): 1, ('horribl', -1): 5, ('toot', -1): 2, ('fantast', -1): 3, ('bigger', -1): 3, ('N', -1): 6, ('Q', -1): 2, ('nw', -1): 4, ('hme', -1): 1, ('island', -1): 3, ('To', -1): 6, ('chennai', -1): 13, ('velacheri', -1): 1, ('flippin', -1): 1, ('cstore', -1): 1, ('annoy', -1): 2, ('hangin', -1): 1, ('mr', -1): 6, ('makin', -1): 2, ('alivebett', -1): 1, ('shame', -1): 4, ('quizz', -1): 1, ('popcorn', -1): 1, ('pic', 1): 21, ('jordan', 1): 2, ('then', 1): 2, ('celeb', 1): 1, ('pocketbabecouk', 1): 3, ('3wk', 1): 4, ('087016248', 1): 1, ('voicemail', 1): 3, ('08719181503', 1): 1, ('moan', -1): 5, ('thin', -1): 1, ('faultal', -1): 1, ('faultf', -1): 1, ('himso', -1): 1, ('2go', -1): 2, ('thanxxx', -1): 1, ('neft', -1): 2, ('refer', -1): 5, ('beneficiari', -1): 2, ('natuit', -1): 3, ('choic', 1): 3, ('wwwldewcomsubs161win150ppmx3', 1): 2, ('semi', -1): 1, ('P', -1): 6, ('deliv', 1): 4, ('door', 1): 1, ('OK', 1): 2, ('exp', 1): 1, ('30apr', 1): 1, ('strong', -1): 4, ('arm', -1): 6, ('maaaan', -1): 1, ('guessin', -1): 1, ('walmart', -1): 3, ('ilol', -1): 1, ('wuldnt', -1): 1, ('mite', -1): 5, ('creepi', -1): 2, ('lunchtim', -1): 1, ('organis', -1): 1, ('08719181513', 1): 2, ('kkim', -1): 3, ('finewhen', -1): 2, ('passabl', -1): 1, ('phd', -1): 1, ('5year', -1): 1, ('easier', -1): 4, ('nok', 1): 2, ('87021', 1): 3, ('txtin', 1): 4, ('150ptone', 1): 5, ('4info', 1): 4, ('prakesh', -1): 1, ('app', -1): 5, ('rofl', -1): 3, ('betta', -1): 1, ('invest', -1): 2, ('anti', -1): 3, ('product', -1): 1, ('1hr', -1): 2, ('delay', -1): 3, ('BY', 1): 1, ('complet', 1): 2, ('accommod', 1): 1, ('variou', 1): 1, ('global', 1): 1, ('wwwphb1com', 1): 1, ('ph08700435505150p', 1): 1, ('submit', -1): 2, ('84128', 1): 2, ('wwwtextcompcom', 1): 2, ('08712405020', 1): 4, ('1s', -1): 2, ('snatch', -1): 1, ('purs', -1): 2, ('hellodrivby0quit', -1): 1, ('edrunk', -1): 1, ('iff', -1): 1, ('pthi', -1): 1, ('senrddnot', -1): 1, ('dancc', -1): 1, ('drum', -1): 1, ('basqihav', -1): 1, ('2nhite', -1): 1, ('ro', -1): 1, ('xxxxxxx', -1): 1, ('reliev', -1): 1, ('westonzoyland', -1): 1, ('europ', -1): 1, ('nobodi', -1): 10, ('chines', -1): 5, ('doc', -1): 7, ('havin', -1): 2, ('goin2b', -1): 1, ('only1mor', -1): 1, ('mc', -1): 1, ('hun', -1): 3, ('2nitetel', -1): 1, ('every1', -1): 1, ('ava', -1): 1, ('goodtimeoli', -1): 1, ('rang', -1): 5, ('melnit', -1): 1, ('ifink', -1): 1, ('sortedbut', -1): 1, ('everythin', -1): 1, ('monl8rsx', -1): 1, ('08712402779', 1): 1, ('flip', -1): 2, ('shun', -1): 1, ('bian', -1): 1, ('glass', -1): 1, ('exhibit', -1): 1, ('el', -1): 1, ('nino', -1): 1, ('chikkugo', -1): 1, ('cbe', -1): 5, ('honey', -1): 7, ('JD', -1): 2, ('servic', -1): 5, ('execut', -1): 3, ('parent', -1): 17, ('news', -1): 7, ('downstem', -1): 1, ('hungri', 1): 2, ('feel', 1): 2, ('08718730555', 1): 1, ('wahala', -1): 1, ('inperialmus', -1): 1, ('listening2th', -1): 1, ('weirdest', -1): 2, ('leafcutt', -1): 1, ('john', -1): 13, ('insect', -1): 1, ('molestedsomeon', -1): 1, ('plumbingremix', -1): 1, ('evil', -1): 1, ('acid', -1): 1, ('didntgiv', -1): 1, ('bellearli', -1): 1, ('hunnyjust', -1): 1, ('bedbut', -1): 1, ('thepub', -1): 1, ('l8tr', -1): 2, ('uwana', -1): 1, ('upload', -1): 3, ('jenxxx', -1): 1, ('her', -1): 3, ('those', -1): 5, ('exact', -1): 4, ('set', 1): 4, ('09096102316', 1): 1, ('cum', 1): 5, ('2moro', 1): 1, ('jane', 1): 1, ('xx', 1): 3, ('1minmoremobsemspobox45po139wa', 1): 2, ('tee', -1): 2, ('cheeri', -1): 1, ('cell', -1): 7, ('tht', -1): 13, ('collect', -1): 9, ('dough', -1): 2, ('control', -1): 2, ('80488biz', 1): 1, ('weirdo', -1): 1, ('mode', -1): 9, ('stalk', -1): 2, ('profil', -1): 2, ('jerri', -1): 2, ('drinkin', -1): 2, ('dog', -1): 7, ('heygreat', -1): 1, ('dealfarm', -1): 1, ('tour', -1): 3, ('9am', -1): 1, ('5pm', -1): 2, ('95pax', -1): 1, ('deposit', -1): 2, ('16', -1): 1, ('jap', -1): 1, ('disappear', -1): 1, ('birthdat', -1): 2, ('certif', -1): 1, ('publish', -1): 1, ('secret', -1): 6, ('E', -1): 7, ('nydc', -1): 2, ('wheellock', -1): 1, ('destin', -1): 1, ('fifti', -1): 1, ('daili', -1): 2, ('favour', -1): 4, ('happenin', -1): 1, ('ola', -1): 2, ('cocksuck', -1): 1, ('ipad', -1): 3, ('worthless', -1): 1, ('garbag', -1): 2, ('novelti', -1): 1, ('item', -1): 1, ('tshirt', -1): 1, ('fran', -1): 3, ('broke', -1): 5, ('knacker', -1): 3, ('janx', -1): 1, ('PS', -1): 3, ('design', -1): 1, ('softwar', -1): 3, ('jamster', 1): 2, ('videosound', 1): 1, ('gold', 1): 1, ('videosounds2', 1): 1, ('logosmusicnew', 1): 1, ('jamstercouk', 1): 1, ('16onli', 1): 2, ('09701213186', 1): 1, ('lion', 1): 2, ('lionm', 1): 2, ('lionp', 1): 2, ('wwwringtonescouk', 1): 4, ('origin', 1): 4, ('n', 1): 9, ('3gbp', 1): 4, ('jokin', -1): 2, ('spirit', -1): 1, ('bb', -1): 9, ('shatter', -1): 1, ('alrit', -1): 6, ('idiot', -1): 3, ('girli', -1): 1, ('darker', -1): 1, ('whenevr', -1): 3, ('gray', -1): 1, ('remembr', -1): 2, ('listn', -1): 1, ('watevr', -1): 1, ('whileamp', -1): 1, ('harri', 1): 4, ('potter', 1): 2, ('phoenix', 1): 2, ('among', 1): 2, ('reader', 1): 2, ('shd', -1): 7, ('minu', -1): 1, ('paragraph', -1): 1, ('coveragd', -1): 1, ('area', -1): 5, ('vasai', -1): 1, ('4o', -1): 1, ('retard', -1): 1, ('bathroom', -1): 1, ('balanc', 1): 2, ('who', 1): 1, ('sang', 1): 1, ('uptown', 1): 1, ('80', 1): 1, ('februari', -1): 4, ('rush', -1): 5, ('icic', -1): 1, ('syria', -1): 1, ('canada', -1): 2, ('extra', -1): 5, ('heartsnot', -1): 1, ('goodnoon', -1): 2, ('4U', -1): 3, ('gaug', -1): 1, ('patti', -1): 2, ('mondaynxt', -1): 1, ('vl', -1): 7, ('ax', -1): 1, ('chill', -1): 3, ('6hr', -1): 4, ('surgic', -1): 1, ('emerg', -1): 2, ('unfold', -1): 1, ('fren', -1): 13, ('korean', -1): 1, ('fredericksburg', -1): 1, ('pase', -1): 1, ('un', -1): 1, ('buen', -1): 1, ('tiempo', -1): 1, ('chillin', -1): 3, ('super', -1): 3, ('free2day', 1): 2, ('St', 1): 2, ('georg', 1): 2, ('jordantxt', 1): 2, ('89080', 1): 2, ('sauci', 1): 3, ('celeb4', 1): 2, ('c', 1): 3, ('0870241182716', 1): 2, ('tmrw', -1): 2, ('compass', -1): 1, ('soul', -1): 2, ('worldgnun', -1): 1, ('way2smscom', -1): 1, ('baaaaab', -1): 1, ('misss', -1): 1, ('youuuuu', -1): 1, ('ned', -1): 2, ('witot', -1): 1, ('main', -1): 2, ('luck', -1): 6, ('sweeti', -1): 2, ('blackberri', -1): 4, ('buyer', -1): 2, ('melik', -1): 1, ('4a', -1): 2, ('pple', -1): 4, ('becz', -1): 1, ('undrstndng', -1): 1, ('chain', -1): 3, ('suffer', -1): 3, ('whn', -1): 2, ('arrest', -1): 5, ('suntec', -1): 3, ('steamboat', -1): 1, ('moji', -1): 4, ('forgiv', -1): 2, ('yahoo', -1): 6, ('messeng', -1): 3, ('tp', -1): 1, ('fantasi', 1): 11, ('08707509020', 1): 6, ('20p', 1): 7, ('1327', 1): 7, ('croydon', 1): 7, ('cr9', 1): 7, ('5wb', 1): 7, ('0870k', 1): 2, ('bbq', -1): 1, ('6ish', -1): 1, ('welcom', -1): 6, ('everyso', -1): 1, ('panick', -1): 1, ('outhav', -1): 1, ('write', -1): 10, ('3cover', -1): 3, ('screen', -1): 3, ('4press', -1): 3, ('5gentli', -1): 3, ('bear', 1): 2, ('nick', 1): 1, ('tom', 1): 1, ('pete', 1): 1, ('dick', 1): 1, ('In', 1): 2, ('fact', 1): 1, ('type', 1): 1, ('photo', 1): 3, ('upload', 1): 2, ('08718730666', 1): 2, ('huai', -1): 1, ('juan', -1): 2, ('linerent', 1): 5, ('call2optoutlf56', 1): 2, ('tlk', -1): 2, ('ideal', -1): 2, ('path', -1): 2, ('appear', -1): 1, ('front', -1): 2, ('shot', -1): 2, ('reserv', -1): 4, ('thirunelvali', -1): 1, ('tirunelvali', -1): 2, ('evei', -1): 1, ('netno', -1): 1, ('availablei', -1): 1, ('tackl', -1): 1, ('storm', -1): 3, ('phne', -1): 3, ('wt', -1): 3, ('margaret', -1): 3, ('girlfrnd', -1): 6, ('f', -1): 3, ('grahmbel', -1): 3, ('invnt', -1): 3, ('telphon', -1): 3, ('moralon', -1): 3, ('4get', -1): 4, ('h', -1): 3, ('tonght', -1): 1, ('plough', -1): 1, ('pile', -1): 1, ('chinki', -1): 1, ('ki', -1): 2, ('wi', -1): 1, ('nz', -1): 1, ('player', -1): 9, ('unsold', -1): 3, ('geelat', -1): 1, ('aust', -1): 1, ('bk', -1): 1, ('had', -1): 10, ('cafe', -1): 5, ('recharg', -1): 2, ('papa', -1): 1, ('shld', -1): 3, ('stretch', -1): 2, ('sinco', -1): 2, ('paye', -1): 2, ('icicibankcom', -1): 2, ('urn', -1): 4, ('bewar', -1): 2, ('fraud', -1): 2, ('share', -1): 10, ('disclos', -1): 2, ('vote', -1): 5, ('loser', -1): 1, ('kaiez', -1): 2, ('tuition', -1): 4, ('gee', -1): 5, ('option', -1): 3, ('beta', -1): 1, ('practic', -1): 6, ('kkani', -1): 1, ('there', 1): 5, ('A', 1): 19, ('noncomitt', -1): 1, ('beneath', -1): 2, ('pale', -1): 2, ('moon', -1): 5, ('goodnit', -1): 3, ('150pmsgrcvdhgsuite3422landsroww1j6hl', 1): 4, ('snicker', -1): 1, ('total', -1): 7, ('chord', -1): 1, ('nofew', -1): 1, ('beforew', -1): 1, ('rem', -1): 5, ('silver', -1): 2, ('lmao', -1): 6, ('silenc', -1): 2, ('wwwldewcom', 1): 2, ('win150ppmx3age16', 1): 1, ('revis', -1): 2, ('boyf', -1): 1, ('interviw', -1): 1, ('exet', -1): 2, ('worriedx', -1): 1, ('spreadsheet', -1): 1, ('whose', -1): 1, ('determin', -1): 2, ('entir', -1): 2, ('arsen', 1): 3, ('dartboard', 1): 1, ('trebl', 1): 1, ('coat', -1): 2, ('everybodi', -1): 5, ('alon', -1): 14, ('intrepid', -1): 1, ('duo', -1): 1, ('sen', -1): 3, ('missin', -1): 3, ('guilti', -1): 3, ('aiya', -1): 4, ('cardiff', -1): 3, ('fact', -1): 10, ('addi', -1): 3, ('tue', -1): 3, ('breez', -1): 1, ('bright', -1): 4, ('fresh', -1): 1, ('flower', -1): 4, ('twitter', -1): 1, ('bird', -1): 6, ('yago', -1): 1, ('restaur', -1): 2, ('textpod', 1): 2, ('pod', 1): 4, ('wwwtextpodnet', 1): 2, ('duck', -1): 1, ('chinchilla', -1): 1, ('function', -1): 2, ('headstart', -1): 1, ('230ish', -1): 1, ('desper', -1): 2, ('earlierw', -1): 1, ('rummer', -1): 1, ('fli', -1): 4, ('monkey', -1): 3, ('certainli', -1): 3, ('optin', 1): 1, ('bbc', 1): 1, ('thanks2', -1): 1, ('rajini', -1): 1, ('stupidit', -1): 3, ('help08714742804', 1): 1, ('spi', -1): 1, ('clair', 1): 2, ('havin', 1): 1, ('borin', 1): 1, ('time', 1): 19, ('alon', 1): 3, ('2nite', 1): 4, ('09099725823', 1): 1, ('hope', 1): 4, ('bought', 1): 1, ('yalru', -1): 1, ('lyfu', -1): 2, ('astn', -1): 1, ('innu', -1): 1, ('mundh', -1): 1, ('lyf', -1): 2, ('ali', -1): 1, ('halla', -1): 1, ('ke', -1): 2, ('bilo', -1): 1, ('marriageprogram', -1): 1, ('edha', -1): 1, ('ovr', -1): 1, ('chikkuali', -1): 1, ('vargu', -1): 1, ('meow', -1): 1, ('meowd', -1): 1, ('twelv', -1): 3, ('aah', -1): 3, ('09066362231', 1): 3, ('07xxxxxxxxx', 1): 3, ('020603', 1): 4, ('reach', 1): 5, ('prone', -1): 1, ('07801543489', 1): 1, ('wordcollect', 1): 1, ('no83355', 1): 1, ('tcllc', 1): 1, ('nyusa', 1): 1, ('150pmt', 1): 1, ('msgrcvd18', 1): 1, ('luci', 1): 2, ('hubbi', 1): 2, ('meetin', 1): 1, ('fri', 1): 2, ('B', 1): 7, ('hotel', 1): 4, ('cumin', 1): 1, ('leav', 1): 2, ('2day', 1): 4, ('09099726395', 1): 1, ('x', 1): 4, ('1minmobsmorelkpobox177hp51fl', 1): 3, ('7th', -1): 4, ('6th', -1): 4, ('5th', -1): 4, ('4th', -1): 6, ('natur', -1): 10, ('dose', -1): 1, ('tablet', -1): 4, ('incomm', -1): 1, ('blake', -1): 3, ('waitshould', -1): 1, ('lotr', -1): 1, ('w', -1): 13, ('googl', -1): 5, ('browsin', -1): 1, ('compulsori', -1): 1, ('puriti', -1): 4, ('messageit', -1): 5, ('musthu', -1): 2, ('investig', -1): 1, ('80488', 1): 3, ('www80488biz', 1): 1, ('vomit', -1): 7, ('moneya', -1): 1, ('youmoney', -1): 1, ('thinghow', -1): 1, ('sha', -1): 4, ('vitamin', -1): 1, ('centr', -1): 5, ('crucial', -1): 1, ('jsco', 1): 2, ('high', 1): 3, ('2channel', 1): 1, ('leadership', 1): 1, ('skill', 1): 1, ('strong', 1): 1, ('psychic', 1): 1, ('wquestion', 1): 1, ('hostbas', -1): 1, ('idp', -1): 1, ('linux', -1): 1, ('0870', 1): 6, ('dawhat', -1): 2, ('video', -1): 2, ('convert', -1): 2, ('vote', 1): 1, ('sing', 1): 2, ('along', 1): 1, ('karaok', 1): 1, ('sayi', -1): 1, ('except', -1): 6, ('nit', -1): 2, ('petei', -1): 1, ('leannewhat', -1): 1, ('eight', -1): 3, ('format', -1): 2, ('disc', -1): 1, ('internet', -1): 6, ('champ', -1): 1, ('glasgow', -1): 1, ('kall', -1): 1, ('bestcongrat', -1): 1, ('lovin', -1): 1, ('our', 1): 9, ('brand', 1): 4, ('arriv', 1): 6, ('shortli', 1): 3, ('instal', 1): 1, ('brows', 1): 1, ('artist', 1): 1, ('corect', -1): 1, ('spele', -1): 1, ('sarcasm', -1): 2, ('10803', 1): 1, ('08714719523', 1): 1, ('BT', 1): 4, ('forum', -1): 4, ('ron', -1): 4, ('hict', -1): 1, ('employe', -1): 1, ('nike', -1): 1, ('sooo', -1): 1, ('receipt', -1): 4, ('dang', -1): 1, ('unfortun', -1): 2, ('airport', -1): 4, ('7250i', 1): 4, ('auction', 1): 16, ('86021', 1): 6, ('roww1jhl', 1): 4, ('difficult', -1): 12, ('earliest', -1): 1, ('nordstrom', -1): 1, ('konw', -1): 2, ('waht', -1): 2, ('rael', -1): 2, ('gving', -1): 2, ('yuo', -1): 4, ('exmpel', -1): 2, ('jsut', -1): 2, ('ese', -1): 3, ('tih', -1): 4, ('evrey', -1): 2, ('splle', -1): 2, ('wrnog', -1): 2, ('sitll', -1): 2, ('ra', -1): 2, ('wihtuot', -1): 2, ('ayn', -1): 2, ('mitsak', -1): 2, ('sleepsweet', -1): 2, ('confer', -1): 1, ('plu', 1): 7, ('wwworangecoukow', 1): 1, ('degre', -1): 2, ('financ', -1): 2, ('prospect', -1): 3, ('bleak', -1): 1, ('shant', -1): 1, ('jia', -1): 2, ('bishan', -1): 4, ('nearer', -1): 1, ('sux', -1): 2, ('raiden', -1): 1, ('buff', -1): 3, ('south', -1): 8, ('prefer', -1): 7, ('kegger', -1): 2, ('tote', -1): 1, ('pierr', -1): 1, ('cardin', -1): 1, ('20', -1): 4, ('sale', -1): 5, ('rhythm', -1): 2, ('establish', -1): 1, ('truro', -1): 1, ('ext', -1): 1, ('gang', -1): 3, ('adventur', -1): 3, ('worryus', -1): 1, ('ice', -1): 7, ('cloth', -1): 3, ('packalso', -1): 1, ('sunroof', -1): 1, ('excel', -1): 7, ('sub', -1): 3, ('wifi', -1): 2, ('3g', -1): 2, ('blank', -1): 5, ('noi', -1): 2, ('rumour', -1): 2, ('kalainar', -1): 1, ('officethenampet', -1): 1, ('7250', 1): 2, ('nosi', -1): 1, ('idk', -1): 4, ('react', -1): 1, ('freak', -1): 6, ('satan', -1): 1, ('impost', -1): 1, ('mene', -1): 1, ('priceso', -1): 1, ('itmay', -1): 1, ('destini', -1): 1, ('companion', -1): 1, ('chef', -1): 1, ('organ', -1): 1, ('boyfriend', -1): 2, ('veri', -1): 9, ('sympathet', -1): 1, ('athlet', -1): 1, ('courag', -1): 3, ('psychologist', -1): 1, ('pest', -1): 1, ('extermin', -1): 1, ('psychiatrist', -1): 1, ('healer', -1): 1, ('stylist', -1): 1, ('driver', -1): 2, ('aaniy', -1): 1, ('pudunga', -1): 1, ('venaam', -1): 1, ('brotha', -1): 3, ('chase', -1): 4, ('chez', -1): 1, ('jule', -1): 1, ('hhahhaahahah', -1): 1, ('nig', -1): 1, ('leonardo', -1): 1, ('lt3', -1): 3, ('2year', -1): 1, ('strain', -1): 1, ('dime', -1): 2, ('withdraw', -1): 1, ('anyhow', -1): 1, ('smeon', -1): 2, ('miller', -1): 1, ('fire', -1): 3, ('spark', -1): 1, ('flame', -1): 2, ('rawr', -1): 1, ('xoxo', -1): 1, ('somewhr', -1): 1, ('perfect', -1): 3, ('crush', -1): 1, ('honeymoon', -1): 1, ('outfit', -1): 1, ('propos', -1): 2, ('08719899230', 1): 1, ('blame', -1): 3, ('chequ', -1): 1, ('olymp', 1): 1, ('leo', -1): 1, ('kthen', -1): 2, ('donew', -1): 1, ('haul', -1): 1, ('wildlif', -1): 1, ('want2com', -1): 1, ('that2worzel', -1): 1, ('wizzl', -1): 1, ('dippeditinadew', -1): 2, ('lovingli', -1): 2, ('itwhichturnedinto', -1): 2, ('tomeandsaidthi', -1): 2, ('shanghai', -1): 1, ('21st', -1): 1, ('instead', -1): 7, ('cya', -1): 1, ('freez', -1): 3, ('645', -1): 1, ('rtking', 1): 1, ('pro', 1): 1, ('inforingtonekingcouk', 1): 1, ('08701237397', 1): 1, ('redeem', 1): 1, ('wwwringtonekingcouk', 1): 1, ('thnx', -1): 1, ('2nite', -1): 5, ('sef', -1): 1, ('anji', -1): 1, ('batch', -1): 2, ('fring', -1): 3, ('oz', -1): 3, ('flaki', -1): 2, ('sooooo', -1): 2, ('tooo', -1): 2, ('nte', -1): 1, ('09058094599', 1): 2, ('wate', -1): 2, ('stay', 1): 3, ('british', 1): 2, ('london', 1): 4, ('02072069400', 1): 1, ('Bx', 1): 1, ('526', 1): 1, ('sw73ss', 1): 2, ('6pm', -1): 3, ('Xy', -1): 3, ('buzz', -1): 7, ('ador', -1): 5, ('eeri', 1): 5, ('4u', 1): 3, ('rpli', 1): 5, ('titl', 1): 6, ('dracula', 1): 2, ('ghost', 1): 2, ('addamsfa', 1): 2, ('munster', 1): 2, ('exorcist', 1): 2, ('twilight', 1): 2, ('brought', -1): 2, ('shini', -1): 1, ('constant', -1): 2, ('wasnt', -1): 13, ('surpris', -1): 11, ('french', -1): 1, ('0anetwork', 1): 1, ('allow', 1): 1, ('bill', 1): 7, ('respons', 1): 2, ('supplier', 1): 1, ('sell', 1): 2, ('G', 1): 4, ('comedyc', -1): 1, ('freemsgfeelin', 1): 1, ('kinda', 1): 1, ('lnli', 1): 1, ('jst', 1): 1, ('cam', 1): 2, ('mobi', 1): 4, ('pictxt', 1): 1, ('82242', 1): 3, ('msg150p', 1): 2, ('2rcv', 1): 2, ('hlp', 1): 2, ('08712317606', 1): 2, ('keen', -1): 1, ('switch', -1): 2, ('dammit', -1): 1, ('wright', -1): 1, ('somewhat', -1): 1, ('event', -1): 3, ('laden', -1): 1, ('wreck', -1): 1, ('six', -1): 1, ('spontan', -1): 1, ('goodeven', -1): 1, ('bagi', -1): 2, ('lei', -1): 23, ('action', 1): 4, ('80608', 1): 2, ('wwwmovietriviatv', 1): 2, ('08712405022', 1): 2, ('sif', -1): 1, ('partnership', -1): 2, ('rgent', 1): 1, ('lookin', 1): 1, ('daytim', 1): 1, ('wiv', 1): 2, ('busti', 1): 1, ('marri', 1): 2, ('woman', 1): 1, ('Am', 1): 2, ('sort', 1): 1, ('09099726429', 1): 1, ('janinexx', 1): 1, ('mostli', -1): 2, ('insid', -1): 8, ('spageddi', -1): 1, ('phase', -1): 1, ('fourth', -1): 1, ('dimens', -1): 1, ('yesbut', -1): 1, ('meaning', -1): 1, ('compromis', -1): 2, ('mornin', -1): 2, ('lmaonic', -1): 1, ('09050001295', 1): 1, ('a21', 1): 1, ('monthli', 1): 1, ('mobsicom', 1): 1, ('391784', 1): 1, ('dub', -1): 1, ('je', -1): 1, ('toughest', -1): 2, ('unspoken', -1): 1, ('sight', -1): 7, ('remain', -1): 7, ('maintain', -1): 4, ('shja', -1): 2, ('TO', -1): 8, ('BE', -1): 2, ('about', -1): 6, ('squat', -1): 1, ('cramp', -1): 3, ('0089mi', 1): 1, ('four', 1): 1, ('09063442151', 1): 1, ('ringtoneget', 1): 2, ('freesend', 1): 2, ('816183', 1): 2, ('weekstop', 1): 2, ('sms08718727870', 1): 2, ('nan', -1): 3, ('sonathaya', -1): 1, ('soladha', -1): 1, ('cd', -1): 1, ('rape', -1): 1, ('poker', -1): 2, ('weightloss', -1): 1, ('congrat', -1): 8, ('mushi', -1): 1, ('embarrass', -1): 1, ('stash', -1): 1, ('ran', -1): 5, ('priya', -1): 1, ('sorri', 1): 3, ('81303', 1): 3, ('suffici', 1): 1, ('father', -1): 12, ('messi', -1): 2, ('kilo', -1): 1, ('accid', -1): 2, ('tookplac', -1): 1, ('ghodbandar', -1): 1, ('rd', -1): 5, ('traffic', -1): 2, ('slove', -1): 1, ('slip', -1): 2, ('ahnow', -1): 1, ('wkg', -1): 2, ('wherebtw', -1): 1, ('nu', -1): 1, ('sc', -1): 1, ('specialis', -1): 2, ('wad', -1): 1, ('dislik', -1): 3, ('queen', -1): 4, ('despar', -1): 3, ('gotten', -1): 2, ('stereo', -1): 1, ('mi', -1): 3, ('unknown', -1): 2, ('album', -1): 2, ('hard', 1): 3, ('121', 1): 3, ('60pmin', 1): 4, ('connect', 1): 4, ('09094646899', 1): 2, ('biggest', 1): 3, ('VU', 1): 2, ('bcm1896wc1n3xx', 1): 2, ('classmat', -1): 1, ('firesar', -1): 1, ('wow', 1): 2, ('boy', 1): 2, ('that', 1): 3, ('2007', 1): 2, ('tour', 1): 3, ('ticket', 1): 3, ('prebook', 1): 1, ('trackmarqu', 1): 1, ('infovipclub4u', 1): 1, ('missionari', -1): 1, ('hook', -1): 6, ('entertain', -1): 2, ('hugh', -1): 1, ('lauri', -1): 1, ('stick', -1): 2, ('inde', -1): 2, ('prap', -1): 1, ('jon', -1): 1, ('bin', -1): 4, ('spain', -1): 1, ('dinero', -1): 1, ('12000pe', -1): 1, ('48', -1): 1, ('tb', -1): 3, ('jame', -1): 2, ('hunnywot', -1): 1, ('down', -1): 4, ('DA', -1): 7, ('MO', -1): 2, ('bedroomlov', -1): 1, ('maangalyam', -1): 2, ('alaipayuth', -1): 2, ('do', -1): 3, ('complain', -1): 2, ('mandi', 1): 1, ('sullivan', 1): 1, ('hotmix', 1): 1, ('fmyou', 1): 1, ('chosen', 1): 3, ('500000', 1): 1, ('easter', 1): 1, ('drawpleas', 1): 1, ('telephon', 1): 1, ('09041940223', 1): 1, ('290305', 1): 1, ('transfer', 1): 1, ('els', 1): 1, ('finn', -1): 1, ('bahama', 1): 4, ('callfreefon', 1): 2, ('08081560665', 1): 2, ('cruis', 1): 2, ('18onli', 1): 3, ('07786200117', 1): 2, ('bedroom', -1): 6, ('EY', -1): 1, ('calm', -1): 2, ('downon', -1): 1, ('theacus', -1): 1, ('itxt', -1): 1, ('iwana', -1): 1, ('wotu', -1): 1, ('thewend', -1): 1, ('haventcn', -1): 1, ('agesr', -1): 1, ('up4', -1): 2, ('neth', -1): 1, ('satlov', -1): 1, ('conact', 1): 1, ('youto', 1): 1, ('09111030116', 1): 1, ('pobox12n146tf15', 1): 1, ('vtire', -1): 1, ('wk', -1): 5, ('social', -1): 5, ('inspect', -1): 1, ('nurseri', -1): 1, ('sn', -1): 3, ('detailsi', -1): 1, ('youmi', -1): 1, ('slowli', -1): 11, ('habit', -1): 2, ('follow', -1): 4, ('itmail', -1): 1, ('panren', -1): 1, ('paru', -1): 1, ('chuckin', -1): 1, ('red', -1): 4, ('trainner', -1): 1, ('carryin', -1): 1, ('bac', -1): 1, ('schedul', -1): 2, ('gooddhanush', -1): 1, ('stuck', -1): 3, ('Nt', -1): 3, ('chikkusimpl', -1): 1, ('habbahw', -1): 1, ('dileepthank', -1): 1, ('muchand', -1): 1, ('supportveri', -1): 1, ('hererememb', -1): 1, ('venugop', -1): 1, ('mentionedtomorrow', -1): 1, ('latei', -1): 1, ('theregoodnight', -1): 1, ('everytim', -1): 1, ('mandan', -1): 2, ('07734396839', 1): 2, ('ibh', 1): 2, ('nokia6600', 1): 2, ('txtauctiontxt', 1): 2, ('wordstart', 1): 2, ('no81151', 1): 2, ('now4t', 1): 2, ('3230', -1): 1, ('textbook', -1): 1, ('algorithm', -1): 1, ('edit', -1): 1, ('sexi', -1): 12, ('bun', -1): 5, ('buy', 1): 3, ('space', 1): 2, ('invad', 1): 2, ('orig', 1): 2, ('arcad', 1): 6, ('consol', 1): 2, ('press', 1): 3, ('0', 1): 3, ('o2coukgam', 1): 2, ('purchas', 1): 3, ('big', 1): 2, ('brother', 1): 1, ('comput', 1): 5, ('09064018838', 1): 1, ('cro1327', 1): 1, ('atlanta', -1): 4, ('creat', -1): 5, ('yessura', -1): 1, ('tvlol', -1): 1, ('arun', -1): 3, ('transfr', -1): 3, ('takin', -1): 4, ('philosophi', -1): 3, ('4ui', -1): 1, ('intend', -1): 1, ('iwasmarinethat', -1): 1, ('itried2tel', -1): 1, ('urmomi', -1): 1, ('careabout', -1): 1, ('Mr', 1): 2, ('foley', 1): 2, ('excit', 1): 4, ('eye', 1): 2, ('wwwwin82050couk', 1): 2, ('fake', -1): 1, ('iraq', -1): 1, ('afghanistan', -1): 1, ('stabl', -1): 1, ('honest', -1): 1, ('blessget', -1): 1, ('1225', 1): 1, ('50award', 1): 1, ('3100', 1): 2, ('pai', -1): 1, ('seh', -1): 1, ('lookin', -1): 5, ('beer', -1): 5, ('combin', -1): 3, ('walsal', -1): 1, ('terri', -1): 1, ('jess', -1): 4, ('sian', -1): 2, ('ccna', -1): 1, ('shrek', -1): 1, ('3db', -1): 1, ('dirti', -1): 3, ('fellow', -1): 1, ('teresa', -1): 1, ('packag', -1): 3, ('dec', -1): 1, ('yould', -1): 1, ('bam', -1): 1, ('usml', -1): 1, ('squishi', -1): 1, ('mwah', -1): 1, ('hottest', 1): 1, ('straight', 1): 2, ('wet', 1): 2, ('g696ga', 1): 2, ('promin', -1): 1, ('cheek', -1): 1, ('septemb', -1): 1, ('husband', -1): 3, ('hack', 1): 1, ('backdoor', 1): 1, ('room', 1): 1, ('fraction', 1): 1, ('neo69', 1): 1, ('09050280520', 1): 1, ('pm', 1): 2, ('dp', 1): 1, ('bcm', 1): 1, ('8027', 1): 1, ('norm', -1): 1, ('415', -1): 1, ('access', -1): 2, ('list', -1): 9, ('joanna', -1): 2, ('comingdown', -1): 1, ('dagood', -1): 1, ('replac', -1): 5, ('murali', -1): 1, ('playerwhi', -1): 1, ('five', -1): 3, ('engalnd', -1): 1, ('telli', -1): 2, ('mia', -1): 1, ('elliot', -1): 1, ('upto', 1): 2, ('12mth', 1): 2, ('12price', 1): 1, ('xnet', 1): 1, ('mins100txtmth', 1): 1, ('btooth', 1): 2, ('08001950382', 1): 4, ('2optoutd3wv', 1): 1, ('wiproy', -1): 1, ('matric', -1): 1, ('850', -1): 1, ('toa', -1): 3, ('payoh', -1): 3, ('650', -1): 1, ('08718726970', 1): 1, ('btnationalr', 1): 8, ('payment', -1): 3, ('fedex', -1): 1, ('team', -1): 4, ('kyou', -1): 1, ('recept', -1): 1, ('godi', -1): 4, ('youclean', -1): 4, ('bloodsend', -1): 4, ('itplspl', -1): 4, ('hate', -1): 6, ('consensu', -1): 1, ('tag', -1): 2, ('wednesday', -1): 8, ('laundri', -1): 2, ('underwear', -1): 2, ('bra', -1): 1, ('strewn', -1): 1, ('pillow', -1): 1, ('wahe', -1): 2, ('fathima', -1): 3, ('mmmm', -1): 3, ('push', -1): 4, ('knee', -1): 2, ('expos', -1): 2, ('pull', -1): 4, ('wick', -1): 1, ('sh', -1): 1, ('readyal', -1): 1, ('srt', -1): 1, ('thnk', -1): 7, ('ps3', -1): 1, ('jontin', -1): 1, ('prizeto', 1): 1, ('would', 1): 4, ('nearli', 1): 1, ('ban', 1): 1, ('pen', -1): 1, ('beyond', -1): 3, ('biro', -1): 1, ('master', -1): 4, ('AM', -1): 7, ('nichol', -1): 2, ('09058094594', 1): 1, ('unhappi', -1): 2, ('excus', -1): 10, ('jog', -1): 3, ('0776xxxxxxx', 1): 2, ('18yr', 1): 3, ('09061743811', 1): 1, ('abta', 1): 3, ('326', 1): 2, ('season', -1): 4, ('lark', -1): 1, ('09090900040', 1): 1, ('TO', 1): 5, ('extrem', 1): 1, ('dirti', 1): 1, ('ON', 1): 6, ('IN', 1): 3, ('offic', 1): 1, ('right', 1): 3, ('total', 1): 2, ('privaci', 1): 1, ('sic', 1): 1, ('60p', 1): 1, ('247mp', 1): 1, ('0870753331018', 1): 1, ('videop', 1): 1, ('fone', 1): 6, ('wild', 1): 1, ('ill', 1): 1, ('hurri', 1): 1, ('150prcvd', 1): 1, ('stop2stop', 1): 1, ('Uh', -1): 1, ('sim', -1): 6, ('lim', -1): 1, ('mp3', -1): 2, ('vday', -1): 2, ('parachut', -1): 1, ('80182', 1): 3, ('08452810073', 1): 3, ('detail', 1): 8, ('unlimit', -1): 4, ('therer', -1): 2, ('tabl', -1): 3, ('lambda', -1): 1, ('snowman', -1): 2, ('angel', -1): 1, ('snowbal', -1): 1, ('ello', -1): 1, ('OK', -1): 10, ('ikea', -1): 3, ('al', -1): 4, ('ofic', -1): 1, ('cn', -1): 3, ('oficegot', -1): 1, ('duffer', -1): 1, ('grr', -1): 1, ('prescript', -1): 2, ('pharmaci', -1): 1, ('cook', -1): 7, ('electr', -1): 2, ('08715500022', 1): 1, ('rpl', 1): 1, ('cnl', 1): 1, ('mid', -1): 7, ('fffff', -1): 1, ('kadeem', -1): 3, ('fujitsu', -1): 2, ('lifebook', -1): 1, ('scold', -1): 2, ('zhong', -1): 1, ('se', -1): 4, ('qing', -1): 1, ('46', -1): 1, ('accordingli', -1): 1, ('hypertens', -1): 1, ('mineal', -1): 1, ('wud', -1): 2, ('annoyin', -1): 1, ('08702490080', 1): 1, ('09066358152', 1): 2, ('person', 1): 3, ('prompt', 1): 2, ('vpod', 1): 1, ('carri', -1): 3, ('avatar', -1): 3, ('nigro', -1): 1, ('anyplac', -1): 1, ('upset', -1): 2, ('prioriti', -1): 1, ('constantli', -1): 3, ('ecstasi', -1): 1, ('09090204448', 1): 1, ('mind', 1): 3, ('minapn', 1): 1, ('ls278bb', 1): 1, ('hittng', -1): 1, ('reflex', -1): 1, ('done', 1): 4, ('costa', 1): 7, ('del', 1): 9, ('sol', 1): 7, ('09050090044', 1): 6, ('toclaim', 1): 6, ('pobox334', 1): 6, ('stockport', 1): 6, ('max10min', 1): 6, ('kkwhi', -1): 2, ('lousi', -1): 3, ('cat', -1): 4, ('1010', -1): 1, ('woken', -1): 2, ('hip', -1): 4, ('adewal', -1): 1, ('aka', -1): 2, ('egbon', -1): 1, ('minstand', -1): 1, ('ic', -1): 2, ('mari', -1): 1, ('jane', -1): 2, ('deduct', -1): 1, ('wrk', -1): 3, ('j', -1): 2, ('asshol', -1): 1, ('grab', -1): 1, ('slide', -1): 2, ('09065394973', 1): 1, ('payback', -1): 1, ('31', 1): 1, ('honeybe', -1): 3, ('sweetest', -1): 3, ('waitu', -1): 3, ('havnt', -1): 4, ('moral', -1): 5, ('crack', -1): 3, ('gmgngegn', -1): 3, ('tesco', -1): 1, ('featheri', -1): 1, ('bowa', -1): 1, ('infra', -1): 1, ('nvm', -1): 5, ('gep', -1): 1, ('delhi', -1): 2, ('thinkin', -1): 9, ('where', 1): 1, ('2006', 1): 1, ('fifa', 1): 1, ('held', 1): 1, ('87239', 1): 4, ('boat', -1): 3, ('nake', -1): 6, ('shhhhh', -1): 1, ('relat', -1): 6, ('arul', -1): 1, ('amk', -1): 1, ('09061743810', 1): 1, ('length', -1): 2, ('distract', -1): 2, ('santha', -1): 1, ('corrct', -1): 1, ('dane', -1): 1, ('basket', -1): 1, ('proof', -1): 3, ('rupaul', -1): 1, ('61610', 1): 2, ('help08712400602450p', 1): 2, ('provid', 1): 3, ('tones2youcouk', 1): 2, ('practis', -1): 1, ('curtsey', -1): 1, ('yeh', -1): 2, ('satjust', -1): 1, ('payed2day', -1): 1, ('havbeen', -1): 1, ('rise', -1): 1, ('4mi', -1): 1, ('havebeen', -1): 1, ('preschoolcoordin', -1): 1, ('2I', -1): 1, ('feelingood', -1): 1, ('memori', -1): 2, ('mon', -1): 8, ('themobyo', 1): 1, ('yo', 1): 1, ('yoher', 1): 1, ('open', 1): 1, ('ssindia', -1): 1, ('african', -1): 1, ('soil', -1): 1, ('major', -1): 3, ('role', -1): 7, ('commun', -1): 1, ('outreach', -1): 1, ('mel', -1): 2, ('them', -1): 1, ('birth', -1): 3, ('8lb', -1): 1, ('7oz', -1): 1, ('brilliantli', -1): 1, ('intent', -1): 2, ('visitor', -1): 1, ('choic', -1): 3, ('rule', -1): 4, ('respons', -1): 6, ('bend', -1): 1, ('thia', -1): 1, ('inlud', -1): 1, ('preview', -1): 1, ('great', 1): 11, ('freefon', 1): 4, ('08006344447', 1): 2, ('ambrithmaduraimet', -1): 1, ('dha', -1): 1, ('marrgeremembr', -1): 1, ('kitti', -1): 1, ('shave', -1): 1, ('onward', -1): 3, ('tact', -1): 1, ('skillgame1winaweek', 1): 1, ('age16150ppermesssubscript', 1): 1, ('theatr', -1): 6, ('obvious', -1): 5, ('eggspert', -1): 1, ('potato', -1): 1, ('cram', -1): 1, ('satsgettin', -1): 1, ('447per', -1): 1, ('apolog', -1): 2, ('admit', -1): 1, ('pei', -1): 1, ('boost', -1): 5, ('energi', -1): 7, ('subtoitl', -1): 1, ('simpli', -1): 3, ('jot', -1): 1, ('storelik', -1): 1, ('cereal', -1): 1, ('gari', -1): 4, ('infern', -1): 4, ('affair', -1): 5, ('bold2', -1): 1, ('calicut', -1): 3, ('09094100151', 1): 1, ('cast', 1): 1, ('aom', 1): 2, ('gbp5month', 1): 1, ('box61m60', 1): 1, ('1er', 1): 1, ('thkin', -1): 1, ('nd', -1): 2, ('parco', -1): 2, ('nb', -1): 2, ('resub', -1): 1, ('shadow', -1): 1, ('breadstick', -1): 1, ('ahmad', -1): 6, ('saeed', -1): 1, ('hallaq', -1): 2, ('09066362220', 1): 1, ('box97n7qp', 1): 3, ('redim', -1): 1, ('blueu', -1): 1, ('purpleu', -1): 1, ('pinku', -1): 1, ('orangei', -1): 1, ('lyk', -1): 1, ('greeni', -1): 1, ('yelowi', -1): 1, ('bck', -1): 2, ('blackim', -1): 1, ('Nw', -1): 1, ('giv', -1): 2, ('color', -1): 2, ('eldest', -1): 1, ('drugdeal', -1): 1, ('gender', 1): 2, ('wither', 1): 1, ('eg23f', 1): 1, ('men', 1): 3, ('eg23g', 1): 1, ('sleepwellamptak', -1): 2, ('wondarful', -1): 1, ('messagestext', 1): 1, ('nowus', 1): 1, ('web2mobil', 1): 1, ('txt250com', 1): 1, ('box139', 1): 1, ('la32wu', 1): 1, ('txtx', 1): 1, ('ge', -1): 5, ('hunonbu', -1): 1, ('donyt', -1): 1, ('homebut', -1): 1, ('latelyxxx', -1): 1, ('85233', 1): 1, ('freeringtonerepli', 1): 1, ('mca', -1): 2, ('rich', -1): 3, ('justthought', -1): 1, ('sayhey', -1): 1, ('doinnearli', -1): 1, ('endof', -1): 1, ('offdam', -1): 1, ('nevamindw', -1): 1, ('2hook', -1): 1, ('uwant', -1): 1, ('m8', -1): 1, ('offici', 1): 5, ('flag', 1): 9, ('yer', 1): 4, ('84199', 1): 4, ('eng', 1): 4, ('box39822', 1): 4, ('w111wx', 1): 4, ('yor', -1): 3, ('ownyouv', -1): 1, ('skalli', -1): 1, ('jason', -1): 3, ('soooo', -1): 1, ('provid', -1): 1, ('tming', -1): 2, ('cutest', -1): 1, ('dice', -1): 1, ('art', -1): 5, ('inclus', 1): 5, ('help08700469649', 1): 1, ('box420', 1): 1, ('ip4', 1): 5, ('5we', 1): 5, ('howda', -1): 1, ('en', -1): 1, ('samachara', -1): 1, ('audri', -1): 1, ('autocorrect', -1): 1, ('simul', -1): 1, ('armand', -1): 6, ('andor', -1): 1, ('rub', -1): 2, ('feet', -1): 4, ('lara', -1): 1, ('suppli', -1): 1, ('clever', -1): 2, ('087123002209am7pm', 1): 1, ('hol', 1): 3, ('med', 1): 3, ('stamp', 1): 2, ('self', 1): 2, ('envelop', 1): 2, ('drink', 1): 2, ('Us', 1): 2, ('113', 1): 2, ('bray', 1): 2, ('wicklow', 1): 2, ('eir', 1): 2, ('saturday', 1): 7, ('washob', -1): 1, ('nob', -1): 1, ('nickey', -1): 1, ('platt', -1): 1, ('ryan', -1): 2, ('vikki', -1): 6, ('wwwidewcom', 1): 2, ('skillgam', 1): 2, ('1winaweek', 1): 2, ('150ppermesssubscript', 1): 2, ('mad', -1): 4, ('argh', -1): 3, ('spotti', -1): 1, ('provinc', -1): 1, ('sterl', -1): 1, ('problemfre', -1): 1, ('xam', -1): 2, ('hall', -1): 1, ('manag', -1): 8, ('intha', -1): 1, ('ponnungal', -1): 1, ('ipaditan', -1): 1, ('reject', -1): 1, ('shitload', -1): 2, ('diamond', -1): 3, ('tessypl', -1): 3, ('favor', -1): 3, ('nimyapl', -1): 3, ('shija', -1): 3, ('china', -1): 3, ('noisi', -1): 1, ('needa', -1): 1, ('mcat', -1): 2, ('sfrom', -1): 1, ('manual', -1): 1, ('processit', -1): 1, ('password', -1): 4, ('reset', -1): 1, ('troubleshoot', -1): 1, ('b4u', 1): 1, ('wc', 1): 1, ('2703', 1): 1, ('marsm', 1): 1, ('wwwb4utelecom', 1): 1, ('08717168528', 1): 1, ('strongli', -1): 1, ('sacrific', -1): 2, ('creativ', -1): 2, ('stifl', -1): 1, ('morphin', -1): 3, ('requir', -1): 4, ('stayin', -1): 2, ('strangersaw', -1): 1, ('dave', -1): 1, ('nowstil', -1): 1, ('mrur', -1): 1, ('2getha', -1): 1, ('buffi', 1): 1, ('satisfi', 1): 2, ('home', 1): 2, ('pix', 1): 3, ('qlynnbv', 1): 1, ('help08700621170150p', 1): 1, ('8830', -1): 1, ('cld', -1): 2, ('nosh', -1): 1, ('waaaat', -1): 1, ('lololo', -1): 1, ('comei', -1): 1, ('kindli', -1): 2, ('document', -1): 1, ('stapati', -1): 1, ('mile', -1): 3, ('cuti', -1): 1, ('here', -1): 3, ('wale', -1): 2, ('hill', -1): 5, ('colleagu', -1): 9, ('sed', -1): 5, ('mood', -1): 8, ('latr', -1): 5, ('caken', -1): 5, ('kidz', -1): 4, ('sofa', -1): 8, ('honesti', -1): 1, ('labor', -1): 1, ('shakara', -1): 1, ('beggar', -1): 1, ('london', -1): 2, ('smash', -1): 2, ('dent', -1): 1, ('speed', -1): 4, ('crickit', -1): 1, ('imin', -1): 1, ('towndontmatt', -1): 1, ('urgoin', -1): 1, ('outl8rjust', -1): 1, ('reallyne', -1): 1, ('2docdpleas', -1): 1, ('dontpleas', -1): 1, ('dontignor', -1): 1, ('mycallsu', -1): 1, ('thecd', -1): 1, ('isvimport', -1): 1, ('tome', -1): 1, ('2moro', -1): 3, ('yavnt', -1): 1, ('origin', -1): 1, ('ibuprofen', -1): 1, ('grown', -1): 1, ('chinatown', -1): 1, ('porridg', -1): 1, ('claypot', -1): 1, ('yam', -1): 1, ('fishhead', -1): 1, ('beehoon', -1): 1, ('tok', -1): 2, ('specif', -1): 2, ('jaklin', -1): 1, ('nearbi', -1): 1, ('449month', 1): 1, ('cross', 1): 3, ('ntwk', 1): 4, ('bundl', 1): 1, ('deal', 1): 1, ('also', 1): 3, ('avbl', 1): 1, ('call2optoutj', 1): 1, ('MF', 1): 1, ('ooh', -1): 1, ('4got', -1): 1, ('moseley', -1): 1, ('630', -1): 4, ('thankyou', -1): 1, ('pendingi', -1): 1, ('dayswil', -1): 1, ('thrurespect', -1): 1, ('homecheck', -1): 1, ('affection', -1): 2, ('loveabl', -1): 1, ('etern', -1): 1, ('nobl', -1): 1, ('intim', -1): 1, ('enam', -1): 1, ('textin', -1): 1, ('cousin', -1): 2, ('rajipl', -1): 3, ('nimya', -1): 3, ('leg', -1): 4, ('neck', -1): 2, ('amigo', -1): 1, ('progress', -1): 1, ('continu', -1): 2, ('holi', -1): 2, ('werent', -1): 1, ('arti', -1): 1, ('collag', -1): 1, ('tryin', -1): 1, ('billion', -1): 2, ('2hr', -1): 1, ('walik', -1): 1, ('carton', -1): 1, ('shelv', -1): 1, ('pix', -1): 4, ('08714712379', 1): 1, ('distanc', -1): 3, ('notic', -1): 4, ('mirror', -1): 1, ('ref', 1): 2, ('k718', 1): 1, ('450', 1): 8, ('09065069120', 1): 1, ('jod', -1): 1, ('keri', -1): 1, ('smidgin', -1): 1, ('collegexx', -1): 1, ('beliv', -1): 2, ('empti', -1): 10, ('slot', -1): 2, ('accordin', -1): 1, ('knock', -1): 1, ('sicomo', -1): 1, ('nolistened2th', -1): 1, ('plaid', -1): 1, ('albumquit', -1): 1, ('gdthe', -1): 1, ('air1', -1): 1, ('hilariousalso', -1): 1, ('bought', -1): 5, ('braindanc', -1): 1, ('compofstuff', -1): 1, ('aphex', -1): 1, ('abelu', -1): 1, ('hav2hear', -1): 1, ('itc', -1): 1, ('nelson', -1): 1, ('temp', -1): 3, ('unmit', -1): 1, ('display', -1): 3, ('newspap', -1): 1, ('soup', -1): 3, ('yummmm', -1): 1, ('puzzel', -1): 1, ('ya', 1): 1, ('4goten', 1): 1, ('bout', 1): 1, ('scammer', 1): 1, ('smartthough', 1): 1, ('regular', 1): 1, ('respond', 1): 2, ('prem', 1): 1, ('msgsubscript', 1): 1, ('other', 1): 1, ('no', 1): 1, ('bewar', 1): 1, ('2morro', 1): 1, ('passion', 1): 1, ('B4', 1): 2, ('09099726481', 1): 1, ('dena', 1): 1, ('r836', 1): 1, ('09065069154', 1): 1, ('threat', -1): 1, ('shifad', -1): 1, ('complaint', -1): 2, ('2godid', -1): 1, ('loung', -1): 2, ('lk', -1): 1, ('lov', -1): 2, ('mindi', -1): 1, ('toleratbc', -1): 1, ('comfort', -1): 2, ('splashmobil', 1): 1, ('subscrit', 1): 1, ('300p', 1): 2, ('dust', -1): 1, ('not', 1): 3, ('heard', 1): 3, ('U4', 1): 3, ('rude', 1): 3, ('01223585334', 1): 2, ('wan', 1): 2, ('2C', 1): 2, ('gettin', 1): 2, ('8552', 1): 4, ('2end', 1): 2, ('88877free', 1): 1, ('88877', 1): 1, ('88066', 1): 3, ('lost', 1): 2, ('3pound', 1): 1, ('watchin', -1): 1, ('lifetim', -1): 1, ('meaningless', -1): 1, ('4u', -1): 1, ('brdget', -1): 1, ('jone', -1): 1, ('inev', -1): 1, ('hmmbad', -1): 1, ('newshyp', -1): 1, ('700', -1): 1, ('studio', -1): 1, ('takenonli', -1): 1, ('bedrm900', -1): 1, ('unabl', -1): 3, ('whom', -1): 2, ('velli', -1): 1, ('wkend', -1): 3, ('journey', -1): 3, ('huge', -1): 2, ('upd8', 1): 2, ('2stoptx', 1): 1, ('anni', -1): 2, ('08718738034', 1): 1, ('21870000hi', 1): 2, ('mailbox', 1): 2, ('21', 1): 1, ('09056242159', 1): 2, ('retriev', 1): 2, ('vai', -1): 1, ('hrishi', -1): 2, ('nothin', -1): 2, ('hanger', -1): 1, ('poem', -1): 2, ('tear', -1): 9, ('thatll', -1): 2, ('pub', 1): 2, ('quizwin', 1): 2, ('street', 1): 2, ('duchess', 1): 2, ('cornwal', 1): 2, ('82277unsub', 1): 2, ('008704050406', 1): 2, ('SP', 1): 3, ('arrow', 1): 1, ('08718726971', 1): 1, ('tddnewsletteremc1couk', 1): 1, ('thedailydraw', 1): 1, ('helen', 1): 1, ('dozen', 1): 1, ('prizeswith', 1): 1, ('regular', -1): 2, ('waqt', -1): 1, ('pehl', -1): 1, ('naseeb', -1): 1, ('zyada', -1): 1, ('kisi', -1): 1, ('ko', -1): 1, ('kuch', -1): 1, ('nahi', -1): 2, ('miltazindgi', -1): 1, ('wo', -1): 2, ('hum', -1): 1, ('socht', -1): 1, ('zindgi', -1): 1, ('jeetey', -1): 1, ('wors', -1): 7, ('dan', -1): 2, ('varaya', -1): 1, ('elaya', -1): 1, ('100603', 1): 1, ('09066368753', 1): 1, ('97n7qp', 1): 1, ('anand', -1): 1, ('beach', -1): 1, ('aww', -1): 2, ('nearli', -1): 2, ('deadwel', -1): 1, ('jez', -1): 1, ('iscom', -1): 1, ('todo', -1): 1, ('workand', -1): 1, ('whilltak', -1): 1, ('zogtoriu', -1): 1, ('stare', -1): 2, ('whether', -1): 5, ('financi', -1): 1, ('problemi', -1): 1, ('alian', -1): 1, ('freenokia', 1): 1, ('or2optouthv9d', 1): 1, ('posibl', -1): 1, ('centuri', -1): 1, ('cm', -1): 1, ('frwd', -1): 1, ('unnecessarili', -1): 2, ('restrict', 1): 1, ('buddi', 1): 1, ('sir', 1): 1, ('80082', 1): 3, ('08712402902', 1): 1, ('possess', -1): 5, ('nohe', -1): 1, ('clarif', -1): 1, ('spook', 1): 5, ('halloween', 1): 3, ('08701417012150p', 1): 2, ('logop', 1): 3, ('issu', -1): 6, ('regret', -1): 3, ('footbal', 1): 2, ('ski', 1): 4, ('gamestar', 1): 2, ('250k', 1): 2, ('score', 1): 3, ('nowski', 1): 2, ('88088', 1): 2, ('coimbator', -1): 1, ('resub', 1): 1, ('monoc', 1): 1, ('polyc', 1): 1, ('stream', 1): 1, ('0871212025016', 1): 1, ('tom', -1): 2, ('categori', -1): 1, ('measur', -1): 3, ('ethnic', -1): 1, ('censu', -1): 1, ('transcrib', -1): 1, ('propsd', -1): 2, ('gv', -1): 2, ('lv', -1): 2, ('lttr', -1): 2, ('threw', -1): 2, ('thm', -1): 3, ('aproach', -1): 2, ('dt', -1): 2, ('truck', -1): 2, ('Wn', -1): 3, ('girld', -1): 2, ('hw', -1): 7, ('instantli', -1): 2, ('happili', -1): 2, ('2gthr', -1): 2, ('evrydi', -1): 2, ('msgsd', -1): 2, ('paragon', -1): 2, ('bluff', -1): 2, ('imposs', -1): 3, ('goodmat', -1): 1, ('sari', -1): 2, ('asusual1', -1): 1, ('franyxxxxx', -1): 1, ('batt', -1): 1, ('town', 1): 3, ('adult', 1): 4, ('wwwfullonsmscom', -1): 2, ('Gn', -1): 2, ('pussi', -1): 6, ('becausethey', 1): 1, ('09058098002', 1): 1, ('pobox1', 1): 1, ('w14rg', 1): 1, ('messageno', -1): 3, ('responcewhat', -1): 3, ('happend', -1): 4, ('wiskey', -1): 2, ('brandi', -1): 2, ('rum', -1): 2, ('gin', -1): 2, ('vodka', -1): 3, ('scotch', -1): 2, ('shampain', -1): 2, ('kudiyarasu', -1): 2, ('dhina', -1): 2, ('vaazhthukk', -1): 2, ('gain', -1): 3, ('kg', -1): 2, ('sugar', -1): 4, ('pressur', -1): 1, ('limit', -1): 5, ('dumb', -1): 2, ('thangam', -1): 3, ('okey', -1): 3, ('doke', -1): 1, ('dress', -1): 5, ('neshanthtel', -1): 1, ('YO', -1): 3, ('byatch', -1): 1, ('whassup', -1): 1, ('kay', -1): 2, ('roger', -1): 4, ('CL', -1): 1, ('babi', 1): 2, ('nasti', 1): 1, ('thing', 1): 3, ('filthyguy', 1): 1, ('bitch', 1): 1, ('slo', 1): 1, ('slo4msg', 1): 1, ('chiong', -1): 1, ('christ', -1): 2, ('dialogu', -1): 1, ('cute', -1): 7, ('reltnship', -1): 1, ('wipe', -1): 1, ('timegud', -1): 1, ('solv', -1): 6, ('1hi', -1): 3, ('polic', -1): 7, ('2polic', -1): 3, ('3wife', -1): 3, ('siri', -1): 3, ('4cook', -1): 3, ('5garden', -1): 3, ('veget', -1): 3, ('6housemaid', -1): 3, ('7children', -1): 3, ('8neighbour', -1): 3, ('brilliant', -1): 4, ('pose', -1): 1, ('comb', -1): 1, ('dryer', -1): 1, ('fp', -1): 1, ('scienc', -1): 2, ('Lk', -1): 1, ('madamregret', -1): 1, ('disturbancemight', -1): 1, ('dlf', -1): 1, ('premaricakindli', -1): 1, ('informedrgdsrakheshkerala', -1): 1, ('gotto', 1): 1, ('08702840625', 1): 1, ('comuk220cm2', 1): 1, ('err', -1): 1, ('8pm', -1): 1, ('bloo', -1): 3, ('kbut', -1): 1, ('hitteranyway', -1): 1, ('offlin', -1): 1, ('anjola', -1): 1, ('ithi', 1): 1, ('creat', 1): 1, ('page', 1): 1, ('wwwasjesuscom', 1): 1, ('read', 1): 1, ('wrote', 1): 1, ('opinion', 1): 1, ('txting', -1): 1, ('swiss', -1): 2, ('director', -1): 2, ('lac', -1): 1, ('crore', -1): 2, ('taxless', -1): 1, ('budget', -1): 6, ('lane', -1): 2, ('supli', -1): 1, ('citizen', -1): 3, ('monthli', -1): 2, ('imf', -1): 1, ('block', -1): 2, ('politician', -1): 2, ('corrupt', -1): 1, ('itna', -1): 1, ('karo', -1): 1, ('pura', -1): 1, ('padhegm', -1): 1, ('torrent', -1): 1, ('particularli', -1): 1, ('commit', -1): 1, ('random', -1): 5, ('83370', 1): 1, ('wwwmusictrivianet', 1): 1, ('rightio', -1): 1, ('1148', -1): 1, ('brum', -1): 1, ('donno', -1): 2, ('scorabl', -1): 1, ('star', -1): 3, ('paranoid', -1): 1, ('brin', -1): 1, ('properli', -1): 2, ('kgive', -1): 1, ('onlybettr', -1): 1, ('bsnl', -1): 1, ('offc', -1): 1, ('suganya', -1): 1, ('dessert', -1): 1, ('abeg', -1): 1, ('profit', -1): 1, ('sponsor', -1): 1, ('onum', -1): 1, ('candont', -1): 1, ('poet', -1): 1, ('imaginationmi', -1): 1, ('carso', -1): 1, ('rr', -1): 1, ('famamu', -1): 1, ('pongaldo', -1): 2, ('sri', -1): 2, ('furnitur', -1): 2, ('lock', -1): 3, ('jenn', -1): 1, ('easiest', -1): 1, ('barcelona', -1): 1, ('ru', -1): 5, ('sppok', 1): 1, ('09066612661', 1): 3, ('complementari', 1): 1, ('wa14', 1): 1, ('2px', 1): 1, ('sender', 1): 1, ('kdo', -1): 1, ('daurgent', -1): 1, ('pansi', -1): 1, ('jungl', -1): 1, ('kanji', -1): 1, ('drinkpa', -1): 1, ('sr', -1): 1, ('drizzl', -1): 1, ('shove', -1): 3, ('drama', -1): 1, ('plsi', -1): 1, ('struggl', -1): 1, ('strang', -1): 2, ('placeno', -1): 1, ('ego', -1): 1, ('necess', -1): 1, ('gowait', -1): 1, ('reppurcuss', -1): 1, ('releas', -1): 3, ('cosign', -1): 1, ('hvae', 1): 1, ('09061701444', 1): 1, ('24', 1): 2, ('acl03530150pm', 1): 2, ('hcl', -1): 1, ('fresher', -1): 1, ('processexcel', -1): 1, ('neededsalari', -1): 1, ('upto', -1): 2, ('mssuman', -1): 1, ('telephon', -1): 2, ('indyarockscom', -1): 2, ('resum', -1): 3, ('datoday', -1): 2, ('direct', -1): 2, ('US', -1): 1, ('bid', -1): 1, ('restuwud', -1): 1, ('reliant', -1): 1, ('fwiw', -1): 1, ('afford', -1): 1, ('kanowhr', -1): 1, ('maga', -1): 3, ('sq825', -1): 1, ('arriv', -1): 3, ('yunni', -1): 2, ('citylink', -1): 1, ('Er', -1): 4, ('prop', -1): 1, ('pleasant', -1): 1, ('statement', -1): 2, ('6230', 1): 1, ('83383', 1): 2, ('pobox11414tcrw1', 1): 1, ('bognor', -1): 1, ('splendid', -1): 1, ('yesim', -1): 1, ('ktv', -1): 1, ('misplac', -1): 1, ('mmmmm', -1): 2, ('medicin', -1): 3, ('begun', -1): 1, ('registr', -1): 1, ('perman', -1): 1, ('resid', -1): 1, ('plenti', -1): 6, ('clair', -1): 1, ('rel', -1): 2, ('deliv', -1): 5, ('risk', -1): 2, ('benefit', -1): 1, ('amount', -1): 5, ('6month', -1): 1, ('hmmmhow', -1): 1, ('accumul', -1): 1, ('program', -1): 2, ('belong', -1): 2, ('herwho', -1): 1, ('fate', -1): 1, ('shoranur', -1): 1, ('incid', -1): 3, ('fuell', -1): 1, ('prior', -1): 1, ('grief', -1): 1, ('violenc', -1): 3, ('against', -1): 1, ('goodenviron', -1): 2, ('terrif', -1): 2, ('text82228', 1): 1, ('wwwtxt82228com', 1): 1, ('infotxt82228couk', 1): 1, ('honestli', -1): 1, ('promptli', -1): 1, ('burnt', -1): 1, ('advic', -1): 5, ('mini', 1): 1, ('snap', 1): 1, ('quizclub', 1): 1, ('80122300pwk', 1): 1, ('sprwm', 1): 1, ('ph08704050406', 1): 1, ('brought', 1): 2, ('gmw', 1): 1, ('someplac', -1): 1, ('pressi', -1): 1, ('Dr', -1): 1, ('superior', -1): 2, ('ultim', -1): 1, ('tor', -1): 1, ('motiv', -1): 3, ('tui', -1): 1, ('achiev', -1): 1, ('korli', -1): 1, ('dock', -1): 2, ('roll', -1): 1, ('newscast', -1): 1, ('dabbl', -1): 1, ('flute', -1): 1, ('behind', -1): 6, ('wheel', -1): 1, ('bx420', 1): 4, ('amaz', 1): 3, ('picsfree1', 1): 2, ('vid', 1): 1, ('keyword', 1): 1, ('ruin', -1): 4, ('erm', -1): 3, ('contract', -1): 2, ('the4th', -1): 1, ('octob', -1): 1, ('ten', 1): 1, ('83435', 1): 1, ('elabor', -1): 2, ('safeti', -1): 1, ('aspect', -1): 1, ('tarot', 1): 1, ('85555', 1): 1, ('after', 1): 1, ('depart', -1): 2, ('oursso', -1): 1, ('youani', -1): 1, ('hr', -1): 10, ('conform', -1): 2, ('horniest', 1): 1, ('instruct', 1): 2, ('nytec2a3lpmsg150p', 1): 1, ('member', -1): 2, ('ovarian', -1): 1, ('cyst', -1): 1, ('Bc', -1): 1, ('shrink', -1): 1, ('onit', -1): 1, ('timin', -1): 1, ('ape', -1): 1, ('death', -1): 3, ('ibm', -1): 1, ('hp', -1): 1, ('toshiba', -1): 2, ('gosh', -1): 1, ('spose', -1): 1, ('usualiam', -1): 3, ('rimac', -1): 1, ('arestaur', -1): 1, ('squid', -1): 1, ('1030', -1): 3, ('dosometh', -1): 1, ('ucal', -1): 1, ('wrki', -1): 1, ('dabook', -1): 1, ('nite2', -1): 1, ('sam', -1): 2, ('eachoth', -1): 1, ('luckili', -1): 1, ('madam', -1): 2, ('knock', 1): 2, ('whose', 1): 1, ('wwwtklscom', 1): 1, ('stoptxtstop', 1): 3, ('150week', 1): 2, ('innoc', -1): 2, ('mental', -1): 2, ('smoothli', -1): 1, ('challeng', -1): 3, ('2marrow', -1): 2, ('hon', -1): 3, ('pple700', -1): 1, ('900', -1): 2, ('nightsexcel', -1): 1, ('breakfast', -1): 1, ('hamper', -1): 1, ('cc100pmin', 1): 1, ('realiti', -1): 1, ('daal', -1): 1, ('0870737910216yr', 1): 1, ('150wk', 1): 1, ('unni', -1): 1, ('rechargerakhesh', -1): 1, ('lack', -1): 1, ('particular', -1): 1, ('dramastorm', -1): 1, ('forfeit', -1): 1, ('digi', -1): 1, ('9pm', -1): 2, ('fab', -1): 2, ('coupla', -1): 1, ('077xxx', 1): 1, ('09066362206', 1): 1, ('sundayish', -1): 1, ('held', -1): 1, ('prasad', -1): 1, ('tiwari', -1): 2, ('rcbbattl', -1): 1, ('bang', -1): 2, ('kochi', -1): 1, ('cancer', -1): 6, ('checkup', -1): 1, ('pap', -1): 2, ('smear', -1): 1, ('gobi', -1): 1, ('pandi', -1): 1, ('4w', -1): 1, ('technolog', -1): 1, ('todayh', -1): 1, ('Em', -1): 1, ('olowoyey', -1): 1, ('uscedu', -1): 1, ('argentina', -1): 1, ('secretari', -1): 2, ('taxt', -1): 1, ('massagetiepo', -1): 1, ('lool', -1): 1, ('shake', -1): 2, ('booti', -1): 3, ('timeslil', -1): 1, ('busyi', -1): 1, ('scarcasim', -1): 1, ('naal', -1): 1, ('eruku', -1): 1, ('chikkuwat', -1): 1, ('W4', 1): 1, ('5wq', 1): 1, ('norm', 1): 2, ('bro', -1): 6, ('amongst', -1): 2, ('sensibl', -1): 1, ('park', 1): 1, ('69696', 1): 2, ('nyt', 1): 1, ('3lp', 1): 2, ('150msg', 1): 2, ('hit', 1): 3, ('alsoor', -1): 1, ('danalla', -1): 1, ('obedi', -1): 1, ('ft', -1): 1, ('needi', -1): 1, ('pout', -1): 3, ('stomp', -1): 3, ('northampton', -1): 2, ('abj', -1): 2, ('serv', -1): 3, ('playng', -1): 1, ('includ', 1): 2, ('1mcflyall', 1): 1, ('Ab', 1): 1, ('sara', 1): 1, ('jorgeshock', 1): 1, ('smithswitch', 1): 1, ('landlin', -1): 2, ('anna', -1): 2, ('nagar', -1): 2, ('yupz', -1): 1, ('modelsoni', -1): 1, ('ericson', -1): 1, ('der', -1): 1, ('luk', -1): 1, ('modl', -1): 1, ('cheesi', -1): 1, ('frosti', -1): 1, ('witin', -1): 1, ('fan', 1): 1, ('str', 1): 1, ('0870141701216', 1): 1, ('4txt120p', 1): 1, ('europ', 1): 1, ('10th', 1): 1, ('sept', 1): 3, ('09050000555', 1): 1, ('ba128nnfwfly150ppm', 1): 1, ('nudist', -1): 1, ('theme', -1): 2, ('YM', -1): 3, ('pump', -1): 1, ('petrol', -1): 2, ('feb', -1): 5, ('valu', -1): 6, ('ignor', -1): 6, ('evr', -1): 2, ('signal', -1): 1, ('neither', -1): 2, ('unusu', -1): 1, ('hug', -1): 7, ('snog', -1): 2, ('west', -1): 2, ('palm', -1): 1, ('fastest', 1): 2, ('grow', 1): 2, ('83021', 1): 1, ('state', -1): 1, ('tariff', 1): 6, ('and', 1): 3, ('2stoptxt', 1): 3, ('perpetu', -1): 1, ('DD', -1): 1, ('steam', -1): 2, ('reg', -1): 2, ('pract', -1): 1, ('flung', -1): 1, ('housemaid', -1): 4, ('januari', -1): 6, ('public', -1): 4, ('govtinstituit', -1): 4, ('closedinclud', -1): 4, ('officeunderstand', -1): 3, ('process', -1): 4, ('justbeen', -1): 1, ('overa', -1): 1, ('mush', -1): 1, ('tund', -1): 1, ('mission', -1): 1, ('luxuri', 1): 2, ('canari', 1): 2, ('island', 1): 2, ('20m12aq', 1): 1, ('lux', 1): 1, ('jame', 1): 1, ('28', 1): 5, ('eh74rr', 1): 1, ('sleepi', -1): 2, ('dare', -1): 4, ('ben', -1): 2, ('mag', -1): 2, ('avo', -1): 1, ('middl', -1): 3, ('chachi', -1): 1, ('Pl', -1): 1, ('tiz', -1): 1, ('kanagu', -1): 1, ('brat', -1): 1, ('diwali', -1): 2, ('tick', -1): 6, ('nowonion', -1): 1, ('derp', -1): 1, ('abus', -1): 1, ('lipo', -1): 1, ('easter', -1): 1, ('netflix', -1): 1, ('thgt', -1): 2, ('clash', -1): 1, ('arr', -1): 1, ('oscar', -1): 1, ('rebtel', -1): 1, ('firefox', -1): 1, ('user', -1): 1, ('lower', -1): 2, ('pin', -1): 5, ('variou', -1): 2, ('women', 1): 1, ('instantli', 1): 1, ('69969', 1): 1, ('bcmsfwc1n3xx', 1): 1, ('burger', 1): 2, ('king', 1): 3, ('footi', 1): 1, ('stadium', 1): 1, ('larg', 1): 1, ('super', 1): 3, ('cocacola', 1): 1, ('walk', 1): 1, ('littl', 1): 3, ('child', 1): 1, ('afraid', 1): 1, ('dark', 1): 1, ('becom', 1): 1, ('teenag', 1): 1, ('telugutht', -1): 1, ('gudk', -1): 2, ('mittelschmertz', -1): 1, ('paracetamol', -1): 1, ('salespe', -1): 1, ('cthen', -1): 1, ('enuff', -1): 3, ('conclus', -1): 1, ('pg', -1): 3, ('cover', -1): 7, ('atyour', -1): 1, ('bin', 1): 1, ('instant', 1): 1, ('08715203028', 1): 1, ('9th', 1): 1, ('rugbi', -1): 1, ('affidavit', -1): 1, ('twigg', -1): 1, ('St', -1): 2, ('divis', -1): 2, ('courtroom', -1): 1, ('creep', -1): 2, ('freemsgfav', 1): 1, ('tonesrepli', 1): 1, ('lil', -1): 2, ('golden', -1): 1, ('2u', 1): 1, ('breathe1', 1): 1, ('crazyin', 1): 1, ('sleepingwith', 1): 1, ('finest', 1): 1, ('ymca', 1): 1, ('getzedcouk', 1): 1, ('pobox365o4w45wq', 1): 1, ('wtc', -1): 1, ('weiyi', -1): 1, ('privat', -1): 1, ('properti', -1): 2, ('interflora', 1): 2, ('it', 1): 5, ('late', 1): 1, ('christma', 1): 1, ('505060', 1): 1, ('midnight', 1): 1, ('godtaken', -1): 1, ('teethi', -1): 1, ('romcapspam', 1): 1, ('everyon', 1): 2, ('presenc', 1): 1, ('sinc', 1): 2, ('warm', 1): 2, ('outgo', 1): 1, ('bring', 1): 2, ('breath', 1): 1, ('maggi', -1): 1, ('mee', -1): 1, ('08712103738', 1): 1, ('nasti', -1): 1, ('cough', -1): 2, ('com', -1): 1, ('youv', 1): 4, ('09058099801', 1): 2, ('b4190604', 1): 2, ('7876150ppm', 1): 2, ('bbdpooja', -1): 1, ('pimpleseven', -1): 1, ('blackand', -1): 1, ('sweatter', -1): 1, ('nicenicehow', -1): 2, ('ambiti', -1): 1, ('miiiiiiissssssssss', -1): 1, ('tunji', -1): 1, ('iZ', -1): 1, ('yellow', -1): 2, ('misscal', -1): 1, ('frndz', -1): 1, ('6miss', -1): 1, ('freemessag', 1): 1, ('jamsterget', 1): 1, ('crazi', 1): 5, ('frog', 1): 1, ('sound', 1): 2, ('mad1', 1): 1, ('mad2', 1): 1, ('88888', 1): 2, ('gbpweek', 1): 1, ('BE', 1): 2, ('realiti', 1): 2, ('wipro', -1): 1, ('tall', -1): 1, ('doubt', -1): 2, ('handl', -1): 4, ('note', -1): 5, ('aveng', -1): 1, ('japanes', -1): 2, ('proverb', -1): 2, ('itu', -1): 2, ('him', -1): 3, ('itleav', -1): 2, ('strike', -1): 3, ('toss', -1): 1, ('gudni8', -1): 1, ('dancin', -1): 1, ('cinema', -1): 5, ('explicitli', -1): 1, ('nora', -1): 1, ('smith', -1): 1, ('gayl', -1): 1, ('crucifi', -1): 1, ('freedom', -1): 2, ('vs', -1): 1, ('cedar', -1): 1, ('twenti', -1): 2, ('durham', -1): 1, ('seat', -1): 3, ('porn', 1): 4, ('69855', 1): 1, ('50p', 1): 3, ('stopbcm', 1): 1, ('SF', 1): 1, ('paint', -1): 2, ('printer', -1): 1, ('groovi', -1): 2, ('harish', -1): 1, ('acnt', -1): 1, ('nowadayslot', -1): 1, ('showroomsc', -1): 1, ('shape', -1): 1, ('doinat', -1): 1, ('callon', -1): 1, ('low', -1): 3, ('swatch', -1): 2, ('kkyesterday', -1): 1, ('ganesh', -1): 2, ('pdatenow', 1): 1, ('call2optoutyhl', 1): 1, ('configur', -1): 1, ('orang', -1): 3, ('anal', -1): 1, ('sex', -1): 2, ('pear', -1): 1, ('helloooo', -1): 2, ('summer', -1): 1, ('such', -1): 1, ('oooooh', -1): 1, ('09058094454', 1): 1, ('thatnow', -1): 1, ('yet', 1): 2, ('packag', 1): 1, ('54', 1): 2, ('resubmit', 1): 1, ('expiri', 1): 1, ('2geva', -1): 2, ('mint', -1): 1, ('uxxxx', -1): 1, ('human', -1): 2, ('studyn', -1): 1, ('wuld', -1): 2, ('everyboy', -1): 1, ('xxxxxxxx', -1): 1, ('532', -1): 1, ('924', -1): 1, ('863', -1): 1, ('725', -1): 1, ('brilliant1thingi', -1): 1, ('answr', -1): 1, ('liquor', -1): 1, ('flake', -1): 3, ('loko', -1): 1, ('730', -1): 4, ('tm', -1): 4, ('fireplac', -1): 1, ('icon', -1): 1, ('08712400200', 1): 1, ('fifth', -1): 1, ('woozl', -1): 1, ('08718723815', 1): 1, ('cheaper', -1): 3, ('machin', -1): 1, ('sake', -1): 2, ('my', -1): 1, ('bruce', -1): 2, ('fletcher', -1): 1, ('27603', 1): 1, ('08714714011', 1): 1, ('cozi', -1): 1, ('nightnobodi', -1): 1, ('buzzzz', -1): 1, ('chest', -1): 2, ('trend', -1): 1, ('pro', -1): 1, ('con', -1): 1, ('brief', -1): 2, ('descript', -1): 1, ('nuclear', -1): 1, ('fusion', -1): 1, ('histori', -1): 3, ('iter', -1): 1, ('jet', -1): 1, ('nonenowher', -1): 1, ('ikno', -1): 1, ('doesdiscountshitinnit', -1): 1, ('jabo', -1): 1, ('abi', -1): 4, ('drive', 1): 2, ('anyon', 1): 1, ('slower', 1): 1, ('idiot', 1): 1, ('faster', 1): 1, ('maniac', 1): 1, ('hadya', -1): 1, ('sapna', -1): 1, ('maneg', -1): 1, ('yday', -1): 1, ('hogidhechinnu', -1): 1, ('swalpa', -1): 1, ('agidhan', -1): 1, ('sport', -1): 2, ('typelyk', -1): 1, ('footblcrckt', -1): 1, ('Ma', -1): 1, ('swell', -1): 1, ('tim', -1): 1, ('bollox', -1): 1, ('tol', -1): 1, ('ingredi', -1): 1, ('poci', -1): 1, ('bell', -1): 3, ('non', -1): 1, ('call2optout4qf2', 1): 1, ('senor', -1): 1, ('giggl', -1): 1, ('person2di', -1): 1, ('nvq', -1): 1, ('profession', 1): 1, ('tiger', 1): 1, ('wood', 1): 1, ('reboot', -1): 3, ('grinder', -1): 1, ('pt2', 1): 2, ('youkwher', -1): 1, ('understood', -1): 3, ('bottom', -1): 3, ('knowh', -1): 1, ('disconnect', -1): 3, ('onluy', -1): 1, ('offcampu', -1): 1, ('improv', 1): 2, ('msgs150p', 1): 2, ('riley', -1): 1, ('Ew', -1): 1, ('howv', -1): 1, ('lingo', -1): 1, ('400minscal', 1): 1, ('call2optoutj5q', 1): 1, ('medont', -1): 1, ('lm', -1): 1, ('Hm', -1): 2, ('69200', 1): 1, ('hr', 1): 1, ('chrgd50p', 1): 1, ('2exit', 1): 1, ('salon', -1): 2, ('sankranti', -1): 1, ('republ', -1): 1, ('shivratri', -1): 1, ('ugadi', -1): 1, ('independ', -1): 2, ('friendshipmotherfatherteacherschildren', -1): 1, ('festiv', -1): 1, ('dasara', -1): 1, ('rememberi', -1): 1, ('theseyour', -1): 1, ('raj', -1): 2, ('lifei', -1): 1, ('daywith', -1): 1, ('somewheresomeon', -1): 1, ('tosend', -1): 1, ('selfless', -1): 1, ('initi', -1): 1, ('tallent', -1): 1, ('usc', -1): 2, ('portal', -1): 1, ('dont4get2text', -1): 1, ('lennon', -1): 1, ('crab', -1): 3, ('shoreth', -1): 1, ('wave', -1): 2, ('footprint', -1): 3, ('fox', -1): 1, ('frndsship', -1): 1, ('dwn', -1): 1, ('slaaaaav', -1): 1, ('summon', -1): 1, ('3365', -1): 1, ('appendix', -1): 1, ('HM', -1): 1, ('slob', -1): 1, ('click', -1): 2, ('gudnit', -1): 1, ('topicsorri', -1): 1, ('webpag', -1): 1, ('yeesh', -1): 1, ('ton', 1): 1, ('hunk', 1): 1, ('httpgotbabescouk', 1): 1, ('gopalettan', -1): 1, ('particip', -1): 1, ('admin', -1): 2, ('kkfrom', -1): 1, ('abroad', 1): 1, ('lone', 1): 1, ('xxsp', 1): 1, ('visionsmscom', 1): 2, ('stopcost', 1): 1, ('08712400603', 1): 1, ('agent', 1): 1, ('load', 1): 1, ('goodi', 1): 1, ('mat', 1): 1, ('Ay', -1): 1, ('satü', -1): 1, ('andro', -1): 2, ('isaiahd', -1): 1, ('foot', -1): 2, ('peni', -1): 2, ('expert', -1): 1, ('ssi', -1): 1, ('thinl', -1): 1, ('sachinjust', -1): 1, ('importantli', -1): 1, ('tightli', -1): 1, ('wnevr', -1): 1, ('fal', -1): 2, ('vth', -1): 2, ('yen', -1): 1, ('madodu', -1): 1, ('nav', -1): 1, ('pretsorginta', -1): 1, ('nammanna', -1): 1, ('pretsovru', -1): 1, ('alwa', -1): 1, ('eveb', -1): 2, ('lord', 1): 1, ('OF', 1): 2, ('ringsreturn', 1): 1, ('nowrepli', 1): 1, ('lotr', 1): 2, ('june', 1): 1, ('soundtrack', 1): 1, ('stdtxtrate', 1): 1, ('homelov', -1): 1, ('staffsciencenusedusgphyhcmkteachingpc1323', -1): 1, ('emigr', -1): 1, ('olol', -1): 1, ('stagwood', -1): 1, ('winterston', -1): 1, ('victor', -1): 1, ('jp', -1): 1, ('mofo', -1): 1, ('pathaya', -1): 1, ('enketa', -1): 1, ('maraikara', -1): 1, ('priest', -1): 1, ('intrud', -1): 1, ('walkabout', -1): 1, ('announc', -1): 1, ('28th', 1): 1, ('feb', 1): 1, ('06', 1): 1, ('08708034412', 1): 2, ('prove', -1): 3, ('footi', -1): 1, ('blow', -1): 2, ('phil', -1): 1, ('nevil', -1): 1, ('abbey', -1): 1, ('auctionpunj', -1): 1, ('str8', 1): 1, ('classic', 1): 1, ('nokia150p', 1): 1, ('poly200p', 1): 1, ('thur', -1): 3, ('pre', -1): 1, ('sack', -1): 2, ('lookatm', 1): 2, ('clip', 1): 1, ('35p', 1): 1, ('better', 1): 1, ('mmsto', 1): 1, ('32323', 1): 1, ('lifethi', -1): 1, ('twat', -1): 1, ('dungere', -1): 1, ('deck', -1): 1, ('punch', -1): 1, ('mention', -1): 2, ('im', 1): 1, ('vat', 1): 1, ('cancel', 1): 5, ('onlydon', -1): 1, ('grl', -1): 4, ('hogolo', -1): 1, ('gold', -1): 1, ('kodstini', -1): 1, ('agalla', -1): 2, ('madstini', -1): 1, ('hogli', -1): 1, ('mutai', -1): 1, ('eerulli', -1): 1, ('kodthini', -1): 1, ('kano', -1): 3, ('thasa', -1): 1, ('mess', -1): 3, ('upyeh', -1): 1, ('shudvetold', -1): 1, ('urgran', -1): 1, ('knowneway', -1): 1, ('illspeak', -1): 1, ('u2moro', -1): 1, ('tex', -1): 1, ('mecaus', -1): 1, ('werebor', -1): 1, ('okden', -1): 1, ('hunni', -1): 3, ('uin', -1): 1, ('WK', -1): 2, ('satsound', -1): 1, ('likeyour', -1): 1, ('gr8fun', -1): 1, ('countinlot', -1): 1, ('xxxxx', -1): 1, ('L', -1): 2, ('count', -1): 3, ('out', -1): 7, ('hdd', -1): 1, ('mysteri', -1): 1, ('describ', -1): 1, ('09053750005', 1): 1, ('310303', 1): 1, ('08718725756', 1): 1, ('140ppm', 1): 1, ('asu', -1): 1, ('randomli', -1): 1, ('reformat', -1): 1, ('otsid', -1): 2, ('leu', -1): 1, ('plumber', -1): 1, ('tape', -1): 3, ('wrench', -1): 2, ('httpwwwetlpcoukreward', 1): 1, ('appeal', -1): 1, ('thriller', -1): 1, ('830', -1): 2, ('size', -1): 3, ('eleph', -1): 1, ('um', -1): 1, ('cr', -1): 1, ('pooki', -1): 1, ('wouldnt', -1): 5, ('youdearwith', -1): 1, ('loverakhesh', -1): 1, ('nri', -1): 1, ('08712101358', 1): 2, ('X2', -1): 1, ('uniqu', -1): 1, ('deserv', -1): 1, ('tight', -1): 2, ('88039skilgmetscs087147403231winawkage16', 1): 1, ('diddi', -1): 1, ('toothpast', -1): 1, ('av', -1): 1, ('oneta', -1): 1, ('poke', -1): 1, ('everyday', -1): 2, ('deam', -1): 1, ('curiou', -1): 2, ('condit', -1): 1, ('coccoon', -1): 1, ('auto', -1): 3, ('asap', -1): 4, ('yeahand', -1): 1, ('newquaysend', -1): 1, ('postcard', -1): 2, ('while', -1): 1, ('goneu', -1): 1, ('1im', -1): 1, ('talkin', -1): 1, ('boutxx', -1): 1, ('divorc', -1): 1, ('bread', -1): 2, ('windi', -1): 1, ('09066358361', 1): 1, ('y87', 1): 1, ('mahal', -1): 2, ('knowthi', -1): 1, ('tirunelvai', -1): 1, ('dusk', -1): 1, ('puzzl', -1): 1, ('x29', 1): 1, ('09065989180', 1): 1, ('stair', -1): 1, ('phew', -1): 1, ('thangamit', -1): 1, ('redr', -1): 2, ('bloodblood', -1): 2, ('heartheart', -1): 2, ('1u', -1): 2, ('2u', -1): 3, ('3u', -1): 2, ('4some1', -1): 2, ('recycl', -1): 1, ('toledo', -1): 1, ('ding', -1): 2, ('tai', -1): 1, ('feng', -1): 1, ('swimsuit', -1): 1, ('allow', -1): 4, ('necessari', -1): 2, ('watev', -1): 2, ('squeeeeez', -1): 1, ('lik', -1): 5, ('frndshp', -1): 1, ('luvd', -1): 1, ('themp', -1): 1, ('volcano', -1): 1, ('erupt', -1): 1, ('aris', -1): 2, ('hurrican', -1): 1, ('sway', -1): 1, ('aroundn', -1): 1, ('disast', -1): 1, ('lighter', -1): 1, ('7pm', -1): 1, ('kkit', -1): 1, ('goodwhen', -1): 1, ('lasagna', -1): 1, ('woould', -1): 1, ('08718726978', 1): 1, ('citi', -1): 1, ('drove', -1): 1, ('shore', -1): 1, ('deu', -1): 2, ('44', 1): 1, ('7732584351', 1): 1, ('3510i', 1): 5, ('deliveredtomorrow', 1): 3, ('tap', -1): 2, ('spile', -1): 2, ('broad', -1): 2, ('canal', -1): 2, ('engin', -1): 2, ('onedg', -1): 1, ('raviyog', -1): 1, ('peripher', -1): 1, ('bhayandar', -1): 1, ('east', -1): 2, ('sunoco', -1): 1, ('howard', -1): 2, ('plate', -1): 1, ('leftov', -1): 1, ('starv', -1): 2, ('cheat', -1): 4, ('fatti', -1): 1, ('badrith', -1): 1, ('chennaii', -1): 1, ('usno', -1): 1, ('owe', -1): 2, ('checkin', -1): 1, ('numberso', -1): 1, ('ittb', -1): 1, ('armenia', -1): 1, ('swann', -1): 1, ('09058097189', 1): 1, ('09061221066', 1): 4, ('fromm', 1): 4, ('330', -1): 1, ('1120', -1): 1, ('1205', -1): 1, ('wyli', -1): 4, ('justifi', -1): 1, ('med', -1): 7, ('in2', -1): 2, ('5226', 1): 1, ('hava', 1): 1, ('1131', 1): 1, ('rct', 1): 1, ('thnq', 1): 1, ('adrian', 1): 1, ('rgd', 1): 1, ('vatian', 1): 1, ('babysit', -1): 2, ('itll', -1): 1, ('gonnamissu', -1): 1, ('muchi', -1): 2, ('butther', -1): 1, ('abouta', -1): 1, ('merememberin', -1): 1, ('asther', -1): 1, ('ofsi', -1): 1, ('breakin', -1): 1, ('yaxx', -1): 1, ('Ee', -1): 1, ('poortiyagi', -1): 1, ('odalebeku', -1): 1, ('hanumanji', -1): 1, ('1hanuman', -1): 1, ('2bajarangabali', -1): 1, ('3maruti', -1): 1, ('4pavanaputra', -1): 1, ('5sankatmochan', -1): 1, ('6ramaduth', -1): 1, ('7mahav', -1): 1, ('ee', -1): 1, ('janarig', -1): 1, ('ivatt', -1): 1, ('kalisidar', -1): 1, ('olag', -1): 1, ('ondu', -1): 1, ('keluviri', -1): 1, ('maretar', -1): 1, ('ind', -1): 1, ('dodda', -1): 1, ('problum', -1): 1, ('nalli', -1): 1, ('siguviri', -1): 1, ('idu', -1): 1, ('matra', -1): 1, ('neglet', -1): 1, ('OR', -1): 5, ('easili', -1): 2, ('into', -1): 1, ('ijust', -1): 1, ('opp', -1): 1, ('gei', -1): 1, ('tron', -1): 1, ('dl', -1): 1, ('selfish', -1): 1, ('spif', -1): 1, ('workag', -1): 1, ('fml', -1): 2, ('supos', -1): 1, ('therexx', -1): 1, ('embassi', -1): 1, ('lightli', -1): 1, ('checkbox', -1): 1, ('hardcor', -1): 1, ('sac', -1): 2, ('hundredh', -1): 1, ('batsman', -1): 1, ('yetti', -1): 1, ('approx', -1): 1, ('21', -1): 1, ('jiayin', -1): 2, ('09050000928', 1): 1, ('pobox45w2tg150p', 1): 2, ('forgotten', -1): 2, ('revers', -1): 2, ('mathemat', -1): 2, ('2waxsto', -1): 2, ('yifeng', -1): 1, ('theyll', -1): 1, ('slurp', -1): 1, ('minimum', -1): 2, ('3mile', -1): 1, ('ing', -1): 1, ('brainless', -1): 1, ('dolld', -1): 1, ('vehicl', -1): 1, ('sariyag', -1): 1, ('madok', -1): 1, ('barolla', -1): 1, ('07090201529', 1): 1, ('postpon', -1): 1, ('elain', -1): 2, ('tiim', -1): 1, ('etc', -1): 6, ('afternon', -1): 1, ('resiz', -1): 1, ('09066364349', 1): 1, ('lose', 1): 1, ('box434sk38wp150ppm18', 1): 1, ('oppos', -1): 1, ('drunken', -1): 2, ('msgwe', 1): 1, ('mistak', 1): 1, ('shortcod', 1): 1, ('83332pleas', 1): 1, ('08081263000', 1): 1, ('refundedthi', 1): 1, ('somerset', -1): 1, ('overtim', -1): 1, ('nigpun', -1): 1, ('dismissi', -1): 1, ('screwd', -1): 1, ('08712402972', 1): 1, ('bull', -1): 1, ('float', -1): 1, ('09058095201', 1): 1, ('heehe', -1): 1, ('arithmet', -1): 1, ('percentag', -1): 1, ('An', -1): 3, ('amaz', -1): 3, ('chillaxin', -1): 1, ('iknow', -1): 1, ('wellda', -1): 1, ('peril', -1): 1, ('studentfinanci', -1): 1, ('crisisspk', -1): 1, ('monster', -1): 1, ('ia', -1): 2, ('obey', -1): 1, ('uhhhhrmm', -1): 1, ('mb', -1): 2, ('never', 1): 1, ('much', 1): 1, ('came', 1): 1, ('made', 1): 1, ('truli', 1): 3, ('wont', 1): 3, ('gbpsm', 1): 1, ('600', 1): 2, ('400', 1): 7, ('deltomorrow', 1): 1, ('09066368470', 1): 1, ('begin', 1): 1, ('24m', 1): 1, ('1month', 1): 1, ('smartcal', 1): 1, ('68866', 1): 1, ('subscriptn3gbpwk', 1): 1, ('08448714184', 1): 1, ('stoptxt', 1): 1, ('landlineonli', 1): 1, ('mth', 1): 4, ('cameravideo', 1): 2, ('save', 1): 3, ('textsweekend', 1): 1, ('callback', 1): 3, ('orno', 1): 1, ('fink', 1): 1, ('met', 1): 1, ('09099726553', 1): 1, ('promis', 1): 1, ('carli', 1): 1, ('1minmobsmor', 1): 1, ('lkpobox177hp51fl', 1): 1, ('youphon', -1): 1, ('athom', -1): 1, ('youwanna', -1): 1, ('jack', -1): 1, ('sayask', -1): 1, ('pretend', -1): 1, ('hypotheticalhuagauahahuagahyuhagga', -1): 1, ('braini', -1): 1, ('info', -1): 2, ('occas', -1): 1, ('reflect', -1): 1, ('desir', -1): 2, ('affectionsamp', -1): 1, ('tradit', -1): 1, ('cantdo', -1): 1, ('anythingtomorrow', -1): 1, ('mypar', -1): 1, ('aretak', -1): 1, ('outfor', -1): 1, ('katexxx', -1): 1, ('level', -1): 1, ('gate', -1): 1, ('uh', -1): 1, ('movi', 1): 2, ('89105', 1): 1, ('film', 1): 4, ('ts', 1): 1, ('cs', 1): 1, ('lingeri', 1): 1, ('wwwbridalpetticoatdreamscouk', 1): 1, ('superb', 1): 1, ('weddingfriend', 1): 1, ('board', -1): 1, ('overh', -1): 1, ('reslov', -1): 1, ('inst', -1): 1, ('pend', -1): 2, ('8o', -1): 1, ('western', -1): 1, ('outta', -1): 4, ('nowaday', -1): 1, ('notixiqu', -1): 1, ('laxinorf', -1): 1, ('bambl', -1): 1, ('entrop', -1): 1, ('oblising', -1): 1, ('opt', -1): 1, ('masteriast', -1): 1, ('amplikat', -1): 1, ('fidalf', -1): 1, ('champlaxig', -1): 1, ('atroci', -1): 1, ('wotz', -1): 1, ('junna', -1): 1, ('knicker', 1): 1, ('beg', 1): 1, ('01223585236', 1): 1, ('XX', 1): 1, ('nikiyu4net', 1): 1, ('a30', -1): 1, ('divert', -1): 1, ('wadebridgei', -1): 1, ('vill', -1): 1, ('orc', -1): 1, ('bloomberg', 1): 2, ('center', 1): 2, ('447797706009', 1): 2, ('httpcareer', 1): 2, ('bloombergcom', 1): 2, ('seek', -1): 1, ('priscilla', -1): 2, ('dayexcept', -1): 1, ('wisdom', -1): 3, ('wherr', -1): 1, ('phone750', 1): 1, ('resolut', -1): 1, ('replyb', -1): 1, ('frankgood', -1): 1, ('logoff', -1): 1, ('parkin', -1): 1, ('kent', -1): 2, ('vale', -1): 2, ('cannt', -1): 3, ('asa', -1): 1, ('09050000878', 1): 1, ('wan2', 1): 2, ('meetgreet', 1): 2, ('westlif', 1): 2, ('they', 1): 2, ('1unbreak', 1): 2, ('2untam', 1): 2, ('3unkempt', 1): 2, ('83049', 1): 2, ('princ', -1): 2, ('charm', -1): 1, ('arnt', -1): 1, ('xxxxxxxxxxxxxx', -1): 1, ('dorothykiefercom', 1): 1, ('bank', 1): 2, ('granit', 1): 2, ('issu', 1): 2, ('strongbuy', 1): 2, ('explos', 1): 2, ('pick', 1): 6, ('UP', 1): 2, ('nasdaq', 1): 2, ('symbol', 1): 2, ('cdgt', 1): 2, ('moneeppolum', -1): 1, ('pole', -1): 1, ('allalo', -1): 1, ('fundament', -1): 1, ('carewhoev', -1): 1, ('camera', -1): 3, ('101mega', -1): 1, ('pixel', -1): 1, ('3optic', -1): 1, ('5digit', -1): 1, ('doom', -1): 1, ('peteynoi', -1): 1, ('timehop', -1): 1, ('alritehav', -1): 1, ('js', -1): 1, ('amx', -1): 1, ('burgundi', -1): 1, ('captain', -1): 4, ('base', -1): 2, ('placement', -1): 2, ('amrita', -1): 1, ('bpo', -1): 1, ('nighter', -1): 1, ('persev', -1): 1, ('spous', -1): 1, ('pmt', -1): 1, ('sumthin', -1): 1, ('4give', -1): 1, ('shldxxxx', -1): 1, ('thatd', -1): 1, ('scenario', -1): 1, ('spunout', -1): 1, ('wrld', -1): 1, ('nytho', -1): 1, ('TX', -1): 1, ('fonin', -1): 1, ('2mwen', -1): 1, ('BK', -1): 1, ('frmcloud', -1): 1, ('09071517866', 1): 1, ('150ppmpobox10183bhamb64x', 1): 1, ('10am', 1): 1, ('8pm', 1): 1, ('thur', 1): 2, ('sat', 1): 2, ('theyr', 1): 1, ('fast', 1): 1, ('lion', -1): 2, ('devour', -1): 2, ('airtel', -1): 2, ('broadband', -1): 1, ('tens', -1): 1, ('25', -1): 2, ('survey', -1): 1, ('sprint', -1): 1, ('prolli', -1): 3, ('TH', -1): 1, ('gower', -1): 1, ('morrow', -1): 1, ('rock', 1): 1, ('chik', 1): 1, ('filth', 1): 1, ('69669', 1): 2, ('saristar', 1): 1, ('e14', 1): 1, ('9yt', 1): 1, ('08701752560', 1): 1, ('450p', 1): 1, ('stop2', 1): 1, ('420', -1): 1, ('9061100010', 1): 1, ('wire3net', 1): 1, ('1st4term', 1): 1, ('mobcudb', 1): 1, ('alreadysabarish', -1): 1, ('jaya', -1): 2, ('09050000460', 1): 1, ('j89', 1): 1, ('po', 1): 1, ('box245c2150pm', 1): 1, ('inperson', -1): 1, ('flea', -1): 1, ('banneduk', 1): 1, ('itlet', -1): 2, ('round', 1): 1, ('highest', 1): 1, ('maximum', 1): 1, ('71', 1): 1, ('ny', -1): 1, ('taj', -1): 1, ('symbol', -1): 1, ('lesser', -1): 1, ('known', -1): 1, ('mumtaz', -1): 4, ('shahjahan', -1): 2, ('deliveri', -1): 1, ('hari', -1): 1, ('okcom', -1): 1, ('69101', 1): 1, ('wwwrtfsphostingcom', 1): 1, ('webadr', -1): 1, ('gete', -1): 1, ('believ', 1): 2, ('incred', 1): 2, ('learn', 1): 2, ('blow', 1): 2, ('o2fwd', 1): 2, ('18ptxt', 1): 2, ('passport', -1): 1, ('multipli', -1): 1, ('decim', -1): 2, ('twin', -1): 1, ('strt', 1): 1, ('ltdhelpdesk', 1): 1, ('02085076972', 1): 1, ('equal', -1): 1, ('unev', -1): 1, ('peski', -1): 1, ('cyclist', -1): 1, ('werear', -1): 1, ('nalla', -1): 1, ('adi', -1): 1, ('entey', -1): 1, ('nattil', -1): 1, ('kittum', -1): 1, ('kavalan', -1): 2, ('hire', -1): 1, ('hitman', -1): 1, ('09066660100', 1): 1, ('2309', 1): 1, ('cp', -1): 1, ('outag', -1): 2, ('conserv', -1): 1, ('jordan', -1): 1, ('epi', -1): 1, ('bhaskar', -1): 1, ('dubsack', -1): 3, ('individu', -1): 1, ('gong', -1): 1, ('kaypoh', -1): 1, ('footbal', -1): 2, ('basketbal', -1): 1, ('outdoor', -1): 1, ('macho', -1): 3, ('interfu', -1): 1, ('hustl', -1): 1, ('forth', -1): 1, ('audit', -1): 3, ('harlem', -1): 1, ('workout', -1): 1, ('zac', -1): 1, ('hui', -1): 1, ('xin', -1): 2, ('lib', -1): 2, ('versu', -1): 1, ('edg', -1): 1, ('underdtand', -1): 1, ('itboth', -1): 1, ('upnot', -1): 1, ('muchxxlov', -1): 1, ('locaxx', -1): 1, ('unabl', 1): 2, ('07090298926', 1): 1, ('reschedul', 1): 2, ('ref9307622', 1): 1, ('skateboard', -1): 1, ('despit', -1): 2, ('thrown', -1): 1, ('bandag', -1): 1, ('mytonecomenjoy', 1): 1, ('html', 1): 1, ('gbp450week', 1): 1, ('mfl', 1): 1, ('1146', 1): 1, ('23', 1): 1, ('sky', -1): 1, ('dark', -1): 3, ('hectic', -1): 1, ('fell', -1): 3, ('swoop', -1): 2, ('wamma', 1): 1, ('laidwant', 1): 1, ('doggin', 1): 1, ('nownyt', 1): 1, ('langport', -1): 2, ('virtual', -1): 1, ('senthil', -1): 2, ('apnt', -1): 1, ('pant', -1): 1, ('waiti', -1): 1, ('go2sri', -1): 1, ('lanka', -1): 1, ('wordnot', -1): 1, ('mere', -1): 1, ('relationshipit', -1): 1, ('wherevr', -1): 1, ('forevr', -1): 3, ('gudnyt', -1): 1, ('plum', -1): 1, ('smack', -1): 1, ('alot', -1): 1, ('attract', -1): 1, ('promot', 1): 1, ('8714714', 1): 1, ('vega', -1): 2, ('lou', -1): 2, ('lancast', -1): 1, ('neway', -1): 1, ('soc', -1): 1, ('bsn', -1): 1, ('advis', -1): 1, ('lobbi', -1): 1, ('eryth', -1): 1, ('vewi', -1): 2, ('lubli', -1): 1, ('rs5', -1): 1, ('087147123779am7pm', 1): 1, ('sbut', -1): 1, ('luck2', -1): 1, ('specifi', -1): 1, ('domain', -1): 1, ('nusstu', -1): 1, ('ohi', -1): 1, ('hahatak', -1): 1, ('bari', -1): 1, ('hudgi', -1): 1, ('yorg', -1): 1, ('pataistha', -1): 1, ('ertini', -1): 1, ('hasbroin', -1): 1, ('august', -1): 1, ('jump', -1): 1, ('hoop', -1): 1, ('lateso', -1): 1, ('morningtak', -1): 1, ('dreamsu', -1): 1, ('meummifyingby', -1): 1, ('associ', -1): 1, ('rip', -1): 1, ('uteru', -1): 1, ('pool', -1): 2, ('jacuzzi', -1): 1, ('x49', 1): 1, ('09065989182', 1): 2, ('colourredtextcolourtxtstar', 1): 1, ('2night', 1): 1, ('wildest', 1): 1, ('splwat', -1): 1, ('whr', -1): 1, ('aldrin', -1): 1, ('rakhesh', -1): 1, ('rtm', -1): 1, ('herepl', -1): 1, ('callurg', -1): 1, ('neces', -1): 1, ('witout', -1): 1, ('hwd', -1): 1, ('watll', -1): 1, ('wth', -1): 1, ('espel', -1): 1, ('4wrd', -1): 1, ('dearlov', -1): 1, ('wthout', -1): 1, ('jst', -1): 3, ('takecar', -1): 1, ('univ', -1): 1, ('raja', -1): 1, ('burrito', -1): 1, ('Co', -1): 2, ('callcoz', -1): 2, ('iz', -1): 3, ('attempt', -1): 2, ('terrorist', -1): 2, ('itz', -1): 2, ('confirmd', -1): 2, ('nokia', -1): 3, ('motorola', -1): 2, ('cnn', -1): 2, ('ibn', -1): 2, ('stitch', -1): 1, ('trouser', -1): 1, ('146tf150p', 1): 1, ('cheeto', -1): 1, ('sync', -1): 1, ('shangela', -1): 1, ('hppnss', -1): 2, ('sorrow', -1): 2, ('goodfriend', -1): 2, ('class', 1): 2, ('airport', 1): 1, ('loung', 1): 1, ('08704439680', 1): 1, ('againlov', -1): 1, ('poo', -1): 1, ('gloucesterroad', -1): 1, ('uup', -1): 1, ('ouch', -1): 1, ('fruit', -1): 1, ('stone', -1): 4, ('glo', -1): 1, ('09058095107', 1): 1, ('s3xi', 1): 1, ('yesmum', -1): 1, ('wlcome', -1): 1, ('eaten', -1): 3, ('timi', -1): 1, ('mila', 1): 2, ('age23', 1): 2, ('blond', 1): 2, ('mtalk', 1): 2, ('6986618', 1): 2, ('30pptxt', 1): 2, ('5free', 1): 2, ('increment', 1): 2, ('help08718728876', 1): 2, ('fishrman', -1): 1, ('ful', -1): 2, ('strtd', -1): 1, ('throwin', -1): 1, ('atlast', -1): 2, ('1stone', -1): 1, ('moraldont', -1): 1, ('08717895698', 1): 1, ('mobstorequiz10ppm', 1): 1, ('physic', -1): 1, ('arpraveesh', -1): 1, ('delici', -1): 1, ('salad', -1): 1, ('desert', -1): 2, ('whore', -1): 1, ('funk', 1): 2, ('tones2u', 1): 2, ('twink', 1): 1, ('scalli', 1): 1, ('skin', 1): 1, ('jock', 1): 1, ('08712466669', 1): 1, ('08712460324nat', 1): 1, ('flood', -1): 1, ('dr', -1): 1, ('bead', -1): 1, ('wishlist', -1): 1, ('section', -1): 2, ('luxuri', -1): 1, ('sold', -1): 1, ('onionr', -1): 1, ('petrolr', -1): 1, ('beerr', -1): 1, ('review', -1): 2, ('fakemi', -1): 1, ('reffer', -1): 1, ('uif', -1): 1, ('rs', -1): 6, ('geti', -1): 1, ('rsi', -1): 1, ('weirdi', -1): 1, ('09061701851', 1): 1, ('k61', 1): 1, ('12hour', 1): 1, ('restrict', -1): 1, ('funer', -1): 2, ('godnot', -1): 1, ('chikkuk', -1): 1, ('vivek', -1): 1, ('74355', 1): 1, ('iscom', 1): 2, ('brah', -1): 2, ('outif', -1): 1, ('greec', -1): 1, ('protect', -1): 2, ('ethreat', -1): 2, ('sib', -1): 2, ('sensit', -1): 2, ('passwordsatmsm', -1): 2, ('someday', -1): 1, ('goodmorningmi', -1): 1, ('grandfath', -1): 1, ('expiredso', -1): 1, ('row', 1): 1, ('blu', 1): 2, ('concert', 1): 1, ('novemb', 1): 1, ('09061104276', 1): 1, ('375max', 1): 1, ('yuou', -1): 1, ('pc', -1): 2, ('spot', -1): 1, ('bunch', -1): 1, ('lotto', -1): 1, ('auction', -1): 1, ('authoris', -1): 1, ('645pm', -1): 1, ('honeydid', -1): 1, ('gimmi', -1): 1, ('DE', -1): 1, ('gossx', -1): 1, ('painit', -1): 1, ('todaydo', -1): 1, ('ystrdayic', -1): 1, ('chile', -1): 1, ('sublet', -1): 1, ('febapril', -1): 1, ('ammaelif', -1): 1, ('steer', -1): 1, ('rounderso', -1): 1, ('truekdo', -1): 1, ('lambu', -1): 1, ('ji', -1): 1, ('cometil', -1): 1, ('batchlor', -1): 1, ('zoom', -1): 1, ('nowsend', 1): 1, ('62220cncl', 1): 1, ('stopc', 1): 1, ('08717890890', 1): 1, ('chees', -1): 2, ('pink', -1): 1, ('ringtonefrom', 1): 1, ('httptm', 1): 2, ('widelivecomindex', 1): 2, ('wmlid1b6a5ecef91ff937819firsttrue180430jul05', 1): 1, ('Oh', 1): 1, ('god', 1): 1, ('ive', 1): 1, ('found', 1): 1, ('glad', 1): 1, ('xafter', 1): 1, ('cst', 1): 1, ('pure', -1): 1, ('hisher', -1): 1, ('smiley', -1): 1, ('gail', -1): 1, ('wrongtak', -1): 1, ('worryc', -1): 1, ('hunlov', -1): 1, ('yaxxx', -1): 1, ('theoret', -1): 1, ('formallypl', -1): 1, ('prayingwil', -1): 1, ('multimedia', -1): 1, ('senthilhsbc', -1): 1, ('agenc', -1): 1, ('nicki', -1): 1, ('gumbi', -1): 1, ('pictur', 1): 1, ('httpalto18coukwavewaveaspo44345', 1): 1, ('tarpon', -1): 1, ('cab', -1): 1, ('availablethey', -1): 1, ('step', -1): 5, ('careumma', -1): 1, ('call2optouthf8', 1): 1, ('09061702893', 1): 2, ('08719181259', 1): 1, ('xxxxx', 1): 1, ('260305', 1): 1, ('deartak', -1): 1, ('radiat', -1): 1, ('proper', -1): 1, ('tongu', -1): 1, ('qi', -1): 1, ('suddenli', -1): 1, ('flurri', -1): 1, ('melt', -1): 2, ('ground', -1): 2, ('eek', -1): 2, ('born', -1): 3, ('freerington', 1): 1, ('real1', 1): 1, ('pushbutton', 1): 1, ('dontcha', 1): 1, ('babygoodby', 1): 1, ('golddigg', 1): 1, ('webeburnin', 1): 1, ('nigh', -1): 1, ('nooooooo', -1): 1, ('cabl', -1): 1, ('so', -1): 1, ('playin', -1): 1, ('guoyang', -1): 1, ('rahul', -1): 1, ('dengra', -1): 1, ('antelop', -1): 1, ('toplay', -1): 1, ('fieldof', -1): 1, ('selfindepend', -1): 1, ('growrandom', -1): 1, ('gnarl', 1): 1, ('barkley', 1): 1, ('borderlin', -1): 1, ('until', -1): 1, ('545', -1): 1, ('nightnight', -1): 1, ('groov', -1): 1, ('along', -1): 3, ('mise', -1): 1, ('secur', 1): 1, ('unsecur', 1): 1, ('195', 1): 1, ('6669', 1): 1, ('lanr', -1): 1, ('fakey', -1): 1, ('eckankar', -1): 1, ('ph', -1): 1, ('3000', 1): 1, ('09061743386', 1): 2, ('heater', -1): 2, ('dodgey', -1): 1, ('call2optout674', 1): 2, ('funki', -1): 1, ('faceasssssholeee', -1): 1, ('ceri', -1): 1, ('rebel', -1): 1, ('dreamz', -1): 1, ('buddi', -1): 1, ('YA', -1): 2, ('ringtonek', 1): 1, ('84484', 1): 1, ('nationwid', -1): 1, ('newport', -1): 1, ('shortli', -1): 1, ('juliana', -1): 1, ('nacho', -1): 1, ('eta', -1): 2, ('dizzamn', -1): 1, ('suitem', -1): 1, ('nimbomson', -1): 1, ('contin', -1): 1, ('housew', 1): 2, ('08717507711', 1): 2, ('btnation', 1): 2, ('087104711148', 1): 1, ('fiendmak', -1): 1, ('muchimped', -1): 1, ('ow', -1): 1, ('deyi', -1): 1, ('60400thousadi', -1): 1, ('sumthinxx', -1): 1, ('nose', -1): 1, ('essay', -1): 1, ('tram', -1): 1, ('vic', -1): 1, ('coher', -1): 1, ('tripl', 1): 1, ('echo', 1): 1, ('gran', -1): 1, ('onlyfound', -1): 1, ('afew', -1): 1, ('agocusoon', -1): 1, ('honi', -1): 1, ('dial', 1): 1, ('bx526', 1): 1, ('univers', -1): 3, ('southern', -1): 1, ('california', -1): 3, ('rayan', -1): 1, ('macleran', -1): 1, ('ball', -1): 2, ('olav', -1): 1, ('mandara', -1): 1, ('trishul', -1): 1, ('woo', -1): 1, ('hoo', -1): 1, ('panti', -1): 1, ('thout', -1): 1, ('09066364311', 1): 2, ('flatter', -1): 1, ('pint', -1): 1, ('carlin', -1): 1, ('liter', -1): 2, ('ciao', -1): 1, ('x49your', 1): 1, ('timey', -1): 1, ('wknd', -1): 1, ('yalrigu', -1): 1, ('heltiniiyo', -1): 1, ('kothi', -1): 2, ('meso', -1): 1, ('meok', -1): 1, ('chikkub', -1): 1, ('noic', -1): 1, ('esaplanad', -1): 1, ('08709501522', 1): 1, ('139', 1): 1, ('la3', 1): 1, ('2wu', 1): 1, ('prof', -1): 2, ('sem', -1): 2, ('enna', -1): 1, ('kalaachutaarama', -1): 1, ('coco', -1): 1, ('sporad', -1): 1, ('bc', -1): 1, ('09064017305', 1): 1, ('pobox75ldns7', 1): 1, ('tbspersolvo', 1): 1, ('chase', 1): 1, ('38', 1): 1, ('definit', 1): 1, ('ignor', 1): 1, ('kath', 1): 1, ('manchest', 1): 1, ('burden', -1): 1, ('bad', 1): 1, ('noworriesloanscom', 1): 1, ('08717111821', 1): 1, ('harder', -1): 1, ('nbme', -1): 1, ('season', 1): 1, ('2wk', 1): 1, ('goal', 1): 3, ('villa', 1): 1, ('sathya', -1): 2, ('gam', -1): 1, ('religi', -1): 1, ('smart', -1): 2, ('await', -1): 1, ('hero', 1): 1, ('tip', 1): 1, ('07973788240', 1): 1, ('08715203649', 1): 1, ('muhommad', -1): 1, ('penni', -1): 1, ('hubbi', -1): 1, ('fite', -1): 1, ('hwkeep', -1): 1, ('mj', -1): 1, ('unconvinc', -1): 1, ('willpow', -1): 1, ('absenc', -1): 1, ('answerin', -1): 1, ('evey', -1): 1, ('mnth', -1): 1, ('prin', -1): 1, ('gsoh', 1): 1, ('spam', 1): 1, ('ladiesu', 1): 1, ('gigolo', 1): 1, ('oncal', 1): 1, ('mjzgroup', 1): 1, ('087143423992stop', 1): 1, ('150rcvd', 1): 1, ('ashwini', -1): 1, ('08707500020', 1): 1, ('tomorrowtoday', -1): 1, ('ukp2000', 1): 1, ('09061790125', 1): 1, ('jokethet', -1): 1, ('skinni', -1): 1, ('liney', -1): 1, ('cast', -1): 1, ('hockey', -1): 1, ('elect', -1): 2, ('116', -1): 1, ('hlday', -1): 1, ('camp', -1): 1, ('amrca', -1): 1, ('serena', -1): 1, ('prescrib', -1): 1, ('kappa', -1): 2, ('meatbal', -1): 1, ('approv', -1): 2, ('panalambut', -1): 1, ('spjanuari', 1): 1, ('fortun', -1): 1, ('allday', -1): 1, ('perf', -1): 1, ('98321561', -1): 1, ('familiar', -1): 1, ('infact', -1): 1, ('simpson', 1): 1, ('releas', 1): 1, ('band', 1): 1, ('die', 1): 1, ('agreen', 1): 1, ('bblue', 1): 1, ('cred', 1): 1, ('cornwal', -1): 1, ('shite', -1): 1, ('kip', -1): 1, ('hont', -1): 1, ('amanda', 1): 1, ('regard', 1): 1, ('tel', 1): 1, ('3680', 1): 1, ('subject', 1): 1, ('Ts', 1): 2, ('perspect', -1): 1, ('sonot', -1): 1, ('karaok', -1): 2, ('debat', -1): 1, ('httpwwwwtlpcouktext', 1): 1, ('jb', -1): 1, ('youso', -1): 1, ('florida', -1): 1, ('teeth', -1): 2, ('hidden', -1): 1, ('royal', -1): 2, ('tog', -1): 3, ('swhrt', -1): 1, ('deyhop', -1): 1, ('2daylov', -1): 1, ('misstak', -1): 1, ('0906346330', 1): 1, ('spanish', 1): 2, ('47', 1): 1, ('po19', 1): 1, ('2ez', 1): 1, ('ifwhenhow', -1): 1, ('dayha', -1): 1, ('valuemorn', -1): 1, ('hopeafternoon', -1): 1, ('faitheven', -1): 1, ('luvnight', -1): 1, ('restwish', -1): 1, ('todaygood', -1): 1, ('jetton', -1): 1, ('friendofafriend', -1): 1, ('cmon', 1): 1, ('turn', 1): 1, ('sticki', 1): 1, ('lunsford', -1): 1, ('0796xxxxxx', 1): 1, ('day2', 1): 1, ('prizeawait', 1): 1, ('kfc', -1): 1, ('gravi', -1): 1, ('dahe', -1): 1, ('daalway', -1): 1, ('thisdon', -1): 1, ('messagepandi', -1): 1, ('these', 1): 2, ('left', 1): 1, ('07008009200', 1): 1, ('mw', -1): 1, ('tuth', -1): 1, ('evict', -1): 1, ('spiral', -1): 1, ('michael', -1): 1, ('riddanc', -1): 1, ('raglan', -1): 1, ('edward', -1): 2, ('closebi', -1): 1, ('dapleas', -1): 1, ('skye', -1): 1, ('bookedth', -1): 1, ('hut', -1): 1, ('drastic', -1): 1, ('indic', 1): 2, ('3750', 1): 1, ('accid', 1): 2, ('garment', -1): 1, ('sez', -1): 1, ('arab', -1): 1, ('evry1', -1): 1, ('eshxxxxxxxxxxx', -1): 1, ('bimbo', -1): 1, ('ugo', -1): 1, ('detroit', -1): 1, ('241', 1): 1, ('3lion', 1): 1, ('porteg', -1): 1, ('m100', -1): 1, ('semiobscur', -1): 1, ('normal', 1): 1, ('gpr', 1): 1, ('accordingli', 1): 1, ('repeat', 1): 1, ('loosu', -1): 1, ('De', -1): 1, ('careless', -1): 1, ('myspac', -1): 1, ('partner', -1): 1, ('method', -1): 1, ('blur', -1): 2, ('jewelri', -1): 1, ('block', 1): 1, ('breaker', 1): 1, ('delux', 1): 1, ('format', 1): 1, ('featur', 1): 1, ('graphic', 1): 1, ('bbdelux', 1): 1, ('challeng', 1): 1, ('lush', -1): 2, ('fumbl', -1): 1, ('day2find', 1): 2, ('taunton', -1): 4, ('weekday', -1): 1, ('haiz', -1): 3, ('nail', -1): 1, ('common', -1): 5, ('asia', -1): 1, ('greatest', -1): 2, ('bear', -1): 2, ('defeat', -1): 2, ('heartgn', -1): 2, ('tc', -1): 2, ('stil', -1): 1, ('tobe', -1): 1, ('430', -1): 2, ('pimpl', -1): 1, ('natalja', 1): 2, ('25f', 1): 2, ('yes440', 1): 2, ('no440', 1): 2, ('wwwsmsacunat27081980', 1): 2, ('asthma', -1): 1, ('attack', -1): 1, ('spin', -1): 1, ('haiyoh', -1): 1, ('02', 1): 1, ('prsn', -1): 1, ('somtim', -1): 1, ('sunlight', -1): 2, ('bcozi', -1): 1, ('loss', -1): 4, ('audiit', -1): 1, ('reloc', -1): 1, ('pock', -1): 1, ('brison', -1): 1, ('cap', -1): 1, ('among', -1): 1, ('bullshit', -1): 1, ('gwr', -1): 1, ('motherfuck', -1): 1, ('kit', 1): 1, ('strip', 1): 1, ('1013', 1): 1, ('ig11', 1): 1, ('oja', 1): 1, ('08712402578', 1): 1, ('thesmszonecom', 1): 1, ('anonym', 1): 1, ('mask', 1): 1, ('messagesim', 1): 1, ('theredo', 1): 1, ('potenti', 1): 1, ('abus', 1): 1, ('woodland', -1): 1, ('avenu', -1): 1, ('parish', -1): 1, ('magazin', -1): 1, ('TA', -1): 1, ('billi', -1): 1, ('concert', -1): 2, ('awww', -1): 1, ('useless', -1): 1, ('loo', -1): 1, ('shelf', -1): 2, ('swollen', -1): 1, ('gland', -1): 1, ('previou', -1): 2, ('bcaz', -1): 1, ('stu', -1): 1, ('2im', -1): 1, ('trubl', -1): 1, ('evon', -1): 1, ('AV', -1): 1, ('mokka', -1): 2, ('view', -1): 1, ('gay', -1): 2, ('dual', -1): 1, ('hostil', -1): 1, ('haircut', -1): 1, ('breezi', -1): 1, ('09061744553', 1): 2, ('polyh', 1): 2, ('1appledayno', -1): 1, ('1tulsi', -1): 1, ('leafdayno', -1): 1, ('1lemondayno', -1): 1, ('1cup', -1): 1, ('milkdayno', -1): 1, ('bone', -1): 2, ('problm', -1): 1, ('litr', -1): 1, ('watrdayno', -1): 1, ('diseas', -1): 1, ('snd', -1): 1, ('lavend', -1): 1, ('manki', -1): 1, ('scous', -1): 1, ('stevelik', -1): 1, ('homewot', -1): 1, ('inmind', -1): 1, ('recreat', -1): 1, ('epsilon', -1): 2, ('mesag', -1): 2, ('judgementali', -1): 1, ('hidid', -1): 1, ('waheeda', -1): 1, ('bot', -1): 1, ('eventu', -1): 1, ('toler', -1): 1, ('0789xxxxxxx', 1): 1, ('hellogorg', -1): 1, ('lst', -1): 2, ('nitw', -1): 1, ('texd', -1): 1, ('hopeu', -1): 1, ('AD', -1): 1, ('4ward', -1): 1, ('cin', -1): 1, ('jaz', -1): 1, ('shi', 1): 1, ('09058091870', 1): 1, ('exorc', -1): 1, ('emili', -1): 1, ('evri', -1): 1, ('emot', -1): 1, ('dsnt', -1): 3, ('wordsevri', -1): 1, ('prayr', -1): 1, ('uothrwis', -1): 1, ('uso', -1): 1, ('ujhhhhhhh', -1): 1, ('sandiago', -1): 1, ('parantella', -1): 1, ('sweater', -1): 1, ('mango', -1): 1, ('massiv', -1): 2, ('AM', 1): 1, ('landmark', 1): 1, ('bob', 1): 1, ('barri', 1): 1, ('ben', 1): 1, ('83738', 1): 1, ('fineabsolutli', -1): 2, ('consent', -1): 1, ('form', -1): 1, ('tonex', 1): 1, ('wwwclubzedcouk', 1): 1, ('anoth', 1): 2, ('wwwtcbiz', 1): 2, ('polo', 1): 2, ('suit', 1): 2, ('373', 1): 2, ('w1j', 1): 2, ('6hl', 1): 2, ('busi', 1): 2, ('mathew', -1): 1, ('tait', -1): 1, ('anderson', -1): 1, ('haunt', -1): 1, ('promot', -1): 1, ('crowd', -1): 1, ('8000930705', 1): 1, ('snowboard', -1): 1, ('goa', -1): 1, ('christmassi', -1): 1, ('recpt', 1): 1, ('13', 1): 1, ('process', 1): 1, ('baaaaaaaab', -1): 1, ('shola', -1): 1, ('academ', -1): 2, ('sagamu', -1): 1, ('lautech', -1): 1, ('vital', -1): 1, ('zealand', -1): 1, ('qet', -1): 1, ('dial', -1): 1, ('browser', -1): 1, ('GB', 1): 1, ('wellyou', -1): 1, ('lifey', -1): 1, ('thati', -1): 1, ('convers', -1): 1, ('usget', -1): 1, ('timeyour', -1): 1, ('sensesrespect', -1): 1, ('overemphasiseor', -1): 1, ('headset', 1): 1, ('adp', 1): 1, ('intern', -1): 1, ('extract', -1): 1, ('godyou', -1): 1, ('skint', -1): 1, ('bevieswaz', -1): 1, ('othr', -1): 1, ('watchng', -1): 1, ('planet', -1): 1, ('earthsofa', -1): 1, ('comfey', -1): 1, ('least5tim', -1): 1, ('wudnt', -1): 1, ('coast', -1): 2, ('ima', -1): 1, ('frequent', -1): 1, ('cupboard', -1): 1, ('rout', -1): 1, ('2mro', -1): 1, ('uk', -1): 1, ('floppi', 1): 1, ('snappi', 1): 1, ('happi', 1): 1, ('grasp', -1): 1, ('flavour', -1): 1, ('lareadi', -1): 1, ('deni', -1): 3, ('dom', -1): 1, ('ffffuuuuuuu', -1): 1, ('julianaland', -1): 1, ('oblivi', -1): 1, ('upsetit', -1): 1, ('mapquest', -1): 1, ('dogwood', -1): 1, ('tini', -1): 1, ('archiv', -1): 1, ('ukmobiled', 1): 1, ('08719839835', 1): 1, ('mg', 1): 1, ('89123', 1): 1, ('behalf', -1): 1, ('stun', -1): 1, ('visa', -1): 1, ('gucci', -1): 1, ('babesozi', -1): 1, ('culdnt', -1): 1, ('talkbut', -1): 1, ('wannatel', -1): 1, ('wenwecan', -1): 1, ('smsing', -1): 1, ('effici', -1): 1, ('explicit', 1): 2, ('30', 1): 3, ('sec', 1): 2, ('02073162414', 1): 2, ('20pmin', 1): 2, ('515pm', -1): 1, ('erutupalam', -1): 1, ('thandiyachu', -1): 1, ('invent', -1): 1, ('flyim', -1): 1, ('noit', -1): 1, ('lyric', -1): 1, ('nevr', -1): 1, ('unrecogn', -1): 1, ('somon', -1): 1, ('definitli', -1): 1, ('undrstnd', -1): 1, ('ger', -1): 1, ('toke', -1): 1, ('syd', -1): 1, ('lehhaha', -1): 1, ('khelat', -1): 1, ('kintu', -1): 1, ('opponent', -1): 1, ('dhort', -1): 1, ('lage', -1): 1, ('looovvv', -1): 1, ('warwick', -1): 1, ('tmw', -1): 1, ('parad', -1): 1, ('proze', 1): 1, ('norcorp', 1): 1, ('150mtmsgrcvd18', 1): 1, ('chennaibecaus', -1): 1, ('item', 1): 1, ('7cfca1a', 1): 1, ('grumbl', -1): 1, ('linear', -1): 1, ('algebra', -1): 1, ('decor', -1): 1, ('wine', 1): 1, ('946', 1): 1, ('wot', 1): 1, ('roomat', -1): 1, ('graduat', -1): 1, ('adjust', -1): 1, ('cooper', -1): 1, ('nottingham', -1): 1, ('63mile', -1): 1, ('40mph', -1): 1, ('clearli', -1): 2, ('thanku', -1): 1, ('2morro', -1): 1, ('cock', 1): 1, ('My', 1): 1, ('man', 1): 1, ('wife', 1): 1, ('89938', 1): 1, ('string', 1): 1, ('rec', 1): 1, ('150ea', 1): 1, ('otbox', 1): 1, ('731', 1): 1, ('la1', 1): 1, ('7w', 1): 1, ('itxx', -1): 1, ('besid', -1): 1, ('brisk', -1): 1, ('sexiest', 1): 1, ('dirtiest', 1): 1, ('89070', 1): 2, ('steve', -1): 1, ('tellmiss', -1): 1, ('contribut', -1): 1, ('greatli', -1): 1, ('urgh', -1): 1, ('coach', -1): 1, ('duvet', -1): 1, ('chatim', 1): 1, ('w8in', 1): 1, ('4utxt', 1): 1, ('url', -1): 1, ('24th', -1): 1, ('sept', -1): 1, ('cha', -1): 2, ('beverag', -1): 1, ('vpist', -1): 1, ('surrend', -1): 1, ('symptom', -1): 1, ('1U', -1): 1, ('3U', -1): 1, ('rdi', -1): 1, ('comp', -1): 1, ('itnow', -1): 1, ('backward', -1): 1, ('abstract', -1): 1, ('vikkyim', -1): 1, ('africa', -1): 1, ('avin', -1): 1, ('laugh', 1): 1, ('chitchat', 1): 1, ('logon', 1): 1, ('8883', 1): 1, ('CM', 1): 1, ('4217', 1): 1, ('w1a', 1): 1, ('6zf', 1): 1, ('118pmsg', 1): 1, ('quiteamuz', -1): 1, ('scool', -1): 1, ('babeprobpop', -1): 1, ('CU', -1): 1, ('satthen', -1): 1, ('4brekki', -1): 1, ('psxtra', -1): 1, ('lrg', -1): 1, ('portion', -1): 1, ('1000call', 1): 1, ('09071512432', 1): 1, ('300603tcsbcm4235wc1n3xxcallcost150ppmmobilesvari', 1): 1, ('mnth', 1): 2, ('fixd', -1): 1, ('bthmm', -1): 1, ('njan', -1): 1, ('vilikkamt', -1): 1, ('sudn', -1): 1, ('chapter', -1): 1, ('chop', -1): 1, ('noooooooo', -1): 1, ('09065171142stopsms08718727870150ppm', 1): 1, ('firsg', -1): 1, ('split', -1): 1, ('heat', -1): 1, ('laid', -1): 1, ('voucher', -1): 1, ('virgin', -1): 1, ('sumf', -1): 1, ('86888', 1): 2, ('subscribe6gbpmnth', 1): 2, ('3hr', 1): 2, ('hopeso', -1): 1, ('amnow', -1): 1, ('feelin', -1): 2, ('ithink', -1): 1, ('tonsolitusaswel', -1): 1, ('layin', -1): 1, ('bedreal', -1): 1, ('lotsof', -1): 1, ('hiphop', -1): 1, ('oxygen', -1): 1, ('resort', -1): 1, ('roller', -1): 1, ('cannam', 1): 1, ('capit', 1): 1, ('australia', 1): 1, ('mquiz', 1): 1, ('showr', -1): 1, ('upon', -1): 1, ('ceil', -1): 1, ('presnt', -1): 1, ('bcz', -1): 1, ('jeevithathil', -1): 1, ('irulina', -1): 1, ('neekunna', -1): 1, ('prakasamanu', -1): 1, ('sneham', -1): 1, ('prakasam', -1): 1, ('ennal', -1): 1, ('prabha', -1): 2, ('mn', -1): 1, ('islov', -1): 1, ('7634', 1): 1, ('7684', 1): 1, ('firmwar', -1): 1, ('these', -1): 2, ('vijaykanth', -1): 1, ('comedi', -1): 3, ('tvhe', -1): 1, ('anythi', -1): 1, ('rip', 1): 1, ('wwwclubmobycom', 1): 1, ('08717509990', 1): 1, ('polytruepixringtonesgam', 1): 1, ('keypad', -1): 1, ('btwn', -1): 1, ('decad', -1): 1, ('gover', -1): 1, ('randomli', 1): 2, ('loyal', 1): 2, ('09066380611', 1): 2, ('spice', -1): 1, ('prasanth', -1): 1, ('ettan', -1): 1, ('08718738002', 1): 1, ('48922', 1): 1, ('211104', 1): 1, ('appi', -1): 1, ('fizz', -1): 1, ('contain', -1): 1, ('genu', -1): 1, ('robinson', -1): 1, ('nottel', -1): 1, ('soz', -1): 1, ('imat', -1): 1, ('freind', -1): 1, ('msgsometext', -1): 1, ('07099833605', 1): 1, ('ref9280114', 1): 1, ('chloe', 1): 1, ('smash', 1): 1, ('150ptext', 1): 1, ('wewa', -1): 1, ('130', -1): 1, ('iriv', -1): 1, ('255', -1): 1, ('128', -1): 1, ('bw', -1): 1, ('dajst', -1): 1, ('hmmmbut', -1): 1, ('surli', -1): 1, ('capit', -1): 1, ('07808726822', 1): 1, ('08718729758', 1): 1, ('dokey', -1): 2, ('mmmmmmm', -1): 1, ('snuggl', -1): 1, ('whisper', -1): 1, ('healthi', -1): 1, ('2bold', -1): 1, ('givit', -1): 1, ('kanoanyway', -1): 1, ('sticki', -1): 1, ('scrape', -1): 1, ('barrel', -1): 1, ('misfit', -1): 1, ('S8', -1): 1, ('sleepin', -1): 2, ('clearer', -1): 1, ('peach', -1): 1, ('rayman', 1): 1, ('golf', 1): 1, ('activ8', 1): 1, ('key', 1): 1, ('termsappli', 1): 1, ('therel', -1): 1, ('minor', -1): 2, ('shindig', -1): 1, ('same', 1): 1, ('minstext', 1): 1, ('phonebook', -1): 1, ('keng', -1): 1, ('ash', -1): 1, ('shijutta', -1): 1, ('kafter', -1): 1, ('offens', -1): 1, ('bbdtht', -1): 1, ('dvg', -1): 1, ('coldheard', -1): 1, ('vinobanagar', -1): 1, ('conditionand', -1): 1, ('ovulatewhen', -1): 1, ('3wk', -1): 1, ('woah', -1): 1, ('orh', -1): 1, ('thousand', -1): 1, ('n8', -1): 1, ('darlinim', -1): 1, ('soonxxx', -1): 1, ('coolmob', 1): 1, ('frogaxel', 1): 1, ('akonlon', 1): 1, ('black', 1): 1, ('eyeddont', 1): 1, ('P', 1): 1, ('cashbincouk', 1): 1, ('wwwcashbincouk', 1): 1, ('canteen', -1): 1, ('stressful', -1): 1, ('ni8swt', -1): 2, ('continu', 1): 1, ('support', 1): 2, ('in2', 1): 1, ('US', 1): 1, ('presid', 1): 1, ('é', -1): 3, ('140', -1): 1, ('ardé', -1): 1, ('180', -1): 1, ('leastwhich', -1): 1, ('bedrm', -1): 1, ('hitechn', -1): 1, ('supportprovid', -1): 1, ('assist', -1): 1, ('ID', 1): 1, ('1172', 1): 1, ('built', -1): 1, ('lonlin', -1): 1, ('lotz', -1): 1, ('gailxx', -1): 1, ('hii', -1): 1, ('repeat', -1): 2, ('instruct', -1): 1, ('complac', -1): 1, ('mina', -1): 1, ('miwa', -1): 1, ('hsbc', -1): 1, ('woulda', -1): 2, ('09066649731from', 1): 1, ('mth', -1): 2, ('opposit', -1): 1, ('heavili', -1): 1, ('doll', -1): 1, ('patrick', -1): 1, ('swayz', -1): 1, ('santa', 1): 4, ('09077818151', 1): 1, ('calls150ppm', 1): 1, ('wwwsantacallingcom', 1): 1, ('miser', -1): 2, ('quarter', -1): 1, ('nervou', -1): 1, ('limp', -1): 1, ('aa', -1): 1, ('0784987', 1): 1, ('08719180219', 1): 1, ('060505', 1): 1, ('oga', -1): 1, ('poorli', -1): 1, ('brb', -1): 1, ('smaller', -1): 1, ('capac', -1): 1, ('smsshsexnetun', 1): 1, ('fgkslpopw', 1): 1, ('fgkslpo', 1): 1, ('0871277810710pmin', 1): 1, ('defer', -1): 1, ('admiss', -1): 1, ('checkmat', -1): 1, ('chess', -1): 1, ('persian', -1): 1, ('phrase', -1): 1, ('shah', -1): 1, ('maat', -1): 1, ('Po', -1): 1, ('rat', -1): 1, ('pee', -1): 1, ('than', -1): 1, ('photoshop', -1): 1, ('08715203652', 1): 1, ('42810', 1): 1, ('29100', 1): 1, ('shoppin', -1): 2, ('toopray', -1): 2, ('inshah', -1): 1, ('allah', -1): 3, ('sthi', -1): 1, ('increas', -1): 1, ('wifedont', -1): 1, ('iti', -1): 1, ('toolet', -1): 1, ('north', -1): 1, ('carolina', -1): 1, ('texa', -1): 1, ('gre', -1): 1, ('bomb', -1): 1, ('weapon', -1): 1, ('nightswt', -1): 1, ('dreamstak', -1): 1, ('lovli', -1): 1, ('messagethank', 1): 1, ('150pmsgrcvd', 1): 1, ('skip', 1): 1, ('customercar', 1): 1, ('08718726270', 1): 2, ('playi', -1): 1, ('cla', -1): 1, ('lit', -1): 1, ('loooooool', -1): 1, ('couch', -1): 1, ('swashbuckl', -1): 1, ('5terror', -1): 1, ('6cruel', -1): 1, ('7romant', -1): 1, ('8lovabl', -1): 1, ('9decent', -1): 1, ('joker', -1): 1, ('dip', -1): 1, ('gek1510', -1): 1, ('cruis', -1): 1, ('nuther', -1): 2, ('lyricalladie21f', 1): 1, ('yes910', 1): 1, ('no910', 1): 1, ('wwwsmsacuhmmross', 1): 1, ('happiest', -1): 1, ('crisi', -1): 1, ('whenwher', -1): 1, ('antibiot', -1): 1, ('abdomen', -1): 1, ('gyna', -1): 1, ('infect', -1): 2, ('6time', -1): 1, ('chastiti', -1): 1, ('devic', -1): 1, ('beat', -1): 1, ('gut', -1): 1, ('tallahasse', -1): 1, ('ou', 1): 1, ('taka', -1): 1, ('SN', 1): 1, ('pobox202', 1): 1, ('nr31', 1): 1, ('7z', 1): 1, ('450pw', 1): 1, ('wrote', -1): 1, ('ritten', -1): 1, ('fold', -1): 1, ('warner', 1): 2, ('villag', 1): 2, ('83118', 1): 1, ('colin', 1): 1, ('farrel', 1): 1, ('swat', 1): 1, ('wkend', 1): 1, ('popcornjust', 1): 1, ('msgticketkioskvalid', 1): 1, ('4712', 1): 1, ('kiosk', 1): 1, ('mre', 1): 1, ('solihul', -1): 1, ('nh', -1): 1, ('mistakeu', -1): 1, ('bornpleas', -1): 1, ('local', -1): 1, ('2B', -1): 1, ('terminatedw', -1): 1, ('inconveni', -1): 2, ('henri', 1): 2, ('simpl', 1): 1, ('shot', 1): 1, ('yard', 1): 1, ('bergkamp', 1): 1, ('margin', 1): 1, ('78', 1): 1, ('itsnot', -1): 1, ('parentnot', -1): 1, ('unintent', -1): 2, ('nonetheless', -1): 1, ('hooch', -1): 1, ('toaday', -1): 1, ('splat', -1): 1, ('graze', -1): 1, ('Re', -1): 1, ('confirmdeni', -1): 1, ('hearin', -1): 1, ('yah', -1): 1, ('tortur', -1): 1, ('england', -1): 1, ('sexychat', 1): 1, ('startedindia', -1): 1, ('kkcongratul', -1): 1, ('court', -1): 1, ('chapel', -1): 1, ('frontiervil', -1): 1, ('mountain', -1): 2, ('deer', -1): 1, ('maili', -1): 1, ('varma', -1): 1, ('membershiptak', -1): 1, ('careinsha', -1): 1, ('secur', -1): 1, ('ami', 1): 1, ('coupl', 1): 1, ('parti', 1): 1, ('fart', -1): 1, ('ortxt', -1): 1, ('benefit', 1): 1, ('train', 1): 1, ('advisor', 1): 1, ('diall', 1): 1, ('402', 1): 1, ('woot', -1): 2, ('ahhhhjust', -1): 1, ('uphad', -1): 1, ('thoso', -1): 1, ('viveki', -1): 1, ('96', -1): 1, ('dado', -1): 1, ('meal', 1): 1, ('pc', 1): 1, ('dine', 1): 1, ('experiencehttpwwwvouch4mecometlpdiningasp', 1): 1, ('kaila', -1): 1, ('09058094507', 1): 1, ('donat', 1): 2, ('unicef', 1): 1, ('asian', 1): 1, ('tsunami', 1): 1, ('disast', 1): 1, ('fund', 1): 1, ('864233', 1): 1, ('cme', -1): 2, ('collaps', -1): 1, ('jade', -1): 1, ('paul', -1): 1, ('didn', -1): 1, ('barm', -1): 1, ('thinkthi', -1): 1, ('goldvik', 1): 1, ('29m', 1): 1, ('yes762', 1): 1, ('no762', 1): 1, ('wwwsmsacugoldvik', 1): 1, ('channel', -1): 1, ('coulda', -1): 1, ('phoni', 1): 1, ('xxxx', 1): 1, ('1230', -1): 1, ('okday', -1): 1, ('buz', -1): 1, ('wedlunch', -1): 1, ('outsomewher', -1): 1, ('adrink', -1): 1, ('towncud', -1): 1, ('2watershd', -1): 1, ('fromwrk', -1): 1, ('bthere', -1): 1, ('petexxx', -1): 1, ('hmph', -1): 1, ('baller', -1): 1, ('punto', -1): 1, ('ayo', -1): 1, ('125', 1): 1, ('freeentri', 1): 1, ('xt', 1): 1, ('toyota', -1): 1, ('camri', -1): 1, ('olayiwola', -1): 1, ('mileag', -1): 1, ('kit', -1): 1, ('land', -1): 2, ('clover', -1): 1, ('numberpl', -1): 1, ('idconvey', -1): 1, ('achanammarakheshqatar', -1): 1, ('rencontr', -1): 1, ('08714712412', 1): 1, ('galsu', -1): 1, ('nìte', -1): 1, ('puppi', -1): 1, ('nois', -1): 1, ('sarasota', -1): 2, ('150pmeg', 1): 1, ('08715203685', 1): 1, ('code4xx26', 1): 1, ('131004', 1): 1, ('deepest', 1): 1, ('darkest', 1): 1, ('09094646631', 1): 1, ('nat', 1): 2, ('vldo', -1): 1, ('adsens', -1): 1, ('dudett', -1): 1, ('perumbavoor', -1): 1, ('stage', -1): 1, ('cherish', -1): 2, ('clarifi', -1): 1, ('prepon', -1): 1, ('natali', 1): 1, ('20f', 1): 1, ('yes165', 1): 1, ('no165', 1): 1, ('wwwsmsacunatalie2k9', 1): 1, ('younger', -1): 1, ('wallpap', 1): 2, ('08701213186', 1): 1, ('liver', -1): 1, ('hmmmstill', -1): 1, ('loneli', -1): 1, ('skyve', -1): 1, ('club', -1): 1, ('onword', -1): 1, ('mtnl', -1): 1, ('mumbai', -1): 1, ('83039', 1): 1, ('62735', 1): 1, ('accommodationvouch', 1): 1, ('mustprovid', 1): 1, ('15541', 1): 1, ('rajitha', -1): 1, ('ranju', -1): 1, ('5p', 1): 1, ('tscs08714740323', 1): 1, ('1winawk', 1): 1, ('150perweeksub', 1): 1, ('dearslp', -1): 2, ('welltak', -1): 2, ('careswt', -1): 2, ('dreamsmuah', -1): 2, ('09066361921', 1): 1, ('disagre', -1): 1, ('afterward', -1): 1, ('battl', -1): 1, ('vivekanand', -1): 1, ('SD', -1): 1, ('uawakefeellikw', -1): 1, ('shitjustfound', -1): 1, ('alett', -1): 1, ('thatmum', -1): 1, ('gotmarri', -1): 1, ('4thnovbehind', -1): 1, ('ourback', -1): 1, ('fuckinniceselfishdeviousbitchanywayi', -1): 1, ('rearrang', -1): 1, ('dormitori', -1): 1, ('astronom', -1): 1, ('starer', -1): 1, ('recount', -1): 1, ('motherinlaw', -1): 1, ('hitler', -1): 1, ('eleven', -1): 1, ('worm', -1): 1, ('dysentri', -1): 1, ('andr', -1): 2, ('virgil', -1): 1, ('lorgoin', -1): 1, ('gokila', -1): 1, ('shanilrakhesh', -1): 1, ('herethanksi', -1): 1, ('exchang', -1): 1, ('uncut', -1): 1, ('stuffleav', -1): 1, ('dino', -1): 1, ('prem', -1): 1, ('kkthi', -1): 1, ('kote', -1): 1, ('themobhit', 1): 1, ('pink', 1): 1, ('panther', 1): 1, ('sugabab', 1): 1, ('zebra', 1): 1, ('anim', 1): 1, ('badass', 1): 1, ('hoodi', 1): 1, ('wallpaperal', 1): 1, ('resent', 1): 1, ('previou', 1): 1, ('fail', 1): 1, ('due', 1): 2, ('error', 1): 1, ('queri', 1): 1, ('customersqueriesnetvisionukcom', 1): 1, ('hassl', -1): 1, ('haughaighgtujhyguj', -1): 1, ('fassyol', -1): 1, ('blacko', -1): 1, ('londn', -1): 1, ('4eva', -1): 2, ('08715205273', 1): 1, ('vco', 1): 1, ('reassur', -1): 2, ('aslamalaikkuminsha', -1): 1, ('tohar', -1): 1, ('beeen', -1): 1, ('muht', -1): 1, ('albi', -1): 1, ('mufti', -1): 1, ('mahfuuzmean', -1): 1, ('078', 1): 1, ('enufcredeit', -1): 1, ('tocallshal', -1): 1, ('ileav', -1): 1, ('okor', -1): 1, ('ibor', -1): 1, ('zero', -1): 1, ('goigng', -1): 1, ('perfum', -1): 1, ('sday', -1): 1, ('joinedso', -1): 1, ('grocer', -1): 1, ('franki', -1): 1, ('benni', -1): 1, ('warner', -1): 1, ('VE', 1): 2, ('diaper', -1): 1, ('unlik', -1): 1, ('patient', -1): 1, ('turkey', -1): 1, ('dawher', -1): 1, ('garden', 1): 2, ('bulb', 1): 2, ('seed', 1): 2, ('3350', 1): 2, ('scotsman', 1): 2, ('go2', 1): 2, ('notxtcouk', 1): 2, ('wenev', -1): 1, ('familymay', -1): 1, ('stabil', -1): 1, ('tranquil', -1): 1, ('vibrant', -1): 1, ('renew', -1): 1, ('bawl', -1): 1, ('failur', -1): 1, ('SI', -1): 1, ('velusami', -1): 1, ('facil', -1): 1, ('karnan', -1): 1, ('bluray', -1): 1, ('salt', -1): 1, ('wound', -1): 1, ('geoenvironment', -1): 1, ('implic', -1): 1, ('gentli', -1): 1, ('fuuuuck', -1): 1, ('salmon', -1): 1, ('wrkin', -1): 1, ('ree', 1): 1, ('mayb', 1): 2, ('compens', 1): 1, ('awkward', -1): 1, ('splash', -1): 1, ('musta', -1): 1, ('overdid', -1): 1, ('wwwtelediscountcouk', 1): 1, ('discount', -1): 2, ('hiwhat', -1): 1, ('gastroenter', -1): 2, ('reduc', -1): 2, ('chuck', -1): 1, ('nightsw', -1): 1, ('port', -1): 1, ('liaotoo', -1): 1, ('juswok', -1): 1, ('boatin', -1): 1, ('spinout', -1): 1, ('remet', -1): 1, ('08715203656', 1): 1, ('42049', 1): 1, ('261004', 1): 1, ('uworld', -1): 1, ('qbank', -1): 1, ('assess', -1): 1, ('someonon', 1): 1, ('09064015307', 1): 1, ('tke', -1): 1, ('temal', -1): 1, ('vidnot', -1): 1, ('finishd', -1): 1, ('09061213237', 1): 2, ('177', 1): 2, ('m227xi', 1): 2, ('dull', -1): 1, ('treadmil', -1): 1, ('craigslist', -1): 1, ('absolut', -1): 1, ('drmstake', -1): 1, ('swan', -1): 1, ('ER', -1): 1, ('moyep', -1): 1, ('sall', -1): 1, ('hehe', -1): 1, ('shexi', -1): 1, ('Xx', -1): 1, ('teethif', -1): 1, ('asapok', -1): 1, ('hellohow', -1): 1, ('doingwhat', -1): 1, ('2when', -1): 1, ('lamp', -1): 1, ('latebut', -1): 1, ('kwish', -1): 1, ('foward', -1): 1, ('09061790126', 1): 1, ('misundrstud', -1): 1, ('2u2', -1): 1, ('gene', -1): 1, ('wwwldewcom1win150ppmx3age16subscript', 1): 1, ('reappli', -1): 1, ('treatin', -1): 1, ('treacl', -1): 1, ('mumha', -1): 1, ('beendrop', -1): 1, ('theplac', -1): 1, ('adress', -1): 1, ('moneyi', -1): 1, ('favorit', -1): 2, ('oyster', -1): 1, ('sashimi', -1): 1, ('rumbl', -1): 1, ('marandratha', -1): 1, ('topic', -1): 1, ('correctli', -1): 1, ('sirsalam', -1): 1, ('alaikkumprid', -1): 1, ('shopw', -1): 1, ('qatarrakhesh', -1): 1, ('indianpl', -1): 1, ('numberrespect', -1): 1, ('galcan', -1): 1, ('boyi', -1): 1, ('galno', -1): 1, ('heaven', -1): 1, ('princegn', -1): 1, ('pisc', -1): 1, ('aquariu', -1): 1, ('2yr', -1): 1, ('steyn', -1): 1, ('wicket', -1): 1, ('sterm', -1): 1, ('resolv', -1): 1, ('jam', -1): 1, ('hannaford', -1): 1, ('wheat', -1): 1, ('chex', -1): 1, ('pride', -1): 1, ('grownup', -1): 1, ('stuffwhi', -1): 1, ('jerk', -1): 1, ('stink', -1): 1, ('textcomp', 1): 1, ('subsequ', 1): 1, ('charged150pmsg2', 1): 1, ('84128custcar', 1): 1, ('upcharg', -1): 1, ('8hr', -1): 1, ('guai', -1): 1, ('be', -1): 1, ('bottl', -1): 3, ('amus', -1): 2, ('astrolog', -1): 1, ('slack', -1): 1, ('officestil', -1): 1, ('formsdon', -1): 1, ('mentor', -1): 1, ('100', -1): 1, ('percent', -1): 1, ('09095350301', 1): 1, ('erot', 1): 1, ('ecstaci', 1): 1, ('dept', 1): 1, ('13404', 1): 1, ('08717507382', 1): 1, ('datingi', 1): 1, ('two', 1): 1, ('radio', 1): 1, ('ani', 1): 1, ('coincid', 1): 1, ('sane', -1): 1, ('lead', 1): 1, ('151', 1): 1, ('paus', 1): 1, ('gr8prize', 1): 1, ('8800', 1): 1, ('psp', 1): 1, ('wktxt', 1): 1, ('httpwwwgr8prizescom', 1): 1, ('spacebuck', -1): 1, ('02070836089', 1): 1, ('squeez', -1): 1, ('meremov', -1): 1, ('5I', -1): 1, ('dread', -1): 1, ('thou', -1): 1, ('forgt', -1): 1, ('ajith', -1): 1, ('ooooooh', -1): 1, ('yovil', -1): 1, ('mega', -1): 1, ('asda', -1): 1, ('bff', -1): 1, ('carli', -1): 1, ('someonethat', -1): 1, ('seperated鈥', -1): 1, ('〨ud', -1): 1, ('brolli', -1): 1, ('franxx', -1): 1, ('welli', -1): 1, ('prometazin', -1): 1, ('syrup', -1): 1, ('5ml', -1): 1, ('feed', -1): 1, ('shu', -1): 2, ('singapor', -1): 1, ('victoria', -1): 1, ('pocay', -1): 1, ('wocay', -1): 1, ('2morrowxxxx', -1): 1, ('broth', -1): 1, ('ramen', -1): 1, ('fowler', -1): 1, ('ksri', -1): 1, ('sivatat', -1): 1, ('flew', -1): 1, ('09058094583', 1): 1, ('1526', -1): 1, ('pubcaf', -1): 1, ('attent', -1): 1, ('tix', -1): 1, ('fne', -1): 1, ('youdo', -1): 1, ('worc', -1): 1, ('foreg', -1): 1, ('shrub', -1): 1, ('get4an18th', -1): 1, ('32000', 1): 1, ('legitimat', 1): 1, ('efreefon', 1): 1, ('wat', 1): 1, ('shopth', -1): 1, ('pendent', -1): 1, ('polic', 1): 1, ('station', 1): 1, ('toilet', 1): 1, ('stolen', 1): 1, ('cop', 1): 1, ('HU', -1): 1, ('navig', -1): 1, ('guidanc', -1): 1, ('chick', -1): 1, ('boob', -1): 1, ('reveal', -1): 1, ('sparkl', 1): 1, ('45', 1): 1, ('0121', 1): 1, ('2025050', 1): 1, ('wwwshortbreaksorguk', 1): 1, ('gyno', -1): 1, ('wwwgambtv', 1): 1, ('treasur', -1): 1, ('wmlid820554ad0a1705572711firsttru', 1): 1, ('09050000332', 1): 1, ('neg', -1): 1, ('hmmmm', -1): 1, ('dhoni', -1): 1, ('titleso', -1): 1, ('command', -1): 1, ('holbi', -1): 1, ('09064017295', 1): 1, ('li', -1): 1, ('yeovil', -1): 1, ('motor', -1): 1, ('max', -1): 1, ('rhode', -1): 1, ('bong', -1): 1, ('ofcours', -1): 1, ('2p', 1): 2, ('08448350055', 1): 1, ('planettalkinstantcom', 1): 1, ('loti', -1): 1, ('marvel', 1): 1, ('ultim', 1): 1, ('spiderman', 1): 1, ('spider', 1): 1, ('83338', 1): 1, ('8ball', 1): 1, ('tamilnaduthen', -1): 1, ('tip', -1): 1, ('07808247860', 1): 1, ('08719899229', 1): 1, ('40411', 1): 1, ('061104', 1): 1, ('apo', -1): 1, ('identif', -1): 1, ('boundari', -1): 1, ('endless', -1): 1, ('lorw', -1): 1, ('young', -1): 1, ('referin', -1): 1, ('liaoso', -1): 1, ('saibaba', -1): 1, ('colani', -1): 1, ('chic', -1): 1, ('declar', -1): 1, ('49557', 1): 1, ('261104', 1): 1, ('disappoint', -1): 1, ('tantrum', -1): 1, ('compliment', -1): 1, ('chief', -1): 1, ('gsex', 1): 1, ('2667', 1): 1, ('wc1n', 1): 1, ('3xx', 1): 1, ('3mobil', 1): 1, ('IF', 1): 1, ('chatlin', 1): 1, ('inclu', 1): 1, ('india', 1): 1, ('serv', 1): 1, ('sed', 1): 1, ('l8er', 1): 1, ('mega', 1): 1, ('giv', 1): 1, ('shit', 1): 1, ('bailiff', 1): 1, ('O', 1): 1, ('mous', -1): 1, ('desk', -1): 1, ('Ic', -1): 1, ('childporn', -1): 1, ('jumper', -1): 1, ('hat', -1): 1, ('belt', -1): 1, ('cribb', -1): 1, ('spiritu', -1): 1, ('sudden', -1): 1, ('influx', -1): 1, ('kane', -1): 1, ('shud', -1): 1, ('pshewmiss', -1): 1, ('unit', -1): 1, ('accent', -1): 1, ('4year', -1): 1, ('dental', -1): 1, ('nmde', -1): 1, ('dump', -1): 1, ('heap', -1): 1, ('soni', -1): 1, ('salesman', -1): 1, ('hous', 1): 1, ('087187272008', 1): 1, ('now1', 1): 1, ('piti', -1): 1, ('soani', -1): 1}\n"
     ]
    }
   ],
   "source": [
    "print(data_freq)"
   ]
  },
  {
   "cell_type": "code",
   "execution_count": 23,
   "metadata": {},
   "outputs": [
    {
     "data": {
      "text/plain": [
       "9308"
      ]
     },
     "execution_count": 23,
     "metadata": {},
     "output_type": "execute_result"
    }
   ],
   "source": [
    "len(data_freq)"
   ]
  },
  {
   "cell_type": "code",
   "execution_count": 24,
   "metadata": {},
   "outputs": [],
   "source": [
    "#Obtain an example\n",
    "sample = set(X[2178][0])"
   ]
  },
  {
   "cell_type": "code",
   "execution_count": 25,
   "metadata": {},
   "outputs": [],
   "source": [
    "data_table =[]\n",
    "for text in sample:\n",
    "    pos = 0\n",
    "    neg = 0\n",
    "    \n",
    "    if (text, 1) in data_freq:\n",
    "        pos=data_freq[(text, 1)]\n",
    "    \n",
    "    if (text, -1) in data_freq:\n",
    "        neg = data_freq[(text,-1)]\n",
    "        \n",
    "    data_table.append([text, pos, neg])   "
   ]
  },
  {
   "cell_type": "code",
   "execution_count": 26,
   "metadata": {},
   "outputs": [
    {
     "data": {
      "text/html": [
       "<div>\n",
       "<style scoped>\n",
       "    .dataframe tbody tr th:only-of-type {\n",
       "        vertical-align: middle;\n",
       "    }\n",
       "\n",
       "    .dataframe tbody tr th {\n",
       "        vertical-align: top;\n",
       "    }\n",
       "\n",
       "    .dataframe thead th {\n",
       "        text-align: right;\n",
       "    }\n",
       "</style>\n",
       "<table border=\"1\" class=\"dataframe\">\n",
       "  <thead>\n",
       "    <tr style=\"text-align: right;\">\n",
       "      <th></th>\n",
       "      <th>word</th>\n",
       "      <th>num_pos</th>\n",
       "      <th>num_neg</th>\n",
       "    </tr>\n",
       "  </thead>\n",
       "  <tbody>\n",
       "    <tr>\n",
       "      <th>0</th>\n",
       "      <td>got</td>\n",
       "      <td>7</td>\n",
       "      <td>232</td>\n",
       "    </tr>\n",
       "    <tr>\n",
       "      <th>1</th>\n",
       "      <td>Oh</td>\n",
       "      <td>1</td>\n",
       "      <td>76</td>\n",
       "    </tr>\n",
       "    <tr>\n",
       "      <th>2</th>\n",
       "      <td>what</td>\n",
       "      <td>5</td>\n",
       "      <td>141</td>\n",
       "    </tr>\n",
       "    <tr>\n",
       "      <th>3</th>\n",
       "      <td>job</td>\n",
       "      <td>0</td>\n",
       "      <td>45</td>\n",
       "    </tr>\n",
       "    <tr>\n",
       "      <th>4</th>\n",
       "      <td>k</td>\n",
       "      <td>0</td>\n",
       "      <td>23</td>\n",
       "    </tr>\n",
       "  </tbody>\n",
       "</table>\n",
       "</div>"
      ],
      "text/plain": [
       "   word  num_pos  num_neg\n",
       "0   got        7      232\n",
       "1    Oh        1       76\n",
       "2  what        5      141\n",
       "3   job        0       45\n",
       "4     k        0       23"
      ]
     },
     "execution_count": 26,
     "metadata": {},
     "output_type": "execute_result"
    }
   ],
   "source": [
    "pd.DataFrame(data_table, columns=[\"word\",\"num_pos\",\"num_neg\"])"
   ]
  },
  {
   "cell_type": "code",
   "execution_count": 27,
   "metadata": {},
   "outputs": [
    {
     "data": {
      "image/png": "[encoded data removed]",
      "text/plain": [
       "<Figure size 576x576 with 1 Axes>"
      ]
     },
     "metadata": {
      "needs_background": "light"
     },
     "output_type": "display_data"
    }
   ],
   "source": [
    "fig, ax = plt.subplots(figsize = (8, 8))\n",
    "\n",
    "x = np.log([x[1] + 1 for x in data_table])  #1 added to avoid log(0)\n",
    "y = np.log([x[2] + 1 for x in data_table]) \n",
    "\n",
    "ax.scatter(x, y)  #scatter plot of negative and positive count\n",
    "\n",
    "# assign axis labels\n",
    "plt.xlabel(\"Log Positive count\", fontsize=20)\n",
    "plt.ylabel(\"Log Negative count\", fontsize=20)\n",
    "\n",
    "for i in range(0, len(data_table)): #Annotate the scatter plot with corresponding word\n",
    "    ax.annotate(data_table[i][0], (x[i], y[i]), fontsize=15)\n",
    "\n",
    "ax.plot([0, 9], [0, 9], color = 'red') # red line to divide the 2 areas.\n",
    "plt.show()"
   ]
  },
  {
   "cell_type": "markdown",
   "metadata": {},
   "source": [
    "## Extract positive and negative features"
   ]
  },
  {
   "cell_type": "code",
   "execution_count": 28,
   "metadata": {},
   "outputs": [],
   "source": [
    "def extract_pos_neg_features(X,data_freq):\n",
    "    sample = set(X)\n",
    "    data_table = []\n",
    "    for text in sample:\n",
    "        pos = 0\n",
    "        neg = 0\n",
    "    \n",
    "        if (text, 1) in data_freq:\n",
    "            pos=data_freq[(text, 1)]\n",
    "    \n",
    "        if (text, -1) in data_freq:\n",
    "            neg = data_freq[(text,-1)]\n",
    "        \n",
    "        data_table.append([text, pos, neg]) \n",
    "    \n",
    "    PosValue=0\n",
    "    NegValue=0\n",
    "    for data in data_table:\n",
    "        PosValue += data[1]\n",
    "        NegValue += data[2]\n",
    "    \n",
    "    return [PosValue, NegValue]"
   ]
  },
  {
   "cell_type": "code",
   "execution_count": 29,
   "metadata": {},
   "outputs": [],
   "source": [
    "def extract_pos_neg_features1(X, freqs):\n",
    "    '''This takes in a list containing the text and a word frequency dictionary\n",
    "    For each unique word, it returns the number of occurrences with positive and negative labels '''\n",
    "    sample = set(X)\n",
    "    x = np.zeros((1, 2)) \n",
    "  \n",
    "    for text in sample:\n",
    "        \n",
    "        # increment the word count for both labels\n",
    "        x[0,0] += freqs.get((text,1), 0)   \n",
    "        x[0,1] += freqs.get((text,-1), 0) \n",
    "    \n",
    "    return x"
   ]
  },
  {
   "cell_type": "code",
   "execution_count": 30,
   "metadata": {},
   "outputs": [],
   "source": [
    "pos_neg_data = []\n",
    "\n",
    "for i in range(0,len(X)):\n",
    "    pos_neg_data.append(extract_pos_neg_features1(X[i][0], data_freq))"
   ]
  },
  {
   "cell_type": "code",
   "execution_count": 31,
   "metadata": {},
   "outputs": [
    {
     "data": {
      "text/html": [
       "<div>\n",
       "<style scoped>\n",
       "    .dataframe tbody tr th:only-of-type {\n",
       "        vertical-align: middle;\n",
       "    }\n",
       "\n",
       "    .dataframe tbody tr th {\n",
       "        vertical-align: top;\n",
       "    }\n",
       "\n",
       "    .dataframe thead th {\n",
       "        text-align: right;\n",
       "    }\n",
       "</style>\n",
       "<table border=\"1\" class=\"dataframe\">\n",
       "  <thead>\n",
       "    <tr style=\"text-align: right;\">\n",
       "      <th></th>\n",
       "      <th>0</th>\n",
       "      <th>1</th>\n",
       "    </tr>\n",
       "  </thead>\n",
       "  <tbody>\n",
       "    <tr>\n",
       "      <th>0</th>\n",
       "      <td>61.0</td>\n",
       "      <td>752.0</td>\n",
       "    </tr>\n",
       "    <tr>\n",
       "      <th>1</th>\n",
       "      <td>62.0</td>\n",
       "      <td>956.0</td>\n",
       "    </tr>\n",
       "    <tr>\n",
       "      <th>2</th>\n",
       "      <td>919.0</td>\n",
       "      <td>562.0</td>\n",
       "    </tr>\n",
       "    <tr>\n",
       "      <th>3</th>\n",
       "      <td>91.0</td>\n",
       "      <td>621.0</td>\n",
       "    </tr>\n",
       "    <tr>\n",
       "      <th>4</th>\n",
       "      <td>107.0</td>\n",
       "      <td>2038.0</td>\n",
       "    </tr>\n",
       "    <tr>\n",
       "      <th>...</th>\n",
       "      <td>...</td>\n",
       "      <td>...</td>\n",
       "    </tr>\n",
       "    <tr>\n",
       "      <th>5567</th>\n",
       "      <td>1238.0</td>\n",
       "      <td>2052.0</td>\n",
       "    </tr>\n",
       "    <tr>\n",
       "      <th>5568</th>\n",
       "      <td>32.0</td>\n",
       "      <td>790.0</td>\n",
       "    </tr>\n",
       "    <tr>\n",
       "      <th>5569</th>\n",
       "      <td>0.0</td>\n",
       "      <td>15.0</td>\n",
       "    </tr>\n",
       "    <tr>\n",
       "      <th>5570</th>\n",
       "      <td>388.0</td>\n",
       "      <td>2309.0</td>\n",
       "    </tr>\n",
       "    <tr>\n",
       "      <th>5571</th>\n",
       "      <td>23.0</td>\n",
       "      <td>185.0</td>\n",
       "    </tr>\n",
       "  </tbody>\n",
       "</table>\n",
       "<p>5572 rows × 2 columns</p>\n",
       "</div>"
      ],
      "text/plain": [
       "           0       1\n",
       "0       61.0   752.0\n",
       "1       62.0   956.0\n",
       "2      919.0   562.0\n",
       "3       91.0   621.0\n",
       "4      107.0  2038.0\n",
       "...      ...     ...\n",
       "5567  1238.0  2052.0\n",
       "5568    32.0   790.0\n",
       "5569     0.0    15.0\n",
       "5570   388.0  2309.0\n",
       "5571    23.0   185.0\n",
       "\n",
       "[5572 rows x 2 columns]"
      ]
     },
     "execution_count": 31,
     "metadata": {},
     "output_type": "execute_result"
    }
   ],
   "source": [
    "pd.DataFrame(np.squeeze(pos_neg_data))"
   ]
  },
  {
   "cell_type": "code",
   "execution_count": 32,
   "metadata": {},
   "outputs": [],
   "source": [
    "xtr = np.squeeze(pos_neg_data)"
   ]
  },
  {
   "cell_type": "code",
   "execution_count": 33,
   "metadata": {},
   "outputs": [],
   "source": [
    "Y[Y==-1]=0"
   ]
  },
  {
   "cell_type": "code",
   "execution_count": 34,
   "metadata": {},
   "outputs": [],
   "source": [
    "ytr = np.squeeze(Y)"
   ]
  },
  {
   "cell_type": "code",
   "execution_count": 35,
   "metadata": {},
   "outputs": [
    {
     "name": "stdout",
     "output_type": "stream",
     "text": [
      "5238 training examples and 2 features\n",
      "167 validation examples and 2 features\n",
      "167 testing examples and 2 features\n"
     ]
    }
   ],
   "source": [
    "# Split data into Training, Test and Validation data sets\n",
    "xtr, xva, xte, ytr, yva, yte = splitdata(xtr, ytr, 18, 0.94)"
   ]
  },
  {
   "cell_type": "code",
   "execution_count": 36,
   "metadata": {},
   "outputs": [
    {
     "name": "stdout",
     "output_type": "stream",
     "text": [
      "Training set has 709 positive and 4529 negative labels\n",
      "Validation set has 19 positive and 148 negative labels\n",
      "Test set has 19 positive and 148 negative labels\n",
      "\n",
      "\n"
     ]
    },
    {
     "data": {
      "image/png": "[encoded data removed]",
      "text/plain": [
       "<Figure size 1296x432 with 3 Axes>"
      ]
     },
     "metadata": {},
     "output_type": "display_data"
    },
    {
     "name": "stdout",
     "output_type": "stream",
     "text": [
      "\n",
      "\n",
      "\n",
      "\n"
     ]
    },
    {
     "data": {
      "image/png": "[encoded data removed]",
      "text/plain": [
       "<Figure size 720x360 with 1 Axes>"
      ]
     },
     "metadata": {
      "needs_background": "light"
     },
     "output_type": "display_data"
    }
   ],
   "source": [
    "plot_dataset_distrib(xtr, xva, xte, ytr, yva, yte)"
   ]
  },
  {
   "cell_type": "code",
   "execution_count": 37,
   "metadata": {},
   "outputs": [],
   "source": [
    "xtr, xva, xte, ytr, yva, yte = transposeAll(xtr, xva, xte, ytr, yva, yte)"
   ]
  },
  {
   "cell_type": "markdown",
   "metadata": {},
   "source": [
    "# Run Logistic Regression"
   ]
  },
  {
   "cell_type": "code",
   "execution_count": 38,
   "metadata": {},
   "outputs": [
    {
     "data": {
      "text/plain": [
       "(2, 5238)"
      ]
     },
     "execution_count": 38,
     "metadata": {},
     "output_type": "execute_result"
    }
   ],
   "source": [
    "xtr.shape"
   ]
  },
  {
   "cell_type": "code",
   "execution_count": 39,
   "metadata": {},
   "outputs": [],
   "source": [
    "w,b = initalise_parameters(xtr)"
   ]
  },
  {
   "cell_type": "code",
   "execution_count": 40,
   "metadata": {},
   "outputs": [
    {
     "data": {
      "text/plain": [
       "(2, 1)"
      ]
     },
     "execution_count": 40,
     "metadata": {},
     "output_type": "execute_result"
    }
   ],
   "source": [
    "w.shape"
   ]
  },
  {
   "cell_type": "code",
   "execution_count": 41,
   "metadata": {},
   "outputs": [
    {
     "data": {
      "text/plain": [
       "(2, 5238)"
      ]
     },
     "execution_count": 41,
     "metadata": {},
     "output_type": "execute_result"
    }
   ],
   "source": [
    "xtr.shape"
   ]
  },
  {
   "cell_type": "code",
   "execution_count": 42,
   "metadata": {},
   "outputs": [
    {
     "data": {
      "text/plain": [
       "(1, 5238)"
      ]
     },
     "execution_count": 42,
     "metadata": {},
     "output_type": "execute_result"
    }
   ],
   "source": [
    "b.shape\n",
    "ytr.shape"
   ]
  },
  {
   "cell_type": "code",
   "execution_count": 43,
   "metadata": {},
   "outputs": [],
   "source": [
    "cc=np.dot(w.T, xtr)"
   ]
  },
  {
   "cell_type": "code",
   "execution_count": 44,
   "metadata": {},
   "outputs": [
    {
     "data": {
      "text/plain": [
       "(1, 5238)"
      ]
     },
     "execution_count": 44,
     "metadata": {},
     "output_type": "execute_result"
    }
   ],
   "source": [
    "cc.shape"
   ]
  },
  {
   "cell_type": "code",
   "execution_count": 45,
   "metadata": {},
   "outputs": [],
   "source": [
    "grads, cost = propagate(w, b, xtr, ytr)"
   ]
  },
  {
   "cell_type": "code",
   "execution_count": 46,
   "metadata": {},
   "outputs": [
    {
     "data": {
      "text/plain": [
       "{'dw': array([[  6.0486827 ],\n",
       "        [402.42812142]]),\n",
       " 'db': 0.3646429935089729}"
      ]
     },
     "execution_count": 46,
     "metadata": {},
     "output_type": "execute_result"
    }
   ],
   "source": [
    "grads"
   ]
  },
  {
   "cell_type": "code",
   "execution_count": 47,
   "metadata": {},
   "outputs": [
    {
     "data": {
      "text/plain": [
       "0.6931471805599453"
      ]
     },
     "execution_count": 47,
     "metadata": {},
     "output_type": "execute_result"
    }
   ],
   "source": [
    "cost"
   ]
  },
  {
   "cell_type": "code",
   "execution_count": 48,
   "metadata": {},
   "outputs": [],
   "source": [
    "#ytr = np.squeeze(ytr.reshape(1,4736))\n",
    "#ytr"
   ]
  },
  {
   "cell_type": "code",
   "execution_count": 49,
   "metadata": {},
   "outputs": [
    {
     "data": {
      "text/plain": [
       "(1, 5238)"
      ]
     },
     "execution_count": 49,
     "metadata": {},
     "output_type": "execute_result"
    }
   ],
   "source": [
    "ytr.shape"
   ]
  },
  {
   "cell_type": "code",
   "execution_count": 50,
   "metadata": {},
   "outputs": [],
   "source": [
    "#YY = ytr.reshape((1,3266))"
   ]
  },
  {
   "cell_type": "code",
   "execution_count": 51,
   "metadata": {},
   "outputs": [],
   "source": [
    "#YY.shape"
   ]
  },
  {
   "cell_type": "code",
   "execution_count": 52,
   "metadata": {},
   "outputs": [],
   "source": [
    "x_Mean = np.mean(xtr, axis=1)\n"
   ]
  },
  {
   "cell_type": "code",
   "execution_count": 53,
   "metadata": {},
   "outputs": [
    {
     "data": {
      "text/plain": [
       "array([[ 205.71935853],\n",
       "       [1028.69702176]])"
      ]
     },
     "execution_count": 53,
     "metadata": {},
     "output_type": "execute_result"
    }
   ],
   "source": [
    "x_Mean.reshape(2,1)"
   ]
  },
  {
   "cell_type": "code",
   "execution_count": 54,
   "metadata": {},
   "outputs": [
    {
     "data": {
      "text/plain": [
       "array([[265.8766819 ],\n",
       "       [865.12301709]])"
      ]
     },
     "execution_count": 54,
     "metadata": {},
     "output_type": "execute_result"
    }
   ],
   "source": [
    "x_std = np.std(xtr, axis=1)\n",
    "x_std.reshape(2,1)"
   ]
  },
  {
   "cell_type": "code",
   "execution_count": 55,
   "metadata": {},
   "outputs": [],
   "source": [
    "xtr_norm = (xtr - x_Mean.reshape(2,1))/x_std.reshape(2,1)"
   ]
  },
  {
   "cell_type": "code",
   "execution_count": 56,
   "metadata": {},
   "outputs": [
    {
     "data": {
      "text/plain": [
       "array([[ 0.83979024,  1.8440152 , -0.76997861, ..., -0.30359698,\n",
       "        -0.75493404, -0.57816036],\n",
       "       [-0.15916467,  0.16564463, -1.17982877, ..., -0.39612519,\n",
       "        -0.97985721, -0.23083078]])"
      ]
     },
     "execution_count": 56,
     "metadata": {},
     "output_type": "execute_result"
    }
   ],
   "source": [
    "xtr_norm"
   ]
  },
  {
   "cell_type": "code",
   "execution_count": 57,
   "metadata": {},
   "outputs": [
    {
     "name": "stdout",
     "output_type": "stream",
     "text": [
      "Cost after iteration 0: 0.693147\n",
      "Cost after iteration 10000: 0.218606\n",
      "Cost after iteration 20000: 0.166309\n",
      "Cost after iteration 30000: 0.147785\n",
      "Cost after iteration 40000: 0.138440\n",
      "Cost after iteration 50000: 0.132868\n",
      "Cost after iteration 60000: 0.129207\n",
      "Cost after iteration 70000: 0.126647\n",
      "Cost after iteration 80000: 0.124775\n",
      "Cost after iteration 90000: 0.123361\n"
     ]
    }
   ],
   "source": [
    "params, grads, costs = optimize(w, b, xtr_norm, ytr, 100000, learning_rate=0.0009, print_cost = True)"
   ]
  },
  {
   "cell_type": "code",
   "execution_count": 58,
   "metadata": {},
   "outputs": [],
   "source": [
    "w = params['w']\n",
    "b = params['b']"
   ]
  },
  {
   "cell_type": "code",
   "execution_count": 59,
   "metadata": {},
   "outputs": [
    {
     "data": {
      "text/plain": [
       "[<matplotlib.lines.Line2D at 0x1a3a787e10>]"
      ]
     },
     "execution_count": 59,
     "metadata": {},
     "output_type": "execute_result"
    },
    {
     "data": {
      "image/png": "[encoded data removed]",
      "text/plain": [
       "<Figure size 432x288 with 1 Axes>"
      ]
     },
     "metadata": {
      "needs_background": "light"
     },
     "output_type": "display_data"
    }
   ],
   "source": [
    "plt.plot(costs)"
   ]
  },
  {
   "cell_type": "code",
   "execution_count": 60,
   "metadata": {},
   "outputs": [],
   "source": [
    "#xtr_norm = (xtr - x_Mean.reshape(2,1))/x_std.reshape(2,1)\n",
    "xte_norm = (xte - x_Mean.reshape(2,1))/x_std.reshape(2,1)\n",
    "xva_norm = (xva - x_Mean.reshape(2,1))/x_std.reshape(2,1)"
   ]
  },
  {
   "cell_type": "code",
   "execution_count": 61,
   "metadata": {},
   "outputs": [],
   "source": [
    "Y_prediction_Val, A_Val   = predict(w, b, xva_norm)\n",
    "Y_prediction_Train, A_Train = predict(w, b, xtr_norm)"
   ]
  },
  {
   "cell_type": "code",
   "execution_count": 62,
   "metadata": {},
   "outputs": [
    {
     "name": "stdout",
     "output_type": "stream",
     "text": [
      "Train accuracy: 95.6090110729286\n",
      "Val accuracy: 96.40718562874251\n"
     ]
    }
   ],
   "source": [
    "print(\"Train accuracy: {}\".format(100 - np.mean(np.abs(Y_prediction_Train - ytr)) * 100))\n",
    "print(\"Val accuracy: {}\".format(100 - np.mean(np.abs(Y_prediction_Val - yva)) * 100))"
   ]
  },
  {
   "cell_type": "code",
   "execution_count": 63,
   "metadata": {},
   "outputs": [
    {
     "name": "stdout",
     "output_type": "stream",
     "text": [
      "Test accuracy: 96.40718562874251\n"
     ]
    }
   ],
   "source": [
    "Y_prediction_Test, A_Test = predict(w, b, xte_norm)\n",
    "print(\"Test accuracy: {}\".format(100 - np.mean(np.abs(Y_prediction_Test - yte)) * 100))"
   ]
  },
  {
   "cell_type": "code",
   "execution_count": 64,
   "metadata": {},
   "outputs": [
    {
     "data": {
      "text/plain": [
       "array([[0.02432931, 0.01353132, 0.03178564, 0.00302468, 0.90423229,\n",
       "        0.00353891, 0.00265717, 0.03073838, 0.0031645 , 0.02278069,\n",
       "        0.01246425, 0.01182874, 0.02668759, 0.02110946, 0.02726024,\n",
       "        0.04433467, 0.00444245, 0.02552353, 0.01507666, 0.01120963,\n",
       "        0.02131563, 0.00543737, 0.03289966, 0.01986845, 0.06442232,\n",
       "        0.99948992, 0.0346223 , 0.03074992, 0.02892012, 0.02166089,\n",
       "        0.98309588, 0.01806381, 0.02225753, 0.93186746, 0.03031029,\n",
       "        0.35877336, 0.03464855, 0.98329572, 0.02999094, 0.00468027,\n",
       "        0.01856369, 0.0162523 , 0.01705845, 0.03963023, 0.03122411,\n",
       "        0.02802733, 0.01893606, 0.02619537, 0.0034175 , 0.01054233,\n",
       "        0.07365636, 0.04795977, 0.02707831, 0.01998868, 0.00451947,\n",
       "        0.02924062, 0.99751333, 0.05468815, 0.04419092, 0.02512936,\n",
       "        0.00369747, 0.01818884, 0.42043818, 0.11172964, 0.99707469,\n",
       "        0.02664432, 0.02787426, 0.01550672, 0.43988879, 0.0290475 ,\n",
       "        0.00899695, 0.02830427, 0.9907854 , 0.03858911, 0.02686791,\n",
       "        0.02141355, 0.9786483 , 0.03286813, 0.79660312, 0.00340479,\n",
       "        0.0214064 , 0.02435635, 0.03258223, 0.02727722, 0.00864596,\n",
       "        0.06685842, 0.01475614, 0.07853071, 0.02401618, 0.99622256,\n",
       "        0.0341575 , 0.05977511, 0.02825573, 0.04185144, 0.03031616,\n",
       "        0.04498669, 0.02318577, 0.01524992, 0.02964409, 0.02050096,\n",
       "        0.02109296, 0.00285134, 0.1085207 , 0.00455416, 0.0330824 ,\n",
       "        0.998506  , 0.00311232, 0.02727536, 0.97161744, 0.03816179,\n",
       "        0.02859055, 0.00496083, 0.96587146, 0.8128806 , 0.00406273,\n",
       "        0.02051904, 0.02374109, 0.0278924 , 0.00647164, 0.02088688,\n",
       "        0.0102841 , 0.0464038 , 0.24858014, 0.04008908, 0.00769161,\n",
       "        0.89842577, 0.81762422, 0.00541735, 0.1210388 , 0.00654495,\n",
       "        0.07408875, 0.27233307, 0.37401018, 0.0483382 , 0.03085101,\n",
       "        0.28188385, 0.22214697, 0.01566844, 0.04062135, 0.02887667,\n",
       "        0.00278151, 0.03103807, 0.98892856, 0.01458765, 0.01750626,\n",
       "        0.18078246, 0.01613755, 0.02268642, 0.02023421, 0.19594492,\n",
       "        0.00877844, 0.02463231, 0.01146304, 0.15007372, 0.06498337,\n",
       "        0.03488745, 0.02064664, 0.99758852, 0.02912838, 0.01048115,\n",
       "        0.00348687, 0.0056507 , 0.01689674, 0.03710027, 0.33062367,\n",
       "        0.00562113, 0.01710456]])"
      ]
     },
     "execution_count": 64,
     "metadata": {},
     "output_type": "execute_result"
    }
   ],
   "source": [
    "A_Val"
   ]
  },
  {
   "cell_type": "markdown",
   "metadata": {},
   "source": [
    "Train accuracy: 95.36970567121321 %\n",
    "Val accuracy: 96.41062455132807 %\n",
    "Test accuracy: 95.76453697056712 %\n"
   ]
  },
  {
   "cell_type": "code",
   "execution_count": 148,
   "metadata": {},
   "outputs": [],
   "source": [
    "def EvaluateTest(ylabel, Pred):\n",
    "    \n",
    "    ylabel =  np.asarray(ylabel/1.)\n",
    "    Pred   =  np.asarray(Pred)\n",
    "    \n",
    "    Evaluation = {}\n",
    "    FN,FP,TP,TN = 0,0,0,0\n",
    "   \n",
    "    for i in range(0,ylabel.shape[0]):\n",
    "        if (ylabel[i]==Pred[i]).any():\n",
    "            if (Pred[i]==1).any():\n",
    "                TP+=1\n",
    "            elif Pred[i]!=1:\n",
    "                TN+=1\n",
    "        if (ylabel[i]!=Pred[i]).any():\n",
    "            if (Pred[i]==1).any():\n",
    "                FP+=1\n",
    "            elif Pred[i]!=1:\n",
    "                FN+=1\n",
    "    TOTAL = TP + TN + FP + FN\n",
    "    TPN   = TP+ TN\n",
    "    \n",
    "    print(\"--> The total of {0} predicted with only {1} accurate predictions\".format(TOTAL,TPN))\n",
    "    print('')\n",
    "    print('='*23)\n",
    "    print('Ground Truth comparison')\n",
    "    print('='*23)\n",
    "    print(\"Actual label is True while we predicted True - True Positive\",format(TP))\n",
    "    print(\"Actual label is False while we predicted True - False Positive\",format(FP))\n",
    "    print(\"Actual label is True while we predicted False - False Negative\",format(FN))\n",
    "    print(\"Actual label is False while we predicted False - True Negatve\",format(TN))  \n",
    "    print('') \n",
    "    #try:\n",
    "    Pos        = TP+FP                                   # sum of TP and FP\n",
    "    Neg        = TN+FN\n",
    "    accu       = np.round(((TP+TN)/(TP+FN+FP+TN)*100),2)\n",
    "    #sen        = TP/(TP+FN)  \n",
    "    if (TP+FN) == 0:\n",
    "        sen    = 0\n",
    "        miss   = 0\n",
    "        recall = 0\n",
    "        print(\"No True positives or False negatives predicted\")\n",
    "        print(\"Sensitivity set to zero 0\")\n",
    "        print(\"Miss (false negative rate) set to 0\")\n",
    "        print(\"Recall value set to 0\")\n",
    "        print('='*45)\n",
    "    else:\n",
    "        sen    = np.round(TP/(TP+FN),2)      # true positive rate,sensitivity,recall\n",
    "        miss   = np.round(FN/(TP+FN),2)      # false negative rate, miss\n",
    "        recall = np.round(TP/(TP+FN),2)      # Recall describes the completeness of the classification\n",
    "   \n",
    "    if (TN + FP) == 0:\n",
    "        spec = 0\n",
    "        fall = 0\n",
    "        print(\"No True positives or False negatves predicted\")\n",
    "        print(\"Specificity set to 0\")\n",
    "        print(\"Fallout (false positive rate) set to 0\")\n",
    "        print('='*45)\n",
    "    else:\n",
    "        spec   = np.round(TN/(TN+FP),2)     # true negative rate, specificity7\n",
    "        fall   = np.round(FP/(TN+FP),2)     # false positive rate, fallout\n",
    "    \n",
    "    if (TN+FN) == 0:\n",
    "        NPV = 0\n",
    "        print(\"No Negative outcomes predicted\")\n",
    "        print(\"Negative predicted value set to 0\")\n",
    "        print('='*45)\n",
    "    else:\n",
    "        NPV        = np.round(TN/(TN+FN),2)                  # negative predictive value\n",
    "     \n",
    "    if (TP+FP) == 0:\n",
    "        precision = 0\n",
    "        print(\"No True positives or False positives predicted\")\n",
    "        print('='*45)\n",
    "    else:\n",
    "        precision  = np.round(TP/(TP+FP),2)                  # precision measures the actual accuracy of the classification\n",
    "        \n",
    "    RPP        = np.round((TP+FP)/(TP+FN+FP+TN),2)           # rate of positive predictions\n",
    "    RNP        = np.round((TN+FN)/(TP+FN+FP+TN),2)           # rate of negative predictions\n",
    "    \n",
    "    if (precision + recall) == 0:\n",
    "        Fscore = 0\n",
    "        print(\"Fscore cannot be calculated as denominator is 0\")\n",
    "        print('='*45)\n",
    "    else:\n",
    "        Fscore = np.round(2 * ((precision * recall) / (precision + recall)),2)\n",
    "    \n",
    "    \n",
    "    print(\"--> {} positive outcomes predicted\".format(Pos))\n",
    "    print(\"--> {} negative outcomes predicted\".format(Neg))\n",
    "    print(\"--> An accuracy of {} % was achieved\".format(accu))\n",
    "    print(\"--> Sensitity of {} was achieved\".format(sen))\n",
    "    print(\"--> Specificity of {} was achieved \".format(spec))\n",
    "    print(\"--> {} rate of positive prediction\".format(RPP))\n",
    "    print(\"--> {} rate of negative prediction\".format(RNP))\n",
    "    print(\"--> {} false negative rate was achieved\".format(miss))\n",
    "    print(\"--> {} false positve rate (fallout) was achieved\".format(fall))\n",
    "    print(\"--> Negative predictive value of {}\".format(NPV))\n",
    "    print(\"--> Recall value 0f {} achieved\".format(recall))\n",
    "    print(\"--> The precision vaue of {} achieved\".format(precision))\n",
    "    print(\"--> An Fscore of {} achieved\".format(Fscore))\n",
    "    \n",
    "    \n",
    "    confusion_mat = np.array([[TN, FP], [FN, TP]])\n",
    "    \n",
    "    \n",
    "    plt.figure(figsize=(8,4))\n",
    "\n",
    "    #plt.suptitle(\"Confusion Matrixes\",fontsize=24)\n",
    "    plt.title(\"Confusion Matrix\",fontsize=24)\n",
    "    plt.subplots_adjust(wspace = 0.1, hspace= 0.01)\n",
    "    sns.heatmap(confusion_mat,annot=True,cmap=\"YlGnBu\",fmt='.4g',cbar=True, annot_kws={\"size\":25})\n",
    "    plt.xticks(fontsize=18)\n",
    "    plt.yticks(fontsize=18)\n",
    "    plt.show()\n",
    "    \n",
    "    Evaluation = {\"Pos\": Pos, \"Neg\": Neg, \"Accu\": accu,\"Sen\": sen,\n",
    "                  \"Spec\": spec, \"RPP\": RPP, \"RNP\": RNP, \"Miss\": miss,\n",
    "                  \"Fall\":fall, \"NPV\": NPV,\"Recall\":recall, \"Precision\":precision,\n",
    "                  \"Fscore\":Fscore}\n",
    "    \n",
    "    return Evaluation"
   ]
  },
  {
   "cell_type": "code",
   "execution_count": 157,
   "metadata": {},
   "outputs": [
    {
     "name": "stdout",
     "output_type": "stream",
     "text": [
      "--> The total of 167 predicted with only 161 accurate predictions\n",
      "\n",
      "=======================\n",
      "Ground Truth comparison\n",
      "=======================\n",
      "Actual label is True while we predicted True - True Positive 16\n",
      "Actual label is False while we predicted True - False Positive 3\n",
      "Actual label is True while we predicted False - False Negative 3\n",
      "Actual label is False while we predicted False - True Negatve 145\n",
      "\n",
      "--> 19 positive outcomes predicted\n",
      "--> 148 negative outcomes predicted\n",
      "--> An accuracy of 96.41 % was achieved\n",
      "--> Sensitity of 0.84 was achieved\n",
      "--> Specificity of 0.98 was achieved \n",
      "--> 0.11 rate of positive prediction\n",
      "--> 0.89 rate of negative prediction\n",
      "--> 0.16 false negative rate was achieved\n",
      "--> 0.02 false positve rate (fallout) was achieved\n",
      "--> Negative predictive value of 0.98\n",
      "--> Recall value 0f 0.84 achieved\n",
      "--> The precision vaue of 0.84 achieved\n",
      "--> An Fscore of 0.84 achieved\n"
     ]
    },
    {
     "data": {
      "image/png": "[encoded data removed]",
      "text/plain": [
       "<Figure size 576x288 with 2 Axes>"
      ]
     },
     "metadata": {
      "needs_background": "light"
     },
     "output_type": "display_data"
    },
    {
     "data": {
      "text/plain": [
       "{'Pos': 19,\n",
       " 'Neg': 148,\n",
       " 'Accu': 96.41,\n",
       " 'Sen': 0.84,\n",
       " 'Spec': 0.98,\n",
       " 'RPP': 0.11,\n",
       " 'RNP': 0.89,\n",
       " 'Miss': 0.16,\n",
       " 'Fall': 0.02,\n",
       " 'NPV': 0.98,\n",
       " 'Recall': 0.84,\n",
       " 'Precision': 0.84,\n",
       " 'Fscore': 0.84}"
      ]
     },
     "execution_count": 157,
     "metadata": {},
     "output_type": "execute_result"
    }
   ],
   "source": [
    "EvaluateTest(yva.T, Y_prediction_Val.T)"
   ]
  },
  {
   "cell_type": "code",
   "execution_count": 163,
   "metadata": {},
   "outputs": [
    {
     "data": {
      "text/plain": [
       "(1, 167)"
      ]
     },
     "execution_count": 163,
     "metadata": {},
     "output_type": "execute_result"
    }
   ],
   "source": [
    "Y_prediction_Val.shape"
   ]
  },
  {
   "cell_type": "code",
   "execution_count": 158,
   "metadata": {},
   "outputs": [],
   "source": [
    "from sklearn.metrics import confusion_matrix"
   ]
  },
  {
   "cell_type": "code",
   "execution_count": 161,
   "metadata": {},
   "outputs": [],
   "source": [
    "confusion_matrix?"
   ]
  },
  {
   "cell_type": "code",
   "execution_count": 164,
   "metadata": {},
   "outputs": [],
   "source": [
    "cm = confusion_matrix(Y_prediction_Val.T, yva.T)"
   ]
  },
  {
   "cell_type": "code",
   "execution_count": 165,
   "metadata": {},
   "outputs": [],
   "source": [
    "def plot_confusion_matrix(cm, classes,\n",
    "                         normalize=False,\n",
    "                         title='Confusion matrix',\n",
    "                         cmap=plt.cm.Blues):\n",
    "    '''\n",
    "    This function prints and plots the confusion matrix.\n",
    "    Mormalization can be applied by setting 'normalize=True'.\n",
    "    '''\n",
    "    plt.imshow(cm, interpolation='nearest',cmap=cmap)\n",
    "    plt.title(title)\n",
    "    plt.colorbar()\n",
    "    tick_marks =np.arange(len(classes))\n",
    "    plt.xticks(tick_marks, classes, rotation=45)\n",
    "    plt.yticks(tick_marks, classes)\n",
    "    \n",
    "    if normalize:\n",
    "        cm=cm.astype('float') / cm.sum(axis=1)[:, np.newaxis]\n",
    "        print(\"Normalized confusion matrix\")\n",
    "    else:\n",
    "        print('Confusion matrix, without normalization')\n",
    "    \n",
    "    print(cm)\n",
    "    \n",
    "    thresh = cm.max() / 2.\n",
    "    for i, j in itertools.product(range(cm.shape[0]), range(cm.shape[1])):\n",
    "        plt.text(j, i, cm[i,j],\n",
    "                horizontalalignment=\"center\",\n",
    "                color=\"white\" if cm[i,j] > thresh else \"black\")\n",
    "    \n",
    "    plt.tight_layout()\n",
    "    plt.ylabel('True label')\n",
    "    plt.xlabel('Predicted label')\n",
    "    "
   ]
  },
  {
   "cell_type": "code",
   "execution_count": 166,
   "metadata": {},
   "outputs": [
    {
     "name": "stdout",
     "output_type": "stream",
     "text": [
      "Confusion matrix, without normalization\n",
      "[[145   3]\n",
      " [  3  16]]\n"
     ]
    },
    {
     "ename": "NameError",
     "evalue": "name 'itertools' is not defined",
     "output_type": "error",
     "traceback": [
      "\u001b[0;31m---------------------------------------------------------------------------\u001b[0m",
      "\u001b[0;31mNameError\u001b[0m                                 Traceback (most recent call last)",
      "\u001b[0;32m<ipython-input-166-5d862dd0a33d>\u001b[0m in \u001b[0;36m<module>\u001b[0;34m\u001b[0m\n\u001b[1;32m      1\u001b[0m \u001b[0mcm_plot_labels\u001b[0m \u001b[0;34m=\u001b[0m \u001b[0;34m[\u001b[0m\u001b[0;34m'pos'\u001b[0m\u001b[0;34m,\u001b[0m\u001b[0;34m'neg'\u001b[0m\u001b[0;34m]\u001b[0m\u001b[0;34m\u001b[0m\u001b[0;34m\u001b[0m\u001b[0m\n\u001b[0;32m----> 2\u001b[0;31m \u001b[0mplot_confusion_matrix\u001b[0m\u001b[0;34m(\u001b[0m\u001b[0mcm\u001b[0m\u001b[0;34m=\u001b[0m\u001b[0mcm\u001b[0m\u001b[0;34m,\u001b[0m \u001b[0mclasses\u001b[0m\u001b[0;34m=\u001b[0m\u001b[0mcm_plot_labels\u001b[0m\u001b[0;34m,\u001b[0m \u001b[0mtitle\u001b[0m\u001b[0;34m=\u001b[0m\u001b[0;34m'Confusion Matrix'\u001b[0m\u001b[0;34m)\u001b[0m\u001b[0;34m\u001b[0m\u001b[0;34m\u001b[0m\u001b[0m\n\u001b[0m",
      "\u001b[0;32m<ipython-input-165-090c99f12523>\u001b[0m in \u001b[0;36mplot_confusion_matrix\u001b[0;34m(cm, classes, normalize, title, cmap)\u001b[0m\n\u001b[1;32m     23\u001b[0m \u001b[0;34m\u001b[0m\u001b[0m\n\u001b[1;32m     24\u001b[0m     \u001b[0mthresh\u001b[0m \u001b[0;34m=\u001b[0m \u001b[0mcm\u001b[0m\u001b[0;34m.\u001b[0m\u001b[0mmax\u001b[0m\u001b[0;34m(\u001b[0m\u001b[0;34m)\u001b[0m \u001b[0;34m/\u001b[0m \u001b[0;36m2.\u001b[0m\u001b[0;34m\u001b[0m\u001b[0;34m\u001b[0m\u001b[0m\n\u001b[0;32m---> 25\u001b[0;31m     \u001b[0;32mfor\u001b[0m \u001b[0mi\u001b[0m\u001b[0;34m,\u001b[0m \u001b[0mj\u001b[0m \u001b[0;32min\u001b[0m \u001b[0mitertools\u001b[0m\u001b[0;34m.\u001b[0m\u001b[0mproduct\u001b[0m\u001b[0;34m(\u001b[0m\u001b[0mrange\u001b[0m\u001b[0;34m(\u001b[0m\u001b[0mcm\u001b[0m\u001b[0;34m.\u001b[0m\u001b[0mshape\u001b[0m\u001b[0;34m[\u001b[0m\u001b[0;36m0\u001b[0m\u001b[0;34m]\u001b[0m\u001b[0;34m)\u001b[0m\u001b[0;34m,\u001b[0m \u001b[0mrange\u001b[0m\u001b[0;34m(\u001b[0m\u001b[0mcm\u001b[0m\u001b[0;34m.\u001b[0m\u001b[0mshape\u001b[0m\u001b[0;34m[\u001b[0m\u001b[0;36m1\u001b[0m\u001b[0;34m]\u001b[0m\u001b[0;34m)\u001b[0m\u001b[0;34m)\u001b[0m\u001b[0;34m:\u001b[0m\u001b[0;34m\u001b[0m\u001b[0;34m\u001b[0m\u001b[0m\n\u001b[0m\u001b[1;32m     26\u001b[0m         plt.text(j, i, cm[i,j],\n\u001b[1;32m     27\u001b[0m                 \u001b[0mhorizontalalignment\u001b[0m\u001b[0;34m=\u001b[0m\u001b[0;34m\"center\"\u001b[0m\u001b[0;34m,\u001b[0m\u001b[0;34m\u001b[0m\u001b[0;34m\u001b[0m\u001b[0m\n",
      "\u001b[0;31mNameError\u001b[0m: name 'itertools' is not defined"
     ]
    },
    {
     "data": {
      "image/png": "[encoded data removed]",
      "text/plain": [
       "<Figure size 432x288 with 2 Axes>"
      ]
     },
     "metadata": {
      "needs_background": "light"
     },
     "output_type": "display_data"
    }
   ],
   "source": [
    "cm_plot_labels = ['pos','neg']\n",
    "plot_confusion_matrix(cm=cm, classes=cm_plot_labels, title='Confusion Matrix')"
   ]
  },
  {
   "cell_type": "code",
   "execution_count": null,
   "metadata": {},
   "outputs": [],
   "source": []
  },
  {
   "cell_type": "code",
   "execution_count": 153,
   "metadata": {},
   "outputs": [
    {
     "data": {
      "text/plain": [
       "(1, 167)"
      ]
     },
     "execution_count": 153,
     "metadata": {},
     "output_type": "execute_result"
    }
   ],
   "source": [
    "yva.shape"
   ]
  },
  {
   "cell_type": "code",
   "execution_count": 156,
   "metadata": {},
   "outputs": [
    {
     "data": {
      "text/plain": [
       "array([[ True,  True,  True,  True,  True,  True,  True,  True,  True,\n",
       "         True,  True,  True,  True,  True,  True,  True,  True,  True,\n",
       "         True,  True,  True,  True,  True,  True,  True,  True,  True,\n",
       "         True,  True,  True,  True,  True,  True,  True,  True,  True,\n",
       "         True,  True,  True,  True,  True,  True,  True,  True,  True,\n",
       "         True,  True,  True,  True,  True,  True,  True,  True,  True,\n",
       "         True,  True,  True,  True,  True,  True,  True,  True,  True,\n",
       "         True,  True,  True,  True,  True,  True,  True,  True,  True,\n",
       "         True,  True,  True,  True,  True,  True, False,  True,  True,\n",
       "         True,  True,  True,  True,  True,  True,  True,  True,  True,\n",
       "         True,  True,  True,  True,  True,  True,  True,  True,  True,\n",
       "         True,  True,  True,  True,  True,  True,  True,  True,  True,\n",
       "         True, False,  True,  True,  True, False,  True,  True,  True,\n",
       "         True,  True,  True,  True,  True, False,  True,  True,  True,\n",
       "        False,  True,  True,  True,  True,  True,  True,  True,  True,\n",
       "         True,  True,  True,  True,  True,  True,  True,  True,  True,\n",
       "         True,  True,  True,  True,  True,  True,  True,  True,  True,\n",
       "         True,  True,  True,  True,  True,  True,  True,  True,  True,\n",
       "         True,  True, False,  True,  True]])"
      ]
     },
     "execution_count": 156,
     "metadata": {},
     "output_type": "execute_result"
    }
   ],
   "source": [
    "Y_prediction_Val==yva"
   ]
  },
  {
   "cell_type": "code",
   "execution_count": null,
   "metadata": {},
   "outputs": [],
   "source": []
  },
  {
   "cell_type": "code",
   "execution_count": 154,
   "metadata": {},
   "outputs": [
    {
     "data": {
      "text/plain": [
       "numpy.ndarray"
      ]
     },
     "execution_count": 154,
     "metadata": {},
     "output_type": "execute_result"
    }
   ],
   "source": [
    "type(Y_prediction_Val)"
   ]
  },
  {
   "cell_type": "code",
   "execution_count": null,
   "metadata": {},
   "outputs": [],
   "source": []
  },
  {
   "cell_type": "code",
   "execution_count": null,
   "metadata": {},
   "outputs": [],
   "source": []
  },
  {
   "cell_type": "code",
   "execution_count": 95,
   "metadata": {},
   "outputs": [],
   "source": [
    "pred_label=yva"
   ]
  },
  {
   "cell_type": "code",
   "execution_count": 99,
   "metadata": {},
   "outputs": [],
   "source": [
    "index=np.argsort(np.squeeze(-A_Val))\n",
    "Y_pred_arranged = np.asarray(pred_label[:,index])\n",
    "        "
   ]
  },
  {
   "cell_type": "code",
   "execution_count": 100,
   "metadata": {},
   "outputs": [
    {
     "data": {
      "text/plain": [
       "array([[1, 1, 1, 1, 1, 1, 1, 1, 1, 1, 1, 1, 1, 1, 1, 1, 0, 0, 0, 0, 0, 0,\n",
       "        0, 1, 0, 0, 1, 0, 0, 0, 0, 0, 0, 0, 0, 0, 0, 0, 0, 0, 0, 0, 0, 0,\n",
       "        0, 0, 0, 0, 0, 0, 0, 0, 0, 1, 0, 0, 0, 0, 0, 0, 0, 0, 0, 0, 0, 0,\n",
       "        0, 0, 0, 0, 0, 0, 0, 0, 0, 0, 0, 0, 0, 0, 0, 0, 0, 0, 0, 0, 0, 0,\n",
       "        0, 0, 0, 0, 0, 0, 0, 0, 0, 0, 0, 0, 0, 0, 0, 0, 0, 0, 0, 0, 0, 0,\n",
       "        0, 0, 0, 0, 0, 0, 0, 0, 0, 0, 0, 0, 0, 0, 0, 0, 0, 0, 0, 0, 0, 0,\n",
       "        0, 0, 0, 0, 0, 0, 0, 0, 0, 0, 0, 0, 0, 0, 0, 0, 0, 0, 0, 0, 0, 0,\n",
       "        0, 0, 0, 0, 0, 0, 0, 0, 0, 0, 0, 0, 0]])"
      ]
     },
     "execution_count": 100,
     "metadata": {},
     "output_type": "execute_result"
    }
   ],
   "source": [
    "Y_pred_arranged"
   ]
  },
  {
   "cell_type": "code",
   "execution_count": 142,
   "metadata": {},
   "outputs": [],
   "source": []
  },
  {
   "cell_type": "code",
   "execution_count": 147,
   "metadata": {},
   "outputs": [
    {
     "data": {
      "text/plain": [
       "numpy.ndarray"
      ]
     },
     "execution_count": 147,
     "metadata": {},
     "output_type": "execute_result"
    }
   ],
   "source": [
    "type(A_Train)"
   ]
  },
  {
   "cell_type": "code",
   "execution_count": 143,
   "metadata": {},
   "outputs": [
    {
     "data": {
      "image/png": "[encoded data removed]",
      "text/plain": [
       "<Figure size 432x288 with 1 Axes>"
      ]
     },
     "metadata": {
      "needs_background": "light"
     },
     "output_type": "display_data"
    },
    {
     "name": "stdout",
     "output_type": "stream",
     "text": [
      "--> An AUC value of 0.97 achieved\n"
     ]
    }
   ],
   "source": [
    "computeRoc2(ytr, A_Train)"
   ]
  },
  {
   "cell_type": "code",
   "execution_count": 144,
   "metadata": {},
   "outputs": [
    {
     "data": {
      "image/png": "[encoded data removed]",
      "text/plain": [
       "<Figure size 432x288 with 1 Axes>"
      ]
     },
     "metadata": {
      "needs_background": "light"
     },
     "output_type": "display_data"
    },
    {
     "name": "stdout",
     "output_type": "stream",
     "text": [
      "--> An AUC value of 0.97 achieved\n"
     ]
    }
   ],
   "source": [
    "computeRoc2(yte, A_Test)"
   ]
  },
  {
   "cell_type": "code",
   "execution_count": 145,
   "metadata": {},
   "outputs": [
    {
     "data": {
      "image/png": "[encoded data removed]",
      "text/plain": [
       "<Figure size 432x288 with 1 Axes>"
      ]
     },
     "metadata": {
      "needs_background": "light"
     },
     "output_type": "display_data"
    },
    {
     "name": "stdout",
     "output_type": "stream",
     "text": [
      "--> An AUC value of 0.98 achieved\n"
     ]
    }
   ],
   "source": [
    "computeRoc2(yva, A_Val)"
   ]
  },
  {
   "cell_type": "code",
   "execution_count": 136,
   "metadata": {},
   "outputs": [
    {
     "data": {
      "text/plain": [
       "167"
      ]
     },
     "execution_count": 136,
     "metadata": {},
     "output_type": "execute_result"
    }
   ],
   "source": [
    "L = Y_pred_arranged.shape[1]\n",
    "L"
   ]
  },
  {
   "cell_type": "code",
   "execution_count": 122,
   "metadata": {},
   "outputs": [
    {
     "data": {
      "text/plain": [
       "array([], dtype=float64)"
      ]
     },
     "execution_count": 122,
     "metadata": {},
     "output_type": "execute_result"
    }
   ],
   "source": [
    "stack_x[1:L] - stack_x[0:L-1]"
   ]
  },
  {
   "cell_type": "code",
   "execution_count": 132,
   "metadata": {},
   "outputs": [
    {
     "data": {
      "text/plain": [
       "1"
      ]
     },
     "execution_count": 132,
     "metadata": {},
     "output_type": "execute_result"
    }
   ],
   "source": [
    "L"
   ]
  },
  {
   "cell_type": "code",
   "execution_count": 127,
   "metadata": {},
   "outputs": [
    {
     "data": {
      "text/plain": [
       "array([], dtype=float64)"
      ]
     },
     "execution_count": 127,
     "metadata": {},
     "output_type": "execute_result"
    }
   ],
   "source": [
    "stack_x[1:L] "
   ]
  },
  {
   "cell_type": "code",
   "execution_count": 131,
   "metadata": {},
   "outputs": [
    {
     "data": {
      "text/plain": [
       "array([0.10526316, 0.15789474, 0.21052632, 0.26315789, 0.31578947,\n",
       "       0.36842105, 0.42105263, 0.47368421])"
      ]
     },
     "execution_count": 131,
     "metadata": {},
     "output_type": "execute_result"
    }
   ],
   "source": [
    "stack_y[1:9]"
   ]
  },
  {
   "cell_type": "code",
   "execution_count": 119,
   "metadata": {},
   "outputs": [
    {
     "data": {
      "text/plain": [
       "74.58641536273115"
      ]
     },
     "execution_count": 119,
     "metadata": {},
     "output_type": "execute_result"
    }
   ],
   "source": [
    "sum(stack_x*stack_y)"
   ]
  },
  {
   "cell_type": "code",
   "execution_count": 114,
   "metadata": {},
   "outputs": [],
   "source": [
    "from sklearn.metrics import roc_auc_score\n",
    "auc=  roc_auc_score(np.squeeze(yva), np.squeeze(A_Val))"
   ]
  },
  {
   "cell_type": "code",
   "execution_count": 115,
   "metadata": {},
   "outputs": [
    {
     "data": {
      "text/plain": [
       "0.9818634423897581"
      ]
     },
     "execution_count": 115,
     "metadata": {},
     "output_type": "execute_result"
    }
   ],
   "source": [
    "auc"
   ]
  },
  {
   "cell_type": "code",
   "execution_count": 110,
   "metadata": {},
   "outputs": [],
   "source": [
    "roc_auc_score?"
   ]
  },
  {
   "cell_type": "code",
   "execution_count": 112,
   "metadata": {},
   "outputs": [
    {
     "data": {
      "text/plain": [
       "(167,)"
      ]
     },
     "execution_count": 112,
     "metadata": {},
     "output_type": "execute_result"
    }
   ],
   "source": [
    "np.squeeze(yva).shape"
   ]
  },
  {
   "cell_type": "code",
   "execution_count": 73,
   "metadata": {},
   "outputs": [],
   "source": [
    "np.sort?"
   ]
  },
  {
   "cell_type": "code",
   "execution_count": 79,
   "metadata": {},
   "outputs": [
    {
     "ename": "AttributeError",
     "evalue": "'numpy.ndarray' object has no attribute 'index'",
     "output_type": "error",
     "traceback": [
      "\u001b[0;31m---------------------------------------------------------------------------\u001b[0m",
      "\u001b[0;31mAttributeError\u001b[0m                            Traceback (most recent call last)",
      "\u001b[0;32m<ipython-input-79-ff58ef41ec5a>\u001b[0m in \u001b[0;36m<module>\u001b[0;34m\u001b[0m\n\u001b[0;32m----> 1\u001b[0;31m \u001b[0ml2\u001b[0m \u001b[0;34m=\u001b[0m \u001b[0;34m[\u001b[0m\u001b[0mA_Val\u001b[0m\u001b[0;34m.\u001b[0m\u001b[0mindex\u001b[0m\u001b[0;34m(\u001b[0m\u001b[0mx\u001b[0m\u001b[0;34m)\u001b[0m \u001b[0;32mfor\u001b[0m \u001b[0mx\u001b[0m \u001b[0;32min\u001b[0m \u001b[0msorted\u001b[0m\u001b[0;34m(\u001b[0m\u001b[0mnp\u001b[0m\u001b[0;34m.\u001b[0m\u001b[0msqueeze\u001b[0m\u001b[0;34m(\u001b[0m\u001b[0mA_Val\u001b[0m\u001b[0;34m)\u001b[0m\u001b[0;34m,\u001b[0m \u001b[0mreverse\u001b[0m\u001b[0;34m=\u001b[0m\u001b[0;32mTrue\u001b[0m\u001b[0;34m)\u001b[0m\u001b[0;34m]\u001b[0m\u001b[0;34m\u001b[0m\u001b[0;34m\u001b[0m\u001b[0m\n\u001b[0m",
      "\u001b[0;32m<ipython-input-79-ff58ef41ec5a>\u001b[0m in \u001b[0;36m<listcomp>\u001b[0;34m(.0)\u001b[0m\n\u001b[0;32m----> 1\u001b[0;31m \u001b[0ml2\u001b[0m \u001b[0;34m=\u001b[0m \u001b[0;34m[\u001b[0m\u001b[0mA_Val\u001b[0m\u001b[0;34m.\u001b[0m\u001b[0mindex\u001b[0m\u001b[0;34m(\u001b[0m\u001b[0mx\u001b[0m\u001b[0;34m)\u001b[0m \u001b[0;32mfor\u001b[0m \u001b[0mx\u001b[0m \u001b[0;32min\u001b[0m \u001b[0msorted\u001b[0m\u001b[0;34m(\u001b[0m\u001b[0mnp\u001b[0m\u001b[0;34m.\u001b[0m\u001b[0msqueeze\u001b[0m\u001b[0;34m(\u001b[0m\u001b[0mA_Val\u001b[0m\u001b[0;34m)\u001b[0m\u001b[0;34m,\u001b[0m \u001b[0mreverse\u001b[0m\u001b[0;34m=\u001b[0m\u001b[0;32mTrue\u001b[0m\u001b[0;34m)\u001b[0m\u001b[0;34m]\u001b[0m\u001b[0;34m\u001b[0m\u001b[0;34m\u001b[0m\u001b[0m\n\u001b[0m",
      "\u001b[0;31mAttributeError\u001b[0m: 'numpy.ndarray' object has no attribute 'index'"
     ]
    }
   ],
   "source": [
    "l2 = [A_Val.index(x) for x in sorted(np.squeeze(A_Val), reverse=True)]"
   ]
  },
  {
   "cell_type": "code",
   "execution_count": 80,
   "metadata": {},
   "outputs": [],
   "source": [
    "sorted?"
   ]
  },
  {
   "cell_type": "code",
   "execution_count": 86,
   "metadata": {},
   "outputs": [],
   "source": [
    "index=np.argsort(np.squeeze(-A_Val))"
   ]
  },
  {
   "cell_type": "code",
   "execution_count": 89,
   "metadata": {},
   "outputs": [
    {
     "data": {
      "text/plain": [
       "array([[0.99948992, 0.998506  , 0.99758852, 0.99751333, 0.99707469,\n",
       "        0.99622256, 0.9907854 , 0.98892856, 0.98329572, 0.98309588,\n",
       "        0.9786483 , 0.97161744, 0.96587146, 0.93186746, 0.90423229,\n",
       "        0.89842577, 0.81762422, 0.8128806 , 0.79660312, 0.43988879,\n",
       "        0.42043818, 0.37401018, 0.35877336, 0.33062367, 0.28188385,\n",
       "        0.27233307, 0.24858014, 0.22214697, 0.19594492, 0.18078246,\n",
       "        0.15007372, 0.1210388 , 0.11172964, 0.1085207 , 0.07853071,\n",
       "        0.07408875, 0.07365636, 0.06685842, 0.06498337, 0.06442232,\n",
       "        0.05977511, 0.05468815, 0.0483382 , 0.04795977, 0.0464038 ,\n",
       "        0.04498669, 0.04433467, 0.04419092, 0.04185144, 0.04062135,\n",
       "        0.04008908, 0.03963023, 0.03858911, 0.03816179, 0.03710027,\n",
       "        0.03488745, 0.03464855, 0.0346223 , 0.0341575 , 0.0330824 ,\n",
       "        0.03289966, 0.03286813, 0.03258223, 0.03178564, 0.03122411,\n",
       "        0.03103807, 0.03085101, 0.03074992, 0.03073838, 0.03031616,\n",
       "        0.03031029, 0.02999094, 0.02964409, 0.02924062, 0.02912838,\n",
       "        0.0290475 , 0.02892012, 0.02887667, 0.02859055, 0.02830427,\n",
       "        0.02825573, 0.02802733, 0.0278924 , 0.02787426, 0.02727722,\n",
       "        0.02727536, 0.02726024, 0.02707831, 0.02686791, 0.02668759,\n",
       "        0.02664432, 0.02619537, 0.02552353, 0.02512936, 0.02463231,\n",
       "        0.02435635, 0.02432931, 0.02401618, 0.02374109, 0.02318577,\n",
       "        0.02278069, 0.02268642, 0.02225753, 0.02166089, 0.02141355,\n",
       "        0.0214064 , 0.02131563, 0.02110946, 0.02109296, 0.02088688,\n",
       "        0.02064664, 0.02051904, 0.02050096, 0.02023421, 0.01998868,\n",
       "        0.01986845, 0.01893606, 0.01856369, 0.01818884, 0.01806381,\n",
       "        0.01750626, 0.01710456, 0.01705845, 0.01689674, 0.0162523 ,\n",
       "        0.01613755, 0.01566844, 0.01550672, 0.01524992, 0.01507666,\n",
       "        0.01475614, 0.01458765, 0.01353132, 0.01246425, 0.01182874,\n",
       "        0.01146304, 0.01120963, 0.01054233, 0.01048115, 0.0102841 ,\n",
       "        0.00899695, 0.00877844, 0.00864596, 0.00769161, 0.00654495,\n",
       "        0.00647164, 0.0056507 , 0.00562113, 0.00543737, 0.00541735,\n",
       "        0.00496083, 0.00468027, 0.00455416, 0.00451947, 0.00444245,\n",
       "        0.00406273, 0.00369747, 0.00353891, 0.00348687, 0.0034175 ,\n",
       "        0.00340479, 0.0031645 , 0.00311232, 0.00302468, 0.00285134,\n",
       "        0.00278151, 0.00265717]])"
      ]
     },
     "execution_count": 89,
     "metadata": {},
     "output_type": "execute_result"
    }
   ],
   "source": [
    "A_Val[:,zz]"
   ]
  },
  {
   "cell_type": "code",
   "execution_count": 90,
   "metadata": {},
   "outputs": [
    {
     "data": {
      "text/plain": [
       "array([[0.02432931, 0.01353132, 0.03178564, 0.00302468, 0.90423229,\n",
       "        0.00353891, 0.00265717, 0.03073838, 0.0031645 , 0.02278069,\n",
       "        0.01246425, 0.01182874, 0.02668759, 0.02110946, 0.02726024,\n",
       "        0.04433467, 0.00444245, 0.02552353, 0.01507666, 0.01120963,\n",
       "        0.02131563, 0.00543737, 0.03289966, 0.01986845, 0.06442232,\n",
       "        0.99948992, 0.0346223 , 0.03074992, 0.02892012, 0.02166089,\n",
       "        0.98309588, 0.01806381, 0.02225753, 0.93186746, 0.03031029,\n",
       "        0.35877336, 0.03464855, 0.98329572, 0.02999094, 0.00468027,\n",
       "        0.01856369, 0.0162523 , 0.01705845, 0.03963023, 0.03122411,\n",
       "        0.02802733, 0.01893606, 0.02619537, 0.0034175 , 0.01054233,\n",
       "        0.07365636, 0.04795977, 0.02707831, 0.01998868, 0.00451947,\n",
       "        0.02924062, 0.99751333, 0.05468815, 0.04419092, 0.02512936,\n",
       "        0.00369747, 0.01818884, 0.42043818, 0.11172964, 0.99707469,\n",
       "        0.02664432, 0.02787426, 0.01550672, 0.43988879, 0.0290475 ,\n",
       "        0.00899695, 0.02830427, 0.9907854 , 0.03858911, 0.02686791,\n",
       "        0.02141355, 0.9786483 , 0.03286813, 0.79660312, 0.00340479,\n",
       "        0.0214064 , 0.02435635, 0.03258223, 0.02727722, 0.00864596,\n",
       "        0.06685842, 0.01475614, 0.07853071, 0.02401618, 0.99622256,\n",
       "        0.0341575 , 0.05977511, 0.02825573, 0.04185144, 0.03031616,\n",
       "        0.04498669, 0.02318577, 0.01524992, 0.02964409, 0.02050096,\n",
       "        0.02109296, 0.00285134, 0.1085207 , 0.00455416, 0.0330824 ,\n",
       "        0.998506  , 0.00311232, 0.02727536, 0.97161744, 0.03816179,\n",
       "        0.02859055, 0.00496083, 0.96587146, 0.8128806 , 0.00406273,\n",
       "        0.02051904, 0.02374109, 0.0278924 , 0.00647164, 0.02088688,\n",
       "        0.0102841 , 0.0464038 , 0.24858014, 0.04008908, 0.00769161,\n",
       "        0.89842577, 0.81762422, 0.00541735, 0.1210388 , 0.00654495,\n",
       "        0.07408875, 0.27233307, 0.37401018, 0.0483382 , 0.03085101,\n",
       "        0.28188385, 0.22214697, 0.01566844, 0.04062135, 0.02887667,\n",
       "        0.00278151, 0.03103807, 0.98892856, 0.01458765, 0.01750626,\n",
       "        0.18078246, 0.01613755, 0.02268642, 0.02023421, 0.19594492,\n",
       "        0.00877844, 0.02463231, 0.01146304, 0.15007372, 0.06498337,\n",
       "        0.03488745, 0.02064664, 0.99758852, 0.02912838, 0.01048115,\n",
       "        0.00348687, 0.0056507 , 0.01689674, 0.03710027, 0.33062367,\n",
       "        0.00562113, 0.01710456]])"
      ]
     },
     "execution_count": 90,
     "metadata": {},
     "output_type": "execute_result"
    }
   ],
   "source": [
    "A_Val"
   ]
  },
  {
   "cell_type": "code",
   "execution_count": null,
   "metadata": {},
   "outputs": [],
   "source": []
  }
 ],
 "metadata": {
  "kernelspec": {
   "display_name": "Python 3",
   "language": "python",
   "name": "python3"
  },
  "language_info": {
   "codemirror_mode": {
    "name": "ipython",
    "version": 3
   },
   "file_extension": ".py",
   "mimetype": "text/x-python",
   "name": "python",
   "nbconvert_exporter": "python",
   "pygments_lexer": "ipython3",
   "version": "3.7.3"
  }
 },
 "nbformat": 4,
 "nbformat_minor": 2
}
